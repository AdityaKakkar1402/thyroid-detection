{
 "cells": [
  {
   "cell_type": "code",
   "execution_count": 1,
   "id": "4c6fd9cd-9e43-4d8d-9976-a809dd5c6117",
   "metadata": {
    "id": "4c6fd9cd-9e43-4d8d-9976-a809dd5c6117"
   },
   "outputs": [],
   "source": [
    "import pandas as pd\n",
    "import numpy as np \n",
    "import matplotlib.pyplot as plt\n",
    "import seaborn as sns"
   ]
  },
  {
   "cell_type": "code",
   "execution_count": 2,
   "id": "AcxrDINDRjb8",
   "metadata": {
    "id": "AcxrDINDRjb8"
   },
   "outputs": [],
   "source": [
    "df=pd.read_csv(r\"/Users/adi/Downloads/thyroid0387.data\")"
   ]
  },
  {
   "cell_type": "code",
   "execution_count": 3,
   "id": "pNMk7BqRt-1C",
   "metadata": {
    "colab": {
     "base_uri": "https://localhost:8080/",
     "height": 423
    },
    "id": "pNMk7BqRt-1C",
    "outputId": "a2f06610-16b3-4cbf-b5c7-d40bfd885913",
    "scrolled": false
   },
   "outputs": [
    {
     "data": {
      "text/html": [
       "<div>\n",
       "<style scoped>\n",
       "    .dataframe tbody tr th:only-of-type {\n",
       "        vertical-align: middle;\n",
       "    }\n",
       "\n",
       "    .dataframe tbody tr th {\n",
       "        vertical-align: top;\n",
       "    }\n",
       "\n",
       "    .dataframe thead th {\n",
       "        text-align: right;\n",
       "    }\n",
       "</style>\n",
       "<table border=\"1\" class=\"dataframe\">\n",
       "  <thead>\n",
       "    <tr style=\"text-align: right;\">\n",
       "      <th></th>\n",
       "      <th>29</th>\n",
       "      <th>F</th>\n",
       "      <th>f</th>\n",
       "      <th>f.1</th>\n",
       "      <th>f.2</th>\n",
       "      <th>f.3</th>\n",
       "      <th>f.4</th>\n",
       "      <th>f.5</th>\n",
       "      <th>f.6</th>\n",
       "      <th>t</th>\n",
       "      <th>...</th>\n",
       "      <th>f.14</th>\n",
       "      <th>?.1</th>\n",
       "      <th>f.15</th>\n",
       "      <th>?.2</th>\n",
       "      <th>f.16</th>\n",
       "      <th>?.3</th>\n",
       "      <th>f.17</th>\n",
       "      <th>?.4</th>\n",
       "      <th>other</th>\n",
       "      <th>-[840801013]</th>\n",
       "    </tr>\n",
       "  </thead>\n",
       "  <tbody>\n",
       "    <tr>\n",
       "      <th>0</th>\n",
       "      <td>29</td>\n",
       "      <td>F</td>\n",
       "      <td>f</td>\n",
       "      <td>f</td>\n",
       "      <td>f</td>\n",
       "      <td>f</td>\n",
       "      <td>f</td>\n",
       "      <td>f</td>\n",
       "      <td>f</td>\n",
       "      <td>f</td>\n",
       "      <td>...</td>\n",
       "      <td>t</td>\n",
       "      <td>128</td>\n",
       "      <td>f</td>\n",
       "      <td>?</td>\n",
       "      <td>f</td>\n",
       "      <td>?</td>\n",
       "      <td>f</td>\n",
       "      <td>?</td>\n",
       "      <td>other</td>\n",
       "      <td>-[840801014]</td>\n",
       "    </tr>\n",
       "    <tr>\n",
       "      <th>1</th>\n",
       "      <td>41</td>\n",
       "      <td>F</td>\n",
       "      <td>f</td>\n",
       "      <td>f</td>\n",
       "      <td>f</td>\n",
       "      <td>f</td>\n",
       "      <td>f</td>\n",
       "      <td>f</td>\n",
       "      <td>f</td>\n",
       "      <td>f</td>\n",
       "      <td>...</td>\n",
       "      <td>f</td>\n",
       "      <td>?</td>\n",
       "      <td>f</td>\n",
       "      <td>?</td>\n",
       "      <td>f</td>\n",
       "      <td>?</td>\n",
       "      <td>t</td>\n",
       "      <td>11</td>\n",
       "      <td>other</td>\n",
       "      <td>-[840801042]</td>\n",
       "    </tr>\n",
       "    <tr>\n",
       "      <th>2</th>\n",
       "      <td>36</td>\n",
       "      <td>F</td>\n",
       "      <td>f</td>\n",
       "      <td>f</td>\n",
       "      <td>f</td>\n",
       "      <td>f</td>\n",
       "      <td>f</td>\n",
       "      <td>f</td>\n",
       "      <td>f</td>\n",
       "      <td>f</td>\n",
       "      <td>...</td>\n",
       "      <td>f</td>\n",
       "      <td>?</td>\n",
       "      <td>f</td>\n",
       "      <td>?</td>\n",
       "      <td>f</td>\n",
       "      <td>?</td>\n",
       "      <td>t</td>\n",
       "      <td>26</td>\n",
       "      <td>other</td>\n",
       "      <td>-[840803046]</td>\n",
       "    </tr>\n",
       "    <tr>\n",
       "      <th>3</th>\n",
       "      <td>32</td>\n",
       "      <td>F</td>\n",
       "      <td>f</td>\n",
       "      <td>f</td>\n",
       "      <td>f</td>\n",
       "      <td>f</td>\n",
       "      <td>f</td>\n",
       "      <td>f</td>\n",
       "      <td>f</td>\n",
       "      <td>f</td>\n",
       "      <td>...</td>\n",
       "      <td>f</td>\n",
       "      <td>?</td>\n",
       "      <td>f</td>\n",
       "      <td>?</td>\n",
       "      <td>f</td>\n",
       "      <td>?</td>\n",
       "      <td>t</td>\n",
       "      <td>36</td>\n",
       "      <td>other</td>\n",
       "      <td>S[840803047]</td>\n",
       "    </tr>\n",
       "    <tr>\n",
       "      <th>4</th>\n",
       "      <td>60</td>\n",
       "      <td>F</td>\n",
       "      <td>f</td>\n",
       "      <td>f</td>\n",
       "      <td>f</td>\n",
       "      <td>f</td>\n",
       "      <td>f</td>\n",
       "      <td>f</td>\n",
       "      <td>f</td>\n",
       "      <td>f</td>\n",
       "      <td>...</td>\n",
       "      <td>f</td>\n",
       "      <td>?</td>\n",
       "      <td>f</td>\n",
       "      <td>?</td>\n",
       "      <td>f</td>\n",
       "      <td>?</td>\n",
       "      <td>t</td>\n",
       "      <td>26</td>\n",
       "      <td>other</td>\n",
       "      <td>-[840803048]</td>\n",
       "    </tr>\n",
       "    <tr>\n",
       "      <th>...</th>\n",
       "      <td>...</td>\n",
       "      <td>...</td>\n",
       "      <td>...</td>\n",
       "      <td>...</td>\n",
       "      <td>...</td>\n",
       "      <td>...</td>\n",
       "      <td>...</td>\n",
       "      <td>...</td>\n",
       "      <td>...</td>\n",
       "      <td>...</td>\n",
       "      <td>...</td>\n",
       "      <td>...</td>\n",
       "      <td>...</td>\n",
       "      <td>...</td>\n",
       "      <td>...</td>\n",
       "      <td>...</td>\n",
       "      <td>...</td>\n",
       "      <td>...</td>\n",
       "      <td>...</td>\n",
       "      <td>...</td>\n",
       "      <td>...</td>\n",
       "    </tr>\n",
       "    <tr>\n",
       "      <th>9166</th>\n",
       "      <td>56</td>\n",
       "      <td>M</td>\n",
       "      <td>f</td>\n",
       "      <td>f</td>\n",
       "      <td>f</td>\n",
       "      <td>f</td>\n",
       "      <td>f</td>\n",
       "      <td>f</td>\n",
       "      <td>f</td>\n",
       "      <td>f</td>\n",
       "      <td>...</td>\n",
       "      <td>t</td>\n",
       "      <td>64</td>\n",
       "      <td>t</td>\n",
       "      <td>0.83</td>\n",
       "      <td>t</td>\n",
       "      <td>77</td>\n",
       "      <td>f</td>\n",
       "      <td>?</td>\n",
       "      <td>SVI</td>\n",
       "      <td>-[870119022]</td>\n",
       "    </tr>\n",
       "    <tr>\n",
       "      <th>9167</th>\n",
       "      <td>22</td>\n",
       "      <td>M</td>\n",
       "      <td>f</td>\n",
       "      <td>f</td>\n",
       "      <td>f</td>\n",
       "      <td>f</td>\n",
       "      <td>f</td>\n",
       "      <td>f</td>\n",
       "      <td>f</td>\n",
       "      <td>f</td>\n",
       "      <td>...</td>\n",
       "      <td>t</td>\n",
       "      <td>91</td>\n",
       "      <td>t</td>\n",
       "      <td>0.92</td>\n",
       "      <td>t</td>\n",
       "      <td>99</td>\n",
       "      <td>f</td>\n",
       "      <td>?</td>\n",
       "      <td>SVI</td>\n",
       "      <td>-[870119023]</td>\n",
       "    </tr>\n",
       "    <tr>\n",
       "      <th>9168</th>\n",
       "      <td>69</td>\n",
       "      <td>M</td>\n",
       "      <td>f</td>\n",
       "      <td>f</td>\n",
       "      <td>f</td>\n",
       "      <td>f</td>\n",
       "      <td>f</td>\n",
       "      <td>f</td>\n",
       "      <td>f</td>\n",
       "      <td>f</td>\n",
       "      <td>...</td>\n",
       "      <td>t</td>\n",
       "      <td>113</td>\n",
       "      <td>t</td>\n",
       "      <td>1.27</td>\n",
       "      <td>t</td>\n",
       "      <td>89</td>\n",
       "      <td>f</td>\n",
       "      <td>?</td>\n",
       "      <td>SVI</td>\n",
       "      <td>I[870119025]</td>\n",
       "    </tr>\n",
       "    <tr>\n",
       "      <th>9169</th>\n",
       "      <td>47</td>\n",
       "      <td>F</td>\n",
       "      <td>f</td>\n",
       "      <td>f</td>\n",
       "      <td>f</td>\n",
       "      <td>f</td>\n",
       "      <td>f</td>\n",
       "      <td>f</td>\n",
       "      <td>f</td>\n",
       "      <td>f</td>\n",
       "      <td>...</td>\n",
       "      <td>t</td>\n",
       "      <td>75</td>\n",
       "      <td>t</td>\n",
       "      <td>0.85</td>\n",
       "      <td>t</td>\n",
       "      <td>88</td>\n",
       "      <td>f</td>\n",
       "      <td>?</td>\n",
       "      <td>other</td>\n",
       "      <td>-[870119027]</td>\n",
       "    </tr>\n",
       "    <tr>\n",
       "      <th>9170</th>\n",
       "      <td>31</td>\n",
       "      <td>M</td>\n",
       "      <td>f</td>\n",
       "      <td>f</td>\n",
       "      <td>f</td>\n",
       "      <td>f</td>\n",
       "      <td>f</td>\n",
       "      <td>f</td>\n",
       "      <td>f</td>\n",
       "      <td>t</td>\n",
       "      <td>...</td>\n",
       "      <td>t</td>\n",
       "      <td>66</td>\n",
       "      <td>t</td>\n",
       "      <td>1.02</td>\n",
       "      <td>t</td>\n",
       "      <td>65</td>\n",
       "      <td>f</td>\n",
       "      <td>?</td>\n",
       "      <td>other</td>\n",
       "      <td>-[870119035]</td>\n",
       "    </tr>\n",
       "  </tbody>\n",
       "</table>\n",
       "<p>9171 rows × 30 columns</p>\n",
       "</div>"
      ],
      "text/plain": [
       "      29  F  f f.1 f.2 f.3 f.4 f.5 f.6  t  ... f.14  ?.1 f.15   ?.2 f.16 ?.3  \\\n",
       "0     29  F  f   f   f   f   f   f   f  f  ...    t  128    f     ?    f   ?   \n",
       "1     41  F  f   f   f   f   f   f   f  f  ...    f    ?    f     ?    f   ?   \n",
       "2     36  F  f   f   f   f   f   f   f  f  ...    f    ?    f     ?    f   ?   \n",
       "3     32  F  f   f   f   f   f   f   f  f  ...    f    ?    f     ?    f   ?   \n",
       "4     60  F  f   f   f   f   f   f   f  f  ...    f    ?    f     ?    f   ?   \n",
       "...   .. .. ..  ..  ..  ..  ..  ..  .. ..  ...  ...  ...  ...   ...  ...  ..   \n",
       "9166  56  M  f   f   f   f   f   f   f  f  ...    t   64    t  0.83    t  77   \n",
       "9167  22  M  f   f   f   f   f   f   f  f  ...    t   91    t  0.92    t  99   \n",
       "9168  69  M  f   f   f   f   f   f   f  f  ...    t  113    t  1.27    t  89   \n",
       "9169  47  F  f   f   f   f   f   f   f  f  ...    t   75    t  0.85    t  88   \n",
       "9170  31  M  f   f   f   f   f   f   f  t  ...    t   66    t  1.02    t  65   \n",
       "\n",
       "     f.17 ?.4  other  -[840801013]  \n",
       "0       f   ?  other  -[840801014]  \n",
       "1       t  11  other  -[840801042]  \n",
       "2       t  26  other  -[840803046]  \n",
       "3       t  36  other  S[840803047]  \n",
       "4       t  26  other  -[840803048]  \n",
       "...   ...  ..    ...           ...  \n",
       "9166    f   ?    SVI  -[870119022]  \n",
       "9167    f   ?    SVI  -[870119023]  \n",
       "9168    f   ?    SVI  I[870119025]  \n",
       "9169    f   ?  other  -[870119027]  \n",
       "9170    f   ?  other  -[870119035]  \n",
       "\n",
       "[9171 rows x 30 columns]"
      ]
     },
     "execution_count": 3,
     "metadata": {},
     "output_type": "execute_result"
    }
   ],
   "source": [
    "df"
   ]
  },
  {
   "cell_type": "code",
   "execution_count": 4,
   "id": "lRoK6ux_Rjmh",
   "metadata": {
    "id": "lRoK6ux_Rjmh"
   },
   "outputs": [],
   "source": [
    "# from pandas.core.describe import DataFrame\n",
    "df.to_csv(\"thyroid.csv\",index=None)"
   ]
  },
  {
   "cell_type": "code",
   "execution_count": 5,
   "id": "GpcmpqPIS5Gn",
   "metadata": {
    "id": "GpcmpqPIS5Gn"
   },
   "outputs": [],
   "source": [
    "df=pd.read_csv(\"thyroid.csv\")"
   ]
  },
  {
   "cell_type": "code",
   "execution_count": 6,
   "id": "fe2a0dd5-0a19-4964-ac60-067f21ce671c",
   "metadata": {
    "colab": {
     "base_uri": "https://localhost:8080/",
     "height": 423
    },
    "id": "fe2a0dd5-0a19-4964-ac60-067f21ce671c",
    "outputId": "791f7635-a5c1-465d-ea95-91ad2fde57f3"
   },
   "outputs": [
    {
     "data": {
      "text/html": [
       "<div>\n",
       "<style scoped>\n",
       "    .dataframe tbody tr th:only-of-type {\n",
       "        vertical-align: middle;\n",
       "    }\n",
       "\n",
       "    .dataframe tbody tr th {\n",
       "        vertical-align: top;\n",
       "    }\n",
       "\n",
       "    .dataframe thead th {\n",
       "        text-align: right;\n",
       "    }\n",
       "</style>\n",
       "<table border=\"1\" class=\"dataframe\">\n",
       "  <thead>\n",
       "    <tr style=\"text-align: right;\">\n",
       "      <th></th>\n",
       "      <th>29</th>\n",
       "      <th>F</th>\n",
       "      <th>f</th>\n",
       "      <th>f.1</th>\n",
       "      <th>f.2</th>\n",
       "      <th>f.3</th>\n",
       "      <th>f.4</th>\n",
       "      <th>f.5</th>\n",
       "      <th>f.6</th>\n",
       "      <th>t</th>\n",
       "      <th>...</th>\n",
       "      <th>f.14</th>\n",
       "      <th>?.1</th>\n",
       "      <th>f.15</th>\n",
       "      <th>?.2</th>\n",
       "      <th>f.16</th>\n",
       "      <th>?.3</th>\n",
       "      <th>f.17</th>\n",
       "      <th>?.4</th>\n",
       "      <th>other</th>\n",
       "      <th>-[840801013]</th>\n",
       "    </tr>\n",
       "  </thead>\n",
       "  <tbody>\n",
       "    <tr>\n",
       "      <th>0</th>\n",
       "      <td>29</td>\n",
       "      <td>F</td>\n",
       "      <td>f</td>\n",
       "      <td>f</td>\n",
       "      <td>f</td>\n",
       "      <td>f</td>\n",
       "      <td>f</td>\n",
       "      <td>f</td>\n",
       "      <td>f</td>\n",
       "      <td>f</td>\n",
       "      <td>...</td>\n",
       "      <td>t</td>\n",
       "      <td>128</td>\n",
       "      <td>f</td>\n",
       "      <td>?</td>\n",
       "      <td>f</td>\n",
       "      <td>?</td>\n",
       "      <td>f</td>\n",
       "      <td>?</td>\n",
       "      <td>other</td>\n",
       "      <td>-[840801014]</td>\n",
       "    </tr>\n",
       "    <tr>\n",
       "      <th>1</th>\n",
       "      <td>41</td>\n",
       "      <td>F</td>\n",
       "      <td>f</td>\n",
       "      <td>f</td>\n",
       "      <td>f</td>\n",
       "      <td>f</td>\n",
       "      <td>f</td>\n",
       "      <td>f</td>\n",
       "      <td>f</td>\n",
       "      <td>f</td>\n",
       "      <td>...</td>\n",
       "      <td>f</td>\n",
       "      <td>?</td>\n",
       "      <td>f</td>\n",
       "      <td>?</td>\n",
       "      <td>f</td>\n",
       "      <td>?</td>\n",
       "      <td>t</td>\n",
       "      <td>11</td>\n",
       "      <td>other</td>\n",
       "      <td>-[840801042]</td>\n",
       "    </tr>\n",
       "    <tr>\n",
       "      <th>2</th>\n",
       "      <td>36</td>\n",
       "      <td>F</td>\n",
       "      <td>f</td>\n",
       "      <td>f</td>\n",
       "      <td>f</td>\n",
       "      <td>f</td>\n",
       "      <td>f</td>\n",
       "      <td>f</td>\n",
       "      <td>f</td>\n",
       "      <td>f</td>\n",
       "      <td>...</td>\n",
       "      <td>f</td>\n",
       "      <td>?</td>\n",
       "      <td>f</td>\n",
       "      <td>?</td>\n",
       "      <td>f</td>\n",
       "      <td>?</td>\n",
       "      <td>t</td>\n",
       "      <td>26</td>\n",
       "      <td>other</td>\n",
       "      <td>-[840803046]</td>\n",
       "    </tr>\n",
       "    <tr>\n",
       "      <th>3</th>\n",
       "      <td>32</td>\n",
       "      <td>F</td>\n",
       "      <td>f</td>\n",
       "      <td>f</td>\n",
       "      <td>f</td>\n",
       "      <td>f</td>\n",
       "      <td>f</td>\n",
       "      <td>f</td>\n",
       "      <td>f</td>\n",
       "      <td>f</td>\n",
       "      <td>...</td>\n",
       "      <td>f</td>\n",
       "      <td>?</td>\n",
       "      <td>f</td>\n",
       "      <td>?</td>\n",
       "      <td>f</td>\n",
       "      <td>?</td>\n",
       "      <td>t</td>\n",
       "      <td>36</td>\n",
       "      <td>other</td>\n",
       "      <td>S[840803047]</td>\n",
       "    </tr>\n",
       "    <tr>\n",
       "      <th>4</th>\n",
       "      <td>60</td>\n",
       "      <td>F</td>\n",
       "      <td>f</td>\n",
       "      <td>f</td>\n",
       "      <td>f</td>\n",
       "      <td>f</td>\n",
       "      <td>f</td>\n",
       "      <td>f</td>\n",
       "      <td>f</td>\n",
       "      <td>f</td>\n",
       "      <td>...</td>\n",
       "      <td>f</td>\n",
       "      <td>?</td>\n",
       "      <td>f</td>\n",
       "      <td>?</td>\n",
       "      <td>f</td>\n",
       "      <td>?</td>\n",
       "      <td>t</td>\n",
       "      <td>26</td>\n",
       "      <td>other</td>\n",
       "      <td>-[840803048]</td>\n",
       "    </tr>\n",
       "    <tr>\n",
       "      <th>...</th>\n",
       "      <td>...</td>\n",
       "      <td>...</td>\n",
       "      <td>...</td>\n",
       "      <td>...</td>\n",
       "      <td>...</td>\n",
       "      <td>...</td>\n",
       "      <td>...</td>\n",
       "      <td>...</td>\n",
       "      <td>...</td>\n",
       "      <td>...</td>\n",
       "      <td>...</td>\n",
       "      <td>...</td>\n",
       "      <td>...</td>\n",
       "      <td>...</td>\n",
       "      <td>...</td>\n",
       "      <td>...</td>\n",
       "      <td>...</td>\n",
       "      <td>...</td>\n",
       "      <td>...</td>\n",
       "      <td>...</td>\n",
       "      <td>...</td>\n",
       "    </tr>\n",
       "    <tr>\n",
       "      <th>9166</th>\n",
       "      <td>56</td>\n",
       "      <td>M</td>\n",
       "      <td>f</td>\n",
       "      <td>f</td>\n",
       "      <td>f</td>\n",
       "      <td>f</td>\n",
       "      <td>f</td>\n",
       "      <td>f</td>\n",
       "      <td>f</td>\n",
       "      <td>f</td>\n",
       "      <td>...</td>\n",
       "      <td>t</td>\n",
       "      <td>64</td>\n",
       "      <td>t</td>\n",
       "      <td>0.83</td>\n",
       "      <td>t</td>\n",
       "      <td>77</td>\n",
       "      <td>f</td>\n",
       "      <td>?</td>\n",
       "      <td>SVI</td>\n",
       "      <td>-[870119022]</td>\n",
       "    </tr>\n",
       "    <tr>\n",
       "      <th>9167</th>\n",
       "      <td>22</td>\n",
       "      <td>M</td>\n",
       "      <td>f</td>\n",
       "      <td>f</td>\n",
       "      <td>f</td>\n",
       "      <td>f</td>\n",
       "      <td>f</td>\n",
       "      <td>f</td>\n",
       "      <td>f</td>\n",
       "      <td>f</td>\n",
       "      <td>...</td>\n",
       "      <td>t</td>\n",
       "      <td>91</td>\n",
       "      <td>t</td>\n",
       "      <td>0.92</td>\n",
       "      <td>t</td>\n",
       "      <td>99</td>\n",
       "      <td>f</td>\n",
       "      <td>?</td>\n",
       "      <td>SVI</td>\n",
       "      <td>-[870119023]</td>\n",
       "    </tr>\n",
       "    <tr>\n",
       "      <th>9168</th>\n",
       "      <td>69</td>\n",
       "      <td>M</td>\n",
       "      <td>f</td>\n",
       "      <td>f</td>\n",
       "      <td>f</td>\n",
       "      <td>f</td>\n",
       "      <td>f</td>\n",
       "      <td>f</td>\n",
       "      <td>f</td>\n",
       "      <td>f</td>\n",
       "      <td>...</td>\n",
       "      <td>t</td>\n",
       "      <td>113</td>\n",
       "      <td>t</td>\n",
       "      <td>1.27</td>\n",
       "      <td>t</td>\n",
       "      <td>89</td>\n",
       "      <td>f</td>\n",
       "      <td>?</td>\n",
       "      <td>SVI</td>\n",
       "      <td>I[870119025]</td>\n",
       "    </tr>\n",
       "    <tr>\n",
       "      <th>9169</th>\n",
       "      <td>47</td>\n",
       "      <td>F</td>\n",
       "      <td>f</td>\n",
       "      <td>f</td>\n",
       "      <td>f</td>\n",
       "      <td>f</td>\n",
       "      <td>f</td>\n",
       "      <td>f</td>\n",
       "      <td>f</td>\n",
       "      <td>f</td>\n",
       "      <td>...</td>\n",
       "      <td>t</td>\n",
       "      <td>75</td>\n",
       "      <td>t</td>\n",
       "      <td>0.85</td>\n",
       "      <td>t</td>\n",
       "      <td>88</td>\n",
       "      <td>f</td>\n",
       "      <td>?</td>\n",
       "      <td>other</td>\n",
       "      <td>-[870119027]</td>\n",
       "    </tr>\n",
       "    <tr>\n",
       "      <th>9170</th>\n",
       "      <td>31</td>\n",
       "      <td>M</td>\n",
       "      <td>f</td>\n",
       "      <td>f</td>\n",
       "      <td>f</td>\n",
       "      <td>f</td>\n",
       "      <td>f</td>\n",
       "      <td>f</td>\n",
       "      <td>f</td>\n",
       "      <td>t</td>\n",
       "      <td>...</td>\n",
       "      <td>t</td>\n",
       "      <td>66</td>\n",
       "      <td>t</td>\n",
       "      <td>1.02</td>\n",
       "      <td>t</td>\n",
       "      <td>65</td>\n",
       "      <td>f</td>\n",
       "      <td>?</td>\n",
       "      <td>other</td>\n",
       "      <td>-[870119035]</td>\n",
       "    </tr>\n",
       "  </tbody>\n",
       "</table>\n",
       "<p>9171 rows × 30 columns</p>\n",
       "</div>"
      ],
      "text/plain": [
       "      29  F  f f.1 f.2 f.3 f.4 f.5 f.6  t  ... f.14  ?.1 f.15   ?.2 f.16 ?.3  \\\n",
       "0     29  F  f   f   f   f   f   f   f  f  ...    t  128    f     ?    f   ?   \n",
       "1     41  F  f   f   f   f   f   f   f  f  ...    f    ?    f     ?    f   ?   \n",
       "2     36  F  f   f   f   f   f   f   f  f  ...    f    ?    f     ?    f   ?   \n",
       "3     32  F  f   f   f   f   f   f   f  f  ...    f    ?    f     ?    f   ?   \n",
       "4     60  F  f   f   f   f   f   f   f  f  ...    f    ?    f     ?    f   ?   \n",
       "...   .. .. ..  ..  ..  ..  ..  ..  .. ..  ...  ...  ...  ...   ...  ...  ..   \n",
       "9166  56  M  f   f   f   f   f   f   f  f  ...    t   64    t  0.83    t  77   \n",
       "9167  22  M  f   f   f   f   f   f   f  f  ...    t   91    t  0.92    t  99   \n",
       "9168  69  M  f   f   f   f   f   f   f  f  ...    t  113    t  1.27    t  89   \n",
       "9169  47  F  f   f   f   f   f   f   f  f  ...    t   75    t  0.85    t  88   \n",
       "9170  31  M  f   f   f   f   f   f   f  t  ...    t   66    t  1.02    t  65   \n",
       "\n",
       "     f.17 ?.4  other  -[840801013]  \n",
       "0       f   ?  other  -[840801014]  \n",
       "1       t  11  other  -[840801042]  \n",
       "2       t  26  other  -[840803046]  \n",
       "3       t  36  other  S[840803047]  \n",
       "4       t  26  other  -[840803048]  \n",
       "...   ...  ..    ...           ...  \n",
       "9166    f   ?    SVI  -[870119022]  \n",
       "9167    f   ?    SVI  -[870119023]  \n",
       "9168    f   ?    SVI  I[870119025]  \n",
       "9169    f   ?  other  -[870119027]  \n",
       "9170    f   ?  other  -[870119035]  \n",
       "\n",
       "[9171 rows x 30 columns]"
      ]
     },
     "execution_count": 6,
     "metadata": {},
     "output_type": "execute_result"
    }
   ],
   "source": [
    "df"
   ]
  },
  {
   "cell_type": "code",
   "execution_count": 7,
   "id": "8caebe22",
   "metadata": {},
   "outputs": [],
   "source": [
    "#there is no use of other column"
   ]
  },
  {
   "cell_type": "code",
   "execution_count": 8,
   "id": "1a4448e9-9ad3-4749-9182-22a08021163d",
   "metadata": {
    "id": "1a4448e9-9ad3-4749-9182-22a08021163d"
   },
   "outputs": [],
   "source": [
    "df.drop(\"other\",axis=1,inplace=True)"
   ]
  },
  {
   "cell_type": "code",
   "execution_count": 9,
   "id": "5742db9a-d00b-4854-9fe5-ab884d782777",
   "metadata": {
    "id": "5742db9a-d00b-4854-9fe5-ab884d782777"
   },
   "outputs": [],
   "source": [
    "feature_cols = [\"age\",\n",
    "                \"sex\",\n",
    "                \"on_thyroxine\",\n",
    "                \"query_on_thyroxine\",\n",
    "                \"on_antithyroid_medication\",\n",
    "                \"sick\",\n",
    "                \"pregnant\",\n",
    "                \"thyroid_surgery\",\n",
    "                \"I131_treatment\",\n",
    "                \"query_hypothyroid\",\n",
    "                \"query_hyperthyroid\",\n",
    "                \"lithium\",\n",
    "                \"goitre\",\n",
    "                \"tumor\",\n",
    "                \"hypopituitary\",\n",
    "                \"psych\",\n",
    "                \"TSH measured\",\n",
    "                \"TSH\",\n",
    "                \"T3_measured\",\n",
    "                \"T3\",\n",
    "                \"TT4_measured\",\n",
    "                \"TT4\",\n",
    "                \"T4U_measured\",\n",
    "                \"T4U\",\n",
    "                \"FTI_measured\",\n",
    "                \"FTI\",\n",
    "                \"TBG_measured\",\n",
    "                \"TBG\",\n",
    "               \"target\"]"
   ]
  },
  {
   "cell_type": "code",
   "execution_count": 10,
   "id": "c9afbd0e-15f8-45bd-9cc6-80e8acaa6824",
   "metadata": {
    "id": "c9afbd0e-15f8-45bd-9cc6-80e8acaa6824"
   },
   "outputs": [],
   "source": [
    "df.columns = feature_cols"
   ]
  },
  {
   "cell_type": "code",
   "execution_count": 11,
   "id": "d6a5557b-2e43-4aec-8eea-a43e257006a2",
   "metadata": {
    "id": "d6a5557b-2e43-4aec-8eea-a43e257006a2"
   },
   "outputs": [],
   "source": [
    "df.to_csv(\"thyroid.csv\",index=None)"
   ]
  },
  {
   "cell_type": "markdown",
   "id": "417e36dc-ed0f-43d7-95ad-feb417c25b99",
   "metadata": {
    "id": "417e36dc-ed0f-43d7-95ad-feb417c25b99"
   },
   "source": [
    "# Splitting target\n",
    "\n",
    "## Now we can check that the target columns as many categorial names with some indicate numbers so going to split with the respective features \n",
    "\n",
    "### thyroid.names file content\n",
    "\n",
    "The diagnosis consists of a string of letters indicating diagnosed conditions.\n",
    "A diagnosis \"-\" indicates no condition requiring comment.  A diagnosis of the\n",
    "form \"X|Y\" is interpreted as \"consistent with X, but more likely Y\".  The\n",
    "conditions are divided into groups where each group corresponds to a class of\n",
    "comments.\n",
    "\n",
    "\t\tLetter\tDiagnosis\n",
    "\t\t------\t---------\n",
    "\n",
    "\thyperthyroid conditions:\n",
    "\n",
    "\t\tA\thyperthyroid\n",
    "\t\tB\tT3 toxic\n",
    "\t\tC\ttoxic goitre\n",
    "\t\tD\tsecondary toxic\n",
    "\n",
    "\thypothyroid conditions:\n",
    "\n",
    "\t\tE\thypothyroid\n",
    "\t\tF\tprimary hypothyroid\n",
    "\t\tG\tcompensated hypothyroid\n",
    "\t\tH\tsecondary hypothyroid\n",
    "\n",
    "\tbinding protein:\n",
    "\n",
    "\t\tI\tincreased binding protein\n",
    "\t\tJ\tdecreased binding protein\n",
    "\n",
    "\tgeneral health:\n",
    "\n",
    "\t\tK\tconcurrent non-thyroidal illness\n",
    "\n",
    "\treplacement therapy:\n",
    "\n",
    "\t\tL\tconsistent with replacement therapy\n",
    "\t\tM\tunderreplaced\n",
    "\t\tN\toverreplaced\n",
    "\n",
    "\tantithyroid treatment:\n",
    "\n",
    "\t\tO\tantithyroid drugs\n",
    "\t\tP\tI131 treatment\n",
    "\t\tQ\tsurgery\n",
    "\n",
    "\tmiscellaneous:\n",
    "\n",
    "\t\tR\tdiscordant assay results\n",
    "\t\tS\televated TBG\n",
    "\t\tT\televated thyroid hormones\n",
    "\n",
    "In experiments with an earlier version of this archive, decision trees were\n",
    "derived for the most frequent classes of comments, namely\n",
    "\n",
    "\thyperthyroid conditions (A, B, C, D)\n",
    "\thypothyroid conditions (E, F, G, H)\n",
    "\tbinding protein (I, J)\n",
    "\tgeneral health (K)\n",
    "\treplacement therapy (L, M, N)\n",
    "\tdiscordant results (R)"
   ]
  },
  {
   "cell_type": "code",
   "execution_count": 12,
   "id": "985dbc4e-6bba-4b2a-b13d-f450211b8b1b",
   "metadata": {
    "id": "985dbc4e-6bba-4b2a-b13d-f450211b8b1b"
   },
   "outputs": [],
   "source": [
    "target = df.target\n",
    "create = target.str.split(\"[^a-zA-Z]+\", expand=True)\n"
   ]
  },
  {
   "cell_type": "code",
   "execution_count": 13,
   "id": "uFMVXgqaTm5w",
   "metadata": {
    "id": "uFMVXgqaTm5w"
   },
   "outputs": [],
   "source": [
    "target = create[0].replace({\"\":'Z'})"
   ]
  },
  {
   "cell_type": "code",
   "execution_count": 14,
   "id": "n6laXkW8Tm8J",
   "metadata": {
    "colab": {
     "base_uri": "https://localhost:8080/"
    },
    "id": "n6laXkW8Tm8J",
    "outputId": "ce38fef0-cc08-4335-df57-d722f6bdf711"
   },
   "outputs": [
    {
     "data": {
      "text/plain": [
       "30"
      ]
     },
     "execution_count": 14,
     "metadata": {},
     "output_type": "execute_result"
    }
   ],
   "source": [
    "len(target.unique())"
   ]
  },
  {
   "cell_type": "code",
   "execution_count": 15,
   "id": "9rxGNnU5V1ZA",
   "metadata": {
    "id": "9rxGNnU5V1ZA"
   },
   "outputs": [],
   "source": [
    "df['target']=target"
   ]
  },
  {
   "cell_type": "code",
   "execution_count": null,
   "id": "zwVX321pTm-m",
   "metadata": {
    "id": "zwVX321pTm-m"
   },
   "outputs": [],
   "source": []
  },
  {
   "cell_type": "code",
   "execution_count": 16,
   "id": "1a15fd3b-70d3-48b5-811d-dd18851baa1f",
   "metadata": {
    "colab": {
     "base_uri": "https://localhost:8080/"
    },
    "id": "1a15fd3b-70d3-48b5-811d-dd18851baa1f",
    "outputId": "f50e642f-1985-464d-b1bc-8c52c3b33ca7"
   },
   "outputs": [
    {
     "data": {
      "text/plain": [
       "array(['Z', 'S', 'F', 'AK', 'R', 'I', 'M', 'N', 'G', 'K', 'A', 'KJ', 'L',\n",
       "       'MK', 'Q', 'J', 'C', 'O', 'LJ', 'H', 'D', 'GK', 'MI', 'P', 'FK',\n",
       "       'B', 'GI', 'GKJ', 'OI', 'E'], dtype=object)"
      ]
     },
     "execution_count": 16,
     "metadata": {},
     "output_type": "execute_result"
    }
   ],
   "source": [
    "df.target.unique()"
   ]
  },
  {
   "cell_type": "code",
   "execution_count": 17,
   "id": "752646bc-ed13-41d3-84a6-fb6be74918d3",
   "metadata": {
    "colab": {
     "base_uri": "https://localhost:8080/",
     "height": 487
    },
    "id": "752646bc-ed13-41d3-84a6-fb6be74918d3",
    "outputId": "2490abe1-1766-4a42-b0af-ba65dca079ae"
   },
   "outputs": [
    {
     "data": {
      "text/plain": [
       "Z      6770\n",
       "K       436\n",
       "G       359\n",
       "I       346\n",
       "F       233\n",
       "R       196\n",
       "A       147\n",
       "L       115\n",
       "M       111\n",
       "N       110\n",
       "S        85\n",
       "GK       49\n",
       "AK       46\n",
       "J        30\n",
       "B        21\n",
       "C        18\n",
       "MK       16\n",
       "Q        14\n",
       "O        14\n",
       "KJ       11\n",
       "GI       10\n",
       "D         9\n",
       "H         8\n",
       "FK        6\n",
       "P         5\n",
       "MI        2\n",
       "LJ        1\n",
       "GKJ       1\n",
       "OI        1\n",
       "E         1\n",
       "Name: target, dtype: int64"
      ]
     },
     "execution_count": 17,
     "metadata": {},
     "output_type": "execute_result"
    }
   ],
   "source": [
    "\n",
    "\n",
    "df.target.value_counts()"
   ]
  },
  {
   "cell_type": "markdown",
   "id": "64a72611-3e0b-4cba-9f2f-bd0ab8c4e1ec",
   "metadata": {
    "id": "64a72611-3e0b-4cba-9f2f-bd0ab8c4e1ec"
   },
   "source": [
    "### Now we want to impute the null values but this case the null values are marked as in '?' so we can do some tricks"
   ]
  },
  {
   "cell_type": "code",
   "execution_count": 18,
   "id": "c066acef-a086-4011-afbc-3b44eecd1953",
   "metadata": {
    "id": "c066acef-a086-4011-afbc-3b44eecd1953"
   },
   "outputs": [],
   "source": [
    "df = df.replace('?',np.nan)"
   ]
  },
  {
   "cell_type": "code",
   "execution_count": 19,
   "id": "5a080325-b3ed-47be-8835-5c1528273ae9",
   "metadata": {
    "colab": {
     "base_uri": "https://localhost:8080/"
    },
    "id": "5a080325-b3ed-47be-8835-5c1528273ae9",
    "outputId": "cc0aa3c6-a167-4adb-9846-a0c2a9903b22"
   },
   "outputs": [
    {
     "data": {
      "text/plain": [
       "age                             0\n",
       "sex                           307\n",
       "on_thyroxine                    0\n",
       "query_on_thyroxine              0\n",
       "on_antithyroid_medication       0\n",
       "sick                            0\n",
       "pregnant                        0\n",
       "thyroid_surgery                 0\n",
       "I131_treatment                  0\n",
       "query_hypothyroid               0\n",
       "query_hyperthyroid              0\n",
       "lithium                         0\n",
       "goitre                          0\n",
       "tumor                           0\n",
       "hypopituitary                   0\n",
       "psych                           0\n",
       "TSH measured                    0\n",
       "TSH                           842\n",
       "T3_measured                     0\n",
       "T3                           2603\n",
       "TT4_measured                    0\n",
       "TT4                           441\n",
       "T4U_measured                    0\n",
       "T4U                           808\n",
       "FTI_measured                    0\n",
       "FTI                           801\n",
       "TBG_measured                    0\n",
       "TBG                          8822\n",
       "target                          0\n",
       "dtype: int64"
      ]
     },
     "execution_count": 19,
     "metadata": {},
     "output_type": "execute_result"
    }
   ],
   "source": [
    "df.isnull().sum()"
   ]
  },
  {
   "cell_type": "code",
   "execution_count": 20,
   "id": "cea4a044-8562-4bb7-a690-a2b89668d698",
   "metadata": {
    "id": "cea4a044-8562-4bb7-a690-a2b89668d698"
   },
   "outputs": [],
   "source": [
    "# here we can see the TBG has more null observations it will tremendously occur problem so we can remove and some of the other \n",
    "# feautre rows which is not useful\n",
    "\n",
    "df.drop(['TBG_measured','TBG','T3_measured','TSH measured','TT4_measured','T4U_measured','FTI_measured'],axis=1,inplace=True)\n"
   ]
  },
  {
   "cell_type": "code",
   "execution_count": 21,
   "id": "fb8f3ec9-a7fe-4897-9bc3-1d62a4ace550",
   "metadata": {
    "colab": {
     "base_uri": "https://localhost:8080/",
     "height": 487
    },
    "id": "fb8f3ec9-a7fe-4897-9bc3-1d62a4ace550",
    "outputId": "57b5b96e-2000-4d40-a68c-1efea73e1dee"
   },
   "outputs": [
    {
     "data": {
      "text/html": [
       "<div>\n",
       "<style scoped>\n",
       "    .dataframe tbody tr th:only-of-type {\n",
       "        vertical-align: middle;\n",
       "    }\n",
       "\n",
       "    .dataframe tbody tr th {\n",
       "        vertical-align: top;\n",
       "    }\n",
       "\n",
       "    .dataframe thead th {\n",
       "        text-align: right;\n",
       "    }\n",
       "</style>\n",
       "<table border=\"1\" class=\"dataframe\">\n",
       "  <thead>\n",
       "    <tr style=\"text-align: right;\">\n",
       "      <th></th>\n",
       "      <th>age</th>\n",
       "      <th>sex</th>\n",
       "      <th>on_thyroxine</th>\n",
       "      <th>query_on_thyroxine</th>\n",
       "      <th>on_antithyroid_medication</th>\n",
       "      <th>sick</th>\n",
       "      <th>pregnant</th>\n",
       "      <th>thyroid_surgery</th>\n",
       "      <th>I131_treatment</th>\n",
       "      <th>query_hypothyroid</th>\n",
       "      <th>...</th>\n",
       "      <th>goitre</th>\n",
       "      <th>tumor</th>\n",
       "      <th>hypopituitary</th>\n",
       "      <th>psych</th>\n",
       "      <th>TSH</th>\n",
       "      <th>T3</th>\n",
       "      <th>TT4</th>\n",
       "      <th>T4U</th>\n",
       "      <th>FTI</th>\n",
       "      <th>target</th>\n",
       "    </tr>\n",
       "  </thead>\n",
       "  <tbody>\n",
       "    <tr>\n",
       "      <th>0</th>\n",
       "      <td>29</td>\n",
       "      <td>F</td>\n",
       "      <td>f</td>\n",
       "      <td>f</td>\n",
       "      <td>f</td>\n",
       "      <td>f</td>\n",
       "      <td>f</td>\n",
       "      <td>f</td>\n",
       "      <td>f</td>\n",
       "      <td>f</td>\n",
       "      <td>...</td>\n",
       "      <td>f</td>\n",
       "      <td>f</td>\n",
       "      <td>f</td>\n",
       "      <td>f</td>\n",
       "      <td>1.6</td>\n",
       "      <td>1.9</td>\n",
       "      <td>128</td>\n",
       "      <td>NaN</td>\n",
       "      <td>NaN</td>\n",
       "      <td>Z</td>\n",
       "    </tr>\n",
       "    <tr>\n",
       "      <th>1</th>\n",
       "      <td>41</td>\n",
       "      <td>F</td>\n",
       "      <td>f</td>\n",
       "      <td>f</td>\n",
       "      <td>f</td>\n",
       "      <td>f</td>\n",
       "      <td>f</td>\n",
       "      <td>f</td>\n",
       "      <td>f</td>\n",
       "      <td>f</td>\n",
       "      <td>...</td>\n",
       "      <td>f</td>\n",
       "      <td>f</td>\n",
       "      <td>f</td>\n",
       "      <td>f</td>\n",
       "      <td>NaN</td>\n",
       "      <td>NaN</td>\n",
       "      <td>NaN</td>\n",
       "      <td>NaN</td>\n",
       "      <td>NaN</td>\n",
       "      <td>Z</td>\n",
       "    </tr>\n",
       "    <tr>\n",
       "      <th>2</th>\n",
       "      <td>36</td>\n",
       "      <td>F</td>\n",
       "      <td>f</td>\n",
       "      <td>f</td>\n",
       "      <td>f</td>\n",
       "      <td>f</td>\n",
       "      <td>f</td>\n",
       "      <td>f</td>\n",
       "      <td>f</td>\n",
       "      <td>f</td>\n",
       "      <td>...</td>\n",
       "      <td>f</td>\n",
       "      <td>f</td>\n",
       "      <td>f</td>\n",
       "      <td>f</td>\n",
       "      <td>NaN</td>\n",
       "      <td>NaN</td>\n",
       "      <td>NaN</td>\n",
       "      <td>NaN</td>\n",
       "      <td>NaN</td>\n",
       "      <td>Z</td>\n",
       "    </tr>\n",
       "    <tr>\n",
       "      <th>3</th>\n",
       "      <td>32</td>\n",
       "      <td>F</td>\n",
       "      <td>f</td>\n",
       "      <td>f</td>\n",
       "      <td>f</td>\n",
       "      <td>f</td>\n",
       "      <td>f</td>\n",
       "      <td>f</td>\n",
       "      <td>f</td>\n",
       "      <td>f</td>\n",
       "      <td>...</td>\n",
       "      <td>f</td>\n",
       "      <td>f</td>\n",
       "      <td>f</td>\n",
       "      <td>f</td>\n",
       "      <td>NaN</td>\n",
       "      <td>NaN</td>\n",
       "      <td>NaN</td>\n",
       "      <td>NaN</td>\n",
       "      <td>NaN</td>\n",
       "      <td>S</td>\n",
       "    </tr>\n",
       "    <tr>\n",
       "      <th>4</th>\n",
       "      <td>60</td>\n",
       "      <td>F</td>\n",
       "      <td>f</td>\n",
       "      <td>f</td>\n",
       "      <td>f</td>\n",
       "      <td>f</td>\n",
       "      <td>f</td>\n",
       "      <td>f</td>\n",
       "      <td>f</td>\n",
       "      <td>f</td>\n",
       "      <td>...</td>\n",
       "      <td>f</td>\n",
       "      <td>f</td>\n",
       "      <td>f</td>\n",
       "      <td>f</td>\n",
       "      <td>NaN</td>\n",
       "      <td>NaN</td>\n",
       "      <td>NaN</td>\n",
       "      <td>NaN</td>\n",
       "      <td>NaN</td>\n",
       "      <td>Z</td>\n",
       "    </tr>\n",
       "    <tr>\n",
       "      <th>...</th>\n",
       "      <td>...</td>\n",
       "      <td>...</td>\n",
       "      <td>...</td>\n",
       "      <td>...</td>\n",
       "      <td>...</td>\n",
       "      <td>...</td>\n",
       "      <td>...</td>\n",
       "      <td>...</td>\n",
       "      <td>...</td>\n",
       "      <td>...</td>\n",
       "      <td>...</td>\n",
       "      <td>...</td>\n",
       "      <td>...</td>\n",
       "      <td>...</td>\n",
       "      <td>...</td>\n",
       "      <td>...</td>\n",
       "      <td>...</td>\n",
       "      <td>...</td>\n",
       "      <td>...</td>\n",
       "      <td>...</td>\n",
       "      <td>...</td>\n",
       "    </tr>\n",
       "    <tr>\n",
       "      <th>9166</th>\n",
       "      <td>56</td>\n",
       "      <td>M</td>\n",
       "      <td>f</td>\n",
       "      <td>f</td>\n",
       "      <td>f</td>\n",
       "      <td>f</td>\n",
       "      <td>f</td>\n",
       "      <td>f</td>\n",
       "      <td>f</td>\n",
       "      <td>f</td>\n",
       "      <td>...</td>\n",
       "      <td>f</td>\n",
       "      <td>f</td>\n",
       "      <td>f</td>\n",
       "      <td>f</td>\n",
       "      <td>NaN</td>\n",
       "      <td>NaN</td>\n",
       "      <td>64</td>\n",
       "      <td>0.83</td>\n",
       "      <td>77</td>\n",
       "      <td>Z</td>\n",
       "    </tr>\n",
       "    <tr>\n",
       "      <th>9167</th>\n",
       "      <td>22</td>\n",
       "      <td>M</td>\n",
       "      <td>f</td>\n",
       "      <td>f</td>\n",
       "      <td>f</td>\n",
       "      <td>f</td>\n",
       "      <td>f</td>\n",
       "      <td>f</td>\n",
       "      <td>f</td>\n",
       "      <td>f</td>\n",
       "      <td>...</td>\n",
       "      <td>f</td>\n",
       "      <td>f</td>\n",
       "      <td>f</td>\n",
       "      <td>f</td>\n",
       "      <td>NaN</td>\n",
       "      <td>NaN</td>\n",
       "      <td>91</td>\n",
       "      <td>0.92</td>\n",
       "      <td>99</td>\n",
       "      <td>Z</td>\n",
       "    </tr>\n",
       "    <tr>\n",
       "      <th>9168</th>\n",
       "      <td>69</td>\n",
       "      <td>M</td>\n",
       "      <td>f</td>\n",
       "      <td>f</td>\n",
       "      <td>f</td>\n",
       "      <td>f</td>\n",
       "      <td>f</td>\n",
       "      <td>f</td>\n",
       "      <td>f</td>\n",
       "      <td>f</td>\n",
       "      <td>...</td>\n",
       "      <td>f</td>\n",
       "      <td>f</td>\n",
       "      <td>f</td>\n",
       "      <td>f</td>\n",
       "      <td>NaN</td>\n",
       "      <td>NaN</td>\n",
       "      <td>113</td>\n",
       "      <td>1.27</td>\n",
       "      <td>89</td>\n",
       "      <td>I</td>\n",
       "    </tr>\n",
       "    <tr>\n",
       "      <th>9169</th>\n",
       "      <td>47</td>\n",
       "      <td>F</td>\n",
       "      <td>f</td>\n",
       "      <td>f</td>\n",
       "      <td>f</td>\n",
       "      <td>f</td>\n",
       "      <td>f</td>\n",
       "      <td>f</td>\n",
       "      <td>f</td>\n",
       "      <td>f</td>\n",
       "      <td>...</td>\n",
       "      <td>f</td>\n",
       "      <td>f</td>\n",
       "      <td>f</td>\n",
       "      <td>f</td>\n",
       "      <td>NaN</td>\n",
       "      <td>NaN</td>\n",
       "      <td>75</td>\n",
       "      <td>0.85</td>\n",
       "      <td>88</td>\n",
       "      <td>Z</td>\n",
       "    </tr>\n",
       "    <tr>\n",
       "      <th>9170</th>\n",
       "      <td>31</td>\n",
       "      <td>M</td>\n",
       "      <td>f</td>\n",
       "      <td>f</td>\n",
       "      <td>f</td>\n",
       "      <td>f</td>\n",
       "      <td>f</td>\n",
       "      <td>f</td>\n",
       "      <td>f</td>\n",
       "      <td>t</td>\n",
       "      <td>...</td>\n",
       "      <td>f</td>\n",
       "      <td>f</td>\n",
       "      <td>f</td>\n",
       "      <td>f</td>\n",
       "      <td>NaN</td>\n",
       "      <td>NaN</td>\n",
       "      <td>66</td>\n",
       "      <td>1.02</td>\n",
       "      <td>65</td>\n",
       "      <td>Z</td>\n",
       "    </tr>\n",
       "  </tbody>\n",
       "</table>\n",
       "<p>9171 rows × 22 columns</p>\n",
       "</div>"
      ],
      "text/plain": [
       "      age sex on_thyroxine query_on_thyroxine on_antithyroid_medication sick  \\\n",
       "0      29   F            f                  f                         f    f   \n",
       "1      41   F            f                  f                         f    f   \n",
       "2      36   F            f                  f                         f    f   \n",
       "3      32   F            f                  f                         f    f   \n",
       "4      60   F            f                  f                         f    f   \n",
       "...   ...  ..          ...                ...                       ...  ...   \n",
       "9166   56   M            f                  f                         f    f   \n",
       "9167   22   M            f                  f                         f    f   \n",
       "9168   69   M            f                  f                         f    f   \n",
       "9169   47   F            f                  f                         f    f   \n",
       "9170   31   M            f                  f                         f    f   \n",
       "\n",
       "     pregnant thyroid_surgery I131_treatment query_hypothyroid  ... goitre  \\\n",
       "0           f               f              f                 f  ...      f   \n",
       "1           f               f              f                 f  ...      f   \n",
       "2           f               f              f                 f  ...      f   \n",
       "3           f               f              f                 f  ...      f   \n",
       "4           f               f              f                 f  ...      f   \n",
       "...       ...             ...            ...               ...  ...    ...   \n",
       "9166        f               f              f                 f  ...      f   \n",
       "9167        f               f              f                 f  ...      f   \n",
       "9168        f               f              f                 f  ...      f   \n",
       "9169        f               f              f                 f  ...      f   \n",
       "9170        f               f              f                 t  ...      f   \n",
       "\n",
       "     tumor hypopituitary psych  TSH   T3  TT4   T4U  FTI target  \n",
       "0        f             f     f  1.6  1.9  128   NaN  NaN      Z  \n",
       "1        f             f     f  NaN  NaN  NaN   NaN  NaN      Z  \n",
       "2        f             f     f  NaN  NaN  NaN   NaN  NaN      Z  \n",
       "3        f             f     f  NaN  NaN  NaN   NaN  NaN      S  \n",
       "4        f             f     f  NaN  NaN  NaN   NaN  NaN      Z  \n",
       "...    ...           ...   ...  ...  ...  ...   ...  ...    ...  \n",
       "9166     f             f     f  NaN  NaN   64  0.83   77      Z  \n",
       "9167     f             f     f  NaN  NaN   91  0.92   99      Z  \n",
       "9168     f             f     f  NaN  NaN  113  1.27   89      I  \n",
       "9169     f             f     f  NaN  NaN   75  0.85   88      Z  \n",
       "9170     f             f     f  NaN  NaN   66  1.02   65      Z  \n",
       "\n",
       "[9171 rows x 22 columns]"
      ]
     },
     "execution_count": 21,
     "metadata": {},
     "output_type": "execute_result"
    }
   ],
   "source": [
    "df"
   ]
  },
  {
   "cell_type": "code",
   "execution_count": 22,
   "id": "d9966a71-7252-4296-822d-0b97f90aae46",
   "metadata": {
    "colab": {
     "base_uri": "https://localhost:8080/"
    },
    "id": "d9966a71-7252-4296-822d-0b97f90aae46",
    "outputId": "1f376058-2e43-4c90-d0bf-3a6fba15c5da"
   },
   "outputs": [
    {
     "data": {
      "text/plain": [
       "age                             0\n",
       "sex                           307\n",
       "on_thyroxine                    0\n",
       "query_on_thyroxine              0\n",
       "on_antithyroid_medication       0\n",
       "sick                            0\n",
       "pregnant                        0\n",
       "thyroid_surgery                 0\n",
       "I131_treatment                  0\n",
       "query_hypothyroid               0\n",
       "query_hyperthyroid              0\n",
       "lithium                         0\n",
       "goitre                          0\n",
       "tumor                           0\n",
       "hypopituitary                   0\n",
       "psych                           0\n",
       "TSH                           842\n",
       "T3                           2603\n",
       "TT4                           441\n",
       "T4U                           808\n",
       "FTI                           801\n",
       "target                          0\n",
       "dtype: int64"
      ]
     },
     "execution_count": 22,
     "metadata": {},
     "output_type": "execute_result"
    }
   ],
   "source": [
    "df.isnull().sum()"
   ]
  },
  {
   "cell_type": "code",
   "execution_count": 23,
   "id": "H4AezCMCkYC_",
   "metadata": {
    "colab": {
     "base_uri": "https://localhost:8080/"
    },
    "id": "H4AezCMCkYC_",
    "outputId": "a96ad574-5409-48ff-f1e4-fba911b95e4b"
   },
   "outputs": [
    {
     "name": "stdout",
     "output_type": "stream",
     "text": [
      "<class 'pandas.core.frame.DataFrame'>\n",
      "RangeIndex: 9171 entries, 0 to 9170\n",
      "Data columns (total 22 columns):\n",
      " #   Column                     Non-Null Count  Dtype \n",
      "---  ------                     --------------  ----- \n",
      " 0   age                        9171 non-null   int64 \n",
      " 1   sex                        8864 non-null   object\n",
      " 2   on_thyroxine               9171 non-null   object\n",
      " 3   query_on_thyroxine         9171 non-null   object\n",
      " 4   on_antithyroid_medication  9171 non-null   object\n",
      " 5   sick                       9171 non-null   object\n",
      " 6   pregnant                   9171 non-null   object\n",
      " 7   thyroid_surgery            9171 non-null   object\n",
      " 8   I131_treatment             9171 non-null   object\n",
      " 9   query_hypothyroid          9171 non-null   object\n",
      " 10  query_hyperthyroid         9171 non-null   object\n",
      " 11  lithium                    9171 non-null   object\n",
      " 12  goitre                     9171 non-null   object\n",
      " 13  tumor                      9171 non-null   object\n",
      " 14  hypopituitary              9171 non-null   object\n",
      " 15  psych                      9171 non-null   object\n",
      " 16  TSH                        8329 non-null   object\n",
      " 17  T3                         6568 non-null   object\n",
      " 18  TT4                        8730 non-null   object\n",
      " 19  T4U                        8363 non-null   object\n",
      " 20  FTI                        8370 non-null   object\n",
      " 21  target                     9171 non-null   object\n",
      "dtypes: int64(1), object(21)\n",
      "memory usage: 1.5+ MB\n"
     ]
    }
   ],
   "source": [
    "df.info()"
   ]
  },
  {
   "cell_type": "code",
   "execution_count": 24,
   "id": "90018b17",
   "metadata": {},
   "outputs": [],
   "source": [
    "ind=df[ (df['target'] == 'OI')].index"
   ]
  },
  {
   "cell_type": "code",
   "execution_count": 25,
   "id": "aa63b162",
   "metadata": {},
   "outputs": [
    {
     "data": {
      "text/plain": [
       "Int64Index([3320], dtype='int64')"
      ]
     },
     "execution_count": 25,
     "metadata": {},
     "output_type": "execute_result"
    }
   ],
   "source": [
    "ind"
   ]
  },
  {
   "cell_type": "code",
   "execution_count": 26,
   "id": "1cad93e8",
   "metadata": {},
   "outputs": [],
   "source": [
    "df.drop(ind , inplace=True)"
   ]
  },
  {
   "cell_type": "code",
   "execution_count": null,
   "id": "1a35a818",
   "metadata": {},
   "outputs": [],
   "source": []
  },
  {
   "cell_type": "code",
   "execution_count": 27,
   "id": "eeedc0ca",
   "metadata": {},
   "outputs": [],
   "source": [
    "X=df.drop('target',axis=1)\n",
    "y=df['target']"
   ]
  },
  {
   "cell_type": "code",
   "execution_count": null,
   "id": "a5087820",
   "metadata": {},
   "outputs": [],
   "source": [
    "    "
   ]
  },
  {
   "cell_type": "code",
   "execution_count": 28,
   "id": "a3311d9f",
   "metadata": {},
   "outputs": [],
   "source": [
    "from sklearn.model_selection import train_test_split\n",
    "X_train,X_test,y_train,y_test = train_test_split(X,y,test_size=0.33,random_state=42)"
   ]
  },
  {
   "cell_type": "code",
   "execution_count": 29,
   "id": "24da00ac",
   "metadata": {},
   "outputs": [
    {
     "name": "stdout",
     "output_type": "stream",
     "text": [
      "<class 'pandas.core.frame.DataFrame'>\n",
      "Int64Index: 6143 entries, 3536 to 7271\n",
      "Data columns (total 21 columns):\n",
      " #   Column                     Non-Null Count  Dtype \n",
      "---  ------                     --------------  ----- \n",
      " 0   age                        6143 non-null   int64 \n",
      " 1   sex                        5928 non-null   object\n",
      " 2   on_thyroxine               6143 non-null   object\n",
      " 3   query_on_thyroxine         6143 non-null   object\n",
      " 4   on_antithyroid_medication  6143 non-null   object\n",
      " 5   sick                       6143 non-null   object\n",
      " 6   pregnant                   6143 non-null   object\n",
      " 7   thyroid_surgery            6143 non-null   object\n",
      " 8   I131_treatment             6143 non-null   object\n",
      " 9   query_hypothyroid          6143 non-null   object\n",
      " 10  query_hyperthyroid         6143 non-null   object\n",
      " 11  lithium                    6143 non-null   object\n",
      " 12  goitre                     6143 non-null   object\n",
      " 13  tumor                      6143 non-null   object\n",
      " 14  hypopituitary              6143 non-null   object\n",
      " 15  psych                      6143 non-null   object\n",
      " 16  TSH                        5569 non-null   object\n",
      " 17  T3                         4390 non-null   object\n",
      " 18  TT4                        5838 non-null   object\n",
      " 19  T4U                        5597 non-null   object\n",
      " 20  FTI                        5599 non-null   object\n",
      "dtypes: int64(1), object(20)\n",
      "memory usage: 1.0+ MB\n"
     ]
    }
   ],
   "source": [
    "X_train.info()"
   ]
  },
  {
   "cell_type": "code",
   "execution_count": 30,
   "id": "13ca87b6",
   "metadata": {},
   "outputs": [],
   "source": [
    "from sklearn.preprocessing import OneHotEncoder\n",
    "from sklearn.preprocessing import LabelEncoder\n",
    "from sklearn.preprocessing import OrdinalEncoder\n",
    "from sklearn.pipeline import Pipeline,make_pipeline\n",
    "from sklearn.impute import KNNImputer,SimpleImputer\n",
    "from sklearn.preprocessing import MinMaxScaler\n",
    "from sklearn.compose import ColumnTransformer"
   ]
  },
  {
   "cell_type": "code",
   "execution_count": 31,
   "id": "c1375413",
   "metadata": {},
   "outputs": [
    {
     "name": "stdout",
     "output_type": "stream",
     "text": [
      "<class 'pandas.core.frame.DataFrame'>\n",
      "Int64Index: 9170 entries, 0 to 9170\n",
      "Data columns (total 22 columns):\n",
      " #   Column                     Non-Null Count  Dtype \n",
      "---  ------                     --------------  ----- \n",
      " 0   age                        9170 non-null   int64 \n",
      " 1   sex                        8863 non-null   object\n",
      " 2   on_thyroxine               9170 non-null   object\n",
      " 3   query_on_thyroxine         9170 non-null   object\n",
      " 4   on_antithyroid_medication  9170 non-null   object\n",
      " 5   sick                       9170 non-null   object\n",
      " 6   pregnant                   9170 non-null   object\n",
      " 7   thyroid_surgery            9170 non-null   object\n",
      " 8   I131_treatment             9170 non-null   object\n",
      " 9   query_hypothyroid          9170 non-null   object\n",
      " 10  query_hyperthyroid         9170 non-null   object\n",
      " 11  lithium                    9170 non-null   object\n",
      " 12  goitre                     9170 non-null   object\n",
      " 13  tumor                      9170 non-null   object\n",
      " 14  hypopituitary              9170 non-null   object\n",
      " 15  psych                      9170 non-null   object\n",
      " 16  TSH                        8328 non-null   object\n",
      " 17  T3                         6567 non-null   object\n",
      " 18  TT4                        8729 non-null   object\n",
      " 19  T4U                        8362 non-null   object\n",
      " 20  FTI                        8369 non-null   object\n",
      " 21  target                     9170 non-null   object\n",
      "dtypes: int64(1), object(21)\n",
      "memory usage: 1.6+ MB\n"
     ]
    }
   ],
   "source": [
    "df.info()"
   ]
  },
  {
   "cell_type": "code",
   "execution_count": 32,
   "id": "8f074c1a",
   "metadata": {},
   "outputs": [
    {
     "data": {
      "text/html": [
       "<div>\n",
       "<style scoped>\n",
       "    .dataframe tbody tr th:only-of-type {\n",
       "        vertical-align: middle;\n",
       "    }\n",
       "\n",
       "    .dataframe tbody tr th {\n",
       "        vertical-align: top;\n",
       "    }\n",
       "\n",
       "    .dataframe thead th {\n",
       "        text-align: right;\n",
       "    }\n",
       "</style>\n",
       "<table border=\"1\" class=\"dataframe\">\n",
       "  <thead>\n",
       "    <tr style=\"text-align: right;\">\n",
       "      <th></th>\n",
       "      <th>age</th>\n",
       "      <th>sex</th>\n",
       "      <th>on_thyroxine</th>\n",
       "      <th>query_on_thyroxine</th>\n",
       "      <th>on_antithyroid_medication</th>\n",
       "      <th>sick</th>\n",
       "      <th>pregnant</th>\n",
       "      <th>thyroid_surgery</th>\n",
       "      <th>I131_treatment</th>\n",
       "      <th>query_hypothyroid</th>\n",
       "      <th>...</th>\n",
       "      <th>goitre</th>\n",
       "      <th>tumor</th>\n",
       "      <th>hypopituitary</th>\n",
       "      <th>psych</th>\n",
       "      <th>TSH</th>\n",
       "      <th>T3</th>\n",
       "      <th>TT4</th>\n",
       "      <th>T4U</th>\n",
       "      <th>FTI</th>\n",
       "      <th>target</th>\n",
       "    </tr>\n",
       "  </thead>\n",
       "  <tbody>\n",
       "    <tr>\n",
       "      <th>0</th>\n",
       "      <td>29</td>\n",
       "      <td>F</td>\n",
       "      <td>f</td>\n",
       "      <td>f</td>\n",
       "      <td>f</td>\n",
       "      <td>f</td>\n",
       "      <td>f</td>\n",
       "      <td>f</td>\n",
       "      <td>f</td>\n",
       "      <td>f</td>\n",
       "      <td>...</td>\n",
       "      <td>f</td>\n",
       "      <td>f</td>\n",
       "      <td>f</td>\n",
       "      <td>f</td>\n",
       "      <td>1.6</td>\n",
       "      <td>1.9</td>\n",
       "      <td>128</td>\n",
       "      <td>NaN</td>\n",
       "      <td>NaN</td>\n",
       "      <td>Z</td>\n",
       "    </tr>\n",
       "    <tr>\n",
       "      <th>1</th>\n",
       "      <td>41</td>\n",
       "      <td>F</td>\n",
       "      <td>f</td>\n",
       "      <td>f</td>\n",
       "      <td>f</td>\n",
       "      <td>f</td>\n",
       "      <td>f</td>\n",
       "      <td>f</td>\n",
       "      <td>f</td>\n",
       "      <td>f</td>\n",
       "      <td>...</td>\n",
       "      <td>f</td>\n",
       "      <td>f</td>\n",
       "      <td>f</td>\n",
       "      <td>f</td>\n",
       "      <td>NaN</td>\n",
       "      <td>NaN</td>\n",
       "      <td>NaN</td>\n",
       "      <td>NaN</td>\n",
       "      <td>NaN</td>\n",
       "      <td>Z</td>\n",
       "    </tr>\n",
       "    <tr>\n",
       "      <th>2</th>\n",
       "      <td>36</td>\n",
       "      <td>F</td>\n",
       "      <td>f</td>\n",
       "      <td>f</td>\n",
       "      <td>f</td>\n",
       "      <td>f</td>\n",
       "      <td>f</td>\n",
       "      <td>f</td>\n",
       "      <td>f</td>\n",
       "      <td>f</td>\n",
       "      <td>...</td>\n",
       "      <td>f</td>\n",
       "      <td>f</td>\n",
       "      <td>f</td>\n",
       "      <td>f</td>\n",
       "      <td>NaN</td>\n",
       "      <td>NaN</td>\n",
       "      <td>NaN</td>\n",
       "      <td>NaN</td>\n",
       "      <td>NaN</td>\n",
       "      <td>Z</td>\n",
       "    </tr>\n",
       "    <tr>\n",
       "      <th>3</th>\n",
       "      <td>32</td>\n",
       "      <td>F</td>\n",
       "      <td>f</td>\n",
       "      <td>f</td>\n",
       "      <td>f</td>\n",
       "      <td>f</td>\n",
       "      <td>f</td>\n",
       "      <td>f</td>\n",
       "      <td>f</td>\n",
       "      <td>f</td>\n",
       "      <td>...</td>\n",
       "      <td>f</td>\n",
       "      <td>f</td>\n",
       "      <td>f</td>\n",
       "      <td>f</td>\n",
       "      <td>NaN</td>\n",
       "      <td>NaN</td>\n",
       "      <td>NaN</td>\n",
       "      <td>NaN</td>\n",
       "      <td>NaN</td>\n",
       "      <td>S</td>\n",
       "    </tr>\n",
       "    <tr>\n",
       "      <th>4</th>\n",
       "      <td>60</td>\n",
       "      <td>F</td>\n",
       "      <td>f</td>\n",
       "      <td>f</td>\n",
       "      <td>f</td>\n",
       "      <td>f</td>\n",
       "      <td>f</td>\n",
       "      <td>f</td>\n",
       "      <td>f</td>\n",
       "      <td>f</td>\n",
       "      <td>...</td>\n",
       "      <td>f</td>\n",
       "      <td>f</td>\n",
       "      <td>f</td>\n",
       "      <td>f</td>\n",
       "      <td>NaN</td>\n",
       "      <td>NaN</td>\n",
       "      <td>NaN</td>\n",
       "      <td>NaN</td>\n",
       "      <td>NaN</td>\n",
       "      <td>Z</td>\n",
       "    </tr>\n",
       "    <tr>\n",
       "      <th>...</th>\n",
       "      <td>...</td>\n",
       "      <td>...</td>\n",
       "      <td>...</td>\n",
       "      <td>...</td>\n",
       "      <td>...</td>\n",
       "      <td>...</td>\n",
       "      <td>...</td>\n",
       "      <td>...</td>\n",
       "      <td>...</td>\n",
       "      <td>...</td>\n",
       "      <td>...</td>\n",
       "      <td>...</td>\n",
       "      <td>...</td>\n",
       "      <td>...</td>\n",
       "      <td>...</td>\n",
       "      <td>...</td>\n",
       "      <td>...</td>\n",
       "      <td>...</td>\n",
       "      <td>...</td>\n",
       "      <td>...</td>\n",
       "      <td>...</td>\n",
       "    </tr>\n",
       "    <tr>\n",
       "      <th>9166</th>\n",
       "      <td>56</td>\n",
       "      <td>M</td>\n",
       "      <td>f</td>\n",
       "      <td>f</td>\n",
       "      <td>f</td>\n",
       "      <td>f</td>\n",
       "      <td>f</td>\n",
       "      <td>f</td>\n",
       "      <td>f</td>\n",
       "      <td>f</td>\n",
       "      <td>...</td>\n",
       "      <td>f</td>\n",
       "      <td>f</td>\n",
       "      <td>f</td>\n",
       "      <td>f</td>\n",
       "      <td>NaN</td>\n",
       "      <td>NaN</td>\n",
       "      <td>64</td>\n",
       "      <td>0.83</td>\n",
       "      <td>77</td>\n",
       "      <td>Z</td>\n",
       "    </tr>\n",
       "    <tr>\n",
       "      <th>9167</th>\n",
       "      <td>22</td>\n",
       "      <td>M</td>\n",
       "      <td>f</td>\n",
       "      <td>f</td>\n",
       "      <td>f</td>\n",
       "      <td>f</td>\n",
       "      <td>f</td>\n",
       "      <td>f</td>\n",
       "      <td>f</td>\n",
       "      <td>f</td>\n",
       "      <td>...</td>\n",
       "      <td>f</td>\n",
       "      <td>f</td>\n",
       "      <td>f</td>\n",
       "      <td>f</td>\n",
       "      <td>NaN</td>\n",
       "      <td>NaN</td>\n",
       "      <td>91</td>\n",
       "      <td>0.92</td>\n",
       "      <td>99</td>\n",
       "      <td>Z</td>\n",
       "    </tr>\n",
       "    <tr>\n",
       "      <th>9168</th>\n",
       "      <td>69</td>\n",
       "      <td>M</td>\n",
       "      <td>f</td>\n",
       "      <td>f</td>\n",
       "      <td>f</td>\n",
       "      <td>f</td>\n",
       "      <td>f</td>\n",
       "      <td>f</td>\n",
       "      <td>f</td>\n",
       "      <td>f</td>\n",
       "      <td>...</td>\n",
       "      <td>f</td>\n",
       "      <td>f</td>\n",
       "      <td>f</td>\n",
       "      <td>f</td>\n",
       "      <td>NaN</td>\n",
       "      <td>NaN</td>\n",
       "      <td>113</td>\n",
       "      <td>1.27</td>\n",
       "      <td>89</td>\n",
       "      <td>I</td>\n",
       "    </tr>\n",
       "    <tr>\n",
       "      <th>9169</th>\n",
       "      <td>47</td>\n",
       "      <td>F</td>\n",
       "      <td>f</td>\n",
       "      <td>f</td>\n",
       "      <td>f</td>\n",
       "      <td>f</td>\n",
       "      <td>f</td>\n",
       "      <td>f</td>\n",
       "      <td>f</td>\n",
       "      <td>f</td>\n",
       "      <td>...</td>\n",
       "      <td>f</td>\n",
       "      <td>f</td>\n",
       "      <td>f</td>\n",
       "      <td>f</td>\n",
       "      <td>NaN</td>\n",
       "      <td>NaN</td>\n",
       "      <td>75</td>\n",
       "      <td>0.85</td>\n",
       "      <td>88</td>\n",
       "      <td>Z</td>\n",
       "    </tr>\n",
       "    <tr>\n",
       "      <th>9170</th>\n",
       "      <td>31</td>\n",
       "      <td>M</td>\n",
       "      <td>f</td>\n",
       "      <td>f</td>\n",
       "      <td>f</td>\n",
       "      <td>f</td>\n",
       "      <td>f</td>\n",
       "      <td>f</td>\n",
       "      <td>f</td>\n",
       "      <td>t</td>\n",
       "      <td>...</td>\n",
       "      <td>f</td>\n",
       "      <td>f</td>\n",
       "      <td>f</td>\n",
       "      <td>f</td>\n",
       "      <td>NaN</td>\n",
       "      <td>NaN</td>\n",
       "      <td>66</td>\n",
       "      <td>1.02</td>\n",
       "      <td>65</td>\n",
       "      <td>Z</td>\n",
       "    </tr>\n",
       "  </tbody>\n",
       "</table>\n",
       "<p>9170 rows × 22 columns</p>\n",
       "</div>"
      ],
      "text/plain": [
       "      age sex on_thyroxine query_on_thyroxine on_antithyroid_medication sick  \\\n",
       "0      29   F            f                  f                         f    f   \n",
       "1      41   F            f                  f                         f    f   \n",
       "2      36   F            f                  f                         f    f   \n",
       "3      32   F            f                  f                         f    f   \n",
       "4      60   F            f                  f                         f    f   \n",
       "...   ...  ..          ...                ...                       ...  ...   \n",
       "9166   56   M            f                  f                         f    f   \n",
       "9167   22   M            f                  f                         f    f   \n",
       "9168   69   M            f                  f                         f    f   \n",
       "9169   47   F            f                  f                         f    f   \n",
       "9170   31   M            f                  f                         f    f   \n",
       "\n",
       "     pregnant thyroid_surgery I131_treatment query_hypothyroid  ... goitre  \\\n",
       "0           f               f              f                 f  ...      f   \n",
       "1           f               f              f                 f  ...      f   \n",
       "2           f               f              f                 f  ...      f   \n",
       "3           f               f              f                 f  ...      f   \n",
       "4           f               f              f                 f  ...      f   \n",
       "...       ...             ...            ...               ...  ...    ...   \n",
       "9166        f               f              f                 f  ...      f   \n",
       "9167        f               f              f                 f  ...      f   \n",
       "9168        f               f              f                 f  ...      f   \n",
       "9169        f               f              f                 f  ...      f   \n",
       "9170        f               f              f                 t  ...      f   \n",
       "\n",
       "     tumor hypopituitary psych  TSH   T3  TT4   T4U  FTI target  \n",
       "0        f             f     f  1.6  1.9  128   NaN  NaN      Z  \n",
       "1        f             f     f  NaN  NaN  NaN   NaN  NaN      Z  \n",
       "2        f             f     f  NaN  NaN  NaN   NaN  NaN      Z  \n",
       "3        f             f     f  NaN  NaN  NaN   NaN  NaN      S  \n",
       "4        f             f     f  NaN  NaN  NaN   NaN  NaN      Z  \n",
       "...    ...           ...   ...  ...  ...  ...   ...  ...    ...  \n",
       "9166     f             f     f  NaN  NaN   64  0.83   77      Z  \n",
       "9167     f             f     f  NaN  NaN   91  0.92   99      Z  \n",
       "9168     f             f     f  NaN  NaN  113  1.27   89      I  \n",
       "9169     f             f     f  NaN  NaN   75  0.85   88      Z  \n",
       "9170     f             f     f  NaN  NaN   66  1.02   65      Z  \n",
       "\n",
       "[9170 rows x 22 columns]"
      ]
     },
     "execution_count": 32,
     "metadata": {},
     "output_type": "execute_result"
    }
   ],
   "source": [
    "df"
   ]
  },
  {
   "cell_type": "code",
   "execution_count": 33,
   "id": "aebbca10",
   "metadata": {},
   "outputs": [],
   "source": [
    "from sklearn.model_selection import train_test_split\n",
    "X_train,X_test,y_train,y_test = train_test_split(X,y,test_size=0.33,random_state=42)"
   ]
  },
  {
   "cell_type": "code",
   "execution_count": null,
   "id": "d018f20a",
   "metadata": {},
   "outputs": [],
   "source": []
  },
  {
   "cell_type": "code",
   "execution_count": 34,
   "id": "b9356be2",
   "metadata": {},
   "outputs": [
    {
     "data": {
      "text/html": [
       "<div>\n",
       "<style scoped>\n",
       "    .dataframe tbody tr th:only-of-type {\n",
       "        vertical-align: middle;\n",
       "    }\n",
       "\n",
       "    .dataframe tbody tr th {\n",
       "        vertical-align: top;\n",
       "    }\n",
       "\n",
       "    .dataframe thead th {\n",
       "        text-align: right;\n",
       "    }\n",
       "</style>\n",
       "<table border=\"1\" class=\"dataframe\">\n",
       "  <thead>\n",
       "    <tr style=\"text-align: right;\">\n",
       "      <th></th>\n",
       "      <th>age</th>\n",
       "      <th>sex</th>\n",
       "      <th>on_thyroxine</th>\n",
       "      <th>query_on_thyroxine</th>\n",
       "      <th>on_antithyroid_medication</th>\n",
       "      <th>sick</th>\n",
       "      <th>pregnant</th>\n",
       "      <th>thyroid_surgery</th>\n",
       "      <th>I131_treatment</th>\n",
       "      <th>query_hypothyroid</th>\n",
       "      <th>...</th>\n",
       "      <th>lithium</th>\n",
       "      <th>goitre</th>\n",
       "      <th>tumor</th>\n",
       "      <th>hypopituitary</th>\n",
       "      <th>psych</th>\n",
       "      <th>TSH</th>\n",
       "      <th>T3</th>\n",
       "      <th>TT4</th>\n",
       "      <th>T4U</th>\n",
       "      <th>FTI</th>\n",
       "    </tr>\n",
       "  </thead>\n",
       "  <tbody>\n",
       "    <tr>\n",
       "      <th>3536</th>\n",
       "      <td>59</td>\n",
       "      <td>F</td>\n",
       "      <td>t</td>\n",
       "      <td>f</td>\n",
       "      <td>f</td>\n",
       "      <td>f</td>\n",
       "      <td>f</td>\n",
       "      <td>f</td>\n",
       "      <td>f</td>\n",
       "      <td>f</td>\n",
       "      <td>...</td>\n",
       "      <td>f</td>\n",
       "      <td>f</td>\n",
       "      <td>f</td>\n",
       "      <td>f</td>\n",
       "      <td>f</td>\n",
       "      <td>0.03</td>\n",
       "      <td>2</td>\n",
       "      <td>164</td>\n",
       "      <td>0.92</td>\n",
       "      <td>178</td>\n",
       "    </tr>\n",
       "    <tr>\n",
       "      <th>8195</th>\n",
       "      <td>74</td>\n",
       "      <td>M</td>\n",
       "      <td>f</td>\n",
       "      <td>f</td>\n",
       "      <td>f</td>\n",
       "      <td>t</td>\n",
       "      <td>f</td>\n",
       "      <td>f</td>\n",
       "      <td>f</td>\n",
       "      <td>f</td>\n",
       "      <td>...</td>\n",
       "      <td>f</td>\n",
       "      <td>f</td>\n",
       "      <td>f</td>\n",
       "      <td>f</td>\n",
       "      <td>f</td>\n",
       "      <td>1.2</td>\n",
       "      <td>NaN</td>\n",
       "      <td>80</td>\n",
       "      <td>0.95</td>\n",
       "      <td>84</td>\n",
       "    </tr>\n",
       "    <tr>\n",
       "      <th>5881</th>\n",
       "      <td>40</td>\n",
       "      <td>F</td>\n",
       "      <td>f</td>\n",
       "      <td>f</td>\n",
       "      <td>f</td>\n",
       "      <td>f</td>\n",
       "      <td>f</td>\n",
       "      <td>f</td>\n",
       "      <td>f</td>\n",
       "      <td>f</td>\n",
       "      <td>...</td>\n",
       "      <td>f</td>\n",
       "      <td>f</td>\n",
       "      <td>f</td>\n",
       "      <td>f</td>\n",
       "      <td>f</td>\n",
       "      <td>1.1</td>\n",
       "      <td>NaN</td>\n",
       "      <td>139</td>\n",
       "      <td>NaN</td>\n",
       "      <td>NaN</td>\n",
       "    </tr>\n",
       "    <tr>\n",
       "      <th>3881</th>\n",
       "      <td>83</td>\n",
       "      <td>F</td>\n",
       "      <td>f</td>\n",
       "      <td>f</td>\n",
       "      <td>f</td>\n",
       "      <td>f</td>\n",
       "      <td>f</td>\n",
       "      <td>f</td>\n",
       "      <td>f</td>\n",
       "      <td>f</td>\n",
       "      <td>...</td>\n",
       "      <td>f</td>\n",
       "      <td>f</td>\n",
       "      <td>f</td>\n",
       "      <td>f</td>\n",
       "      <td>f</td>\n",
       "      <td>0.92</td>\n",
       "      <td>0.9</td>\n",
       "      <td>86</td>\n",
       "      <td>0.76</td>\n",
       "      <td>113</td>\n",
       "    </tr>\n",
       "    <tr>\n",
       "      <th>8972</th>\n",
       "      <td>39</td>\n",
       "      <td>F</td>\n",
       "      <td>f</td>\n",
       "      <td>f</td>\n",
       "      <td>f</td>\n",
       "      <td>f</td>\n",
       "      <td>f</td>\n",
       "      <td>f</td>\n",
       "      <td>f</td>\n",
       "      <td>f</td>\n",
       "      <td>...</td>\n",
       "      <td>f</td>\n",
       "      <td>f</td>\n",
       "      <td>t</td>\n",
       "      <td>f</td>\n",
       "      <td>f</td>\n",
       "      <td>0.8</td>\n",
       "      <td>2.2</td>\n",
       "      <td>91</td>\n",
       "      <td>0.79</td>\n",
       "      <td>115</td>\n",
       "    </tr>\n",
       "    <tr>\n",
       "      <th>...</th>\n",
       "      <td>...</td>\n",
       "      <td>...</td>\n",
       "      <td>...</td>\n",
       "      <td>...</td>\n",
       "      <td>...</td>\n",
       "      <td>...</td>\n",
       "      <td>...</td>\n",
       "      <td>...</td>\n",
       "      <td>...</td>\n",
       "      <td>...</td>\n",
       "      <td>...</td>\n",
       "      <td>...</td>\n",
       "      <td>...</td>\n",
       "      <td>...</td>\n",
       "      <td>...</td>\n",
       "      <td>...</td>\n",
       "      <td>...</td>\n",
       "      <td>...</td>\n",
       "      <td>...</td>\n",
       "      <td>...</td>\n",
       "      <td>...</td>\n",
       "    </tr>\n",
       "    <tr>\n",
       "      <th>5735</th>\n",
       "      <td>43</td>\n",
       "      <td>F</td>\n",
       "      <td>f</td>\n",
       "      <td>f</td>\n",
       "      <td>f</td>\n",
       "      <td>f</td>\n",
       "      <td>f</td>\n",
       "      <td>f</td>\n",
       "      <td>f</td>\n",
       "      <td>f</td>\n",
       "      <td>...</td>\n",
       "      <td>f</td>\n",
       "      <td>f</td>\n",
       "      <td>f</td>\n",
       "      <td>f</td>\n",
       "      <td>f</td>\n",
       "      <td>8.299999</td>\n",
       "      <td>1.9</td>\n",
       "      <td>95</td>\n",
       "      <td>1.17</td>\n",
       "      <td>81</td>\n",
       "    </tr>\n",
       "    <tr>\n",
       "      <th>5192</th>\n",
       "      <td>26</td>\n",
       "      <td>M</td>\n",
       "      <td>f</td>\n",
       "      <td>f</td>\n",
       "      <td>f</td>\n",
       "      <td>f</td>\n",
       "      <td>f</td>\n",
       "      <td>f</td>\n",
       "      <td>f</td>\n",
       "      <td>f</td>\n",
       "      <td>...</td>\n",
       "      <td>f</td>\n",
       "      <td>f</td>\n",
       "      <td>f</td>\n",
       "      <td>f</td>\n",
       "      <td>f</td>\n",
       "      <td>1.9</td>\n",
       "      <td>2.9</td>\n",
       "      <td>94</td>\n",
       "      <td>1.15</td>\n",
       "      <td>82</td>\n",
       "    </tr>\n",
       "    <tr>\n",
       "      <th>5391</th>\n",
       "      <td>29</td>\n",
       "      <td>F</td>\n",
       "      <td>t</td>\n",
       "      <td>f</td>\n",
       "      <td>f</td>\n",
       "      <td>f</td>\n",
       "      <td>f</td>\n",
       "      <td>f</td>\n",
       "      <td>f</td>\n",
       "      <td>f</td>\n",
       "      <td>...</td>\n",
       "      <td>f</td>\n",
       "      <td>f</td>\n",
       "      <td>f</td>\n",
       "      <td>f</td>\n",
       "      <td>f</td>\n",
       "      <td>15</td>\n",
       "      <td>NaN</td>\n",
       "      <td>113</td>\n",
       "      <td>1.13</td>\n",
       "      <td>100</td>\n",
       "    </tr>\n",
       "    <tr>\n",
       "      <th>860</th>\n",
       "      <td>23</td>\n",
       "      <td>F</td>\n",
       "      <td>f</td>\n",
       "      <td>f</td>\n",
       "      <td>f</td>\n",
       "      <td>f</td>\n",
       "      <td>t</td>\n",
       "      <td>f</td>\n",
       "      <td>f</td>\n",
       "      <td>f</td>\n",
       "      <td>...</td>\n",
       "      <td>f</td>\n",
       "      <td>f</td>\n",
       "      <td>t</td>\n",
       "      <td>f</td>\n",
       "      <td>f</td>\n",
       "      <td>0.1</td>\n",
       "      <td>2.8</td>\n",
       "      <td>201</td>\n",
       "      <td>1.14</td>\n",
       "      <td>176</td>\n",
       "    </tr>\n",
       "    <tr>\n",
       "      <th>7271</th>\n",
       "      <td>49</td>\n",
       "      <td>M</td>\n",
       "      <td>t</td>\n",
       "      <td>f</td>\n",
       "      <td>f</td>\n",
       "      <td>f</td>\n",
       "      <td>f</td>\n",
       "      <td>f</td>\n",
       "      <td>f</td>\n",
       "      <td>f</td>\n",
       "      <td>...</td>\n",
       "      <td>f</td>\n",
       "      <td>f</td>\n",
       "      <td>f</td>\n",
       "      <td>f</td>\n",
       "      <td>f</td>\n",
       "      <td>0.23</td>\n",
       "      <td>NaN</td>\n",
       "      <td>126</td>\n",
       "      <td>0.84</td>\n",
       "      <td>150</td>\n",
       "    </tr>\n",
       "  </tbody>\n",
       "</table>\n",
       "<p>6143 rows × 21 columns</p>\n",
       "</div>"
      ],
      "text/plain": [
       "      age sex on_thyroxine query_on_thyroxine on_antithyroid_medication sick  \\\n",
       "3536   59   F            t                  f                         f    f   \n",
       "8195   74   M            f                  f                         f    t   \n",
       "5881   40   F            f                  f                         f    f   \n",
       "3881   83   F            f                  f                         f    f   \n",
       "8972   39   F            f                  f                         f    f   \n",
       "...   ...  ..          ...                ...                       ...  ...   \n",
       "5735   43   F            f                  f                         f    f   \n",
       "5192   26   M            f                  f                         f    f   \n",
       "5391   29   F            t                  f                         f    f   \n",
       "860    23   F            f                  f                         f    f   \n",
       "7271   49   M            t                  f                         f    f   \n",
       "\n",
       "     pregnant thyroid_surgery I131_treatment query_hypothyroid  ... lithium  \\\n",
       "3536        f               f              f                 f  ...       f   \n",
       "8195        f               f              f                 f  ...       f   \n",
       "5881        f               f              f                 f  ...       f   \n",
       "3881        f               f              f                 f  ...       f   \n",
       "8972        f               f              f                 f  ...       f   \n",
       "...       ...             ...            ...               ...  ...     ...   \n",
       "5735        f               f              f                 f  ...       f   \n",
       "5192        f               f              f                 f  ...       f   \n",
       "5391        f               f              f                 f  ...       f   \n",
       "860         t               f              f                 f  ...       f   \n",
       "7271        f               f              f                 f  ...       f   \n",
       "\n",
       "     goitre tumor hypopituitary psych       TSH   T3  TT4   T4U  FTI  \n",
       "3536      f     f             f     f      0.03    2  164  0.92  178  \n",
       "8195      f     f             f     f       1.2  NaN   80  0.95   84  \n",
       "5881      f     f             f     f       1.1  NaN  139   NaN  NaN  \n",
       "3881      f     f             f     f      0.92  0.9   86  0.76  113  \n",
       "8972      f     t             f     f       0.8  2.2   91  0.79  115  \n",
       "...     ...   ...           ...   ...       ...  ...  ...   ...  ...  \n",
       "5735      f     f             f     f  8.299999  1.9   95  1.17   81  \n",
       "5192      f     f             f     f       1.9  2.9   94  1.15   82  \n",
       "5391      f     f             f     f        15  NaN  113  1.13  100  \n",
       "860       f     t             f     f       0.1  2.8  201  1.14  176  \n",
       "7271      f     f             f     f      0.23  NaN  126  0.84  150  \n",
       "\n",
       "[6143 rows x 21 columns]"
      ]
     },
     "execution_count": 34,
     "metadata": {},
     "output_type": "execute_result"
    }
   ],
   "source": [
    "X_train"
   ]
  },
  {
   "cell_type": "code",
   "execution_count": 35,
   "id": "a60f926b",
   "metadata": {},
   "outputs": [],
   "source": [
    "trf1 = ColumnTransformer(transformers=[\n",
    "           ('oe',OrdinalEncoder(),['on_thyroxine',\n",
    "                                     'query_on_thyroxine',\n",
    "                                     'on_antithyroid_medication',\n",
    "                                     'sick',\n",
    "                                     'pregnant',\n",
    "                                     'thyroid_surgery',\n",
    "                                     'I131_treatment',\n",
    "                                     'query_hypothyroid',\n",
    "                                     'query_hyperthyroid',\n",
    "                                     'lithium',\n",
    "                                     'goitre',\n",
    "                                     'tumor',\n",
    "                                     'hypopituitary',\n",
    "                                     'psych']),\n",
    "        ('onehot', OneHotEncoder(categories='auto', drop='first', sparse=False), ['sex']),\n",
    "\n",
    "        ('imputer_scaler', make_pipeline(KNNImputer(),MinMaxScaler()), ['age', 'TSH', 'T3', 'TT4', 'T4U', 'FTI']),\n",
    "            ],remainder='passthrough')"
   ]
  },
  {
   "cell_type": "code",
   "execution_count": 36,
   "id": "dd700cdc",
   "metadata": {},
   "outputs": [
    {
     "data": {
      "text/plain": [
       "ColumnTransformer(remainder='passthrough',\n",
       "                  transformers=[('oe', OrdinalEncoder(),\n",
       "                                 ['on_thyroxine', 'query_on_thyroxine',\n",
       "                                  'on_antithyroid_medication', 'sick',\n",
       "                                  'pregnant', 'thyroid_surgery',\n",
       "                                  'I131_treatment', 'query_hypothyroid',\n",
       "                                  'query_hyperthyroid', 'lithium', 'goitre',\n",
       "                                  'tumor', 'hypopituitary', 'psych']),\n",
       "                                ('onehot',\n",
       "                                 OneHotEncoder(drop='first', sparse=False),\n",
       "                                 ['sex']),\n",
       "                                ('imputer_scaler',\n",
       "                                 Pipeline(steps=[('knnimputer', KNNImputer()),\n",
       "                                                 ('minmaxscaler',\n",
       "                                                  MinMaxScaler())]),\n",
       "                                 ['age', 'TSH', 'T3', 'TT4', 'T4U', 'FTI'])])"
      ]
     },
     "execution_count": 36,
     "metadata": {},
     "output_type": "execute_result"
    }
   ],
   "source": [
    "trf1"
   ]
  },
  {
   "cell_type": "raw",
   "id": "0ce01c36",
   "metadata": {},
   "source": [
    "trf1"
   ]
  },
  {
   "cell_type": "code",
   "execution_count": 37,
   "id": "f9ec7586",
   "metadata": {},
   "outputs": [
    {
     "data": {
      "text/plain": [
       "ColumnTransformer(remainder='passthrough',\n",
       "                  transformers=[('oe', OrdinalEncoder(),\n",
       "                                 ['on_thyroxine', 'query_on_thyroxine',\n",
       "                                  'on_antithyroid_medication', 'sick',\n",
       "                                  'pregnant', 'thyroid_surgery',\n",
       "                                  'I131_treatment', 'query_hypothyroid',\n",
       "                                  'query_hyperthyroid', 'lithium', 'goitre',\n",
       "                                  'tumor', 'hypopituitary', 'psych']),\n",
       "                                ('onehot',\n",
       "                                 OneHotEncoder(drop='first', sparse=False),\n",
       "                                 ['sex']),\n",
       "                                ('imputer_scaler',\n",
       "                                 Pipeline(steps=[('knnimputer', KNNImputer()),\n",
       "                                                 ('minmaxscaler',\n",
       "                                                  MinMaxScaler())]),\n",
       "                                 ['age', 'TSH', 'T3', 'TT4', 'T4U', 'FTI'])])"
      ]
     },
     "execution_count": 37,
     "metadata": {},
     "output_type": "execute_result"
    }
   ],
   "source": [
    "trf1.fit(X_train)"
   ]
  },
  {
   "cell_type": "code",
   "execution_count": 67,
   "id": "3457d1ce",
   "metadata": {},
   "outputs": [],
   "source": [
    "X_train=trf1.fit_transform(X_train)"
   ]
  },
  {
   "cell_type": "code",
   "execution_count": 68,
   "id": "4ad97c1a",
   "metadata": {},
   "outputs": [],
   "source": [
    "X_test=trf1.transform(X_test)"
   ]
  },
  {
   "cell_type": "code",
   "execution_count": 38,
   "id": "cb2a6ac2",
   "metadata": {},
   "outputs": [],
   "source": [
    "feature_cols = ['on_thyroxine',\n",
    " 'query_on_thyroxine',\n",
    " 'on_antithyroid_medication',\n",
    " 'sick',\n",
    " 'pregnant',\n",
    " 'thyroid_surgery',\n",
    " 'I131_treatment',\n",
    " 'query_hypothyroid',\n",
    " 'query_hyperthyroid',\n",
    " 'lithium',\n",
    " 'goitre',\n",
    " 'tumor',\n",
    " 'hypopituitary',\n",
    " 'psych']"
   ]
  },
  {
   "cell_type": "code",
   "execution_count": 39,
   "id": "226c19cf",
   "metadata": {},
   "outputs": [
    {
     "data": {
      "text/plain": [
       "5702    Z\n",
       "5490    A\n",
       "7774    K\n",
       "8206    Z\n",
       "1650    Z\n",
       "       ..\n",
       "2300    Z\n",
       "5843    K\n",
       "254     Z\n",
       "5061    Z\n",
       "6794    G\n",
       "Name: target, Length: 3027, dtype: object"
      ]
     },
     "execution_count": 39,
     "metadata": {},
     "output_type": "execute_result"
    }
   ],
   "source": [
    "y_test"
   ]
  },
  {
   "cell_type": "code",
   "execution_count": 40,
   "id": "7e2d5976",
   "metadata": {},
   "outputs": [
    {
     "data": {
      "text/plain": [
       "array([[1.        , 0.        , 0.        , ..., 0.27090301, 0.34722222,\n",
       "        0.2108405 ],\n",
       "       [0.        , 0.        , 0.        , ..., 0.13043478, 0.36111111,\n",
       "        0.09861509],\n",
       "       [0.        , 0.        , 0.        , ..., 0.22909699, 0.40185185,\n",
       "        0.169532  ],\n",
       "       ...,\n",
       "       [1.        , 0.        , 0.        , ..., 0.18561873, 0.44444444,\n",
       "        0.11771729],\n",
       "       [0.        , 0.        , 0.        , ..., 0.33277592, 0.44907407,\n",
       "        0.20845272],\n",
       "       [1.        , 0.        , 0.        , ..., 0.20735786, 0.31018519,\n",
       "        0.17741165]])"
      ]
     },
     "execution_count": 40,
     "metadata": {},
     "output_type": "execute_result"
    }
   ],
   "source": [
    "X_train"
   ]
  },
  {
   "cell_type": "code",
   "execution_count": 41,
   "id": "12fd2c42",
   "metadata": {},
   "outputs": [
    {
     "data": {
      "text/plain": [
       "0.9134456557647836"
      ]
     },
     "execution_count": 41,
     "metadata": {},
     "output_type": "execute_result"
    }
   ],
   "source": [
    "from sklearn.ensemble import RandomForestClassifier\n",
    "from sklearn.metrics import accuracy_score\n",
    "rf = RandomForestClassifier()\n",
    "rf = rf.fit(X_train,y_train)\n",
    "y_pred = rf.predict(X_test)\n",
    "accuracy_score(y_pred,y_test)\n",
    "\n"
   ]
  },
  {
   "cell_type": "code",
   "execution_count": 42,
   "id": "ded33d7f",
   "metadata": {},
   "outputs": [],
   "source": [
    "from sklearn.ensemble import RandomForestClassifier\n",
    "from sklearn.metrics import accuracy_score\n",
    "rf = RandomForestClassifier()\n",
    "rf = rf.fit(X_train,y_train)"
   ]
  },
  {
   "cell_type": "code",
   "execution_count": 43,
   "id": "fc9cf933",
   "metadata": {},
   "outputs": [
    {
     "data": {
      "text/plain": [
       "0.994790818818167"
      ]
     },
     "execution_count": 43,
     "metadata": {},
     "output_type": "execute_result"
    }
   ],
   "source": [
    "y_pred_train = rf.predict(X_train)\n",
    "accuracy_score(y_pred_train,y_train)\n"
   ]
  },
  {
   "cell_type": "code",
   "execution_count": 44,
   "id": "89a97402",
   "metadata": {},
   "outputs": [],
   "source": [
    "from sklearn.model_selection import GridSearchCV\n",
    "from sklearn.metrics  import roc_auc_score,accuracy_score\n",
    "from sklearn.neighbors import KNeighborsClassifier"
   ]
  },
  {
   "cell_type": "code",
   "execution_count": 45,
   "id": "328ab967",
   "metadata": {},
   "outputs": [
    {
     "name": "stdout",
     "output_type": "stream",
     "text": [
      "Fitting 5 folds for each of 180 candidates, totalling 900 fits\n"
     ]
    },
    {
     "name": "stderr",
     "output_type": "stream",
     "text": [
      "C:\\Users\\tando\\anaconda3\\lib\\site-packages\\sklearn\\model_selection\\_split.py:680: UserWarning: The least populated class in y has only 1 members, which is less than n_splits=5.\n",
      "  warnings.warn(\n"
     ]
    },
    {
     "name": "stdout",
     "output_type": "stream",
     "text": [
      "[CV 1/5] END algorithm=ball_tree, leaf_size=10, n_neighbors=4, p=1;, score=0.804 total time=   0.4s\n",
      "[CV 2/5] END algorithm=ball_tree, leaf_size=10, n_neighbors=4, p=1;, score=0.803 total time=   0.4s\n",
      "[CV 3/5] END algorithm=ball_tree, leaf_size=10, n_neighbors=4, p=1;, score=0.806 total time=   0.3s\n",
      "[CV 4/5] END algorithm=ball_tree, leaf_size=10, n_neighbors=4, p=1;, score=0.810 total time=   0.3s\n",
      "[CV 5/5] END algorithm=ball_tree, leaf_size=10, n_neighbors=4, p=1;, score=0.815 total time=   0.3s\n",
      "[CV 1/5] END algorithm=ball_tree, leaf_size=10, n_neighbors=4, p=2;, score=0.803 total time=   0.3s\n",
      "[CV 2/5] END algorithm=ball_tree, leaf_size=10, n_neighbors=4, p=2;, score=0.797 total time=   0.2s\n",
      "[CV 3/5] END algorithm=ball_tree, leaf_size=10, n_neighbors=4, p=2;, score=0.800 total time=   0.3s\n",
      "[CV 4/5] END algorithm=ball_tree, leaf_size=10, n_neighbors=4, p=2;, score=0.807 total time=   0.1s\n",
      "[CV 5/5] END algorithm=ball_tree, leaf_size=10, n_neighbors=4, p=2;, score=0.809 total time=   0.3s\n",
      "[CV 1/5] END algorithm=ball_tree, leaf_size=10, n_neighbors=5, p=1;, score=0.802 total time=   0.1s\n",
      "[CV 2/5] END algorithm=ball_tree, leaf_size=10, n_neighbors=5, p=1;, score=0.799 total time=   0.1s\n",
      "[CV 3/5] END algorithm=ball_tree, leaf_size=10, n_neighbors=5, p=1;, score=0.812 total time=   0.3s\n",
      "[CV 4/5] END algorithm=ball_tree, leaf_size=10, n_neighbors=5, p=1;, score=0.809 total time=   0.2s\n",
      "[CV 5/5] END algorithm=ball_tree, leaf_size=10, n_neighbors=5, p=1;, score=0.813 total time=   0.3s\n",
      "[CV 1/5] END algorithm=ball_tree, leaf_size=10, n_neighbors=5, p=2;, score=0.801 total time=   0.1s\n",
      "[CV 2/5] END algorithm=ball_tree, leaf_size=10, n_neighbors=5, p=2;, score=0.794 total time=   0.1s\n",
      "[CV 3/5] END algorithm=ball_tree, leaf_size=10, n_neighbors=5, p=2;, score=0.802 total time=   0.1s\n",
      "[CV 4/5] END algorithm=ball_tree, leaf_size=10, n_neighbors=5, p=2;, score=0.804 total time=   0.2s\n",
      "[CV 5/5] END algorithm=ball_tree, leaf_size=10, n_neighbors=5, p=2;, score=0.809 total time=   0.3s\n",
      "[CV 1/5] END algorithm=ball_tree, leaf_size=10, n_neighbors=8, p=1;, score=0.799 total time=   0.3s\n",
      "[CV 2/5] END algorithm=ball_tree, leaf_size=10, n_neighbors=8, p=1;, score=0.792 total time=   0.3s\n",
      "[CV 3/5] END algorithm=ball_tree, leaf_size=10, n_neighbors=8, p=1;, score=0.804 total time=   0.4s\n",
      "[CV 4/5] END algorithm=ball_tree, leaf_size=10, n_neighbors=8, p=1;, score=0.812 total time=   0.3s\n",
      "[CV 5/5] END algorithm=ball_tree, leaf_size=10, n_neighbors=8, p=1;, score=0.812 total time=   0.4s\n",
      "[CV 1/5] END algorithm=ball_tree, leaf_size=10, n_neighbors=8, p=2;, score=0.799 total time=   0.3s\n",
      "[CV 2/5] END algorithm=ball_tree, leaf_size=10, n_neighbors=8, p=2;, score=0.794 total time=   0.4s\n",
      "[CV 3/5] END algorithm=ball_tree, leaf_size=10, n_neighbors=8, p=2;, score=0.806 total time=   0.4s\n",
      "[CV 4/5] END algorithm=ball_tree, leaf_size=10, n_neighbors=8, p=2;, score=0.806 total time=   0.3s\n",
      "[CV 5/5] END algorithm=ball_tree, leaf_size=10, n_neighbors=8, p=2;, score=0.806 total time=   0.4s\n",
      "[CV 1/5] END algorithm=ball_tree, leaf_size=10, n_neighbors=10, p=1;, score=0.800 total time=   0.4s\n",
      "[CV 2/5] END algorithm=ball_tree, leaf_size=10, n_neighbors=10, p=1;, score=0.792 total time=   0.4s\n",
      "[CV 3/5] END algorithm=ball_tree, leaf_size=10, n_neighbors=10, p=1;, score=0.801 total time=   0.4s\n",
      "[CV 4/5] END algorithm=ball_tree, leaf_size=10, n_neighbors=10, p=1;, score=0.810 total time=   0.4s\n",
      "[CV 5/5] END algorithm=ball_tree, leaf_size=10, n_neighbors=10, p=1;, score=0.800 total time=   0.3s\n",
      "[CV 1/5] END algorithm=ball_tree, leaf_size=10, n_neighbors=10, p=2;, score=0.796 total time=   0.4s\n",
      "[CV 2/5] END algorithm=ball_tree, leaf_size=10, n_neighbors=10, p=2;, score=0.791 total time=   0.4s\n",
      "[CV 3/5] END algorithm=ball_tree, leaf_size=10, n_neighbors=10, p=2;, score=0.802 total time=   0.3s\n",
      "[CV 4/5] END algorithm=ball_tree, leaf_size=10, n_neighbors=10, p=2;, score=0.806 total time=   0.3s\n",
      "[CV 5/5] END algorithm=ball_tree, leaf_size=10, n_neighbors=10, p=2;, score=0.805 total time=   0.4s\n",
      "[CV 1/5] END algorithm=ball_tree, leaf_size=10, n_neighbors=11, p=1;, score=0.801 total time=   0.4s\n",
      "[CV 2/5] END algorithm=ball_tree, leaf_size=10, n_neighbors=11, p=1;, score=0.792 total time=   0.4s\n",
      "[CV 3/5] END algorithm=ball_tree, leaf_size=10, n_neighbors=11, p=1;, score=0.803 total time=   0.4s\n",
      "[CV 4/5] END algorithm=ball_tree, leaf_size=10, n_neighbors=11, p=1;, score=0.806 total time=   0.4s\n",
      "[CV 5/5] END algorithm=ball_tree, leaf_size=10, n_neighbors=11, p=1;, score=0.800 total time=   0.4s\n",
      "[CV 1/5] END algorithm=ball_tree, leaf_size=10, n_neighbors=11, p=2;, score=0.799 total time=   0.4s\n",
      "[CV 2/5] END algorithm=ball_tree, leaf_size=10, n_neighbors=11, p=2;, score=0.792 total time=   0.3s\n",
      "[CV 3/5] END algorithm=ball_tree, leaf_size=10, n_neighbors=11, p=2;, score=0.806 total time=   0.4s\n",
      "[CV 4/5] END algorithm=ball_tree, leaf_size=10, n_neighbors=11, p=2;, score=0.800 total time=   0.2s\n",
      "[CV 5/5] END algorithm=ball_tree, leaf_size=10, n_neighbors=11, p=2;, score=0.806 total time=   0.1s\n",
      "[CV 1/5] END algorithm=ball_tree, leaf_size=17, n_neighbors=4, p=1;, score=0.804 total time=   0.1s\n",
      "[CV 2/5] END algorithm=ball_tree, leaf_size=17, n_neighbors=4, p=1;, score=0.803 total time=   0.1s\n",
      "[CV 3/5] END algorithm=ball_tree, leaf_size=17, n_neighbors=4, p=1;, score=0.806 total time=   0.1s\n",
      "[CV 4/5] END algorithm=ball_tree, leaf_size=17, n_neighbors=4, p=1;, score=0.810 total time=   0.1s\n",
      "[CV 5/5] END algorithm=ball_tree, leaf_size=17, n_neighbors=4, p=1;, score=0.815 total time=   0.2s\n",
      "[CV 1/5] END algorithm=ball_tree, leaf_size=17, n_neighbors=4, p=2;, score=0.803 total time=   0.1s\n",
      "[CV 2/5] END algorithm=ball_tree, leaf_size=17, n_neighbors=4, p=2;, score=0.797 total time=   0.1s\n",
      "[CV 3/5] END algorithm=ball_tree, leaf_size=17, n_neighbors=4, p=2;, score=0.800 total time=   0.1s\n",
      "[CV 4/5] END algorithm=ball_tree, leaf_size=17, n_neighbors=4, p=2;, score=0.807 total time=   0.2s\n",
      "[CV 5/5] END algorithm=ball_tree, leaf_size=17, n_neighbors=4, p=2;, score=0.809 total time=   0.3s\n",
      "[CV 1/5] END algorithm=ball_tree, leaf_size=17, n_neighbors=5, p=1;, score=0.802 total time=   0.4s\n",
      "[CV 2/5] END algorithm=ball_tree, leaf_size=17, n_neighbors=5, p=1;, score=0.799 total time=   0.3s\n",
      "[CV 3/5] END algorithm=ball_tree, leaf_size=17, n_neighbors=5, p=1;, score=0.812 total time=   0.4s\n",
      "[CV 4/5] END algorithm=ball_tree, leaf_size=17, n_neighbors=5, p=1;, score=0.809 total time=   0.3s\n",
      "[CV 5/5] END algorithm=ball_tree, leaf_size=17, n_neighbors=5, p=1;, score=0.813 total time=   0.3s\n",
      "[CV 1/5] END algorithm=ball_tree, leaf_size=17, n_neighbors=5, p=2;, score=0.801 total time=   0.3s\n",
      "[CV 2/5] END algorithm=ball_tree, leaf_size=17, n_neighbors=5, p=2;, score=0.794 total time=   0.3s\n",
      "[CV 3/5] END algorithm=ball_tree, leaf_size=17, n_neighbors=5, p=2;, score=0.802 total time=   0.3s\n",
      "[CV 4/5] END algorithm=ball_tree, leaf_size=17, n_neighbors=5, p=2;, score=0.804 total time=   0.3s\n",
      "[CV 5/5] END algorithm=ball_tree, leaf_size=17, n_neighbors=5, p=2;, score=0.809 total time=   0.3s\n",
      "[CV 1/5] END algorithm=ball_tree, leaf_size=17, n_neighbors=8, p=1;, score=0.799 total time=   0.4s\n",
      "[CV 2/5] END algorithm=ball_tree, leaf_size=17, n_neighbors=8, p=1;, score=0.792 total time=   0.3s\n",
      "[CV 3/5] END algorithm=ball_tree, leaf_size=17, n_neighbors=8, p=1;, score=0.804 total time=   0.3s\n",
      "[CV 4/5] END algorithm=ball_tree, leaf_size=17, n_neighbors=8, p=1;, score=0.812 total time=   0.3s\n",
      "[CV 5/5] END algorithm=ball_tree, leaf_size=17, n_neighbors=8, p=1;, score=0.812 total time=   0.3s\n",
      "[CV 1/5] END algorithm=ball_tree, leaf_size=17, n_neighbors=8, p=2;, score=0.799 total time=   0.4s\n",
      "[CV 2/5] END algorithm=ball_tree, leaf_size=17, n_neighbors=8, p=2;, score=0.794 total time=   0.3s\n",
      "[CV 3/5] END algorithm=ball_tree, leaf_size=17, n_neighbors=8, p=2;, score=0.806 total time=   0.3s\n",
      "[CV 4/5] END algorithm=ball_tree, leaf_size=17, n_neighbors=8, p=2;, score=0.806 total time=   0.3s\n",
      "[CV 5/5] END algorithm=ball_tree, leaf_size=17, n_neighbors=8, p=2;, score=0.806 total time=   0.3s\n",
      "[CV 1/5] END algorithm=ball_tree, leaf_size=17, n_neighbors=10, p=1;, score=0.800 total time=   0.4s\n",
      "[CV 2/5] END algorithm=ball_tree, leaf_size=17, n_neighbors=10, p=1;, score=0.792 total time=   0.4s\n",
      "[CV 3/5] END algorithm=ball_tree, leaf_size=17, n_neighbors=10, p=1;, score=0.801 total time=   0.4s\n",
      "[CV 4/5] END algorithm=ball_tree, leaf_size=17, n_neighbors=10, p=1;, score=0.810 total time=   0.4s\n",
      "[CV 5/5] END algorithm=ball_tree, leaf_size=17, n_neighbors=10, p=1;, score=0.800 total time=   0.4s\n",
      "[CV 1/5] END algorithm=ball_tree, leaf_size=17, n_neighbors=10, p=2;, score=0.796 total time=   0.4s\n",
      "[CV 2/5] END algorithm=ball_tree, leaf_size=17, n_neighbors=10, p=2;, score=0.791 total time=   0.4s\n",
      "[CV 3/5] END algorithm=ball_tree, leaf_size=17, n_neighbors=10, p=2;, score=0.802 total time=   0.4s\n",
      "[CV 4/5] END algorithm=ball_tree, leaf_size=17, n_neighbors=10, p=2;, score=0.806 total time=   0.4s\n",
      "[CV 5/5] END algorithm=ball_tree, leaf_size=17, n_neighbors=10, p=2;, score=0.805 total time=   0.3s\n",
      "[CV 1/5] END algorithm=ball_tree, leaf_size=17, n_neighbors=11, p=1;, score=0.801 total time=   0.1s\n",
      "[CV 2/5] END algorithm=ball_tree, leaf_size=17, n_neighbors=11, p=1;, score=0.792 total time=   0.1s\n",
      "[CV 3/5] END algorithm=ball_tree, leaf_size=17, n_neighbors=11, p=1;, score=0.803 total time=   0.1s\n",
      "[CV 4/5] END algorithm=ball_tree, leaf_size=17, n_neighbors=11, p=1;, score=0.806 total time=   0.1s\n",
      "[CV 5/5] END algorithm=ball_tree, leaf_size=17, n_neighbors=11, p=1;, score=0.800 total time=   0.1s\n",
      "[CV 1/5] END algorithm=ball_tree, leaf_size=17, n_neighbors=11, p=2;, score=0.799 total time=   0.2s\n",
      "[CV 2/5] END algorithm=ball_tree, leaf_size=17, n_neighbors=11, p=2;, score=0.792 total time=   0.2s\n",
      "[CV 3/5] END algorithm=ball_tree, leaf_size=17, n_neighbors=11, p=2;, score=0.806 total time=   0.1s\n",
      "[CV 4/5] END algorithm=ball_tree, leaf_size=17, n_neighbors=11, p=2;, score=0.800 total time=   0.1s\n",
      "[CV 5/5] END algorithm=ball_tree, leaf_size=17, n_neighbors=11, p=2;, score=0.806 total time=   0.1s\n",
      "[CV 1/5] END algorithm=ball_tree, leaf_size=24, n_neighbors=4, p=1;, score=0.804 total time=   0.3s\n",
      "[CV 2/5] END algorithm=ball_tree, leaf_size=24, n_neighbors=4, p=1;, score=0.803 total time=   0.4s\n",
      "[CV 3/5] END algorithm=ball_tree, leaf_size=24, n_neighbors=4, p=1;, score=0.806 total time=   0.3s\n",
      "[CV 4/5] END algorithm=ball_tree, leaf_size=24, n_neighbors=4, p=1;, score=0.810 total time=   0.2s\n",
      "[CV 5/5] END algorithm=ball_tree, leaf_size=24, n_neighbors=4, p=1;, score=0.815 total time=   0.3s\n",
      "[CV 1/5] END algorithm=ball_tree, leaf_size=24, n_neighbors=4, p=2;, score=0.803 total time=   0.3s\n",
      "[CV 2/5] END algorithm=ball_tree, leaf_size=24, n_neighbors=4, p=2;, score=0.797 total time=   0.4s\n",
      "[CV 3/5] END algorithm=ball_tree, leaf_size=24, n_neighbors=4, p=2;, score=0.800 total time=   0.3s\n",
      "[CV 4/5] END algorithm=ball_tree, leaf_size=24, n_neighbors=4, p=2;, score=0.807 total time=   0.3s\n",
      "[CV 5/5] END algorithm=ball_tree, leaf_size=24, n_neighbors=4, p=2;, score=0.809 total time=   0.3s\n",
      "[CV 1/5] END algorithm=ball_tree, leaf_size=24, n_neighbors=5, p=1;, score=0.802 total time=   0.4s\n",
      "[CV 2/5] END algorithm=ball_tree, leaf_size=24, n_neighbors=5, p=1;, score=0.799 total time=   0.4s\n",
      "[CV 3/5] END algorithm=ball_tree, leaf_size=24, n_neighbors=5, p=1;, score=0.812 total time=   0.4s\n",
      "[CV 4/5] END algorithm=ball_tree, leaf_size=24, n_neighbors=5, p=1;, score=0.809 total time=   0.4s\n",
      "[CV 5/5] END algorithm=ball_tree, leaf_size=24, n_neighbors=5, p=1;, score=0.813 total time=   0.4s\n",
      "[CV 1/5] END algorithm=ball_tree, leaf_size=24, n_neighbors=5, p=2;, score=0.801 total time=   0.4s\n",
      "[CV 2/5] END algorithm=ball_tree, leaf_size=24, n_neighbors=5, p=2;, score=0.794 total time=   0.4s\n",
      "[CV 3/5] END algorithm=ball_tree, leaf_size=24, n_neighbors=5, p=2;, score=0.802 total time=   0.4s\n",
      "[CV 4/5] END algorithm=ball_tree, leaf_size=24, n_neighbors=5, p=2;, score=0.804 total time=   0.3s\n",
      "[CV 5/5] END algorithm=ball_tree, leaf_size=24, n_neighbors=5, p=2;, score=0.809 total time=   0.4s\n",
      "[CV 1/5] END algorithm=ball_tree, leaf_size=24, n_neighbors=8, p=1;, score=0.799 total time=   0.3s\n",
      "[CV 2/5] END algorithm=ball_tree, leaf_size=24, n_neighbors=8, p=1;, score=0.792 total time=   0.3s\n",
      "[CV 3/5] END algorithm=ball_tree, leaf_size=24, n_neighbors=8, p=1;, score=0.804 total time=   0.3s\n",
      "[CV 4/5] END algorithm=ball_tree, leaf_size=24, n_neighbors=8, p=1;, score=0.812 total time=   0.3s\n",
      "[CV 5/5] END algorithm=ball_tree, leaf_size=24, n_neighbors=8, p=1;, score=0.812 total time=   0.2s\n",
      "[CV 1/5] END algorithm=ball_tree, leaf_size=24, n_neighbors=8, p=2;, score=0.799 total time=   0.2s\n",
      "[CV 2/5] END algorithm=ball_tree, leaf_size=24, n_neighbors=8, p=2;, score=0.794 total time=   0.3s\n",
      "[CV 3/5] END algorithm=ball_tree, leaf_size=24, n_neighbors=8, p=2;, score=0.806 total time=   0.2s\n",
      "[CV 4/5] END algorithm=ball_tree, leaf_size=24, n_neighbors=8, p=2;, score=0.806 total time=   0.2s\n",
      "[CV 5/5] END algorithm=ball_tree, leaf_size=24, n_neighbors=8, p=2;, score=0.806 total time=   0.2s\n",
      "[CV 1/5] END algorithm=ball_tree, leaf_size=24, n_neighbors=10, p=1;, score=0.800 total time=   0.4s\n",
      "[CV 2/5] END algorithm=ball_tree, leaf_size=24, n_neighbors=10, p=1;, score=0.792 total time=   0.4s\n",
      "[CV 3/5] END algorithm=ball_tree, leaf_size=24, n_neighbors=10, p=1;, score=0.801 total time=   0.2s\n",
      "[CV 4/5] END algorithm=ball_tree, leaf_size=24, n_neighbors=10, p=1;, score=0.810 total time=   0.1s\n",
      "[CV 5/5] END algorithm=ball_tree, leaf_size=24, n_neighbors=10, p=1;, score=0.800 total time=   0.1s\n",
      "[CV 1/5] END algorithm=ball_tree, leaf_size=24, n_neighbors=10, p=2;, score=0.796 total time=   0.1s\n",
      "[CV 2/5] END algorithm=ball_tree, leaf_size=24, n_neighbors=10, p=2;, score=0.791 total time=   0.1s\n",
      "[CV 3/5] END algorithm=ball_tree, leaf_size=24, n_neighbors=10, p=2;, score=0.802 total time=   0.1s\n",
      "[CV 4/5] END algorithm=ball_tree, leaf_size=24, n_neighbors=10, p=2;, score=0.806 total time=   0.2s\n",
      "[CV 5/5] END algorithm=ball_tree, leaf_size=24, n_neighbors=10, p=2;, score=0.805 total time=   0.2s\n",
      "[CV 1/5] END algorithm=ball_tree, leaf_size=24, n_neighbors=11, p=1;, score=0.801 total time=   0.1s\n",
      "[CV 2/5] END algorithm=ball_tree, leaf_size=24, n_neighbors=11, p=1;, score=0.792 total time=   0.1s\n",
      "[CV 3/5] END algorithm=ball_tree, leaf_size=24, n_neighbors=11, p=1;, score=0.803 total time=   0.1s\n",
      "[CV 4/5] END algorithm=ball_tree, leaf_size=24, n_neighbors=11, p=1;, score=0.806 total time=   0.4s\n",
      "[CV 5/5] END algorithm=ball_tree, leaf_size=24, n_neighbors=11, p=1;, score=0.800 total time=   0.4s\n",
      "[CV 1/5] END algorithm=ball_tree, leaf_size=24, n_neighbors=11, p=2;, score=0.799 total time=   0.3s\n",
      "[CV 2/5] END algorithm=ball_tree, leaf_size=24, n_neighbors=11, p=2;, score=0.792 total time=   0.4s\n",
      "[CV 3/5] END algorithm=ball_tree, leaf_size=24, n_neighbors=11, p=2;, score=0.806 total time=   0.3s\n",
      "[CV 4/5] END algorithm=ball_tree, leaf_size=24, n_neighbors=11, p=2;, score=0.800 total time=   0.4s\n",
      "[CV 5/5] END algorithm=ball_tree, leaf_size=24, n_neighbors=11, p=2;, score=0.806 total time=   0.3s\n",
      "[CV 1/5] END algorithm=ball_tree, leaf_size=28, n_neighbors=4, p=1;, score=0.804 total time=   0.3s\n",
      "[CV 2/5] END algorithm=ball_tree, leaf_size=28, n_neighbors=4, p=1;, score=0.803 total time=   0.3s\n",
      "[CV 3/5] END algorithm=ball_tree, leaf_size=28, n_neighbors=4, p=1;, score=0.806 total time=   0.4s\n",
      "[CV 4/5] END algorithm=ball_tree, leaf_size=28, n_neighbors=4, p=1;, score=0.810 total time=   0.4s\n",
      "[CV 5/5] END algorithm=ball_tree, leaf_size=28, n_neighbors=4, p=1;, score=0.815 total time=   0.4s\n",
      "[CV 1/5] END algorithm=ball_tree, leaf_size=28, n_neighbors=4, p=2;, score=0.803 total time=   0.4s\n",
      "[CV 2/5] END algorithm=ball_tree, leaf_size=28, n_neighbors=4, p=2;, score=0.797 total time=   0.4s\n",
      "[CV 3/5] END algorithm=ball_tree, leaf_size=28, n_neighbors=4, p=2;, score=0.800 total time=   0.3s\n",
      "[CV 4/5] END algorithm=ball_tree, leaf_size=28, n_neighbors=4, p=2;, score=0.807 total time=   0.3s\n",
      "[CV 5/5] END algorithm=ball_tree, leaf_size=28, n_neighbors=4, p=2;, score=0.809 total time=   0.3s\n",
      "[CV 1/5] END algorithm=ball_tree, leaf_size=28, n_neighbors=5, p=1;, score=0.802 total time=   0.4s\n",
      "[CV 2/5] END algorithm=ball_tree, leaf_size=28, n_neighbors=5, p=1;, score=0.799 total time=   0.3s\n",
      "[CV 3/5] END algorithm=ball_tree, leaf_size=28, n_neighbors=5, p=1;, score=0.812 total time=   0.3s\n",
      "[CV 4/5] END algorithm=ball_tree, leaf_size=28, n_neighbors=5, p=1;, score=0.809 total time=   0.4s\n",
      "[CV 5/5] END algorithm=ball_tree, leaf_size=28, n_neighbors=5, p=1;, score=0.813 total time=   0.4s\n",
      "[CV 1/5] END algorithm=ball_tree, leaf_size=28, n_neighbors=5, p=2;, score=0.801 total time=   0.4s\n",
      "[CV 2/5] END algorithm=ball_tree, leaf_size=28, n_neighbors=5, p=2;, score=0.794 total time=   0.4s\n",
      "[CV 3/5] END algorithm=ball_tree, leaf_size=28, n_neighbors=5, p=2;, score=0.802 total time=   0.3s\n",
      "[CV 4/5] END algorithm=ball_tree, leaf_size=28, n_neighbors=5, p=2;, score=0.804 total time=   0.3s\n",
      "[CV 5/5] END algorithm=ball_tree, leaf_size=28, n_neighbors=5, p=2;, score=0.809 total time=   0.3s\n",
      "[CV 1/5] END algorithm=ball_tree, leaf_size=28, n_neighbors=8, p=1;, score=0.799 total time=   0.4s\n",
      "[CV 2/5] END algorithm=ball_tree, leaf_size=28, n_neighbors=8, p=1;, score=0.792 total time=   0.4s\n",
      "[CV 3/5] END algorithm=ball_tree, leaf_size=28, n_neighbors=8, p=1;, score=0.804 total time=   0.4s\n",
      "[CV 4/5] END algorithm=ball_tree, leaf_size=28, n_neighbors=8, p=1;, score=0.812 total time=   0.2s\n",
      "[CV 5/5] END algorithm=ball_tree, leaf_size=28, n_neighbors=8, p=1;, score=0.812 total time=   0.1s\n",
      "[CV 1/5] END algorithm=ball_tree, leaf_size=28, n_neighbors=8, p=2;, score=0.799 total time=   0.1s\n",
      "[CV 2/5] END algorithm=ball_tree, leaf_size=28, n_neighbors=8, p=2;, score=0.794 total time=   0.1s\n",
      "[CV 3/5] END algorithm=ball_tree, leaf_size=28, n_neighbors=8, p=2;, score=0.806 total time=   0.1s\n",
      "[CV 4/5] END algorithm=ball_tree, leaf_size=28, n_neighbors=8, p=2;, score=0.806 total time=   0.1s\n",
      "[CV 5/5] END algorithm=ball_tree, leaf_size=28, n_neighbors=8, p=2;, score=0.806 total time=   0.1s\n",
      "[CV 1/5] END algorithm=ball_tree, leaf_size=28, n_neighbors=10, p=1;, score=0.800 total time=   0.2s\n",
      "[CV 2/5] END algorithm=ball_tree, leaf_size=28, n_neighbors=10, p=1;, score=0.792 total time=   0.1s\n",
      "[CV 3/5] END algorithm=ball_tree, leaf_size=28, n_neighbors=10, p=1;, score=0.801 total time=   0.1s\n",
      "[CV 4/5] END algorithm=ball_tree, leaf_size=28, n_neighbors=10, p=1;, score=0.810 total time=   0.1s\n",
      "[CV 5/5] END algorithm=ball_tree, leaf_size=28, n_neighbors=10, p=1;, score=0.800 total time=   0.3s\n",
      "[CV 1/5] END algorithm=ball_tree, leaf_size=28, n_neighbors=10, p=2;, score=0.796 total time=   0.3s\n",
      "[CV 2/5] END algorithm=ball_tree, leaf_size=28, n_neighbors=10, p=2;, score=0.791 total time=   0.3s\n",
      "[CV 3/5] END algorithm=ball_tree, leaf_size=28, n_neighbors=10, p=2;, score=0.802 total time=   0.4s\n",
      "[CV 4/5] END algorithm=ball_tree, leaf_size=28, n_neighbors=10, p=2;, score=0.806 total time=   0.3s\n",
      "[CV 5/5] END algorithm=ball_tree, leaf_size=28, n_neighbors=10, p=2;, score=0.805 total time=   0.3s\n",
      "[CV 1/5] END algorithm=ball_tree, leaf_size=28, n_neighbors=11, p=1;, score=0.801 total time=   0.4s\n",
      "[CV 2/5] END algorithm=ball_tree, leaf_size=28, n_neighbors=11, p=1;, score=0.792 total time=   0.3s\n",
      "[CV 3/5] END algorithm=ball_tree, leaf_size=28, n_neighbors=11, p=1;, score=0.803 total time=   0.4s\n",
      "[CV 4/5] END algorithm=ball_tree, leaf_size=28, n_neighbors=11, p=1;, score=0.806 total time=   0.3s\n",
      "[CV 5/5] END algorithm=ball_tree, leaf_size=28, n_neighbors=11, p=1;, score=0.800 total time=   0.4s\n",
      "[CV 1/5] END algorithm=ball_tree, leaf_size=28, n_neighbors=11, p=2;, score=0.799 total time=   0.4s\n",
      "[CV 2/5] END algorithm=ball_tree, leaf_size=28, n_neighbors=11, p=2;, score=0.792 total time=   0.4s\n",
      "[CV 3/5] END algorithm=ball_tree, leaf_size=28, n_neighbors=11, p=2;, score=0.806 total time=   0.4s\n",
      "[CV 4/5] END algorithm=ball_tree, leaf_size=28, n_neighbors=11, p=2;, score=0.800 total time=   0.4s\n",
      "[CV 5/5] END algorithm=ball_tree, leaf_size=28, n_neighbors=11, p=2;, score=0.806 total time=   0.4s\n",
      "[CV 1/5] END algorithm=ball_tree, leaf_size=30, n_neighbors=4, p=1;, score=0.804 total time=   0.4s\n",
      "[CV 2/5] END algorithm=ball_tree, leaf_size=30, n_neighbors=4, p=1;, score=0.803 total time=   0.4s\n",
      "[CV 3/5] END algorithm=ball_tree, leaf_size=30, n_neighbors=4, p=1;, score=0.806 total time=   0.4s\n",
      "[CV 4/5] END algorithm=ball_tree, leaf_size=30, n_neighbors=4, p=1;, score=0.810 total time=   0.5s\n",
      "[CV 5/5] END algorithm=ball_tree, leaf_size=30, n_neighbors=4, p=1;, score=0.815 total time=   0.5s\n",
      "[CV 1/5] END algorithm=ball_tree, leaf_size=30, n_neighbors=4, p=2;, score=0.803 total time=   0.5s\n",
      "[CV 2/5] END algorithm=ball_tree, leaf_size=30, n_neighbors=4, p=2;, score=0.797 total time=   0.3s\n",
      "[CV 3/5] END algorithm=ball_tree, leaf_size=30, n_neighbors=4, p=2;, score=0.800 total time=   0.3s\n",
      "[CV 4/5] END algorithm=ball_tree, leaf_size=30, n_neighbors=4, p=2;, score=0.807 total time=   0.3s\n",
      "[CV 5/5] END algorithm=ball_tree, leaf_size=30, n_neighbors=4, p=2;, score=0.809 total time=   0.3s\n",
      "[CV 1/5] END algorithm=ball_tree, leaf_size=30, n_neighbors=5, p=1;, score=0.802 total time=   0.4s\n",
      "[CV 2/5] END algorithm=ball_tree, leaf_size=30, n_neighbors=5, p=1;, score=0.799 total time=   0.4s\n",
      "[CV 3/5] END algorithm=ball_tree, leaf_size=30, n_neighbors=5, p=1;, score=0.812 total time=   0.4s\n",
      "[CV 4/5] END algorithm=ball_tree, leaf_size=30, n_neighbors=5, p=1;, score=0.809 total time=   0.3s\n",
      "[CV 5/5] END algorithm=ball_tree, leaf_size=30, n_neighbors=5, p=1;, score=0.813 total time=   0.1s\n",
      "[CV 1/5] END algorithm=ball_tree, leaf_size=30, n_neighbors=5, p=2;, score=0.801 total time=   0.1s\n",
      "[CV 2/5] END algorithm=ball_tree, leaf_size=30, n_neighbors=5, p=2;, score=0.794 total time=   0.1s\n",
      "[CV 3/5] END algorithm=ball_tree, leaf_size=30, n_neighbors=5, p=2;, score=0.802 total time=   0.1s\n",
      "[CV 4/5] END algorithm=ball_tree, leaf_size=30, n_neighbors=5, p=2;, score=0.804 total time=   0.2s\n",
      "[CV 5/5] END algorithm=ball_tree, leaf_size=30, n_neighbors=5, p=2;, score=0.809 total time=   0.1s\n",
      "[CV 1/5] END algorithm=ball_tree, leaf_size=30, n_neighbors=8, p=1;, score=0.799 total time=   0.3s\n",
      "[CV 2/5] END algorithm=ball_tree, leaf_size=30, n_neighbors=8, p=1;, score=0.792 total time=   0.1s\n",
      "[CV 3/5] END algorithm=ball_tree, leaf_size=30, n_neighbors=8, p=1;, score=0.804 total time=   0.1s\n",
      "[CV 4/5] END algorithm=ball_tree, leaf_size=30, n_neighbors=8, p=1;, score=0.812 total time=   0.1s\n",
      "[CV 5/5] END algorithm=ball_tree, leaf_size=30, n_neighbors=8, p=1;, score=0.812 total time=   0.3s\n",
      "[CV 1/5] END algorithm=ball_tree, leaf_size=30, n_neighbors=8, p=2;, score=0.799 total time=   0.4s\n",
      "[CV 2/5] END algorithm=ball_tree, leaf_size=30, n_neighbors=8, p=2;, score=0.794 total time=   0.3s\n",
      "[CV 3/5] END algorithm=ball_tree, leaf_size=30, n_neighbors=8, p=2;, score=0.806 total time=   0.4s\n",
      "[CV 4/5] END algorithm=ball_tree, leaf_size=30, n_neighbors=8, p=2;, score=0.806 total time=   0.4s\n",
      "[CV 5/5] END algorithm=ball_tree, leaf_size=30, n_neighbors=8, p=2;, score=0.806 total time=   0.3s\n",
      "[CV 1/5] END algorithm=ball_tree, leaf_size=30, n_neighbors=10, p=1;, score=0.800 total time=   0.4s\n",
      "[CV 2/5] END algorithm=ball_tree, leaf_size=30, n_neighbors=10, p=1;, score=0.792 total time=   0.4s\n",
      "[CV 3/5] END algorithm=ball_tree, leaf_size=30, n_neighbors=10, p=1;, score=0.801 total time=   0.4s\n",
      "[CV 4/5] END algorithm=ball_tree, leaf_size=30, n_neighbors=10, p=1;, score=0.810 total time=   0.4s\n",
      "[CV 5/5] END algorithm=ball_tree, leaf_size=30, n_neighbors=10, p=1;, score=0.800 total time=   0.4s\n",
      "[CV 1/5] END algorithm=ball_tree, leaf_size=30, n_neighbors=10, p=2;, score=0.796 total time=   0.4s\n",
      "[CV 2/5] END algorithm=ball_tree, leaf_size=30, n_neighbors=10, p=2;, score=0.791 total time=   0.4s\n",
      "[CV 3/5] END algorithm=ball_tree, leaf_size=30, n_neighbors=10, p=2;, score=0.802 total time=   0.3s\n",
      "[CV 4/5] END algorithm=ball_tree, leaf_size=30, n_neighbors=10, p=2;, score=0.806 total time=   0.3s\n",
      "[CV 5/5] END algorithm=ball_tree, leaf_size=30, n_neighbors=10, p=2;, score=0.805 total time=   0.4s\n",
      "[CV 1/5] END algorithm=ball_tree, leaf_size=30, n_neighbors=11, p=1;, score=0.801 total time=   0.4s\n",
      "[CV 2/5] END algorithm=ball_tree, leaf_size=30, n_neighbors=11, p=1;, score=0.792 total time=   0.4s\n",
      "[CV 3/5] END algorithm=ball_tree, leaf_size=30, n_neighbors=11, p=1;, score=0.803 total time=   0.4s\n",
      "[CV 4/5] END algorithm=ball_tree, leaf_size=30, n_neighbors=11, p=1;, score=0.806 total time=   0.4s\n",
      "[CV 5/5] END algorithm=ball_tree, leaf_size=30, n_neighbors=11, p=1;, score=0.800 total time=   0.4s\n",
      "[CV 1/5] END algorithm=ball_tree, leaf_size=30, n_neighbors=11, p=2;, score=0.799 total time=   0.4s\n",
      "[CV 2/5] END algorithm=ball_tree, leaf_size=30, n_neighbors=11, p=2;, score=0.792 total time=   0.4s\n",
      "[CV 3/5] END algorithm=ball_tree, leaf_size=30, n_neighbors=11, p=2;, score=0.806 total time=   0.4s\n",
      "[CV 4/5] END algorithm=ball_tree, leaf_size=30, n_neighbors=11, p=2;, score=0.800 total time=   0.4s\n",
      "[CV 5/5] END algorithm=ball_tree, leaf_size=30, n_neighbors=11, p=2;, score=0.806 total time=   0.4s\n",
      "[CV 1/5] END algorithm=ball_tree, leaf_size=35, n_neighbors=4, p=1;, score=0.804 total time=   0.4s\n",
      "[CV 2/5] END algorithm=ball_tree, leaf_size=35, n_neighbors=4, p=1;, score=0.803 total time=   0.4s\n",
      "[CV 3/5] END algorithm=ball_tree, leaf_size=35, n_neighbors=4, p=1;, score=0.806 total time=   0.4s\n",
      "[CV 4/5] END algorithm=ball_tree, leaf_size=35, n_neighbors=4, p=1;, score=0.810 total time=   0.3s\n",
      "[CV 5/5] END algorithm=ball_tree, leaf_size=35, n_neighbors=4, p=1;, score=0.815 total time=   0.2s\n",
      "[CV 1/5] END algorithm=ball_tree, leaf_size=35, n_neighbors=4, p=2;, score=0.803 total time=   0.1s\n",
      "[CV 2/5] END algorithm=ball_tree, leaf_size=35, n_neighbors=4, p=2;, score=0.797 total time=   0.1s\n",
      "[CV 3/5] END algorithm=ball_tree, leaf_size=35, n_neighbors=4, p=2;, score=0.800 total time=   0.1s\n",
      "[CV 4/5] END algorithm=ball_tree, leaf_size=35, n_neighbors=4, p=2;, score=0.807 total time=   0.1s\n",
      "[CV 5/5] END algorithm=ball_tree, leaf_size=35, n_neighbors=4, p=2;, score=0.809 total time=   0.1s\n",
      "[CV 1/5] END algorithm=ball_tree, leaf_size=35, n_neighbors=5, p=1;, score=0.802 total time=   0.1s\n",
      "[CV 2/5] END algorithm=ball_tree, leaf_size=35, n_neighbors=5, p=1;, score=0.799 total time=   0.2s\n",
      "[CV 3/5] END algorithm=ball_tree, leaf_size=35, n_neighbors=5, p=1;, score=0.812 total time=   0.1s\n",
      "[CV 4/5] END algorithm=ball_tree, leaf_size=35, n_neighbors=5, p=1;, score=0.809 total time=   0.1s\n",
      "[CV 5/5] END algorithm=ball_tree, leaf_size=35, n_neighbors=5, p=1;, score=0.813 total time=   0.1s\n",
      "[CV 1/5] END algorithm=ball_tree, leaf_size=35, n_neighbors=5, p=2;, score=0.801 total time=   0.3s\n",
      "[CV 2/5] END algorithm=ball_tree, leaf_size=35, n_neighbors=5, p=2;, score=0.794 total time=   0.3s\n",
      "[CV 3/5] END algorithm=ball_tree, leaf_size=35, n_neighbors=5, p=2;, score=0.802 total time=   0.3s\n",
      "[CV 4/5] END algorithm=ball_tree, leaf_size=35, n_neighbors=5, p=2;, score=0.804 total time=   0.3s\n",
      "[CV 5/5] END algorithm=ball_tree, leaf_size=35, n_neighbors=5, p=2;, score=0.809 total time=   0.3s\n",
      "[CV 1/5] END algorithm=ball_tree, leaf_size=35, n_neighbors=8, p=1;, score=0.799 total time=   0.3s\n",
      "[CV 2/5] END algorithm=ball_tree, leaf_size=35, n_neighbors=8, p=1;, score=0.792 total time=   0.4s\n",
      "[CV 3/5] END algorithm=ball_tree, leaf_size=35, n_neighbors=8, p=1;, score=0.804 total time=   0.4s\n",
      "[CV 4/5] END algorithm=ball_tree, leaf_size=35, n_neighbors=8, p=1;, score=0.812 total time=   0.4s\n",
      "[CV 5/5] END algorithm=ball_tree, leaf_size=35, n_neighbors=8, p=1;, score=0.812 total time=   0.4s\n",
      "[CV 1/5] END algorithm=ball_tree, leaf_size=35, n_neighbors=8, p=2;, score=0.799 total time=   0.3s\n",
      "[CV 2/5] END algorithm=ball_tree, leaf_size=35, n_neighbors=8, p=2;, score=0.794 total time=   0.3s\n",
      "[CV 3/5] END algorithm=ball_tree, leaf_size=35, n_neighbors=8, p=2;, score=0.806 total time=   0.3s\n",
      "[CV 4/5] END algorithm=ball_tree, leaf_size=35, n_neighbors=8, p=2;, score=0.806 total time=   0.3s\n",
      "[CV 5/5] END algorithm=ball_tree, leaf_size=35, n_neighbors=8, p=2;, score=0.806 total time=   0.3s\n",
      "[CV 1/5] END algorithm=ball_tree, leaf_size=35, n_neighbors=10, p=1;, score=0.800 total time=   0.4s\n",
      "[CV 2/5] END algorithm=ball_tree, leaf_size=35, n_neighbors=10, p=1;, score=0.792 total time=   0.4s\n",
      "[CV 3/5] END algorithm=ball_tree, leaf_size=35, n_neighbors=10, p=1;, score=0.801 total time=   0.4s\n",
      "[CV 4/5] END algorithm=ball_tree, leaf_size=35, n_neighbors=10, p=1;, score=0.810 total time=   0.4s\n",
      "[CV 5/5] END algorithm=ball_tree, leaf_size=35, n_neighbors=10, p=1;, score=0.800 total time=   0.4s\n",
      "[CV 1/5] END algorithm=ball_tree, leaf_size=35, n_neighbors=10, p=2;, score=0.796 total time=   0.4s\n",
      "[CV 2/5] END algorithm=ball_tree, leaf_size=35, n_neighbors=10, p=2;, score=0.791 total time=   0.3s\n",
      "[CV 3/5] END algorithm=ball_tree, leaf_size=35, n_neighbors=10, p=2;, score=0.802 total time=   0.4s\n",
      "[CV 4/5] END algorithm=ball_tree, leaf_size=35, n_neighbors=10, p=2;, score=0.806 total time=   0.4s\n",
      "[CV 5/5] END algorithm=ball_tree, leaf_size=35, n_neighbors=10, p=2;, score=0.805 total time=   0.3s\n",
      "[CV 1/5] END algorithm=ball_tree, leaf_size=35, n_neighbors=11, p=1;, score=0.801 total time=   0.4s\n",
      "[CV 2/5] END algorithm=ball_tree, leaf_size=35, n_neighbors=11, p=1;, score=0.792 total time=   0.4s\n",
      "[CV 3/5] END algorithm=ball_tree, leaf_size=35, n_neighbors=11, p=1;, score=0.803 total time=   0.4s\n",
      "[CV 4/5] END algorithm=ball_tree, leaf_size=35, n_neighbors=11, p=1;, score=0.806 total time=   0.4s\n",
      "[CV 5/5] END algorithm=ball_tree, leaf_size=35, n_neighbors=11, p=1;, score=0.800 total time=   0.4s\n",
      "[CV 1/5] END algorithm=ball_tree, leaf_size=35, n_neighbors=11, p=2;, score=0.799 total time=   0.2s\n",
      "[CV 2/5] END algorithm=ball_tree, leaf_size=35, n_neighbors=11, p=2;, score=0.792 total time=   0.1s\n",
      "[CV 3/5] END algorithm=ball_tree, leaf_size=35, n_neighbors=11, p=2;, score=0.806 total time=   0.1s\n",
      "[CV 4/5] END algorithm=ball_tree, leaf_size=35, n_neighbors=11, p=2;, score=0.800 total time=   0.1s\n",
      "[CV 5/5] END algorithm=ball_tree, leaf_size=35, n_neighbors=11, p=2;, score=0.806 total time=   0.1s\n",
      "[CV 1/5] END algorithm=kd_tree, leaf_size=10, n_neighbors=4, p=1;, score=0.804 total time=   0.1s\n",
      "[CV 2/5] END algorithm=kd_tree, leaf_size=10, n_neighbors=4, p=1;, score=0.803 total time=   0.1s\n",
      "[CV 3/5] END algorithm=kd_tree, leaf_size=10, n_neighbors=4, p=1;, score=0.806 total time=   0.2s\n",
      "[CV 4/5] END algorithm=kd_tree, leaf_size=10, n_neighbors=4, p=1;, score=0.810 total time=   0.1s\n",
      "[CV 5/5] END algorithm=kd_tree, leaf_size=10, n_neighbors=4, p=1;, score=0.815 total time=   0.1s\n",
      "[CV 1/5] END algorithm=kd_tree, leaf_size=10, n_neighbors=4, p=2;, score=0.803 total time=   0.2s\n",
      "[CV 2/5] END algorithm=kd_tree, leaf_size=10, n_neighbors=4, p=2;, score=0.797 total time=   0.4s\n",
      "[CV 3/5] END algorithm=kd_tree, leaf_size=10, n_neighbors=4, p=2;, score=0.800 total time=   0.3s\n",
      "[CV 4/5] END algorithm=kd_tree, leaf_size=10, n_neighbors=4, p=2;, score=0.807 total time=   0.4s\n",
      "[CV 5/5] END algorithm=kd_tree, leaf_size=10, n_neighbors=4, p=2;, score=0.809 total time=   0.4s\n",
      "[CV 1/5] END algorithm=kd_tree, leaf_size=10, n_neighbors=5, p=1;, score=0.802 total time=   0.4s\n",
      "[CV 2/5] END algorithm=kd_tree, leaf_size=10, n_neighbors=5, p=1;, score=0.799 total time=   0.3s\n",
      "[CV 3/5] END algorithm=kd_tree, leaf_size=10, n_neighbors=5, p=1;, score=0.813 total time=   0.3s\n",
      "[CV 4/5] END algorithm=kd_tree, leaf_size=10, n_neighbors=5, p=1;, score=0.809 total time=   0.3s\n",
      "[CV 5/5] END algorithm=kd_tree, leaf_size=10, n_neighbors=5, p=1;, score=0.813 total time=   0.3s\n",
      "[CV 1/5] END algorithm=kd_tree, leaf_size=10, n_neighbors=5, p=2;, score=0.801 total time=   0.4s\n",
      "[CV 2/5] END algorithm=kd_tree, leaf_size=10, n_neighbors=5, p=2;, score=0.794 total time=   0.4s\n",
      "[CV 3/5] END algorithm=kd_tree, leaf_size=10, n_neighbors=5, p=2;, score=0.802 total time=   0.3s\n",
      "[CV 4/5] END algorithm=kd_tree, leaf_size=10, n_neighbors=5, p=2;, score=0.804 total time=   0.4s\n",
      "[CV 5/5] END algorithm=kd_tree, leaf_size=10, n_neighbors=5, p=2;, score=0.809 total time=   0.4s\n",
      "[CV 1/5] END algorithm=kd_tree, leaf_size=10, n_neighbors=8, p=1;, score=0.799 total time=   0.4s\n",
      "[CV 2/5] END algorithm=kd_tree, leaf_size=10, n_neighbors=8, p=1;, score=0.792 total time=   0.3s\n",
      "[CV 3/5] END algorithm=kd_tree, leaf_size=10, n_neighbors=8, p=1;, score=0.804 total time=   0.3s\n",
      "[CV 4/5] END algorithm=kd_tree, leaf_size=10, n_neighbors=8, p=1;, score=0.812 total time=   0.4s\n",
      "[CV 5/5] END algorithm=kd_tree, leaf_size=10, n_neighbors=8, p=1;, score=0.812 total time=   0.3s\n",
      "[CV 1/5] END algorithm=kd_tree, leaf_size=10, n_neighbors=8, p=2;, score=0.799 total time=   0.5s\n",
      "[CV 2/5] END algorithm=kd_tree, leaf_size=10, n_neighbors=8, p=2;, score=0.794 total time=   0.4s\n",
      "[CV 3/5] END algorithm=kd_tree, leaf_size=10, n_neighbors=8, p=2;, score=0.806 total time=   0.4s\n",
      "[CV 4/5] END algorithm=kd_tree, leaf_size=10, n_neighbors=8, p=2;, score=0.806 total time=   0.5s\n",
      "[CV 5/5] END algorithm=kd_tree, leaf_size=10, n_neighbors=8, p=2;, score=0.806 total time=   0.5s\n",
      "[CV 1/5] END algorithm=kd_tree, leaf_size=10, n_neighbors=10, p=1;, score=0.800 total time=   0.3s\n",
      "[CV 2/5] END algorithm=kd_tree, leaf_size=10, n_neighbors=10, p=1;, score=0.792 total time=   0.4s\n",
      "[CV 3/5] END algorithm=kd_tree, leaf_size=10, n_neighbors=10, p=1;, score=0.801 total time=   0.4s\n",
      "[CV 4/5] END algorithm=kd_tree, leaf_size=10, n_neighbors=10, p=1;, score=0.810 total time=   0.4s\n",
      "[CV 5/5] END algorithm=kd_tree, leaf_size=10, n_neighbors=10, p=1;, score=0.800 total time=   0.3s\n",
      "[CV 1/5] END algorithm=kd_tree, leaf_size=10, n_neighbors=10, p=2;, score=0.796 total time=   0.1s\n",
      "[CV 2/5] END algorithm=kd_tree, leaf_size=10, n_neighbors=10, p=2;, score=0.791 total time=   0.2s\n",
      "[CV 3/5] END algorithm=kd_tree, leaf_size=10, n_neighbors=10, p=2;, score=0.802 total time=   0.1s\n",
      "[CV 4/5] END algorithm=kd_tree, leaf_size=10, n_neighbors=10, p=2;, score=0.806 total time=   0.2s\n",
      "[CV 5/5] END algorithm=kd_tree, leaf_size=10, n_neighbors=10, p=2;, score=0.805 total time=   0.2s\n",
      "[CV 1/5] END algorithm=kd_tree, leaf_size=10, n_neighbors=11, p=1;, score=0.801 total time=   0.2s\n",
      "[CV 2/5] END algorithm=kd_tree, leaf_size=10, n_neighbors=11, p=1;, score=0.792 total time=   0.1s\n",
      "[CV 3/5] END algorithm=kd_tree, leaf_size=10, n_neighbors=11, p=1;, score=0.803 total time=   0.1s\n",
      "[CV 4/5] END algorithm=kd_tree, leaf_size=10, n_neighbors=11, p=1;, score=0.806 total time=   0.1s\n",
      "[CV 5/5] END algorithm=kd_tree, leaf_size=10, n_neighbors=11, p=1;, score=0.800 total time=   0.4s\n",
      "[CV 1/5] END algorithm=kd_tree, leaf_size=10, n_neighbors=11, p=2;, score=0.799 total time=   0.4s\n",
      "[CV 2/5] END algorithm=kd_tree, leaf_size=10, n_neighbors=11, p=2;, score=0.792 total time=   0.4s\n",
      "[CV 3/5] END algorithm=kd_tree, leaf_size=10, n_neighbors=11, p=2;, score=0.806 total time=   0.4s\n",
      "[CV 4/5] END algorithm=kd_tree, leaf_size=10, n_neighbors=11, p=2;, score=0.800 total time=   0.4s\n",
      "[CV 5/5] END algorithm=kd_tree, leaf_size=10, n_neighbors=11, p=2;, score=0.806 total time=   0.5s\n",
      "[CV 1/5] END algorithm=kd_tree, leaf_size=17, n_neighbors=4, p=1;, score=0.804 total time=   0.3s\n",
      "[CV 2/5] END algorithm=kd_tree, leaf_size=17, n_neighbors=4, p=1;, score=0.803 total time=   0.3s\n",
      "[CV 3/5] END algorithm=kd_tree, leaf_size=17, n_neighbors=4, p=1;, score=0.806 total time=   0.3s\n",
      "[CV 4/5] END algorithm=kd_tree, leaf_size=17, n_neighbors=4, p=1;, score=0.810 total time=   0.3s\n",
      "[CV 5/5] END algorithm=kd_tree, leaf_size=17, n_neighbors=4, p=1;, score=0.815 total time=   0.3s\n",
      "[CV 1/5] END algorithm=kd_tree, leaf_size=17, n_neighbors=4, p=2;, score=0.803 total time=   0.4s\n",
      "[CV 2/5] END algorithm=kd_tree, leaf_size=17, n_neighbors=4, p=2;, score=0.797 total time=   0.4s\n",
      "[CV 3/5] END algorithm=kd_tree, leaf_size=17, n_neighbors=4, p=2;, score=0.800 total time=   0.3s\n",
      "[CV 4/5] END algorithm=kd_tree, leaf_size=17, n_neighbors=4, p=2;, score=0.807 total time=   0.4s\n",
      "[CV 5/5] END algorithm=kd_tree, leaf_size=17, n_neighbors=4, p=2;, score=0.809 total time=   0.4s\n",
      "[CV 1/5] END algorithm=kd_tree, leaf_size=17, n_neighbors=5, p=1;, score=0.802 total time=   0.3s\n",
      "[CV 2/5] END algorithm=kd_tree, leaf_size=17, n_neighbors=5, p=1;, score=0.799 total time=   0.3s\n",
      "[CV 3/5] END algorithm=kd_tree, leaf_size=17, n_neighbors=5, p=1;, score=0.813 total time=   0.3s\n",
      "[CV 4/5] END algorithm=kd_tree, leaf_size=17, n_neighbors=5, p=1;, score=0.809 total time=   0.3s\n",
      "[CV 5/5] END algorithm=kd_tree, leaf_size=17, n_neighbors=5, p=1;, score=0.813 total time=   0.3s\n",
      "[CV 1/5] END algorithm=kd_tree, leaf_size=17, n_neighbors=5, p=2;, score=0.801 total time=   0.4s\n",
      "[CV 2/5] END algorithm=kd_tree, leaf_size=17, n_neighbors=5, p=2;, score=0.794 total time=   0.4s\n",
      "[CV 3/5] END algorithm=kd_tree, leaf_size=17, n_neighbors=5, p=2;, score=0.802 total time=   0.3s\n",
      "[CV 4/5] END algorithm=kd_tree, leaf_size=17, n_neighbors=5, p=2;, score=0.804 total time=   0.4s\n",
      "[CV 5/5] END algorithm=kd_tree, leaf_size=17, n_neighbors=5, p=2;, score=0.809 total time=   0.5s\n",
      "[CV 1/5] END algorithm=kd_tree, leaf_size=17, n_neighbors=8, p=1;, score=0.799 total time=   0.4s\n",
      "[CV 2/5] END algorithm=kd_tree, leaf_size=17, n_neighbors=8, p=1;, score=0.792 total time=   0.3s\n",
      "[CV 3/5] END algorithm=kd_tree, leaf_size=17, n_neighbors=8, p=1;, score=0.804 total time=   0.2s\n",
      "[CV 4/5] END algorithm=kd_tree, leaf_size=17, n_neighbors=8, p=1;, score=0.812 total time=   0.1s\n",
      "[CV 5/5] END algorithm=kd_tree, leaf_size=17, n_neighbors=8, p=1;, score=0.812 total time=   0.1s\n",
      "[CV 1/5] END algorithm=kd_tree, leaf_size=17, n_neighbors=8, p=2;, score=0.799 total time=   0.1s\n",
      "[CV 2/5] END algorithm=kd_tree, leaf_size=17, n_neighbors=8, p=2;, score=0.794 total time=   0.1s\n",
      "[CV 3/5] END algorithm=kd_tree, leaf_size=17, n_neighbors=8, p=2;, score=0.806 total time=   0.1s\n",
      "[CV 4/5] END algorithm=kd_tree, leaf_size=17, n_neighbors=8, p=2;, score=0.806 total time=   0.2s\n",
      "[CV 5/5] END algorithm=kd_tree, leaf_size=17, n_neighbors=8, p=2;, score=0.806 total time=   0.1s\n",
      "[CV 1/5] END algorithm=kd_tree, leaf_size=17, n_neighbors=10, p=1;, score=0.800 total time=   0.1s\n",
      "[CV 2/5] END algorithm=kd_tree, leaf_size=17, n_neighbors=10, p=1;, score=0.792 total time=   0.1s\n",
      "[CV 3/5] END algorithm=kd_tree, leaf_size=17, n_neighbors=10, p=1;, score=0.801 total time=   0.2s\n",
      "[CV 4/5] END algorithm=kd_tree, leaf_size=17, n_neighbors=10, p=1;, score=0.810 total time=   0.4s\n",
      "[CV 5/5] END algorithm=kd_tree, leaf_size=17, n_neighbors=10, p=1;, score=0.800 total time=   0.3s\n",
      "[CV 1/5] END algorithm=kd_tree, leaf_size=17, n_neighbors=10, p=2;, score=0.796 total time=   0.4s\n",
      "[CV 2/5] END algorithm=kd_tree, leaf_size=17, n_neighbors=10, p=2;, score=0.791 total time=   0.4s\n",
      "[CV 3/5] END algorithm=kd_tree, leaf_size=17, n_neighbors=10, p=2;, score=0.802 total time=   0.4s\n",
      "[CV 4/5] END algorithm=kd_tree, leaf_size=17, n_neighbors=10, p=2;, score=0.806 total time=   0.5s\n",
      "[CV 5/5] END algorithm=kd_tree, leaf_size=17, n_neighbors=10, p=2;, score=0.805 total time=   0.5s\n",
      "[CV 1/5] END algorithm=kd_tree, leaf_size=17, n_neighbors=11, p=1;, score=0.801 total time=   0.3s\n",
      "[CV 2/5] END algorithm=kd_tree, leaf_size=17, n_neighbors=11, p=1;, score=0.792 total time=   0.4s\n",
      "[CV 3/5] END algorithm=kd_tree, leaf_size=17, n_neighbors=11, p=1;, score=0.803 total time=   0.3s\n",
      "[CV 4/5] END algorithm=kd_tree, leaf_size=17, n_neighbors=11, p=1;, score=0.806 total time=   0.4s\n",
      "[CV 5/5] END algorithm=kd_tree, leaf_size=17, n_neighbors=11, p=1;, score=0.800 total time=   0.4s\n",
      "[CV 1/5] END algorithm=kd_tree, leaf_size=17, n_neighbors=11, p=2;, score=0.799 total time=   0.5s\n",
      "[CV 2/5] END algorithm=kd_tree, leaf_size=17, n_neighbors=11, p=2;, score=0.792 total time=   0.5s\n",
      "[CV 3/5] END algorithm=kd_tree, leaf_size=17, n_neighbors=11, p=2;, score=0.806 total time=   0.4s\n",
      "[CV 4/5] END algorithm=kd_tree, leaf_size=17, n_neighbors=11, p=2;, score=0.800 total time=   0.5s\n",
      "[CV 5/5] END algorithm=kd_tree, leaf_size=17, n_neighbors=11, p=2;, score=0.806 total time=   0.5s\n",
      "[CV 1/5] END algorithm=kd_tree, leaf_size=24, n_neighbors=4, p=1;, score=0.804 total time=   0.3s\n",
      "[CV 2/5] END algorithm=kd_tree, leaf_size=24, n_neighbors=4, p=1;, score=0.803 total time=   0.3s\n",
      "[CV 3/5] END algorithm=kd_tree, leaf_size=24, n_neighbors=4, p=1;, score=0.806 total time=   0.3s\n",
      "[CV 4/5] END algorithm=kd_tree, leaf_size=24, n_neighbors=4, p=1;, score=0.810 total time=   0.3s\n",
      "[CV 5/5] END algorithm=kd_tree, leaf_size=24, n_neighbors=4, p=1;, score=0.815 total time=   0.3s\n",
      "[CV 1/5] END algorithm=kd_tree, leaf_size=24, n_neighbors=4, p=2;, score=0.803 total time=   0.3s\n",
      "[CV 2/5] END algorithm=kd_tree, leaf_size=24, n_neighbors=4, p=2;, score=0.797 total time=   0.3s\n",
      "[CV 3/5] END algorithm=kd_tree, leaf_size=24, n_neighbors=4, p=2;, score=0.800 total time=   0.3s\n",
      "[CV 4/5] END algorithm=kd_tree, leaf_size=24, n_neighbors=4, p=2;, score=0.807 total time=   0.3s\n",
      "[CV 5/5] END algorithm=kd_tree, leaf_size=24, n_neighbors=4, p=2;, score=0.809 total time=   0.3s\n",
      "[CV 1/5] END algorithm=kd_tree, leaf_size=24, n_neighbors=5, p=1;, score=0.802 total time=   0.3s\n",
      "[CV 2/5] END algorithm=kd_tree, leaf_size=24, n_neighbors=5, p=1;, score=0.799 total time=   0.3s\n",
      "[CV 3/5] END algorithm=kd_tree, leaf_size=24, n_neighbors=5, p=1;, score=0.813 total time=   0.1s\n",
      "[CV 4/5] END algorithm=kd_tree, leaf_size=24, n_neighbors=5, p=1;, score=0.809 total time=   0.1s\n",
      "[CV 5/5] END algorithm=kd_tree, leaf_size=24, n_neighbors=5, p=1;, score=0.813 total time=   0.1s\n",
      "[CV 1/5] END algorithm=kd_tree, leaf_size=24, n_neighbors=5, p=2;, score=0.801 total time=   0.1s\n",
      "[CV 2/5] END algorithm=kd_tree, leaf_size=24, n_neighbors=5, p=2;, score=0.794 total time=   0.1s\n",
      "[CV 3/5] END algorithm=kd_tree, leaf_size=24, n_neighbors=5, p=2;, score=0.802 total time=   0.1s\n",
      "[CV 4/5] END algorithm=kd_tree, leaf_size=24, n_neighbors=5, p=2;, score=0.804 total time=   0.1s\n",
      "[CV 5/5] END algorithm=kd_tree, leaf_size=24, n_neighbors=5, p=2;, score=0.809 total time=   0.3s\n",
      "[CV 1/5] END algorithm=kd_tree, leaf_size=24, n_neighbors=8, p=1;, score=0.799 total time=   0.1s\n",
      "[CV 2/5] END algorithm=kd_tree, leaf_size=24, n_neighbors=8, p=1;, score=0.792 total time=   0.1s\n",
      "[CV 3/5] END algorithm=kd_tree, leaf_size=24, n_neighbors=8, p=1;, score=0.804 total time=   0.1s\n",
      "[CV 4/5] END algorithm=kd_tree, leaf_size=24, n_neighbors=8, p=1;, score=0.812 total time=   0.1s\n",
      "[CV 5/5] END algorithm=kd_tree, leaf_size=24, n_neighbors=8, p=1;, score=0.812 total time=   0.3s\n",
      "[CV 1/5] END algorithm=kd_tree, leaf_size=24, n_neighbors=8, p=2;, score=0.799 total time=   0.4s\n",
      "[CV 2/5] END algorithm=kd_tree, leaf_size=24, n_neighbors=8, p=2;, score=0.794 total time=   0.3s\n",
      "[CV 3/5] END algorithm=kd_tree, leaf_size=24, n_neighbors=8, p=2;, score=0.806 total time=   0.3s\n",
      "[CV 4/5] END algorithm=kd_tree, leaf_size=24, n_neighbors=8, p=2;, score=0.806 total time=   0.3s\n",
      "[CV 5/5] END algorithm=kd_tree, leaf_size=24, n_neighbors=8, p=2;, score=0.806 total time=   0.3s\n",
      "[CV 1/5] END algorithm=kd_tree, leaf_size=24, n_neighbors=10, p=1;, score=0.800 total time=   0.3s\n",
      "[CV 2/5] END algorithm=kd_tree, leaf_size=24, n_neighbors=10, p=1;, score=0.792 total time=   0.3s\n",
      "[CV 3/5] END algorithm=kd_tree, leaf_size=24, n_neighbors=10, p=1;, score=0.801 total time=   0.3s\n",
      "[CV 4/5] END algorithm=kd_tree, leaf_size=24, n_neighbors=10, p=1;, score=0.810 total time=   0.3s\n",
      "[CV 5/5] END algorithm=kd_tree, leaf_size=24, n_neighbors=10, p=1;, score=0.800 total time=   0.3s\n",
      "[CV 1/5] END algorithm=kd_tree, leaf_size=24, n_neighbors=10, p=2;, score=0.796 total time=   0.4s\n",
      "[CV 2/5] END algorithm=kd_tree, leaf_size=24, n_neighbors=10, p=2;, score=0.791 total time=   0.4s\n",
      "[CV 3/5] END algorithm=kd_tree, leaf_size=24, n_neighbors=10, p=2;, score=0.802 total time=   0.3s\n",
      "[CV 4/5] END algorithm=kd_tree, leaf_size=24, n_neighbors=10, p=2;, score=0.806 total time=   0.4s\n",
      "[CV 5/5] END algorithm=kd_tree, leaf_size=24, n_neighbors=10, p=2;, score=0.805 total time=   0.4s\n",
      "[CV 1/5] END algorithm=kd_tree, leaf_size=24, n_neighbors=11, p=1;, score=0.801 total time=   0.3s\n",
      "[CV 2/5] END algorithm=kd_tree, leaf_size=24, n_neighbors=11, p=1;, score=0.792 total time=   0.3s\n",
      "[CV 3/5] END algorithm=kd_tree, leaf_size=24, n_neighbors=11, p=1;, score=0.803 total time=   0.3s\n",
      "[CV 4/5] END algorithm=kd_tree, leaf_size=24, n_neighbors=11, p=1;, score=0.806 total time=   0.3s\n",
      "[CV 5/5] END algorithm=kd_tree, leaf_size=24, n_neighbors=11, p=1;, score=0.800 total time=   0.3s\n",
      "[CV 1/5] END algorithm=kd_tree, leaf_size=24, n_neighbors=11, p=2;, score=0.799 total time=   0.4s\n",
      "[CV 2/5] END algorithm=kd_tree, leaf_size=24, n_neighbors=11, p=2;, score=0.792 total time=   0.4s\n",
      "[CV 3/5] END algorithm=kd_tree, leaf_size=24, n_neighbors=11, p=2;, score=0.806 total time=   0.3s\n",
      "[CV 4/5] END algorithm=kd_tree, leaf_size=24, n_neighbors=11, p=2;, score=0.800 total time=   0.4s\n",
      "[CV 5/5] END algorithm=kd_tree, leaf_size=24, n_neighbors=11, p=2;, score=0.806 total time=   0.4s\n",
      "[CV 1/5] END algorithm=kd_tree, leaf_size=28, n_neighbors=4, p=1;, score=0.804 total time=   0.3s\n",
      "[CV 2/5] END algorithm=kd_tree, leaf_size=28, n_neighbors=4, p=1;, score=0.803 total time=   0.3s\n",
      "[CV 3/5] END algorithm=kd_tree, leaf_size=28, n_neighbors=4, p=1;, score=0.806 total time=   0.3s\n",
      "[CV 4/5] END algorithm=kd_tree, leaf_size=28, n_neighbors=4, p=1;, score=0.810 total time=   0.3s\n",
      "[CV 5/5] END algorithm=kd_tree, leaf_size=28, n_neighbors=4, p=1;, score=0.815 total time=   0.3s\n",
      "[CV 1/5] END algorithm=kd_tree, leaf_size=28, n_neighbors=4, p=2;, score=0.803 total time=   0.3s\n",
      "[CV 2/5] END algorithm=kd_tree, leaf_size=28, n_neighbors=4, p=2;, score=0.797 total time=   0.2s\n",
      "[CV 3/5] END algorithm=kd_tree, leaf_size=28, n_neighbors=4, p=2;, score=0.800 total time=   0.1s\n",
      "[CV 4/5] END algorithm=kd_tree, leaf_size=28, n_neighbors=4, p=2;, score=0.807 total time=   0.1s\n",
      "[CV 5/5] END algorithm=kd_tree, leaf_size=28, n_neighbors=4, p=2;, score=0.809 total time=   0.1s\n",
      "[CV 1/5] END algorithm=kd_tree, leaf_size=28, n_neighbors=5, p=1;, score=0.802 total time=   0.1s\n",
      "[CV 2/5] END algorithm=kd_tree, leaf_size=28, n_neighbors=5, p=1;, score=0.799 total time=   0.1s\n",
      "[CV 3/5] END algorithm=kd_tree, leaf_size=28, n_neighbors=5, p=1;, score=0.813 total time=   0.1s\n",
      "[CV 4/5] END algorithm=kd_tree, leaf_size=28, n_neighbors=5, p=1;, score=0.809 total time=   0.2s\n",
      "[CV 5/5] END algorithm=kd_tree, leaf_size=28, n_neighbors=5, p=1;, score=0.813 total time=   0.1s\n",
      "[CV 1/5] END algorithm=kd_tree, leaf_size=28, n_neighbors=5, p=2;, score=0.801 total time=   0.1s\n",
      "[CV 2/5] END algorithm=kd_tree, leaf_size=28, n_neighbors=5, p=2;, score=0.794 total time=   0.1s\n",
      "[CV 3/5] END algorithm=kd_tree, leaf_size=28, n_neighbors=5, p=2;, score=0.802 total time=   0.2s\n",
      "[CV 4/5] END algorithm=kd_tree, leaf_size=28, n_neighbors=5, p=2;, score=0.804 total time=   0.3s\n",
      "[CV 5/5] END algorithm=kd_tree, leaf_size=28, n_neighbors=5, p=2;, score=0.809 total time=   0.3s\n",
      "[CV 1/5] END algorithm=kd_tree, leaf_size=28, n_neighbors=8, p=1;, score=0.799 total time=   0.3s\n",
      "[CV 2/5] END algorithm=kd_tree, leaf_size=28, n_neighbors=8, p=1;, score=0.792 total time=   0.3s\n",
      "[CV 3/5] END algorithm=kd_tree, leaf_size=28, n_neighbors=8, p=1;, score=0.804 total time=   0.3s\n",
      "[CV 4/5] END algorithm=kd_tree, leaf_size=28, n_neighbors=8, p=1;, score=0.812 total time=   0.3s\n",
      "[CV 5/5] END algorithm=kd_tree, leaf_size=28, n_neighbors=8, p=1;, score=0.812 total time=   0.3s\n",
      "[CV 1/5] END algorithm=kd_tree, leaf_size=28, n_neighbors=8, p=2;, score=0.799 total time=   0.4s\n",
      "[CV 2/5] END algorithm=kd_tree, leaf_size=28, n_neighbors=8, p=2;, score=0.794 total time=   0.4s\n",
      "[CV 3/5] END algorithm=kd_tree, leaf_size=28, n_neighbors=8, p=2;, score=0.806 total time=   0.3s\n",
      "[CV 4/5] END algorithm=kd_tree, leaf_size=28, n_neighbors=8, p=2;, score=0.806 total time=   0.4s\n",
      "[CV 5/5] END algorithm=kd_tree, leaf_size=28, n_neighbors=8, p=2;, score=0.806 total time=   0.4s\n",
      "[CV 1/5] END algorithm=kd_tree, leaf_size=28, n_neighbors=10, p=1;, score=0.800 total time=   0.3s\n",
      "[CV 2/5] END algorithm=kd_tree, leaf_size=28, n_neighbors=10, p=1;, score=0.792 total time=   0.3s\n",
      "[CV 3/5] END algorithm=kd_tree, leaf_size=28, n_neighbors=10, p=1;, score=0.801 total time=   0.3s\n",
      "[CV 4/5] END algorithm=kd_tree, leaf_size=28, n_neighbors=10, p=1;, score=0.810 total time=   0.3s\n",
      "[CV 5/5] END algorithm=kd_tree, leaf_size=28, n_neighbors=10, p=1;, score=0.800 total time=   0.3s\n",
      "[CV 1/5] END algorithm=kd_tree, leaf_size=28, n_neighbors=10, p=2;, score=0.796 total time=   0.4s\n",
      "[CV 2/5] END algorithm=kd_tree, leaf_size=28, n_neighbors=10, p=2;, score=0.791 total time=   0.4s\n",
      "[CV 3/5] END algorithm=kd_tree, leaf_size=28, n_neighbors=10, p=2;, score=0.802 total time=   0.3s\n",
      "[CV 4/5] END algorithm=kd_tree, leaf_size=28, n_neighbors=10, p=2;, score=0.806 total time=   0.4s\n",
      "[CV 5/5] END algorithm=kd_tree, leaf_size=28, n_neighbors=10, p=2;, score=0.805 total time=   0.4s\n",
      "[CV 1/5] END algorithm=kd_tree, leaf_size=28, n_neighbors=11, p=1;, score=0.801 total time=   0.3s\n",
      "[CV 2/5] END algorithm=kd_tree, leaf_size=28, n_neighbors=11, p=1;, score=0.792 total time=   0.3s\n",
      "[CV 3/5] END algorithm=kd_tree, leaf_size=28, n_neighbors=11, p=1;, score=0.803 total time=   0.3s\n",
      "[CV 4/5] END algorithm=kd_tree, leaf_size=28, n_neighbors=11, p=1;, score=0.806 total time=   0.3s\n",
      "[CV 5/5] END algorithm=kd_tree, leaf_size=28, n_neighbors=11, p=1;, score=0.800 total time=   0.3s\n",
      "[CV 1/5] END algorithm=kd_tree, leaf_size=28, n_neighbors=11, p=2;, score=0.799 total time=   0.3s\n",
      "[CV 2/5] END algorithm=kd_tree, leaf_size=28, n_neighbors=11, p=2;, score=0.792 total time=   0.4s\n",
      "[CV 3/5] END algorithm=kd_tree, leaf_size=28, n_neighbors=11, p=2;, score=0.806 total time=   0.3s\n",
      "[CV 4/5] END algorithm=kd_tree, leaf_size=28, n_neighbors=11, p=2;, score=0.800 total time=   0.4s\n",
      "[CV 5/5] END algorithm=kd_tree, leaf_size=28, n_neighbors=11, p=2;, score=0.806 total time=   0.2s\n",
      "[CV 1/5] END algorithm=kd_tree, leaf_size=30, n_neighbors=4, p=1;, score=0.804 total time=   0.1s\n",
      "[CV 2/5] END algorithm=kd_tree, leaf_size=30, n_neighbors=4, p=1;, score=0.803 total time=   0.1s\n",
      "[CV 3/5] END algorithm=kd_tree, leaf_size=30, n_neighbors=4, p=1;, score=0.806 total time=   0.0s\n",
      "[CV 4/5] END algorithm=kd_tree, leaf_size=30, n_neighbors=4, p=1;, score=0.810 total time=   0.1s\n",
      "[CV 5/5] END algorithm=kd_tree, leaf_size=30, n_neighbors=4, p=1;, score=0.815 total time=   0.1s\n",
      "[CV 1/5] END algorithm=kd_tree, leaf_size=30, n_neighbors=4, p=2;, score=0.803 total time=   0.1s\n",
      "[CV 2/5] END algorithm=kd_tree, leaf_size=30, n_neighbors=4, p=2;, score=0.797 total time=   0.2s\n",
      "[CV 3/5] END algorithm=kd_tree, leaf_size=30, n_neighbors=4, p=2;, score=0.800 total time=   0.1s\n",
      "[CV 4/5] END algorithm=kd_tree, leaf_size=30, n_neighbors=4, p=2;, score=0.807 total time=   0.1s\n",
      "[CV 5/5] END algorithm=kd_tree, leaf_size=30, n_neighbors=4, p=2;, score=0.809 total time=   0.1s\n",
      "[CV 1/5] END algorithm=kd_tree, leaf_size=30, n_neighbors=5, p=1;, score=0.802 total time=   0.1s\n",
      "[CV 2/5] END algorithm=kd_tree, leaf_size=30, n_neighbors=5, p=1;, score=0.799 total time=   0.3s\n",
      "[CV 3/5] END algorithm=kd_tree, leaf_size=30, n_neighbors=5, p=1;, score=0.813 total time=   0.3s\n",
      "[CV 4/5] END algorithm=kd_tree, leaf_size=30, n_neighbors=5, p=1;, score=0.809 total time=   0.2s\n",
      "[CV 5/5] END algorithm=kd_tree, leaf_size=30, n_neighbors=5, p=1;, score=0.813 total time=   0.3s\n",
      "[CV 1/5] END algorithm=kd_tree, leaf_size=30, n_neighbors=5, p=2;, score=0.801 total time=   0.4s\n",
      "[CV 2/5] END algorithm=kd_tree, leaf_size=30, n_neighbors=5, p=2;, score=0.794 total time=   0.3s\n",
      "[CV 3/5] END algorithm=kd_tree, leaf_size=30, n_neighbors=5, p=2;, score=0.802 total time=   0.3s\n",
      "[CV 4/5] END algorithm=kd_tree, leaf_size=30, n_neighbors=5, p=2;, score=0.804 total time=   0.3s\n",
      "[CV 5/5] END algorithm=kd_tree, leaf_size=30, n_neighbors=5, p=2;, score=0.809 total time=   0.4s\n",
      "[CV 1/5] END algorithm=kd_tree, leaf_size=30, n_neighbors=8, p=1;, score=0.799 total time=   0.3s\n",
      "[CV 2/5] END algorithm=kd_tree, leaf_size=30, n_neighbors=8, p=1;, score=0.792 total time=   0.3s\n",
      "[CV 3/5] END algorithm=kd_tree, leaf_size=30, n_neighbors=8, p=1;, score=0.804 total time=   0.3s\n",
      "[CV 4/5] END algorithm=kd_tree, leaf_size=30, n_neighbors=8, p=1;, score=0.812 total time=   0.3s\n",
      "[CV 5/5] END algorithm=kd_tree, leaf_size=30, n_neighbors=8, p=1;, score=0.812 total time=   0.3s\n",
      "[CV 1/5] END algorithm=kd_tree, leaf_size=30, n_neighbors=8, p=2;, score=0.799 total time=   0.3s\n",
      "[CV 2/5] END algorithm=kd_tree, leaf_size=30, n_neighbors=8, p=2;, score=0.794 total time=   0.4s\n",
      "[CV 3/5] END algorithm=kd_tree, leaf_size=30, n_neighbors=8, p=2;, score=0.806 total time=   0.3s\n",
      "[CV 4/5] END algorithm=kd_tree, leaf_size=30, n_neighbors=8, p=2;, score=0.806 total time=   0.4s\n",
      "[CV 5/5] END algorithm=kd_tree, leaf_size=30, n_neighbors=8, p=2;, score=0.806 total time=   0.4s\n",
      "[CV 1/5] END algorithm=kd_tree, leaf_size=30, n_neighbors=10, p=1;, score=0.800 total time=   0.3s\n",
      "[CV 2/5] END algorithm=kd_tree, leaf_size=30, n_neighbors=10, p=1;, score=0.792 total time=   0.3s\n",
      "[CV 3/5] END algorithm=kd_tree, leaf_size=30, n_neighbors=10, p=1;, score=0.801 total time=   0.3s\n",
      "[CV 4/5] END algorithm=kd_tree, leaf_size=30, n_neighbors=10, p=1;, score=0.810 total time=   0.3s\n",
      "[CV 5/5] END algorithm=kd_tree, leaf_size=30, n_neighbors=10, p=1;, score=0.800 total time=   0.3s\n",
      "[CV 1/5] END algorithm=kd_tree, leaf_size=30, n_neighbors=10, p=2;, score=0.796 total time=   0.4s\n",
      "[CV 2/5] END algorithm=kd_tree, leaf_size=30, n_neighbors=10, p=2;, score=0.791 total time=   0.4s\n",
      "[CV 3/5] END algorithm=kd_tree, leaf_size=30, n_neighbors=10, p=2;, score=0.802 total time=   0.3s\n",
      "[CV 4/5] END algorithm=kd_tree, leaf_size=30, n_neighbors=10, p=2;, score=0.806 total time=   0.4s\n",
      "[CV 5/5] END algorithm=kd_tree, leaf_size=30, n_neighbors=10, p=2;, score=0.805 total time=   0.4s\n",
      "[CV 1/5] END algorithm=kd_tree, leaf_size=30, n_neighbors=11, p=1;, score=0.801 total time=   0.3s\n",
      "[CV 2/5] END algorithm=kd_tree, leaf_size=30, n_neighbors=11, p=1;, score=0.792 total time=   0.3s\n",
      "[CV 3/5] END algorithm=kd_tree, leaf_size=30, n_neighbors=11, p=1;, score=0.803 total time=   0.3s\n",
      "[CV 4/5] END algorithm=kd_tree, leaf_size=30, n_neighbors=11, p=1;, score=0.806 total time=   0.3s\n",
      "[CV 5/5] END algorithm=kd_tree, leaf_size=30, n_neighbors=11, p=1;, score=0.800 total time=   0.1s\n",
      "[CV 1/5] END algorithm=kd_tree, leaf_size=30, n_neighbors=11, p=2;, score=0.799 total time=   0.1s\n",
      "[CV 2/5] END algorithm=kd_tree, leaf_size=30, n_neighbors=11, p=2;, score=0.792 total time=   0.1s\n",
      "[CV 3/5] END algorithm=kd_tree, leaf_size=30, n_neighbors=11, p=2;, score=0.806 total time=   0.1s\n",
      "[CV 4/5] END algorithm=kd_tree, leaf_size=30, n_neighbors=11, p=2;, score=0.800 total time=   0.1s\n",
      "[CV 5/5] END algorithm=kd_tree, leaf_size=30, n_neighbors=11, p=2;, score=0.806 total time=   0.1s\n",
      "[CV 1/5] END algorithm=kd_tree, leaf_size=35, n_neighbors=4, p=1;, score=0.804 total time=   0.2s\n",
      "[CV 2/5] END algorithm=kd_tree, leaf_size=35, n_neighbors=4, p=1;, score=0.803 total time=   0.1s\n",
      "[CV 3/5] END algorithm=kd_tree, leaf_size=35, n_neighbors=4, p=1;, score=0.806 total time=   0.0s\n",
      "[CV 4/5] END algorithm=kd_tree, leaf_size=35, n_neighbors=4, p=1;, score=0.810 total time=   0.1s\n",
      "[CV 5/5] END algorithm=kd_tree, leaf_size=35, n_neighbors=4, p=1;, score=0.815 total time=   0.1s\n",
      "[CV 1/5] END algorithm=kd_tree, leaf_size=35, n_neighbors=4, p=2;, score=0.803 total time=   0.3s\n",
      "[CV 2/5] END algorithm=kd_tree, leaf_size=35, n_neighbors=4, p=2;, score=0.797 total time=   0.3s\n",
      "[CV 3/5] END algorithm=kd_tree, leaf_size=35, n_neighbors=4, p=2;, score=0.800 total time=   0.2s\n",
      "[CV 4/5] END algorithm=kd_tree, leaf_size=35, n_neighbors=4, p=2;, score=0.807 total time=   0.3s\n",
      "[CV 5/5] END algorithm=kd_tree, leaf_size=35, n_neighbors=4, p=2;, score=0.809 total time=   0.3s\n",
      "[CV 1/5] END algorithm=kd_tree, leaf_size=35, n_neighbors=5, p=1;, score=0.802 total time=   0.3s\n",
      "[CV 2/5] END algorithm=kd_tree, leaf_size=35, n_neighbors=5, p=1;, score=0.799 total time=   0.3s\n",
      "[CV 3/5] END algorithm=kd_tree, leaf_size=35, n_neighbors=5, p=1;, score=0.813 total time=   0.3s\n",
      "[CV 4/5] END algorithm=kd_tree, leaf_size=35, n_neighbors=5, p=1;, score=0.809 total time=   0.3s\n",
      "[CV 5/5] END algorithm=kd_tree, leaf_size=35, n_neighbors=5, p=1;, score=0.813 total time=   0.3s\n",
      "[CV 1/5] END algorithm=kd_tree, leaf_size=35, n_neighbors=5, p=2;, score=0.801 total time=   0.4s\n",
      "[CV 2/5] END algorithm=kd_tree, leaf_size=35, n_neighbors=5, p=2;, score=0.794 total time=   0.3s\n",
      "[CV 3/5] END algorithm=kd_tree, leaf_size=35, n_neighbors=5, p=2;, score=0.802 total time=   0.3s\n",
      "[CV 4/5] END algorithm=kd_tree, leaf_size=35, n_neighbors=5, p=2;, score=0.804 total time=   0.3s\n",
      "[CV 5/5] END algorithm=kd_tree, leaf_size=35, n_neighbors=5, p=2;, score=0.809 total time=   0.4s\n",
      "[CV 1/5] END algorithm=kd_tree, leaf_size=35, n_neighbors=8, p=1;, score=0.799 total time=   0.3s\n",
      "[CV 2/5] END algorithm=kd_tree, leaf_size=35, n_neighbors=8, p=1;, score=0.792 total time=   0.3s\n",
      "[CV 3/5] END algorithm=kd_tree, leaf_size=35, n_neighbors=8, p=1;, score=0.804 total time=   0.3s\n",
      "[CV 4/5] END algorithm=kd_tree, leaf_size=35, n_neighbors=8, p=1;, score=0.812 total time=   0.3s\n",
      "[CV 5/5] END algorithm=kd_tree, leaf_size=35, n_neighbors=8, p=1;, score=0.812 total time=   0.3s\n",
      "[CV 1/5] END algorithm=kd_tree, leaf_size=35, n_neighbors=8, p=2;, score=0.799 total time=   0.4s\n",
      "[CV 2/5] END algorithm=kd_tree, leaf_size=35, n_neighbors=8, p=2;, score=0.794 total time=   0.3s\n",
      "[CV 3/5] END algorithm=kd_tree, leaf_size=35, n_neighbors=8, p=2;, score=0.806 total time=   0.3s\n",
      "[CV 4/5] END algorithm=kd_tree, leaf_size=35, n_neighbors=8, p=2;, score=0.806 total time=   0.3s\n",
      "[CV 5/5] END algorithm=kd_tree, leaf_size=35, n_neighbors=8, p=2;, score=0.806 total time=   0.3s\n",
      "[CV 1/5] END algorithm=kd_tree, leaf_size=35, n_neighbors=10, p=1;, score=0.800 total time=   0.3s\n",
      "[CV 2/5] END algorithm=kd_tree, leaf_size=35, n_neighbors=10, p=1;, score=0.792 total time=   0.3s\n",
      "[CV 3/5] END algorithm=kd_tree, leaf_size=35, n_neighbors=10, p=1;, score=0.801 total time=   0.3s\n",
      "[CV 4/5] END algorithm=kd_tree, leaf_size=35, n_neighbors=10, p=1;, score=0.810 total time=   0.3s\n",
      "[CV 5/5] END algorithm=kd_tree, leaf_size=35, n_neighbors=10, p=1;, score=0.800 total time=   0.3s\n",
      "[CV 1/5] END algorithm=kd_tree, leaf_size=35, n_neighbors=10, p=2;, score=0.796 total time=   0.3s\n",
      "[CV 2/5] END algorithm=kd_tree, leaf_size=35, n_neighbors=10, p=2;, score=0.791 total time=   0.4s\n",
      "[CV 3/5] END algorithm=kd_tree, leaf_size=35, n_neighbors=10, p=2;, score=0.802 total time=   0.3s\n",
      "[CV 4/5] END algorithm=kd_tree, leaf_size=35, n_neighbors=10, p=2;, score=0.806 total time=   0.1s\n",
      "[CV 5/5] END algorithm=kd_tree, leaf_size=35, n_neighbors=10, p=2;, score=0.805 total time=   0.1s\n",
      "[CV 1/5] END algorithm=kd_tree, leaf_size=35, n_neighbors=11, p=1;, score=0.801 total time=   0.1s\n",
      "[CV 2/5] END algorithm=kd_tree, leaf_size=35, n_neighbors=11, p=1;, score=0.792 total time=   0.1s\n",
      "[CV 3/5] END algorithm=kd_tree, leaf_size=35, n_neighbors=11, p=1;, score=0.803 total time=   0.1s\n",
      "[CV 4/5] END algorithm=kd_tree, leaf_size=35, n_neighbors=11, p=1;, score=0.806 total time=   0.1s\n",
      "[CV 5/5] END algorithm=kd_tree, leaf_size=35, n_neighbors=11, p=1;, score=0.800 total time=   0.2s\n",
      "[CV 1/5] END algorithm=kd_tree, leaf_size=35, n_neighbors=11, p=2;, score=0.799 total time=   0.1s\n",
      "[CV 2/5] END algorithm=kd_tree, leaf_size=35, n_neighbors=11, p=2;, score=0.792 total time=   0.1s\n",
      "[CV 3/5] END algorithm=kd_tree, leaf_size=35, n_neighbors=11, p=2;, score=0.806 total time=   0.1s\n",
      "[CV 4/5] END algorithm=kd_tree, leaf_size=35, n_neighbors=11, p=2;, score=0.800 total time=   0.2s\n",
      "[CV 5/5] END algorithm=kd_tree, leaf_size=35, n_neighbors=11, p=2;, score=0.806 total time=   0.4s\n",
      "[CV 1/5] END algorithm=brute, leaf_size=10, n_neighbors=4, p=1;, score=0.804 total time=   0.4s\n",
      "[CV 2/5] END algorithm=brute, leaf_size=10, n_neighbors=4, p=1;, score=0.803 total time=   0.2s\n",
      "[CV 3/5] END algorithm=brute, leaf_size=10, n_neighbors=4, p=1;, score=0.806 total time=   0.2s\n",
      "[CV 4/5] END algorithm=brute, leaf_size=10, n_neighbors=4, p=1;, score=0.810 total time=   0.2s\n",
      "[CV 5/5] END algorithm=brute, leaf_size=10, n_neighbors=4, p=1;, score=0.815 total time=   0.2s\n",
      "[CV 1/5] END algorithm=brute, leaf_size=10, n_neighbors=4, p=2;, score=0.803 total time=   0.2s\n",
      "[CV 2/5] END algorithm=brute, leaf_size=10, n_neighbors=4, p=2;, score=0.797 total time=   0.2s\n",
      "[CV 3/5] END algorithm=brute, leaf_size=10, n_neighbors=4, p=2;, score=0.800 total time=   0.2s\n",
      "[CV 4/5] END algorithm=brute, leaf_size=10, n_neighbors=4, p=2;, score=0.807 total time=   0.2s\n",
      "[CV 5/5] END algorithm=brute, leaf_size=10, n_neighbors=4, p=2;, score=0.809 total time=   0.2s\n",
      "[CV 1/5] END algorithm=brute, leaf_size=10, n_neighbors=5, p=1;, score=0.802 total time=   0.2s\n",
      "[CV 2/5] END algorithm=brute, leaf_size=10, n_neighbors=5, p=1;, score=0.799 total time=   0.2s\n",
      "[CV 3/5] END algorithm=brute, leaf_size=10, n_neighbors=5, p=1;, score=0.813 total time=   0.2s\n",
      "[CV 4/5] END algorithm=brute, leaf_size=10, n_neighbors=5, p=1;, score=0.809 total time=   0.2s\n",
      "[CV 5/5] END algorithm=brute, leaf_size=10, n_neighbors=5, p=1;, score=0.813 total time=   0.2s\n",
      "[CV 1/5] END algorithm=brute, leaf_size=10, n_neighbors=5, p=2;, score=0.801 total time=   0.2s\n",
      "[CV 2/5] END algorithm=brute, leaf_size=10, n_neighbors=5, p=2;, score=0.794 total time=   0.2s\n",
      "[CV 3/5] END algorithm=brute, leaf_size=10, n_neighbors=5, p=2;, score=0.802 total time=   0.2s\n",
      "[CV 4/5] END algorithm=brute, leaf_size=10, n_neighbors=5, p=2;, score=0.804 total time=   0.1s\n",
      "[CV 5/5] END algorithm=brute, leaf_size=10, n_neighbors=5, p=2;, score=0.809 total time=   0.2s\n",
      "[CV 1/5] END algorithm=brute, leaf_size=10, n_neighbors=8, p=1;, score=0.799 total time=   0.2s\n",
      "[CV 2/5] END algorithm=brute, leaf_size=10, n_neighbors=8, p=1;, score=0.792 total time=   0.2s\n",
      "[CV 3/5] END algorithm=brute, leaf_size=10, n_neighbors=8, p=1;, score=0.804 total time=   0.2s\n",
      "[CV 4/5] END algorithm=brute, leaf_size=10, n_neighbors=8, p=1;, score=0.812 total time=   0.2s\n",
      "[CV 5/5] END algorithm=brute, leaf_size=10, n_neighbors=8, p=1;, score=0.812 total time=   0.2s\n",
      "[CV 1/5] END algorithm=brute, leaf_size=10, n_neighbors=8, p=2;, score=0.799 total time=   0.2s\n",
      "[CV 2/5] END algorithm=brute, leaf_size=10, n_neighbors=8, p=2;, score=0.794 total time=   0.2s\n",
      "[CV 3/5] END algorithm=brute, leaf_size=10, n_neighbors=8, p=2;, score=0.806 total time=   0.2s\n",
      "[CV 4/5] END algorithm=brute, leaf_size=10, n_neighbors=8, p=2;, score=0.806 total time=   0.2s\n",
      "[CV 5/5] END algorithm=brute, leaf_size=10, n_neighbors=8, p=2;, score=0.806 total time=   0.2s\n",
      "[CV 1/5] END algorithm=brute, leaf_size=10, n_neighbors=10, p=1;, score=0.800 total time=   0.2s\n",
      "[CV 2/5] END algorithm=brute, leaf_size=10, n_neighbors=10, p=1;, score=0.792 total time=   0.2s\n",
      "[CV 3/5] END algorithm=brute, leaf_size=10, n_neighbors=10, p=1;, score=0.801 total time=   0.2s\n",
      "[CV 4/5] END algorithm=brute, leaf_size=10, n_neighbors=10, p=1;, score=0.810 total time=   0.2s\n",
      "[CV 5/5] END algorithm=brute, leaf_size=10, n_neighbors=10, p=1;, score=0.800 total time=   0.2s\n",
      "[CV 1/5] END algorithm=brute, leaf_size=10, n_neighbors=10, p=2;, score=0.796 total time=   0.2s\n",
      "[CV 2/5] END algorithm=brute, leaf_size=10, n_neighbors=10, p=2;, score=0.791 total time=   0.2s\n",
      "[CV 3/5] END algorithm=brute, leaf_size=10, n_neighbors=10, p=2;, score=0.802 total time=   0.2s\n",
      "[CV 4/5] END algorithm=brute, leaf_size=10, n_neighbors=10, p=2;, score=0.806 total time=   0.2s\n",
      "[CV 5/5] END algorithm=brute, leaf_size=10, n_neighbors=10, p=2;, score=0.805 total time=   0.2s\n",
      "[CV 1/5] END algorithm=brute, leaf_size=10, n_neighbors=11, p=1;, score=0.801 total time=   0.2s\n",
      "[CV 2/5] END algorithm=brute, leaf_size=10, n_neighbors=11, p=1;, score=0.792 total time=   0.2s\n",
      "[CV 3/5] END algorithm=brute, leaf_size=10, n_neighbors=11, p=1;, score=0.803 total time=   0.1s\n",
      "[CV 4/5] END algorithm=brute, leaf_size=10, n_neighbors=11, p=1;, score=0.806 total time=   0.1s\n",
      "[CV 5/5] END algorithm=brute, leaf_size=10, n_neighbors=11, p=1;, score=0.800 total time=   0.1s\n",
      "[CV 1/5] END algorithm=brute, leaf_size=10, n_neighbors=11, p=2;, score=0.799 total time=   0.1s\n",
      "[CV 2/5] END algorithm=brute, leaf_size=10, n_neighbors=11, p=2;, score=0.792 total time=   0.1s\n",
      "[CV 3/5] END algorithm=brute, leaf_size=10, n_neighbors=11, p=2;, score=0.806 total time=   0.1s\n",
      "[CV 4/5] END algorithm=brute, leaf_size=10, n_neighbors=11, p=2;, score=0.800 total time=   0.1s\n",
      "[CV 5/5] END algorithm=brute, leaf_size=10, n_neighbors=11, p=2;, score=0.806 total time=   0.1s\n",
      "[CV 1/5] END algorithm=brute, leaf_size=17, n_neighbors=4, p=1;, score=0.804 total time=   0.1s\n",
      "[CV 2/5] END algorithm=brute, leaf_size=17, n_neighbors=4, p=1;, score=0.803 total time=   0.1s\n",
      "[CV 3/5] END algorithm=brute, leaf_size=17, n_neighbors=4, p=1;, score=0.806 total time=   0.1s\n",
      "[CV 4/5] END algorithm=brute, leaf_size=17, n_neighbors=4, p=1;, score=0.810 total time=   0.1s\n",
      "[CV 5/5] END algorithm=brute, leaf_size=17, n_neighbors=4, p=1;, score=0.815 total time=   0.2s\n",
      "[CV 1/5] END algorithm=brute, leaf_size=17, n_neighbors=4, p=2;, score=0.803 total time=   0.1s\n",
      "[CV 2/5] END algorithm=brute, leaf_size=17, n_neighbors=4, p=2;, score=0.797 total time=   0.1s\n",
      "[CV 3/5] END algorithm=brute, leaf_size=17, n_neighbors=4, p=2;, score=0.800 total time=   0.2s\n",
      "[CV 4/5] END algorithm=brute, leaf_size=17, n_neighbors=4, p=2;, score=0.807 total time=   0.1s\n",
      "[CV 5/5] END algorithm=brute, leaf_size=17, n_neighbors=4, p=2;, score=0.809 total time=   0.1s\n",
      "[CV 1/5] END algorithm=brute, leaf_size=17, n_neighbors=5, p=1;, score=0.802 total time=   0.1s\n",
      "[CV 2/5] END algorithm=brute, leaf_size=17, n_neighbors=5, p=1;, score=0.799 total time=   0.1s\n",
      "[CV 3/5] END algorithm=brute, leaf_size=17, n_neighbors=5, p=1;, score=0.813 total time=   0.1s\n",
      "[CV 4/5] END algorithm=brute, leaf_size=17, n_neighbors=5, p=1;, score=0.809 total time=   0.1s\n",
      "[CV 5/5] END algorithm=brute, leaf_size=17, n_neighbors=5, p=1;, score=0.813 total time=   0.2s\n",
      "[CV 1/5] END algorithm=brute, leaf_size=17, n_neighbors=5, p=2;, score=0.801 total time=   0.1s\n",
      "[CV 2/5] END algorithm=brute, leaf_size=17, n_neighbors=5, p=2;, score=0.794 total time=   0.1s\n",
      "[CV 3/5] END algorithm=brute, leaf_size=17, n_neighbors=5, p=2;, score=0.802 total time=   0.1s\n",
      "[CV 4/5] END algorithm=brute, leaf_size=17, n_neighbors=5, p=2;, score=0.804 total time=   0.1s\n",
      "[CV 5/5] END algorithm=brute, leaf_size=17, n_neighbors=5, p=2;, score=0.809 total time=   0.1s\n",
      "[CV 1/5] END algorithm=brute, leaf_size=17, n_neighbors=8, p=1;, score=0.799 total time=   0.1s\n",
      "[CV 2/5] END algorithm=brute, leaf_size=17, n_neighbors=8, p=1;, score=0.792 total time=   0.1s\n",
      "[CV 3/5] END algorithm=brute, leaf_size=17, n_neighbors=8, p=1;, score=0.804 total time=   0.1s\n",
      "[CV 4/5] END algorithm=brute, leaf_size=17, n_neighbors=8, p=1;, score=0.812 total time=   0.1s\n",
      "[CV 5/5] END algorithm=brute, leaf_size=17, n_neighbors=8, p=1;, score=0.812 total time=   0.1s\n",
      "[CV 1/5] END algorithm=brute, leaf_size=17, n_neighbors=8, p=2;, score=0.799 total time=   0.1s\n",
      "[CV 2/5] END algorithm=brute, leaf_size=17, n_neighbors=8, p=2;, score=0.794 total time=   0.1s\n",
      "[CV 3/5] END algorithm=brute, leaf_size=17, n_neighbors=8, p=2;, score=0.806 total time=   0.1s\n",
      "[CV 4/5] END algorithm=brute, leaf_size=17, n_neighbors=8, p=2;, score=0.806 total time=   0.1s\n",
      "[CV 5/5] END algorithm=brute, leaf_size=17, n_neighbors=8, p=2;, score=0.806 total time=   0.2s\n",
      "[CV 1/5] END algorithm=brute, leaf_size=17, n_neighbors=10, p=1;, score=0.800 total time=   0.1s\n",
      "[CV 2/5] END algorithm=brute, leaf_size=17, n_neighbors=10, p=1;, score=0.792 total time=   0.1s\n",
      "[CV 3/5] END algorithm=brute, leaf_size=17, n_neighbors=10, p=1;, score=0.801 total time=   0.1s\n",
      "[CV 4/5] END algorithm=brute, leaf_size=17, n_neighbors=10, p=1;, score=0.810 total time=   0.1s\n",
      "[CV 5/5] END algorithm=brute, leaf_size=17, n_neighbors=10, p=1;, score=0.800 total time=   0.2s\n",
      "[CV 1/5] END algorithm=brute, leaf_size=17, n_neighbors=10, p=2;, score=0.796 total time=   0.1s\n",
      "[CV 2/5] END algorithm=brute, leaf_size=17, n_neighbors=10, p=2;, score=0.791 total time=   0.1s\n",
      "[CV 3/5] END algorithm=brute, leaf_size=17, n_neighbors=10, p=2;, score=0.802 total time=   0.2s\n",
      "[CV 4/5] END algorithm=brute, leaf_size=17, n_neighbors=10, p=2;, score=0.806 total time=   0.2s\n",
      "[CV 5/5] END algorithm=brute, leaf_size=17, n_neighbors=10, p=2;, score=0.805 total time=   0.1s\n",
      "[CV 1/5] END algorithm=brute, leaf_size=17, n_neighbors=11, p=1;, score=0.801 total time=   0.2s\n",
      "[CV 2/5] END algorithm=brute, leaf_size=17, n_neighbors=11, p=1;, score=0.792 total time=   0.2s\n",
      "[CV 3/5] END algorithm=brute, leaf_size=17, n_neighbors=11, p=1;, score=0.803 total time=   0.2s\n",
      "[CV 4/5] END algorithm=brute, leaf_size=17, n_neighbors=11, p=1;, score=0.806 total time=   0.2s\n",
      "[CV 5/5] END algorithm=brute, leaf_size=17, n_neighbors=11, p=1;, score=0.800 total time=   0.2s\n",
      "[CV 1/5] END algorithm=brute, leaf_size=17, n_neighbors=11, p=2;, score=0.799 total time=   0.2s\n",
      "[CV 2/5] END algorithm=brute, leaf_size=17, n_neighbors=11, p=2;, score=0.792 total time=   0.2s\n",
      "[CV 3/5] END algorithm=brute, leaf_size=17, n_neighbors=11, p=2;, score=0.806 total time=   0.2s\n",
      "[CV 4/5] END algorithm=brute, leaf_size=17, n_neighbors=11, p=2;, score=0.800 total time=   0.2s\n",
      "[CV 5/5] END algorithm=brute, leaf_size=17, n_neighbors=11, p=2;, score=0.806 total time=   0.2s\n",
      "[CV 1/5] END algorithm=brute, leaf_size=24, n_neighbors=4, p=1;, score=0.804 total time=   0.2s\n",
      "[CV 2/5] END algorithm=brute, leaf_size=24, n_neighbors=4, p=1;, score=0.803 total time=   0.2s\n",
      "[CV 3/5] END algorithm=brute, leaf_size=24, n_neighbors=4, p=1;, score=0.806 total time=   0.2s\n",
      "[CV 4/5] END algorithm=brute, leaf_size=24, n_neighbors=4, p=1;, score=0.810 total time=   0.2s\n",
      "[CV 5/5] END algorithm=brute, leaf_size=24, n_neighbors=4, p=1;, score=0.815 total time=   0.2s\n",
      "[CV 1/5] END algorithm=brute, leaf_size=24, n_neighbors=4, p=2;, score=0.803 total time=   0.1s\n",
      "[CV 2/5] END algorithm=brute, leaf_size=24, n_neighbors=4, p=2;, score=0.797 total time=   0.1s\n",
      "[CV 3/5] END algorithm=brute, leaf_size=24, n_neighbors=4, p=2;, score=0.800 total time=   0.1s\n",
      "[CV 4/5] END algorithm=brute, leaf_size=24, n_neighbors=4, p=2;, score=0.807 total time=   0.2s\n",
      "[CV 5/5] END algorithm=brute, leaf_size=24, n_neighbors=4, p=2;, score=0.809 total time=   0.1s\n",
      "[CV 1/5] END algorithm=brute, leaf_size=24, n_neighbors=5, p=1;, score=0.802 total time=   0.1s\n",
      "[CV 2/5] END algorithm=brute, leaf_size=24, n_neighbors=5, p=1;, score=0.799 total time=   0.1s\n",
      "[CV 3/5] END algorithm=brute, leaf_size=24, n_neighbors=5, p=1;, score=0.813 total time=   0.2s\n",
      "[CV 4/5] END algorithm=brute, leaf_size=24, n_neighbors=5, p=1;, score=0.809 total time=   0.1s\n",
      "[CV 5/5] END algorithm=brute, leaf_size=24, n_neighbors=5, p=1;, score=0.813 total time=   0.1s\n",
      "[CV 1/5] END algorithm=brute, leaf_size=24, n_neighbors=5, p=2;, score=0.801 total time=   0.1s\n",
      "[CV 2/5] END algorithm=brute, leaf_size=24, n_neighbors=5, p=2;, score=0.794 total time=   0.1s\n",
      "[CV 3/5] END algorithm=brute, leaf_size=24, n_neighbors=5, p=2;, score=0.802 total time=   0.1s\n",
      "[CV 4/5] END algorithm=brute, leaf_size=24, n_neighbors=5, p=2;, score=0.804 total time=   0.1s\n",
      "[CV 5/5] END algorithm=brute, leaf_size=24, n_neighbors=5, p=2;, score=0.809 total time=   0.1s\n",
      "[CV 1/5] END algorithm=brute, leaf_size=24, n_neighbors=8, p=1;, score=0.799 total time=   0.1s\n",
      "[CV 2/5] END algorithm=brute, leaf_size=24, n_neighbors=8, p=1;, score=0.792 total time=   0.1s\n",
      "[CV 3/5] END algorithm=brute, leaf_size=24, n_neighbors=8, p=1;, score=0.804 total time=   0.2s\n",
      "[CV 4/5] END algorithm=brute, leaf_size=24, n_neighbors=8, p=1;, score=0.812 total time=   0.1s\n",
      "[CV 5/5] END algorithm=brute, leaf_size=24, n_neighbors=8, p=1;, score=0.812 total time=   0.1s\n",
      "[CV 1/5] END algorithm=brute, leaf_size=24, n_neighbors=8, p=2;, score=0.799 total time=   0.1s\n",
      "[CV 2/5] END algorithm=brute, leaf_size=24, n_neighbors=8, p=2;, score=0.794 total time=   0.1s\n",
      "[CV 3/5] END algorithm=brute, leaf_size=24, n_neighbors=8, p=2;, score=0.806 total time=   0.1s\n",
      "[CV 4/5] END algorithm=brute, leaf_size=24, n_neighbors=8, p=2;, score=0.806 total time=   0.1s\n",
      "[CV 5/5] END algorithm=brute, leaf_size=24, n_neighbors=8, p=2;, score=0.806 total time=   0.2s\n",
      "[CV 1/5] END algorithm=brute, leaf_size=24, n_neighbors=10, p=1;, score=0.800 total time=   0.2s\n",
      "[CV 2/5] END algorithm=brute, leaf_size=24, n_neighbors=10, p=1;, score=0.792 total time=   0.2s\n",
      "[CV 3/5] END algorithm=brute, leaf_size=24, n_neighbors=10, p=1;, score=0.801 total time=   0.2s\n",
      "[CV 4/5] END algorithm=brute, leaf_size=24, n_neighbors=10, p=1;, score=0.810 total time=   0.2s\n",
      "[CV 5/5] END algorithm=brute, leaf_size=24, n_neighbors=10, p=1;, score=0.800 total time=   0.2s\n",
      "[CV 1/5] END algorithm=brute, leaf_size=24, n_neighbors=10, p=2;, score=0.796 total time=   0.2s\n",
      "[CV 2/5] END algorithm=brute, leaf_size=24, n_neighbors=10, p=2;, score=0.791 total time=   0.2s\n",
      "[CV 3/5] END algorithm=brute, leaf_size=24, n_neighbors=10, p=2;, score=0.802 total time=   0.2s\n",
      "[CV 4/5] END algorithm=brute, leaf_size=24, n_neighbors=10, p=2;, score=0.806 total time=   0.2s\n",
      "[CV 5/5] END algorithm=brute, leaf_size=24, n_neighbors=10, p=2;, score=0.805 total time=   0.2s\n",
      "[CV 1/5] END algorithm=brute, leaf_size=24, n_neighbors=11, p=1;, score=0.801 total time=   0.2s\n",
      "[CV 2/5] END algorithm=brute, leaf_size=24, n_neighbors=11, p=1;, score=0.792 total time=   0.2s\n",
      "[CV 3/5] END algorithm=brute, leaf_size=24, n_neighbors=11, p=1;, score=0.803 total time=   0.2s\n",
      "[CV 4/5] END algorithm=brute, leaf_size=24, n_neighbors=11, p=1;, score=0.806 total time=   0.2s\n",
      "[CV 5/5] END algorithm=brute, leaf_size=24, n_neighbors=11, p=1;, score=0.800 total time=   0.2s\n",
      "[CV 1/5] END algorithm=brute, leaf_size=24, n_neighbors=11, p=2;, score=0.799 total time=   0.2s\n",
      "[CV 2/5] END algorithm=brute, leaf_size=24, n_neighbors=11, p=2;, score=0.792 total time=   0.2s\n",
      "[CV 3/5] END algorithm=brute, leaf_size=24, n_neighbors=11, p=2;, score=0.806 total time=   0.2s\n",
      "[CV 4/5] END algorithm=brute, leaf_size=24, n_neighbors=11, p=2;, score=0.800 total time=   0.2s\n",
      "[CV 5/5] END algorithm=brute, leaf_size=24, n_neighbors=11, p=2;, score=0.806 total time=   0.2s\n",
      "[CV 1/5] END algorithm=brute, leaf_size=28, n_neighbors=4, p=1;, score=0.804 total time=   0.2s\n",
      "[CV 2/5] END algorithm=brute, leaf_size=28, n_neighbors=4, p=1;, score=0.803 total time=   0.2s\n",
      "[CV 3/5] END algorithm=brute, leaf_size=28, n_neighbors=4, p=1;, score=0.806 total time=   0.2s\n",
      "[CV 4/5] END algorithm=brute, leaf_size=28, n_neighbors=4, p=1;, score=0.810 total time=   0.2s\n",
      "[CV 5/5] END algorithm=brute, leaf_size=28, n_neighbors=4, p=1;, score=0.815 total time=   0.2s\n",
      "[CV 1/5] END algorithm=brute, leaf_size=28, n_neighbors=4, p=2;, score=0.803 total time=   0.2s\n",
      "[CV 2/5] END algorithm=brute, leaf_size=28, n_neighbors=4, p=2;, score=0.797 total time=   0.2s\n",
      "[CV 3/5] END algorithm=brute, leaf_size=28, n_neighbors=4, p=2;, score=0.800 total time=   0.2s\n",
      "[CV 4/5] END algorithm=brute, leaf_size=28, n_neighbors=4, p=2;, score=0.807 total time=   0.2s\n",
      "[CV 5/5] END algorithm=brute, leaf_size=28, n_neighbors=4, p=2;, score=0.809 total time=   0.2s\n",
      "[CV 1/5] END algorithm=brute, leaf_size=28, n_neighbors=5, p=1;, score=0.802 total time=   0.2s\n",
      "[CV 2/5] END algorithm=brute, leaf_size=28, n_neighbors=5, p=1;, score=0.799 total time=   0.2s\n",
      "[CV 3/5] END algorithm=brute, leaf_size=28, n_neighbors=5, p=1;, score=0.813 total time=   0.2s\n",
      "[CV 4/5] END algorithm=brute, leaf_size=28, n_neighbors=5, p=1;, score=0.809 total time=   0.2s\n",
      "[CV 5/5] END algorithm=brute, leaf_size=28, n_neighbors=5, p=1;, score=0.813 total time=   0.2s\n",
      "[CV 1/5] END algorithm=brute, leaf_size=28, n_neighbors=5, p=2;, score=0.801 total time=   0.2s\n",
      "[CV 2/5] END algorithm=brute, leaf_size=28, n_neighbors=5, p=2;, score=0.794 total time=   0.2s\n",
      "[CV 3/5] END algorithm=brute, leaf_size=28, n_neighbors=5, p=2;, score=0.802 total time=   0.1s\n",
      "[CV 4/5] END algorithm=brute, leaf_size=28, n_neighbors=5, p=2;, score=0.804 total time=   0.1s\n",
      "[CV 5/5] END algorithm=brute, leaf_size=28, n_neighbors=5, p=2;, score=0.809 total time=   0.1s\n",
      "[CV 1/5] END algorithm=brute, leaf_size=28, n_neighbors=8, p=1;, score=0.799 total time=   0.1s\n",
      "[CV 2/5] END algorithm=brute, leaf_size=28, n_neighbors=8, p=1;, score=0.792 total time=   0.1s\n",
      "[CV 3/5] END algorithm=brute, leaf_size=28, n_neighbors=8, p=1;, score=0.804 total time=   0.1s\n",
      "[CV 4/5] END algorithm=brute, leaf_size=28, n_neighbors=8, p=1;, score=0.812 total time=   0.1s\n",
      "[CV 5/5] END algorithm=brute, leaf_size=28, n_neighbors=8, p=1;, score=0.812 total time=   0.1s\n",
      "[CV 1/5] END algorithm=brute, leaf_size=28, n_neighbors=8, p=2;, score=0.799 total time=   0.1s\n",
      "[CV 2/5] END algorithm=brute, leaf_size=28, n_neighbors=8, p=2;, score=0.794 total time=   0.1s\n",
      "[CV 3/5] END algorithm=brute, leaf_size=28, n_neighbors=8, p=2;, score=0.806 total time=   0.1s\n",
      "[CV 4/5] END algorithm=brute, leaf_size=28, n_neighbors=8, p=2;, score=0.806 total time=   0.1s\n",
      "[CV 5/5] END algorithm=brute, leaf_size=28, n_neighbors=8, p=2;, score=0.806 total time=   0.0s\n",
      "[CV 1/5] END algorithm=brute, leaf_size=28, n_neighbors=10, p=1;, score=0.800 total time=   0.2s\n",
      "[CV 2/5] END algorithm=brute, leaf_size=28, n_neighbors=10, p=1;, score=0.792 total time=   0.1s\n",
      "[CV 3/5] END algorithm=brute, leaf_size=28, n_neighbors=10, p=1;, score=0.801 total time=   0.1s\n",
      "[CV 4/5] END algorithm=brute, leaf_size=28, n_neighbors=10, p=1;, score=0.810 total time=   0.1s\n",
      "[CV 5/5] END algorithm=brute, leaf_size=28, n_neighbors=10, p=1;, score=0.800 total time=   0.1s\n",
      "[CV 1/5] END algorithm=brute, leaf_size=28, n_neighbors=10, p=2;, score=0.796 total time=   0.1s\n",
      "[CV 2/5] END algorithm=brute, leaf_size=28, n_neighbors=10, p=2;, score=0.791 total time=   0.2s\n",
      "[CV 3/5] END algorithm=brute, leaf_size=28, n_neighbors=10, p=2;, score=0.802 total time=   0.2s\n",
      "[CV 4/5] END algorithm=brute, leaf_size=28, n_neighbors=10, p=2;, score=0.806 total time=   0.2s\n",
      "[CV 5/5] END algorithm=brute, leaf_size=28, n_neighbors=10, p=2;, score=0.805 total time=   0.1s\n",
      "[CV 1/5] END algorithm=brute, leaf_size=28, n_neighbors=11, p=1;, score=0.801 total time=   0.2s\n",
      "[CV 2/5] END algorithm=brute, leaf_size=28, n_neighbors=11, p=1;, score=0.792 total time=   0.2s\n",
      "[CV 3/5] END algorithm=brute, leaf_size=28, n_neighbors=11, p=1;, score=0.803 total time=   0.2s\n",
      "[CV 4/5] END algorithm=brute, leaf_size=28, n_neighbors=11, p=1;, score=0.806 total time=   0.2s\n",
      "[CV 5/5] END algorithm=brute, leaf_size=28, n_neighbors=11, p=1;, score=0.800 total time=   0.2s\n",
      "[CV 1/5] END algorithm=brute, leaf_size=28, n_neighbors=11, p=2;, score=0.799 total time=   0.2s\n",
      "[CV 2/5] END algorithm=brute, leaf_size=28, n_neighbors=11, p=2;, score=0.792 total time=   0.2s\n",
      "[CV 3/5] END algorithm=brute, leaf_size=28, n_neighbors=11, p=2;, score=0.806 total time=   0.2s\n",
      "[CV 4/5] END algorithm=brute, leaf_size=28, n_neighbors=11, p=2;, score=0.800 total time=   0.2s\n",
      "[CV 5/5] END algorithm=brute, leaf_size=28, n_neighbors=11, p=2;, score=0.806 total time=   0.2s\n",
      "[CV 1/5] END algorithm=brute, leaf_size=30, n_neighbors=4, p=1;, score=0.804 total time=   0.2s\n",
      "[CV 2/5] END algorithm=brute, leaf_size=30, n_neighbors=4, p=1;, score=0.803 total time=   0.2s\n",
      "[CV 3/5] END algorithm=brute, leaf_size=30, n_neighbors=4, p=1;, score=0.806 total time=   0.2s\n",
      "[CV 4/5] END algorithm=brute, leaf_size=30, n_neighbors=4, p=1;, score=0.810 total time=   0.2s\n",
      "[CV 5/5] END algorithm=brute, leaf_size=30, n_neighbors=4, p=1;, score=0.815 total time=   0.2s\n",
      "[CV 1/5] END algorithm=brute, leaf_size=30, n_neighbors=4, p=2;, score=0.803 total time=   0.2s\n",
      "[CV 2/5] END algorithm=brute, leaf_size=30, n_neighbors=4, p=2;, score=0.797 total time=   0.2s\n",
      "[CV 3/5] END algorithm=brute, leaf_size=30, n_neighbors=4, p=2;, score=0.800 total time=   0.2s\n",
      "[CV 4/5] END algorithm=brute, leaf_size=30, n_neighbors=4, p=2;, score=0.807 total time=   0.2s\n",
      "[CV 5/5] END algorithm=brute, leaf_size=30, n_neighbors=4, p=2;, score=0.809 total time=   0.2s\n",
      "[CV 1/5] END algorithm=brute, leaf_size=30, n_neighbors=5, p=1;, score=0.802 total time=   0.2s\n",
      "[CV 2/5] END algorithm=brute, leaf_size=30, n_neighbors=5, p=1;, score=0.799 total time=   0.2s\n",
      "[CV 3/5] END algorithm=brute, leaf_size=30, n_neighbors=5, p=1;, score=0.813 total time=   0.2s\n",
      "[CV 4/5] END algorithm=brute, leaf_size=30, n_neighbors=5, p=1;, score=0.809 total time=   0.2s\n",
      "[CV 5/5] END algorithm=brute, leaf_size=30, n_neighbors=5, p=1;, score=0.813 total time=   0.2s\n",
      "[CV 1/5] END algorithm=brute, leaf_size=30, n_neighbors=5, p=2;, score=0.801 total time=   0.2s\n",
      "[CV 2/5] END algorithm=brute, leaf_size=30, n_neighbors=5, p=2;, score=0.794 total time=   0.2s\n",
      "[CV 3/5] END algorithm=brute, leaf_size=30, n_neighbors=5, p=2;, score=0.802 total time=   0.2s\n",
      "[CV 4/5] END algorithm=brute, leaf_size=30, n_neighbors=5, p=2;, score=0.804 total time=   0.2s\n",
      "[CV 5/5] END algorithm=brute, leaf_size=30, n_neighbors=5, p=2;, score=0.809 total time=   0.2s\n",
      "[CV 1/5] END algorithm=brute, leaf_size=30, n_neighbors=8, p=1;, score=0.799 total time=   0.2s\n",
      "[CV 2/5] END algorithm=brute, leaf_size=30, n_neighbors=8, p=1;, score=0.792 total time=   0.2s\n",
      "[CV 3/5] END algorithm=brute, leaf_size=30, n_neighbors=8, p=1;, score=0.804 total time=   0.2s\n",
      "[CV 4/5] END algorithm=brute, leaf_size=30, n_neighbors=8, p=1;, score=0.812 total time=   0.2s\n",
      "[CV 5/5] END algorithm=brute, leaf_size=30, n_neighbors=8, p=1;, score=0.812 total time=   0.2s\n",
      "[CV 1/5] END algorithm=brute, leaf_size=30, n_neighbors=8, p=2;, score=0.799 total time=   0.2s\n",
      "[CV 2/5] END algorithm=brute, leaf_size=30, n_neighbors=8, p=2;, score=0.794 total time=   0.1s\n",
      "[CV 3/5] END algorithm=brute, leaf_size=30, n_neighbors=8, p=2;, score=0.806 total time=   0.1s\n",
      "[CV 4/5] END algorithm=brute, leaf_size=30, n_neighbors=8, p=2;, score=0.806 total time=   0.1s\n",
      "[CV 5/5] END algorithm=brute, leaf_size=30, n_neighbors=8, p=2;, score=0.806 total time=   0.1s\n",
      "[CV 1/5] END algorithm=brute, leaf_size=30, n_neighbors=10, p=1;, score=0.800 total time=   0.1s\n",
      "[CV 2/5] END algorithm=brute, leaf_size=30, n_neighbors=10, p=1;, score=0.792 total time=   0.1s\n",
      "[CV 3/5] END algorithm=brute, leaf_size=30, n_neighbors=10, p=1;, score=0.801 total time=   0.1s\n",
      "[CV 4/5] END algorithm=brute, leaf_size=30, n_neighbors=10, p=1;, score=0.810 total time=   0.1s\n",
      "[CV 5/5] END algorithm=brute, leaf_size=30, n_neighbors=10, p=1;, score=0.800 total time=   0.1s\n",
      "[CV 1/5] END algorithm=brute, leaf_size=30, n_neighbors=10, p=2;, score=0.796 total time=   0.1s\n",
      "[CV 2/5] END algorithm=brute, leaf_size=30, n_neighbors=10, p=2;, score=0.791 total time=   0.1s\n",
      "[CV 3/5] END algorithm=brute, leaf_size=30, n_neighbors=10, p=2;, score=0.802 total time=   0.1s\n",
      "[CV 4/5] END algorithm=brute, leaf_size=30, n_neighbors=10, p=2;, score=0.806 total time=   0.1s\n",
      "[CV 5/5] END algorithm=brute, leaf_size=30, n_neighbors=10, p=2;, score=0.805 total time=   0.2s\n",
      "[CV 1/5] END algorithm=brute, leaf_size=30, n_neighbors=11, p=1;, score=0.801 total time=   0.1s\n",
      "[CV 2/5] END algorithm=brute, leaf_size=30, n_neighbors=11, p=1;, score=0.792 total time=   0.1s\n",
      "[CV 3/5] END algorithm=brute, leaf_size=30, n_neighbors=11, p=1;, score=0.803 total time=   0.1s\n",
      "[CV 4/5] END algorithm=brute, leaf_size=30, n_neighbors=11, p=1;, score=0.806 total time=   0.1s\n",
      "[CV 5/5] END algorithm=brute, leaf_size=30, n_neighbors=11, p=1;, score=0.800 total time=   0.2s\n",
      "[CV 1/5] END algorithm=brute, leaf_size=30, n_neighbors=11, p=2;, score=0.799 total time=   0.2s\n",
      "[CV 2/5] END algorithm=brute, leaf_size=30, n_neighbors=11, p=2;, score=0.792 total time=   0.2s\n",
      "[CV 3/5] END algorithm=brute, leaf_size=30, n_neighbors=11, p=2;, score=0.806 total time=   0.2s\n",
      "[CV 4/5] END algorithm=brute, leaf_size=30, n_neighbors=11, p=2;, score=0.800 total time=   0.2s\n",
      "[CV 5/5] END algorithm=brute, leaf_size=30, n_neighbors=11, p=2;, score=0.806 total time=   0.2s\n",
      "[CV 1/5] END algorithm=brute, leaf_size=35, n_neighbors=4, p=1;, score=0.804 total time=   0.2s\n",
      "[CV 2/5] END algorithm=brute, leaf_size=35, n_neighbors=4, p=1;, score=0.803 total time=   0.2s\n",
      "[CV 3/5] END algorithm=brute, leaf_size=35, n_neighbors=4, p=1;, score=0.806 total time=   0.2s\n",
      "[CV 4/5] END algorithm=brute, leaf_size=35, n_neighbors=4, p=1;, score=0.810 total time=   0.2s\n",
      "[CV 5/5] END algorithm=brute, leaf_size=35, n_neighbors=4, p=1;, score=0.815 total time=   0.2s\n",
      "[CV 1/5] END algorithm=brute, leaf_size=35, n_neighbors=4, p=2;, score=0.803 total time=   0.2s\n",
      "[CV 2/5] END algorithm=brute, leaf_size=35, n_neighbors=4, p=2;, score=0.797 total time=   0.2s\n",
      "[CV 3/5] END algorithm=brute, leaf_size=35, n_neighbors=4, p=2;, score=0.800 total time=   0.2s\n",
      "[CV 4/5] END algorithm=brute, leaf_size=35, n_neighbors=4, p=2;, score=0.807 total time=   0.2s\n",
      "[CV 5/5] END algorithm=brute, leaf_size=35, n_neighbors=4, p=2;, score=0.809 total time=   0.2s\n",
      "[CV 1/5] END algorithm=brute, leaf_size=35, n_neighbors=5, p=1;, score=0.802 total time=   0.2s\n",
      "[CV 2/5] END algorithm=brute, leaf_size=35, n_neighbors=5, p=1;, score=0.799 total time=   0.2s\n",
      "[CV 3/5] END algorithm=brute, leaf_size=35, n_neighbors=5, p=1;, score=0.813 total time=   0.2s\n",
      "[CV 4/5] END algorithm=brute, leaf_size=35, n_neighbors=5, p=1;, score=0.809 total time=   0.2s\n",
      "[CV 5/5] END algorithm=brute, leaf_size=35, n_neighbors=5, p=1;, score=0.813 total time=   0.2s\n",
      "[CV 1/5] END algorithm=brute, leaf_size=35, n_neighbors=5, p=2;, score=0.801 total time=   0.3s\n",
      "[CV 2/5] END algorithm=brute, leaf_size=35, n_neighbors=5, p=2;, score=0.794 total time=   0.2s\n",
      "[CV 3/5] END algorithm=brute, leaf_size=35, n_neighbors=5, p=2;, score=0.802 total time=   0.2s\n",
      "[CV 4/5] END algorithm=brute, leaf_size=35, n_neighbors=5, p=2;, score=0.804 total time=   0.2s\n",
      "[CV 5/5] END algorithm=brute, leaf_size=35, n_neighbors=5, p=2;, score=0.809 total time=   0.2s\n",
      "[CV 1/5] END algorithm=brute, leaf_size=35, n_neighbors=8, p=1;, score=0.799 total time=   0.2s\n",
      "[CV 2/5] END algorithm=brute, leaf_size=35, n_neighbors=8, p=1;, score=0.792 total time=   0.2s\n",
      "[CV 3/5] END algorithm=brute, leaf_size=35, n_neighbors=8, p=1;, score=0.804 total time=   0.2s\n",
      "[CV 4/5] END algorithm=brute, leaf_size=35, n_neighbors=8, p=1;, score=0.812 total time=   0.2s\n",
      "[CV 5/5] END algorithm=brute, leaf_size=35, n_neighbors=8, p=1;, score=0.812 total time=   0.2s\n",
      "[CV 1/5] END algorithm=brute, leaf_size=35, n_neighbors=8, p=2;, score=0.799 total time=   0.2s\n",
      "[CV 2/5] END algorithm=brute, leaf_size=35, n_neighbors=8, p=2;, score=0.794 total time=   0.2s\n",
      "[CV 3/5] END algorithm=brute, leaf_size=35, n_neighbors=8, p=2;, score=0.806 total time=   0.2s\n",
      "[CV 4/5] END algorithm=brute, leaf_size=35, n_neighbors=8, p=2;, score=0.806 total time=   0.2s\n",
      "[CV 5/5] END algorithm=brute, leaf_size=35, n_neighbors=8, p=2;, score=0.806 total time=   0.2s\n",
      "[CV 1/5] END algorithm=brute, leaf_size=35, n_neighbors=10, p=1;, score=0.800 total time=   0.2s\n",
      "[CV 2/5] END algorithm=brute, leaf_size=35, n_neighbors=10, p=1;, score=0.792 total time=   0.2s\n",
      "[CV 3/5] END algorithm=brute, leaf_size=35, n_neighbors=10, p=1;, score=0.801 total time=   0.2s\n",
      "[CV 4/5] END algorithm=brute, leaf_size=35, n_neighbors=10, p=1;, score=0.810 total time=   0.2s\n",
      "[CV 5/5] END algorithm=brute, leaf_size=35, n_neighbors=10, p=1;, score=0.800 total time=   0.1s\n",
      "[CV 1/5] END algorithm=brute, leaf_size=35, n_neighbors=10, p=2;, score=0.796 total time=   0.1s\n",
      "[CV 2/5] END algorithm=brute, leaf_size=35, n_neighbors=10, p=2;, score=0.791 total time=   0.1s\n",
      "[CV 3/5] END algorithm=brute, leaf_size=35, n_neighbors=10, p=2;, score=0.802 total time=   0.1s\n",
      "[CV 4/5] END algorithm=brute, leaf_size=35, n_neighbors=10, p=2;, score=0.806 total time=   0.1s\n",
      "[CV 5/5] END algorithm=brute, leaf_size=35, n_neighbors=10, p=2;, score=0.805 total time=   0.1s\n",
      "[CV 1/5] END algorithm=brute, leaf_size=35, n_neighbors=11, p=1;, score=0.801 total time=   0.1s\n",
      "[CV 2/5] END algorithm=brute, leaf_size=35, n_neighbors=11, p=1;, score=0.792 total time=   0.1s\n",
      "[CV 3/5] END algorithm=brute, leaf_size=35, n_neighbors=11, p=1;, score=0.803 total time=   0.1s\n",
      "[CV 4/5] END algorithm=brute, leaf_size=35, n_neighbors=11, p=1;, score=0.806 total time=   0.1s\n",
      "[CV 5/5] END algorithm=brute, leaf_size=35, n_neighbors=11, p=1;, score=0.800 total time=   0.1s\n",
      "[CV 1/5] END algorithm=brute, leaf_size=35, n_neighbors=11, p=2;, score=0.799 total time=   0.1s\n",
      "[CV 2/5] END algorithm=brute, leaf_size=35, n_neighbors=11, p=2;, score=0.792 total time=   0.2s\n",
      "[CV 3/5] END algorithm=brute, leaf_size=35, n_neighbors=11, p=2;, score=0.806 total time=   0.1s\n",
      "[CV 4/5] END algorithm=brute, leaf_size=35, n_neighbors=11, p=2;, score=0.800 total time=   0.1s\n",
      "[CV 5/5] END algorithm=brute, leaf_size=35, n_neighbors=11, p=2;, score=0.806 total time=   0.1s\n"
     ]
    },
    {
     "data": {
      "text/html": [
       "<style>#sk-container-id-2 {color: black;background-color: white;}#sk-container-id-2 pre{padding: 0;}#sk-container-id-2 div.sk-toggleable {background-color: white;}#sk-container-id-2 label.sk-toggleable__label {cursor: pointer;display: block;width: 100%;margin-bottom: 0;padding: 0.3em;box-sizing: border-box;text-align: center;}#sk-container-id-2 label.sk-toggleable__label-arrow:before {content: \"▸\";float: left;margin-right: 0.25em;color: #696969;}#sk-container-id-2 label.sk-toggleable__label-arrow:hover:before {color: black;}#sk-container-id-2 div.sk-estimator:hover label.sk-toggleable__label-arrow:before {color: black;}#sk-container-id-2 div.sk-toggleable__content {max-height: 0;max-width: 0;overflow: hidden;text-align: left;background-color: #f0f8ff;}#sk-container-id-2 div.sk-toggleable__content pre {margin: 0.2em;color: black;border-radius: 0.25em;background-color: #f0f8ff;}#sk-container-id-2 input.sk-toggleable__control:checked~div.sk-toggleable__content {max-height: 200px;max-width: 100%;overflow: auto;}#sk-container-id-2 input.sk-toggleable__control:checked~label.sk-toggleable__label-arrow:before {content: \"▾\";}#sk-container-id-2 div.sk-estimator input.sk-toggleable__control:checked~label.sk-toggleable__label {background-color: #d4ebff;}#sk-container-id-2 div.sk-label input.sk-toggleable__control:checked~label.sk-toggleable__label {background-color: #d4ebff;}#sk-container-id-2 input.sk-hidden--visually {border: 0;clip: rect(1px 1px 1px 1px);clip: rect(1px, 1px, 1px, 1px);height: 1px;margin: -1px;overflow: hidden;padding: 0;position: absolute;width: 1px;}#sk-container-id-2 div.sk-estimator {font-family: monospace;background-color: #f0f8ff;border: 1px dotted black;border-radius: 0.25em;box-sizing: border-box;margin-bottom: 0.5em;}#sk-container-id-2 div.sk-estimator:hover {background-color: #d4ebff;}#sk-container-id-2 div.sk-parallel-item::after {content: \"\";width: 100%;border-bottom: 1px solid gray;flex-grow: 1;}#sk-container-id-2 div.sk-label:hover label.sk-toggleable__label {background-color: #d4ebff;}#sk-container-id-2 div.sk-serial::before {content: \"\";position: absolute;border-left: 1px solid gray;box-sizing: border-box;top: 0;bottom: 0;left: 50%;z-index: 0;}#sk-container-id-2 div.sk-serial {display: flex;flex-direction: column;align-items: center;background-color: white;padding-right: 0.2em;padding-left: 0.2em;position: relative;}#sk-container-id-2 div.sk-item {position: relative;z-index: 1;}#sk-container-id-2 div.sk-parallel {display: flex;align-items: stretch;justify-content: center;background-color: white;position: relative;}#sk-container-id-2 div.sk-item::before, #sk-container-id-2 div.sk-parallel-item::before {content: \"\";position: absolute;border-left: 1px solid gray;box-sizing: border-box;top: 0;bottom: 0;left: 50%;z-index: -1;}#sk-container-id-2 div.sk-parallel-item {display: flex;flex-direction: column;z-index: 1;position: relative;background-color: white;}#sk-container-id-2 div.sk-parallel-item:first-child::after {align-self: flex-end;width: 50%;}#sk-container-id-2 div.sk-parallel-item:last-child::after {align-self: flex-start;width: 50%;}#sk-container-id-2 div.sk-parallel-item:only-child::after {width: 0;}#sk-container-id-2 div.sk-dashed-wrapped {border: 1px dashed gray;margin: 0 0.4em 0.5em 0.4em;box-sizing: border-box;padding-bottom: 0.4em;background-color: white;}#sk-container-id-2 div.sk-label label {font-family: monospace;font-weight: bold;display: inline-block;line-height: 1.2em;}#sk-container-id-2 div.sk-label-container {text-align: center;}#sk-container-id-2 div.sk-container {/* jupyter's `normalize.less` sets `[hidden] { display: none; }` but bootstrap.min.css set `[hidden] { display: none !important; }` so we also need the `!important` here to be able to override the default hidden behavior on the sphinx rendered scikit-learn.org. See: https://github.com/scikit-learn/scikit-learn/issues/21755 */display: inline-block !important;position: relative;}#sk-container-id-2 div.sk-text-repr-fallback {display: none;}</style><div id=\"sk-container-id-2\" class=\"sk-top-container\"><div class=\"sk-text-repr-fallback\"><pre>KNeighborsClassifier(algorithm=&#x27;ball_tree&#x27;, leaf_size=10, n_jobs=-1,\n",
       "                     n_neighbors=4, p=1)</pre><b>In a Jupyter environment, please rerun this cell to show the HTML representation or trust the notebook. <br />On GitHub, the HTML representation is unable to render, please try loading this page with nbviewer.org.</b></div><div class=\"sk-container\" hidden><div class=\"sk-item\"><div class=\"sk-estimator sk-toggleable\"><input class=\"sk-toggleable__control sk-hidden--visually\" id=\"sk-estimator-id-11\" type=\"checkbox\" checked><label for=\"sk-estimator-id-11\" class=\"sk-toggleable__label sk-toggleable__label-arrow\">KNeighborsClassifier</label><div class=\"sk-toggleable__content\"><pre>KNeighborsClassifier(algorithm=&#x27;ball_tree&#x27;, leaf_size=10, n_jobs=-1,\n",
       "                     n_neighbors=4, p=1)</pre></div></div></div></div></div>"
      ],
      "text/plain": [
       "KNeighborsClassifier(algorithm='ball_tree', leaf_size=10, n_jobs=-1,\n",
       "                     n_neighbors=4, p=1)"
      ]
     },
     "execution_count": 45,
     "metadata": {},
     "output_type": "execute_result"
    }
   ],
   "source": [
    "param_grid_knn = {\n",
    "                'algorithm' : ['ball_tree', 'kd_tree', 'brute'],\n",
    "                'leaf_size' : [10,17,24,28,30,35],\n",
    "                'n_neighbors':[4,5,8,10,11],\n",
    "                'p':[1,2]\n",
    "}\n",
    "\n",
    "            # Creating an object of the Grid Search class\n",
    "grid = GridSearchCV(KNeighborsClassifier(), param_grid_knn, verbose=3, cv=5)\n",
    "            # finding the best parameters\n",
    "grid.fit(X_train, y_train)\n",
    "\n",
    "            # extracting the best parameters\n",
    "algorithm = grid.best_params_['algorithm']\n",
    "leaf_size = grid.best_params_['leaf_size']\n",
    "n_neighbors = grid.best_params_['n_neighbors']\n",
    "p  = grid.best_params_['p']\n",
    "\n",
    "            # creating a new model with the best parameters\n",
    "knn = KNeighborsClassifier(algorithm=algorithm, leaf_size=leaf_size, n_neighbors=n_neighbors,p=p,n_jobs=-1)\n",
    "            # training the mew model\n",
    "knn.fit(X_train, y_train)\n",
    "#         print('KNN best params: ' + str(grid.best_params_) + '. Exited the KNN method of the Model_Finder class')\n",
    "\n"
   ]
  },
  {
   "cell_type": "code",
   "execution_count": 51,
   "id": "aa43e815",
   "metadata": {},
   "outputs": [],
   "source": [
    "knn1=KNeighborsClassifier(algorithm='ball_tree', leaf_size=10, n_jobs=-1,\n",
    "                     n_neighbors=4, p=1)"
   ]
  },
  {
   "cell_type": "code",
   "execution_count": 62,
   "id": "4270e696",
   "metadata": {},
   "outputs": [
    {
     "data": {
      "text/html": [
       "<style>#sk-container-id-4 {color: black;background-color: white;}#sk-container-id-4 pre{padding: 0;}#sk-container-id-4 div.sk-toggleable {background-color: white;}#sk-container-id-4 label.sk-toggleable__label {cursor: pointer;display: block;width: 100%;margin-bottom: 0;padding: 0.3em;box-sizing: border-box;text-align: center;}#sk-container-id-4 label.sk-toggleable__label-arrow:before {content: \"▸\";float: left;margin-right: 0.25em;color: #696969;}#sk-container-id-4 label.sk-toggleable__label-arrow:hover:before {color: black;}#sk-container-id-4 div.sk-estimator:hover label.sk-toggleable__label-arrow:before {color: black;}#sk-container-id-4 div.sk-toggleable__content {max-height: 0;max-width: 0;overflow: hidden;text-align: left;background-color: #f0f8ff;}#sk-container-id-4 div.sk-toggleable__content pre {margin: 0.2em;color: black;border-radius: 0.25em;background-color: #f0f8ff;}#sk-container-id-4 input.sk-toggleable__control:checked~div.sk-toggleable__content {max-height: 200px;max-width: 100%;overflow: auto;}#sk-container-id-4 input.sk-toggleable__control:checked~label.sk-toggleable__label-arrow:before {content: \"▾\";}#sk-container-id-4 div.sk-estimator input.sk-toggleable__control:checked~label.sk-toggleable__label {background-color: #d4ebff;}#sk-container-id-4 div.sk-label input.sk-toggleable__control:checked~label.sk-toggleable__label {background-color: #d4ebff;}#sk-container-id-4 input.sk-hidden--visually {border: 0;clip: rect(1px 1px 1px 1px);clip: rect(1px, 1px, 1px, 1px);height: 1px;margin: -1px;overflow: hidden;padding: 0;position: absolute;width: 1px;}#sk-container-id-4 div.sk-estimator {font-family: monospace;background-color: #f0f8ff;border: 1px dotted black;border-radius: 0.25em;box-sizing: border-box;margin-bottom: 0.5em;}#sk-container-id-4 div.sk-estimator:hover {background-color: #d4ebff;}#sk-container-id-4 div.sk-parallel-item::after {content: \"\";width: 100%;border-bottom: 1px solid gray;flex-grow: 1;}#sk-container-id-4 div.sk-label:hover label.sk-toggleable__label {background-color: #d4ebff;}#sk-container-id-4 div.sk-serial::before {content: \"\";position: absolute;border-left: 1px solid gray;box-sizing: border-box;top: 0;bottom: 0;left: 50%;z-index: 0;}#sk-container-id-4 div.sk-serial {display: flex;flex-direction: column;align-items: center;background-color: white;padding-right: 0.2em;padding-left: 0.2em;position: relative;}#sk-container-id-4 div.sk-item {position: relative;z-index: 1;}#sk-container-id-4 div.sk-parallel {display: flex;align-items: stretch;justify-content: center;background-color: white;position: relative;}#sk-container-id-4 div.sk-item::before, #sk-container-id-4 div.sk-parallel-item::before {content: \"\";position: absolute;border-left: 1px solid gray;box-sizing: border-box;top: 0;bottom: 0;left: 50%;z-index: -1;}#sk-container-id-4 div.sk-parallel-item {display: flex;flex-direction: column;z-index: 1;position: relative;background-color: white;}#sk-container-id-4 div.sk-parallel-item:first-child::after {align-self: flex-end;width: 50%;}#sk-container-id-4 div.sk-parallel-item:last-child::after {align-self: flex-start;width: 50%;}#sk-container-id-4 div.sk-parallel-item:only-child::after {width: 0;}#sk-container-id-4 div.sk-dashed-wrapped {border: 1px dashed gray;margin: 0 0.4em 0.5em 0.4em;box-sizing: border-box;padding-bottom: 0.4em;background-color: white;}#sk-container-id-4 div.sk-label label {font-family: monospace;font-weight: bold;display: inline-block;line-height: 1.2em;}#sk-container-id-4 div.sk-label-container {text-align: center;}#sk-container-id-4 div.sk-container {/* jupyter's `normalize.less` sets `[hidden] { display: none; }` but bootstrap.min.css set `[hidden] { display: none !important; }` so we also need the `!important` here to be able to override the default hidden behavior on the sphinx rendered scikit-learn.org. See: https://github.com/scikit-learn/scikit-learn/issues/21755 */display: inline-block !important;position: relative;}#sk-container-id-4 div.sk-text-repr-fallback {display: none;}</style><div id=\"sk-container-id-4\" class=\"sk-top-container\"><div class=\"sk-text-repr-fallback\"><pre>KNeighborsClassifier(algorithm=&#x27;ball_tree&#x27;, leaf_size=10, n_jobs=-1,\n",
       "                     n_neighbors=4, p=1)</pre><b>In a Jupyter environment, please rerun this cell to show the HTML representation or trust the notebook. <br />On GitHub, the HTML representation is unable to render, please try loading this page with nbviewer.org.</b></div><div class=\"sk-container\" hidden><div class=\"sk-item\"><div class=\"sk-estimator sk-toggleable\"><input class=\"sk-toggleable__control sk-hidden--visually\" id=\"sk-estimator-id-22\" type=\"checkbox\" checked><label for=\"sk-estimator-id-22\" class=\"sk-toggleable__label sk-toggleable__label-arrow\">KNeighborsClassifier</label><div class=\"sk-toggleable__content\"><pre>KNeighborsClassifier(algorithm=&#x27;ball_tree&#x27;, leaf_size=10, n_jobs=-1,\n",
       "                     n_neighbors=4, p=1)</pre></div></div></div></div></div>"
      ],
      "text/plain": [
       "KNeighborsClassifier(algorithm='ball_tree', leaf_size=10, n_jobs=-1,\n",
       "                     n_neighbors=4, p=1)"
      ]
     },
     "execution_count": 62,
     "metadata": {},
     "output_type": "execute_result"
    }
   ],
   "source": [
    "knn1.fit(X_train,y_train)\n",
    "\n",
    "\n"
   ]
  },
  {
   "cell_type": "code",
   "execution_count": 64,
   "id": "ea5ca98b",
   "metadata": {},
   "outputs": [],
   "source": [
    "y_pred=knn1.predict(X_test)"
   ]
  },
  {
   "cell_type": "code",
   "execution_count": 65,
   "id": "33b7ecf0",
   "metadata": {},
   "outputs": [
    {
     "data": {
      "text/plain": [
       "0.8166501486620417"
      ]
     },
     "execution_count": 65,
     "metadata": {},
     "output_type": "execute_result"
    }
   ],
   "source": [
    "accuracy_score(y_test, y_pred)"
   ]
  },
  {
   "cell_type": "code",
   "execution_count": null,
   "id": "565d85a1",
   "metadata": {},
   "outputs": [],
   "source": [
    "# RandomForest"
   ]
  },
  {
   "cell_type": "code",
   "execution_count": 67,
   "id": "b1cde5e8",
   "metadata": {},
   "outputs": [
    {
     "name": "stdout",
     "output_type": "stream",
     "text": [
      "Fitting 5 folds for each of 72 candidates, totalling 360 fits\n",
      "[CV 1/5] END criterion=gini, max_depth=2, max_features=auto, n_estimators=10;, score=0.736 total time=   0.0s\n",
      "[CV 2/5] END criterion=gini, max_depth=2, max_features=auto, n_estimators=10;, score=0.749 total time=   0.0s\n",
      "[CV 3/5] END criterion=gini, max_depth=2, max_features=auto, n_estimators=10;, score=0.737 total time=   0.0s\n",
      "[CV 4/5] END criterion=gini, max_depth=2, max_features=auto, n_estimators=10;, score=0.737 total time=   0.0s\n",
      "[CV 5/5] END criterion=gini, max_depth=2, max_features=auto, n_estimators=10;, score=0.738 total time=   0.0s\n"
     ]
    },
    {
     "name": "stderr",
     "output_type": "stream",
     "text": [
      "C:\\Users\\tando\\anaconda3\\lib\\site-packages\\sklearn\\model_selection\\_split.py:680: UserWarning: The least populated class in y has only 1 members, which is less than n_splits=5.\n",
      "  warnings.warn(\n",
      "C:\\Users\\tando\\anaconda3\\lib\\site-packages\\sklearn\\ensemble\\_forest.py:427: FutureWarning: `max_features='auto'` has been deprecated in 1.1 and will be removed in 1.3. To keep the past behaviour, explicitly set `max_features='sqrt'` or remove this parameter as it is also the default value for RandomForestClassifiers and ExtraTreesClassifiers.\n",
      "  warn(\n",
      "C:\\Users\\tando\\anaconda3\\lib\\site-packages\\sklearn\\ensemble\\_forest.py:427: FutureWarning: `max_features='auto'` has been deprecated in 1.1 and will be removed in 1.3. To keep the past behaviour, explicitly set `max_features='sqrt'` or remove this parameter as it is also the default value for RandomForestClassifiers and ExtraTreesClassifiers.\n",
      "  warn(\n",
      "C:\\Users\\tando\\anaconda3\\lib\\site-packages\\sklearn\\ensemble\\_forest.py:427: FutureWarning: `max_features='auto'` has been deprecated in 1.1 and will be removed in 1.3. To keep the past behaviour, explicitly set `max_features='sqrt'` or remove this parameter as it is also the default value for RandomForestClassifiers and ExtraTreesClassifiers.\n",
      "  warn(\n",
      "C:\\Users\\tando\\anaconda3\\lib\\site-packages\\sklearn\\ensemble\\_forest.py:427: FutureWarning: `max_features='auto'` has been deprecated in 1.1 and will be removed in 1.3. To keep the past behaviour, explicitly set `max_features='sqrt'` or remove this parameter as it is also the default value for RandomForestClassifiers and ExtraTreesClassifiers.\n",
      "  warn(\n",
      "C:\\Users\\tando\\anaconda3\\lib\\site-packages\\sklearn\\ensemble\\_forest.py:427: FutureWarning: `max_features='auto'` has been deprecated in 1.1 and will be removed in 1.3. To keep the past behaviour, explicitly set `max_features='sqrt'` or remove this parameter as it is also the default value for RandomForestClassifiers and ExtraTreesClassifiers.\n",
      "  warn(\n",
      "C:\\Users\\tando\\anaconda3\\lib\\site-packages\\sklearn\\ensemble\\_forest.py:427: FutureWarning: `max_features='auto'` has been deprecated in 1.1 and will be removed in 1.3. To keep the past behaviour, explicitly set `max_features='sqrt'` or remove this parameter as it is also the default value for RandomForestClassifiers and ExtraTreesClassifiers.\n",
      "  warn(\n"
     ]
    },
    {
     "name": "stdout",
     "output_type": "stream",
     "text": [
      "[CV 1/5] END criterion=gini, max_depth=2, max_features=auto, n_estimators=50;, score=0.737 total time=   0.0s\n",
      "[CV 2/5] END criterion=gini, max_depth=2, max_features=auto, n_estimators=50;, score=0.737 total time=   0.0s\n",
      "[CV 3/5] END criterion=gini, max_depth=2, max_features=auto, n_estimators=50;, score=0.737 total time=   0.0s\n"
     ]
    },
    {
     "name": "stderr",
     "output_type": "stream",
     "text": [
      "C:\\Users\\tando\\anaconda3\\lib\\site-packages\\sklearn\\ensemble\\_forest.py:427: FutureWarning: `max_features='auto'` has been deprecated in 1.1 and will be removed in 1.3. To keep the past behaviour, explicitly set `max_features='sqrt'` or remove this parameter as it is also the default value for RandomForestClassifiers and ExtraTreesClassifiers.\n",
      "  warn(\n",
      "C:\\Users\\tando\\anaconda3\\lib\\site-packages\\sklearn\\ensemble\\_forest.py:427: FutureWarning: `max_features='auto'` has been deprecated in 1.1 and will be removed in 1.3. To keep the past behaviour, explicitly set `max_features='sqrt'` or remove this parameter as it is also the default value for RandomForestClassifiers and ExtraTreesClassifiers.\n",
      "  warn(\n",
      "C:\\Users\\tando\\anaconda3\\lib\\site-packages\\sklearn\\ensemble\\_forest.py:427: FutureWarning: `max_features='auto'` has been deprecated in 1.1 and will be removed in 1.3. To keep the past behaviour, explicitly set `max_features='sqrt'` or remove this parameter as it is also the default value for RandomForestClassifiers and ExtraTreesClassifiers.\n",
      "  warn(\n",
      "C:\\Users\\tando\\anaconda3\\lib\\site-packages\\sklearn\\ensemble\\_forest.py:427: FutureWarning: `max_features='auto'` has been deprecated in 1.1 and will be removed in 1.3. To keep the past behaviour, explicitly set `max_features='sqrt'` or remove this parameter as it is also the default value for RandomForestClassifiers and ExtraTreesClassifiers.\n",
      "  warn(\n"
     ]
    },
    {
     "name": "stdout",
     "output_type": "stream",
     "text": [
      "[CV 4/5] END criterion=gini, max_depth=2, max_features=auto, n_estimators=50;, score=0.740 total time=   0.0s\n",
      "[CV 5/5] END criterion=gini, max_depth=2, max_features=auto, n_estimators=50;, score=0.743 total time=   0.0s\n"
     ]
    },
    {
     "name": "stderr",
     "output_type": "stream",
     "text": [
      "C:\\Users\\tando\\anaconda3\\lib\\site-packages\\sklearn\\ensemble\\_forest.py:427: FutureWarning: `max_features='auto'` has been deprecated in 1.1 and will be removed in 1.3. To keep the past behaviour, explicitly set `max_features='sqrt'` or remove this parameter as it is also the default value for RandomForestClassifiers and ExtraTreesClassifiers.\n",
      "  warn(\n"
     ]
    },
    {
     "name": "stdout",
     "output_type": "stream",
     "text": [
      "[CV 1/5] END criterion=gini, max_depth=2, max_features=auto, n_estimators=100;, score=0.736 total time=   0.1s\n",
      "[CV 2/5] END criterion=gini, max_depth=2, max_features=auto, n_estimators=100;, score=0.740 total time=   0.1s\n"
     ]
    },
    {
     "name": "stderr",
     "output_type": "stream",
     "text": [
      "C:\\Users\\tando\\anaconda3\\lib\\site-packages\\sklearn\\ensemble\\_forest.py:427: FutureWarning: `max_features='auto'` has been deprecated in 1.1 and will be removed in 1.3. To keep the past behaviour, explicitly set `max_features='sqrt'` or remove this parameter as it is also the default value for RandomForestClassifiers and ExtraTreesClassifiers.\n",
      "  warn(\n",
      "C:\\Users\\tando\\anaconda3\\lib\\site-packages\\sklearn\\ensemble\\_forest.py:427: FutureWarning: `max_features='auto'` has been deprecated in 1.1 and will be removed in 1.3. To keep the past behaviour, explicitly set `max_features='sqrt'` or remove this parameter as it is also the default value for RandomForestClassifiers and ExtraTreesClassifiers.\n",
      "  warn(\n"
     ]
    },
    {
     "name": "stdout",
     "output_type": "stream",
     "text": [
      "[CV 3/5] END criterion=gini, max_depth=2, max_features=auto, n_estimators=100;, score=0.737 total time=   0.1s\n",
      "[CV 4/5] END criterion=gini, max_depth=2, max_features=auto, n_estimators=100;, score=0.737 total time=   0.1s\n"
     ]
    },
    {
     "name": "stderr",
     "output_type": "stream",
     "text": [
      "C:\\Users\\tando\\anaconda3\\lib\\site-packages\\sklearn\\ensemble\\_forest.py:427: FutureWarning: `max_features='auto'` has been deprecated in 1.1 and will be removed in 1.3. To keep the past behaviour, explicitly set `max_features='sqrt'` or remove this parameter as it is also the default value for RandomForestClassifiers and ExtraTreesClassifiers.\n",
      "  warn(\n",
      "C:\\Users\\tando\\anaconda3\\lib\\site-packages\\sklearn\\ensemble\\_forest.py:427: FutureWarning: `max_features='auto'` has been deprecated in 1.1 and will be removed in 1.3. To keep the past behaviour, explicitly set `max_features='sqrt'` or remove this parameter as it is also the default value for RandomForestClassifiers and ExtraTreesClassifiers.\n",
      "  warn(\n"
     ]
    },
    {
     "name": "stdout",
     "output_type": "stream",
     "text": [
      "[CV 5/5] END criterion=gini, max_depth=2, max_features=auto, n_estimators=100;, score=0.740 total time=   0.1s\n",
      "[CV 1/5] END criterion=gini, max_depth=2, max_features=log2, n_estimators=10;, score=0.743 total time=   0.0s\n",
      "[CV 2/5] END criterion=gini, max_depth=2, max_features=log2, n_estimators=10;, score=0.750 total time=   0.0s\n",
      "[CV 3/5] END criterion=gini, max_depth=2, max_features=log2, n_estimators=10;, score=0.737 total time=   0.0s\n",
      "[CV 4/5] END criterion=gini, max_depth=2, max_features=log2, n_estimators=10;, score=0.737 total time=   0.0s\n",
      "[CV 5/5] END criterion=gini, max_depth=2, max_features=log2, n_estimators=10;, score=0.743 total time=   0.0s\n",
      "[CV 1/5] END criterion=gini, max_depth=2, max_features=log2, n_estimators=50;, score=0.737 total time=   0.0s\n",
      "[CV 2/5] END criterion=gini, max_depth=2, max_features=log2, n_estimators=50;, score=0.737 total time=   0.0s\n",
      "[CV 3/5] END criterion=gini, max_depth=2, max_features=log2, n_estimators=50;, score=0.737 total time=   0.0s\n",
      "[CV 4/5] END criterion=gini, max_depth=2, max_features=log2, n_estimators=50;, score=0.737 total time=   0.0s\n",
      "[CV 5/5] END criterion=gini, max_depth=2, max_features=log2, n_estimators=50;, score=0.738 total time=   0.0s\n",
      "[CV 1/5] END criterion=gini, max_depth=2, max_features=log2, n_estimators=100;, score=0.737 total time=   0.1s\n",
      "[CV 2/5] END criterion=gini, max_depth=2, max_features=log2, n_estimators=100;, score=0.737 total time=   0.1s\n",
      "[CV 3/5] END criterion=gini, max_depth=2, max_features=log2, n_estimators=100;, score=0.744 total time=   0.1s\n",
      "[CV 4/5] END criterion=gini, max_depth=2, max_features=log2, n_estimators=100;, score=0.737 total time=   0.1s\n",
      "[CV 5/5] END criterion=gini, max_depth=2, max_features=log2, n_estimators=100;, score=0.742 total time=   0.1s\n",
      "[CV 1/5] END criterion=gini, max_depth=3, max_features=auto, n_estimators=10;, score=0.785 total time=   0.0s\n",
      "[CV 2/5] END criterion=gini, max_depth=3, max_features=auto, n_estimators=10;, score=0.762 total time=   0.0s\n",
      "[CV 3/5] END criterion=gini, max_depth=3, max_features=auto, n_estimators=10;, score=0.755 total time=   0.0s\n",
      "[CV 4/5] END criterion=gini, max_depth=3, max_features=auto, n_estimators=10;, score=0.749 total time=   0.0s\n",
      "[CV 5/5] END criterion=gini, max_depth=3, max_features=auto, n_estimators=10;, score=0.752 total time=   0.0s\n"
     ]
    },
    {
     "name": "stderr",
     "output_type": "stream",
     "text": [
      "C:\\Users\\tando\\anaconda3\\lib\\site-packages\\sklearn\\ensemble\\_forest.py:427: FutureWarning: `max_features='auto'` has been deprecated in 1.1 and will be removed in 1.3. To keep the past behaviour, explicitly set `max_features='sqrt'` or remove this parameter as it is also the default value for RandomForestClassifiers and ExtraTreesClassifiers.\n",
      "  warn(\n",
      "C:\\Users\\tando\\anaconda3\\lib\\site-packages\\sklearn\\ensemble\\_forest.py:427: FutureWarning: `max_features='auto'` has been deprecated in 1.1 and will be removed in 1.3. To keep the past behaviour, explicitly set `max_features='sqrt'` or remove this parameter as it is also the default value for RandomForestClassifiers and ExtraTreesClassifiers.\n",
      "  warn(\n",
      "C:\\Users\\tando\\anaconda3\\lib\\site-packages\\sklearn\\ensemble\\_forest.py:427: FutureWarning: `max_features='auto'` has been deprecated in 1.1 and will be removed in 1.3. To keep the past behaviour, explicitly set `max_features='sqrt'` or remove this parameter as it is also the default value for RandomForestClassifiers and ExtraTreesClassifiers.\n",
      "  warn(\n",
      "C:\\Users\\tando\\anaconda3\\lib\\site-packages\\sklearn\\ensemble\\_forest.py:427: FutureWarning: `max_features='auto'` has been deprecated in 1.1 and will be removed in 1.3. To keep the past behaviour, explicitly set `max_features='sqrt'` or remove this parameter as it is also the default value for RandomForestClassifiers and ExtraTreesClassifiers.\n",
      "  warn(\n",
      "C:\\Users\\tando\\anaconda3\\lib\\site-packages\\sklearn\\ensemble\\_forest.py:427: FutureWarning: `max_features='auto'` has been deprecated in 1.1 and will be removed in 1.3. To keep the past behaviour, explicitly set `max_features='sqrt'` or remove this parameter as it is also the default value for RandomForestClassifiers and ExtraTreesClassifiers.\n",
      "  warn(\n",
      "C:\\Users\\tando\\anaconda3\\lib\\site-packages\\sklearn\\ensemble\\_forest.py:427: FutureWarning: `max_features='auto'` has been deprecated in 1.1 and will be removed in 1.3. To keep the past behaviour, explicitly set `max_features='sqrt'` or remove this parameter as it is also the default value for RandomForestClassifiers and ExtraTreesClassifiers.\n",
      "  warn(\n"
     ]
    },
    {
     "name": "stdout",
     "output_type": "stream",
     "text": [
      "[CV 1/5] END criterion=gini, max_depth=3, max_features=auto, n_estimators=50;, score=0.750 total time=   0.0s\n",
      "[CV 2/5] END criterion=gini, max_depth=3, max_features=auto, n_estimators=50;, score=0.744 total time=   0.0s\n"
     ]
    },
    {
     "name": "stderr",
     "output_type": "stream",
     "text": [
      "C:\\Users\\tando\\anaconda3\\lib\\site-packages\\sklearn\\ensemble\\_forest.py:427: FutureWarning: `max_features='auto'` has been deprecated in 1.1 and will be removed in 1.3. To keep the past behaviour, explicitly set `max_features='sqrt'` or remove this parameter as it is also the default value for RandomForestClassifiers and ExtraTreesClassifiers.\n",
      "  warn(\n",
      "C:\\Users\\tando\\anaconda3\\lib\\site-packages\\sklearn\\ensemble\\_forest.py:427: FutureWarning: `max_features='auto'` has been deprecated in 1.1 and will be removed in 1.3. To keep the past behaviour, explicitly set `max_features='sqrt'` or remove this parameter as it is also the default value for RandomForestClassifiers and ExtraTreesClassifiers.\n",
      "  warn(\n"
     ]
    },
    {
     "name": "stdout",
     "output_type": "stream",
     "text": [
      "[CV 3/5] END criterion=gini, max_depth=3, max_features=auto, n_estimators=50;, score=0.753 total time=   0.0s\n",
      "[CV 4/5] END criterion=gini, max_depth=3, max_features=auto, n_estimators=50;, score=0.750 total time=   0.0s\n"
     ]
    },
    {
     "name": "stderr",
     "output_type": "stream",
     "text": [
      "C:\\Users\\tando\\anaconda3\\lib\\site-packages\\sklearn\\ensemble\\_forest.py:427: FutureWarning: `max_features='auto'` has been deprecated in 1.1 and will be removed in 1.3. To keep the past behaviour, explicitly set `max_features='sqrt'` or remove this parameter as it is also the default value for RandomForestClassifiers and ExtraTreesClassifiers.\n",
      "  warn(\n",
      "C:\\Users\\tando\\anaconda3\\lib\\site-packages\\sklearn\\ensemble\\_forest.py:427: FutureWarning: `max_features='auto'` has been deprecated in 1.1 and will be removed in 1.3. To keep the past behaviour, explicitly set `max_features='sqrt'` or remove this parameter as it is also the default value for RandomForestClassifiers and ExtraTreesClassifiers.\n",
      "  warn(\n"
     ]
    },
    {
     "name": "stdout",
     "output_type": "stream",
     "text": [
      "[CV 5/5] END criterion=gini, max_depth=3, max_features=auto, n_estimators=50;, score=0.757 total time=   0.0s\n"
     ]
    },
    {
     "name": "stderr",
     "output_type": "stream",
     "text": [
      "C:\\Users\\tando\\anaconda3\\lib\\site-packages\\sklearn\\ensemble\\_forest.py:427: FutureWarning: `max_features='auto'` has been deprecated in 1.1 and will be removed in 1.3. To keep the past behaviour, explicitly set `max_features='sqrt'` or remove this parameter as it is also the default value for RandomForestClassifiers and ExtraTreesClassifiers.\n",
      "  warn(\n"
     ]
    },
    {
     "name": "stdout",
     "output_type": "stream",
     "text": [
      "[CV 1/5] END criterion=gini, max_depth=3, max_features=auto, n_estimators=100;, score=0.746 total time=   0.1s\n"
     ]
    },
    {
     "name": "stderr",
     "output_type": "stream",
     "text": [
      "C:\\Users\\tando\\anaconda3\\lib\\site-packages\\sklearn\\ensemble\\_forest.py:427: FutureWarning: `max_features='auto'` has been deprecated in 1.1 and will be removed in 1.3. To keep the past behaviour, explicitly set `max_features='sqrt'` or remove this parameter as it is also the default value for RandomForestClassifiers and ExtraTreesClassifiers.\n",
      "  warn(\n"
     ]
    },
    {
     "name": "stdout",
     "output_type": "stream",
     "text": [
      "[CV 2/5] END criterion=gini, max_depth=3, max_features=auto, n_estimators=100;, score=0.753 total time=   0.1s\n"
     ]
    },
    {
     "name": "stderr",
     "output_type": "stream",
     "text": [
      "C:\\Users\\tando\\anaconda3\\lib\\site-packages\\sklearn\\ensemble\\_forest.py:427: FutureWarning: `max_features='auto'` has been deprecated in 1.1 and will be removed in 1.3. To keep the past behaviour, explicitly set `max_features='sqrt'` or remove this parameter as it is also the default value for RandomForestClassifiers and ExtraTreesClassifiers.\n",
      "  warn(\n"
     ]
    },
    {
     "name": "stdout",
     "output_type": "stream",
     "text": [
      "[CV 3/5] END criterion=gini, max_depth=3, max_features=auto, n_estimators=100;, score=0.753 total time=   0.1s\n"
     ]
    },
    {
     "name": "stderr",
     "output_type": "stream",
     "text": [
      "C:\\Users\\tando\\anaconda3\\lib\\site-packages\\sklearn\\ensemble\\_forest.py:427: FutureWarning: `max_features='auto'` has been deprecated in 1.1 and will be removed in 1.3. To keep the past behaviour, explicitly set `max_features='sqrt'` or remove this parameter as it is also the default value for RandomForestClassifiers and ExtraTreesClassifiers.\n",
      "  warn(\n"
     ]
    },
    {
     "name": "stdout",
     "output_type": "stream",
     "text": [
      "[CV 4/5] END criterion=gini, max_depth=3, max_features=auto, n_estimators=100;, score=0.750 total time=   0.1s\n"
     ]
    },
    {
     "name": "stderr",
     "output_type": "stream",
     "text": [
      "C:\\Users\\tando\\anaconda3\\lib\\site-packages\\sklearn\\ensemble\\_forest.py:427: FutureWarning: `max_features='auto'` has been deprecated in 1.1 and will be removed in 1.3. To keep the past behaviour, explicitly set `max_features='sqrt'` or remove this parameter as it is also the default value for RandomForestClassifiers and ExtraTreesClassifiers.\n",
      "  warn(\n"
     ]
    },
    {
     "name": "stdout",
     "output_type": "stream",
     "text": [
      "[CV 5/5] END criterion=gini, max_depth=3, max_features=auto, n_estimators=100;, score=0.751 total time=   0.1s\n",
      "[CV 1/5] END criterion=gini, max_depth=3, max_features=log2, n_estimators=10;, score=0.749 total time=   0.0s\n",
      "[CV 2/5] END criterion=gini, max_depth=3, max_features=log2, n_estimators=10;, score=0.740 total time=   0.0s\n",
      "[CV 3/5] END criterion=gini, max_depth=3, max_features=log2, n_estimators=10;, score=0.746 total time=   0.0s\n",
      "[CV 4/5] END criterion=gini, max_depth=3, max_features=log2, n_estimators=10;, score=0.750 total time=   0.0s\n",
      "[CV 5/5] END criterion=gini, max_depth=3, max_features=log2, n_estimators=10;, score=0.752 total time=   0.0s\n",
      "[CV 1/5] END criterion=gini, max_depth=3, max_features=log2, n_estimators=50;, score=0.748 total time=   0.0s\n",
      "[CV 2/5] END criterion=gini, max_depth=3, max_features=log2, n_estimators=50;, score=0.753 total time=   0.0s\n",
      "[CV 3/5] END criterion=gini, max_depth=3, max_features=log2, n_estimators=50;, score=0.753 total time=   0.0s\n",
      "[CV 4/5] END criterion=gini, max_depth=3, max_features=log2, n_estimators=50;, score=0.749 total time=   0.0s\n",
      "[CV 5/5] END criterion=gini, max_depth=3, max_features=log2, n_estimators=50;, score=0.753 total time=   0.0s\n",
      "[CV 1/5] END criterion=gini, max_depth=3, max_features=log2, n_estimators=100;, score=0.746 total time=   0.1s\n",
      "[CV 2/5] END criterion=gini, max_depth=3, max_features=log2, n_estimators=100;, score=0.754 total time=   0.1s\n",
      "[CV 3/5] END criterion=gini, max_depth=3, max_features=log2, n_estimators=100;, score=0.752 total time=   0.1s\n",
      "[CV 4/5] END criterion=gini, max_depth=3, max_features=log2, n_estimators=100;, score=0.752 total time=   0.1s\n",
      "[CV 5/5] END criterion=gini, max_depth=3, max_features=log2, n_estimators=100;, score=0.752 total time=   0.1s\n",
      "[CV 1/5] END criterion=gini, max_depth=4, max_features=auto, n_estimators=10;, score=0.771 total time=   0.0s\n",
      "[CV 2/5] END criterion=gini, max_depth=4, max_features=auto, n_estimators=10;, score=0.775 total time=   0.0s\n",
      "[CV 3/5] END criterion=gini, max_depth=4, max_features=auto, n_estimators=10;, score=0.781 total time=   0.0s\n",
      "[CV 4/5] END criterion=gini, max_depth=4, max_features=auto, n_estimators=10;, score=0.764 total time=   0.0s\n",
      "[CV 5/5] END criterion=gini, max_depth=4, max_features=auto, n_estimators=10;, score=0.777 total time=   0.0s\n"
     ]
    },
    {
     "name": "stderr",
     "output_type": "stream",
     "text": [
      "C:\\Users\\tando\\anaconda3\\lib\\site-packages\\sklearn\\ensemble\\_forest.py:427: FutureWarning: `max_features='auto'` has been deprecated in 1.1 and will be removed in 1.3. To keep the past behaviour, explicitly set `max_features='sqrt'` or remove this parameter as it is also the default value for RandomForestClassifiers and ExtraTreesClassifiers.\n",
      "  warn(\n",
      "C:\\Users\\tando\\anaconda3\\lib\\site-packages\\sklearn\\ensemble\\_forest.py:427: FutureWarning: `max_features='auto'` has been deprecated in 1.1 and will be removed in 1.3. To keep the past behaviour, explicitly set `max_features='sqrt'` or remove this parameter as it is also the default value for RandomForestClassifiers and ExtraTreesClassifiers.\n",
      "  warn(\n",
      "C:\\Users\\tando\\anaconda3\\lib\\site-packages\\sklearn\\ensemble\\_forest.py:427: FutureWarning: `max_features='auto'` has been deprecated in 1.1 and will be removed in 1.3. To keep the past behaviour, explicitly set `max_features='sqrt'` or remove this parameter as it is also the default value for RandomForestClassifiers and ExtraTreesClassifiers.\n",
      "  warn(\n",
      "C:\\Users\\tando\\anaconda3\\lib\\site-packages\\sklearn\\ensemble\\_forest.py:427: FutureWarning: `max_features='auto'` has been deprecated in 1.1 and will be removed in 1.3. To keep the past behaviour, explicitly set `max_features='sqrt'` or remove this parameter as it is also the default value for RandomForestClassifiers and ExtraTreesClassifiers.\n",
      "  warn(\n",
      "C:\\Users\\tando\\anaconda3\\lib\\site-packages\\sklearn\\ensemble\\_forest.py:427: FutureWarning: `max_features='auto'` has been deprecated in 1.1 and will be removed in 1.3. To keep the past behaviour, explicitly set `max_features='sqrt'` or remove this parameter as it is also the default value for RandomForestClassifiers and ExtraTreesClassifiers.\n",
      "  warn(\n",
      "C:\\Users\\tando\\anaconda3\\lib\\site-packages\\sklearn\\ensemble\\_forest.py:427: FutureWarning: `max_features='auto'` has been deprecated in 1.1 and will be removed in 1.3. To keep the past behaviour, explicitly set `max_features='sqrt'` or remove this parameter as it is also the default value for RandomForestClassifiers and ExtraTreesClassifiers.\n",
      "  warn(\n"
     ]
    },
    {
     "name": "stdout",
     "output_type": "stream",
     "text": [
      "[CV 1/5] END criterion=gini, max_depth=4, max_features=auto, n_estimators=50;, score=0.759 total time=   0.0s\n",
      "[CV 2/5] END criterion=gini, max_depth=4, max_features=auto, n_estimators=50;, score=0.784 total time=   0.0s\n"
     ]
    },
    {
     "name": "stderr",
     "output_type": "stream",
     "text": [
      "C:\\Users\\tando\\anaconda3\\lib\\site-packages\\sklearn\\ensemble\\_forest.py:427: FutureWarning: `max_features='auto'` has been deprecated in 1.1 and will be removed in 1.3. To keep the past behaviour, explicitly set `max_features='sqrt'` or remove this parameter as it is also the default value for RandomForestClassifiers and ExtraTreesClassifiers.\n",
      "  warn(\n",
      "C:\\Users\\tando\\anaconda3\\lib\\site-packages\\sklearn\\ensemble\\_forest.py:427: FutureWarning: `max_features='auto'` has been deprecated in 1.1 and will be removed in 1.3. To keep the past behaviour, explicitly set `max_features='sqrt'` or remove this parameter as it is also the default value for RandomForestClassifiers and ExtraTreesClassifiers.\n",
      "  warn(\n"
     ]
    },
    {
     "name": "stdout",
     "output_type": "stream",
     "text": [
      "[CV 3/5] END criterion=gini, max_depth=4, max_features=auto, n_estimators=50;, score=0.779 total time=   0.0s\n",
      "[CV 4/5] END criterion=gini, max_depth=4, max_features=auto, n_estimators=50;, score=0.767 total time=   0.0s\n"
     ]
    },
    {
     "name": "stderr",
     "output_type": "stream",
     "text": [
      "C:\\Users\\tando\\anaconda3\\lib\\site-packages\\sklearn\\ensemble\\_forest.py:427: FutureWarning: `max_features='auto'` has been deprecated in 1.1 and will be removed in 1.3. To keep the past behaviour, explicitly set `max_features='sqrt'` or remove this parameter as it is also the default value for RandomForestClassifiers and ExtraTreesClassifiers.\n",
      "  warn(\n",
      "C:\\Users\\tando\\anaconda3\\lib\\site-packages\\sklearn\\ensemble\\_forest.py:427: FutureWarning: `max_features='auto'` has been deprecated in 1.1 and will be removed in 1.3. To keep the past behaviour, explicitly set `max_features='sqrt'` or remove this parameter as it is also the default value for RandomForestClassifiers and ExtraTreesClassifiers.\n",
      "  warn(\n"
     ]
    },
    {
     "name": "stdout",
     "output_type": "stream",
     "text": [
      "[CV 5/5] END criterion=gini, max_depth=4, max_features=auto, n_estimators=50;, score=0.767 total time=   0.0s\n"
     ]
    },
    {
     "name": "stderr",
     "output_type": "stream",
     "text": [
      "C:\\Users\\tando\\anaconda3\\lib\\site-packages\\sklearn\\ensemble\\_forest.py:427: FutureWarning: `max_features='auto'` has been deprecated in 1.1 and will be removed in 1.3. To keep the past behaviour, explicitly set `max_features='sqrt'` or remove this parameter as it is also the default value for RandomForestClassifiers and ExtraTreesClassifiers.\n",
      "  warn(\n"
     ]
    },
    {
     "name": "stdout",
     "output_type": "stream",
     "text": [
      "[CV 1/5] END criterion=gini, max_depth=4, max_features=auto, n_estimators=100;, score=0.762 total time=   0.1s\n"
     ]
    },
    {
     "name": "stderr",
     "output_type": "stream",
     "text": [
      "C:\\Users\\tando\\anaconda3\\lib\\site-packages\\sklearn\\ensemble\\_forest.py:427: FutureWarning: `max_features='auto'` has been deprecated in 1.1 and will be removed in 1.3. To keep the past behaviour, explicitly set `max_features='sqrt'` or remove this parameter as it is also the default value for RandomForestClassifiers and ExtraTreesClassifiers.\n",
      "  warn(\n"
     ]
    },
    {
     "name": "stdout",
     "output_type": "stream",
     "text": [
      "[CV 2/5] END criterion=gini, max_depth=4, max_features=auto, n_estimators=100;, score=0.761 total time=   0.1s\n"
     ]
    },
    {
     "name": "stderr",
     "output_type": "stream",
     "text": [
      "C:\\Users\\tando\\anaconda3\\lib\\site-packages\\sklearn\\ensemble\\_forest.py:427: FutureWarning: `max_features='auto'` has been deprecated in 1.1 and will be removed in 1.3. To keep the past behaviour, explicitly set `max_features='sqrt'` or remove this parameter as it is also the default value for RandomForestClassifiers and ExtraTreesClassifiers.\n",
      "  warn(\n"
     ]
    },
    {
     "name": "stdout",
     "output_type": "stream",
     "text": [
      "[CV 3/5] END criterion=gini, max_depth=4, max_features=auto, n_estimators=100;, score=0.762 total time=   0.1s\n"
     ]
    },
    {
     "name": "stderr",
     "output_type": "stream",
     "text": [
      "C:\\Users\\tando\\anaconda3\\lib\\site-packages\\sklearn\\ensemble\\_forest.py:427: FutureWarning: `max_features='auto'` has been deprecated in 1.1 and will be removed in 1.3. To keep the past behaviour, explicitly set `max_features='sqrt'` or remove this parameter as it is also the default value for RandomForestClassifiers and ExtraTreesClassifiers.\n",
      "  warn(\n"
     ]
    },
    {
     "name": "stdout",
     "output_type": "stream",
     "text": [
      "[CV 4/5] END criterion=gini, max_depth=4, max_features=auto, n_estimators=100;, score=0.766 total time=   0.2s\n"
     ]
    },
    {
     "name": "stderr",
     "output_type": "stream",
     "text": [
      "C:\\Users\\tando\\anaconda3\\lib\\site-packages\\sklearn\\ensemble\\_forest.py:427: FutureWarning: `max_features='auto'` has been deprecated in 1.1 and will be removed in 1.3. To keep the past behaviour, explicitly set `max_features='sqrt'` or remove this parameter as it is also the default value for RandomForestClassifiers and ExtraTreesClassifiers.\n",
      "  warn(\n"
     ]
    },
    {
     "name": "stdout",
     "output_type": "stream",
     "text": [
      "[CV 5/5] END criterion=gini, max_depth=4, max_features=auto, n_estimators=100;, score=0.771 total time=   0.2s\n",
      "[CV 1/5] END criterion=gini, max_depth=4, max_features=log2, n_estimators=10;, score=0.805 total time=   0.0s\n",
      "[CV 2/5] END criterion=gini, max_depth=4, max_features=log2, n_estimators=10;, score=0.815 total time=   0.0s\n",
      "[CV 3/5] END criterion=gini, max_depth=4, max_features=log2, n_estimators=10;, score=0.766 total time=   0.0s\n",
      "[CV 4/5] END criterion=gini, max_depth=4, max_features=log2, n_estimators=10;, score=0.771 total time=   0.0s\n",
      "[CV 5/5] END criterion=gini, max_depth=4, max_features=log2, n_estimators=10;, score=0.784 total time=   0.0s\n",
      "[CV 1/5] END criterion=gini, max_depth=4, max_features=log2, n_estimators=50;, score=0.769 total time=   0.0s\n",
      "[CV 2/5] END criterion=gini, max_depth=4, max_features=log2, n_estimators=50;, score=0.768 total time=   0.0s\n",
      "[CV 3/5] END criterion=gini, max_depth=4, max_features=log2, n_estimators=50;, score=0.764 total time=   0.0s\n",
      "[CV 4/5] END criterion=gini, max_depth=4, max_features=log2, n_estimators=50;, score=0.762 total time=   0.0s\n",
      "[CV 5/5] END criterion=gini, max_depth=4, max_features=log2, n_estimators=50;, score=0.771 total time=   0.0s\n",
      "[CV 1/5] END criterion=gini, max_depth=4, max_features=log2, n_estimators=100;, score=0.769 total time=   0.1s\n",
      "[CV 2/5] END criterion=gini, max_depth=4, max_features=log2, n_estimators=100;, score=0.784 total time=   0.1s\n",
      "[CV 3/5] END criterion=gini, max_depth=4, max_features=log2, n_estimators=100;, score=0.768 total time=   0.1s\n",
      "[CV 4/5] END criterion=gini, max_depth=4, max_features=log2, n_estimators=100;, score=0.765 total time=   0.1s\n",
      "[CV 5/5] END criterion=gini, max_depth=4, max_features=log2, n_estimators=100;, score=0.770 total time=   0.2s\n",
      "[CV 1/5] END criterion=gini, max_depth=5, max_features=auto, n_estimators=10;, score=0.793 total time=   0.0s\n",
      "[CV 2/5] END criterion=gini, max_depth=5, max_features=auto, n_estimators=10;, score=0.813 total time=   0.0s\n",
      "[CV 3/5] END criterion=gini, max_depth=5, max_features=auto, n_estimators=10;, score=0.810 total time=   0.0s\n",
      "[CV 4/5] END criterion=gini, max_depth=5, max_features=auto, n_estimators=10;, score=0.792 total time=   0.0s\n",
      "[CV 5/5] END criterion=gini, max_depth=5, max_features=auto, n_estimators=10;, score=0.815 total time=   0.0s\n"
     ]
    },
    {
     "name": "stderr",
     "output_type": "stream",
     "text": [
      "C:\\Users\\tando\\anaconda3\\lib\\site-packages\\sklearn\\ensemble\\_forest.py:427: FutureWarning: `max_features='auto'` has been deprecated in 1.1 and will be removed in 1.3. To keep the past behaviour, explicitly set `max_features='sqrt'` or remove this parameter as it is also the default value for RandomForestClassifiers and ExtraTreesClassifiers.\n",
      "  warn(\n",
      "C:\\Users\\tando\\anaconda3\\lib\\site-packages\\sklearn\\ensemble\\_forest.py:427: FutureWarning: `max_features='auto'` has been deprecated in 1.1 and will be removed in 1.3. To keep the past behaviour, explicitly set `max_features='sqrt'` or remove this parameter as it is also the default value for RandomForestClassifiers and ExtraTreesClassifiers.\n",
      "  warn(\n",
      "C:\\Users\\tando\\anaconda3\\lib\\site-packages\\sklearn\\ensemble\\_forest.py:427: FutureWarning: `max_features='auto'` has been deprecated in 1.1 and will be removed in 1.3. To keep the past behaviour, explicitly set `max_features='sqrt'` or remove this parameter as it is also the default value for RandomForestClassifiers and ExtraTreesClassifiers.\n",
      "  warn(\n",
      "C:\\Users\\tando\\anaconda3\\lib\\site-packages\\sklearn\\ensemble\\_forest.py:427: FutureWarning: `max_features='auto'` has been deprecated in 1.1 and will be removed in 1.3. To keep the past behaviour, explicitly set `max_features='sqrt'` or remove this parameter as it is also the default value for RandomForestClassifiers and ExtraTreesClassifiers.\n",
      "  warn(\n",
      "C:\\Users\\tando\\anaconda3\\lib\\site-packages\\sklearn\\ensemble\\_forest.py:427: FutureWarning: `max_features='auto'` has been deprecated in 1.1 and will be removed in 1.3. To keep the past behaviour, explicitly set `max_features='sqrt'` or remove this parameter as it is also the default value for RandomForestClassifiers and ExtraTreesClassifiers.\n",
      "  warn(\n",
      "C:\\Users\\tando\\anaconda3\\lib\\site-packages\\sklearn\\ensemble\\_forest.py:427: FutureWarning: `max_features='auto'` has been deprecated in 1.1 and will be removed in 1.3. To keep the past behaviour, explicitly set `max_features='sqrt'` or remove this parameter as it is also the default value for RandomForestClassifiers and ExtraTreesClassifiers.\n",
      "  warn(\n"
     ]
    },
    {
     "name": "stdout",
     "output_type": "stream",
     "text": [
      "[CV 1/5] END criterion=gini, max_depth=5, max_features=auto, n_estimators=50;, score=0.804 total time=   0.0s\n",
      "[CV 2/5] END criterion=gini, max_depth=5, max_features=auto, n_estimators=50;, score=0.812 total time=   0.0s\n"
     ]
    },
    {
     "name": "stderr",
     "output_type": "stream",
     "text": [
      "C:\\Users\\tando\\anaconda3\\lib\\site-packages\\sklearn\\ensemble\\_forest.py:427: FutureWarning: `max_features='auto'` has been deprecated in 1.1 and will be removed in 1.3. To keep the past behaviour, explicitly set `max_features='sqrt'` or remove this parameter as it is also the default value for RandomForestClassifiers and ExtraTreesClassifiers.\n",
      "  warn(\n",
      "C:\\Users\\tando\\anaconda3\\lib\\site-packages\\sklearn\\ensemble\\_forest.py:427: FutureWarning: `max_features='auto'` has been deprecated in 1.1 and will be removed in 1.3. To keep the past behaviour, explicitly set `max_features='sqrt'` or remove this parameter as it is also the default value for RandomForestClassifiers and ExtraTreesClassifiers.\n",
      "  warn(\n"
     ]
    },
    {
     "name": "stdout",
     "output_type": "stream",
     "text": [
      "[CV 3/5] END criterion=gini, max_depth=5, max_features=auto, n_estimators=50;, score=0.794 total time=   0.0s\n",
      "[CV 4/5] END criterion=gini, max_depth=5, max_features=auto, n_estimators=50;, score=0.821 total time=   0.0s\n"
     ]
    },
    {
     "name": "stderr",
     "output_type": "stream",
     "text": [
      "C:\\Users\\tando\\anaconda3\\lib\\site-packages\\sklearn\\ensemble\\_forest.py:427: FutureWarning: `max_features='auto'` has been deprecated in 1.1 and will be removed in 1.3. To keep the past behaviour, explicitly set `max_features='sqrt'` or remove this parameter as it is also the default value for RandomForestClassifiers and ExtraTreesClassifiers.\n",
      "  warn(\n",
      "C:\\Users\\tando\\anaconda3\\lib\\site-packages\\sklearn\\ensemble\\_forest.py:427: FutureWarning: `max_features='auto'` has been deprecated in 1.1 and will be removed in 1.3. To keep the past behaviour, explicitly set `max_features='sqrt'` or remove this parameter as it is also the default value for RandomForestClassifiers and ExtraTreesClassifiers.\n",
      "  warn(\n"
     ]
    },
    {
     "name": "stdout",
     "output_type": "stream",
     "text": [
      "[CV 5/5] END criterion=gini, max_depth=5, max_features=auto, n_estimators=50;, score=0.801 total time=   0.0s\n"
     ]
    },
    {
     "name": "stderr",
     "output_type": "stream",
     "text": [
      "C:\\Users\\tando\\anaconda3\\lib\\site-packages\\sklearn\\ensemble\\_forest.py:427: FutureWarning: `max_features='auto'` has been deprecated in 1.1 and will be removed in 1.3. To keep the past behaviour, explicitly set `max_features='sqrt'` or remove this parameter as it is also the default value for RandomForestClassifiers and ExtraTreesClassifiers.\n",
      "  warn(\n"
     ]
    },
    {
     "name": "stdout",
     "output_type": "stream",
     "text": [
      "[CV 1/5] END criterion=gini, max_depth=5, max_features=auto, n_estimators=100;, score=0.807 total time=   0.2s\n"
     ]
    },
    {
     "name": "stderr",
     "output_type": "stream",
     "text": [
      "C:\\Users\\tando\\anaconda3\\lib\\site-packages\\sklearn\\ensemble\\_forest.py:427: FutureWarning: `max_features='auto'` has been deprecated in 1.1 and will be removed in 1.3. To keep the past behaviour, explicitly set `max_features='sqrt'` or remove this parameter as it is also the default value for RandomForestClassifiers and ExtraTreesClassifiers.\n",
      "  warn(\n"
     ]
    },
    {
     "name": "stdout",
     "output_type": "stream",
     "text": [
      "[CV 2/5] END criterion=gini, max_depth=5, max_features=auto, n_estimators=100;, score=0.801 total time=   0.2s\n"
     ]
    },
    {
     "name": "stderr",
     "output_type": "stream",
     "text": [
      "C:\\Users\\tando\\anaconda3\\lib\\site-packages\\sklearn\\ensemble\\_forest.py:427: FutureWarning: `max_features='auto'` has been deprecated in 1.1 and will be removed in 1.3. To keep the past behaviour, explicitly set `max_features='sqrt'` or remove this parameter as it is also the default value for RandomForestClassifiers and ExtraTreesClassifiers.\n",
      "  warn(\n"
     ]
    },
    {
     "name": "stdout",
     "output_type": "stream",
     "text": [
      "[CV 3/5] END criterion=gini, max_depth=5, max_features=auto, n_estimators=100;, score=0.809 total time=   0.2s\n"
     ]
    },
    {
     "name": "stderr",
     "output_type": "stream",
     "text": [
      "C:\\Users\\tando\\anaconda3\\lib\\site-packages\\sklearn\\ensemble\\_forest.py:427: FutureWarning: `max_features='auto'` has been deprecated in 1.1 and will be removed in 1.3. To keep the past behaviour, explicitly set `max_features='sqrt'` or remove this parameter as it is also the default value for RandomForestClassifiers and ExtraTreesClassifiers.\n",
      "  warn(\n"
     ]
    },
    {
     "name": "stdout",
     "output_type": "stream",
     "text": [
      "[CV 4/5] END criterion=gini, max_depth=5, max_features=auto, n_estimators=100;, score=0.791 total time=   0.2s\n"
     ]
    },
    {
     "name": "stderr",
     "output_type": "stream",
     "text": [
      "C:\\Users\\tando\\anaconda3\\lib\\site-packages\\sklearn\\ensemble\\_forest.py:427: FutureWarning: `max_features='auto'` has been deprecated in 1.1 and will be removed in 1.3. To keep the past behaviour, explicitly set `max_features='sqrt'` or remove this parameter as it is also the default value for RandomForestClassifiers and ExtraTreesClassifiers.\n",
      "  warn(\n"
     ]
    },
    {
     "name": "stdout",
     "output_type": "stream",
     "text": [
      "[CV 5/5] END criterion=gini, max_depth=5, max_features=auto, n_estimators=100;, score=0.817 total time=   0.2s\n",
      "[CV 1/5] END criterion=gini, max_depth=5, max_features=log2, n_estimators=10;, score=0.829 total time=   0.0s\n",
      "[CV 2/5] END criterion=gini, max_depth=5, max_features=log2, n_estimators=10;, score=0.827 total time=   0.0s\n",
      "[CV 3/5] END criterion=gini, max_depth=5, max_features=log2, n_estimators=10;, score=0.811 total time=   0.0s\n",
      "[CV 4/5] END criterion=gini, max_depth=5, max_features=log2, n_estimators=10;, score=0.779 total time=   0.0s\n",
      "[CV 5/5] END criterion=gini, max_depth=5, max_features=log2, n_estimators=10;, score=0.821 total time=   0.0s\n",
      "[CV 1/5] END criterion=gini, max_depth=5, max_features=log2, n_estimators=50;, score=0.793 total time=   0.0s\n",
      "[CV 2/5] END criterion=gini, max_depth=5, max_features=log2, n_estimators=50;, score=0.793 total time=   0.0s\n",
      "[CV 3/5] END criterion=gini, max_depth=5, max_features=log2, n_estimators=50;, score=0.785 total time=   0.0s\n",
      "[CV 4/5] END criterion=gini, max_depth=5, max_features=log2, n_estimators=50;, score=0.797 total time=   0.0s\n",
      "[CV 5/5] END criterion=gini, max_depth=5, max_features=log2, n_estimators=50;, score=0.780 total time=   0.0s\n",
      "[CV 1/5] END criterion=gini, max_depth=5, max_features=log2, n_estimators=100;, score=0.795 total time=   0.2s\n",
      "[CV 2/5] END criterion=gini, max_depth=5, max_features=log2, n_estimators=100;, score=0.813 total time=   0.2s\n",
      "[CV 3/5] END criterion=gini, max_depth=5, max_features=log2, n_estimators=100;, score=0.796 total time=   0.2s\n",
      "[CV 4/5] END criterion=gini, max_depth=5, max_features=log2, n_estimators=100;, score=0.792 total time=   0.2s\n",
      "[CV 5/5] END criterion=gini, max_depth=5, max_features=log2, n_estimators=100;, score=0.805 total time=   0.2s\n",
      "[CV 1/5] END criterion=gini, max_depth=6, max_features=auto, n_estimators=10;, score=0.841 total time=   0.0s\n",
      "[CV 2/5] END criterion=gini, max_depth=6, max_features=auto, n_estimators=10;, score=0.821 total time=   0.0s\n",
      "[CV 3/5] END criterion=gini, max_depth=6, max_features=auto, n_estimators=10;, score=0.855 total time=   0.0s\n",
      "[CV 4/5] END criterion=gini, max_depth=6, max_features=auto, n_estimators=10;, score=0.831 total time=   0.0s\n",
      "[CV 5/5] END criterion=gini, max_depth=6, max_features=auto, n_estimators=10;, score=0.845 total time=   0.0s\n"
     ]
    },
    {
     "name": "stderr",
     "output_type": "stream",
     "text": [
      "C:\\Users\\tando\\anaconda3\\lib\\site-packages\\sklearn\\ensemble\\_forest.py:427: FutureWarning: `max_features='auto'` has been deprecated in 1.1 and will be removed in 1.3. To keep the past behaviour, explicitly set `max_features='sqrt'` or remove this parameter as it is also the default value for RandomForestClassifiers and ExtraTreesClassifiers.\n",
      "  warn(\n",
      "C:\\Users\\tando\\anaconda3\\lib\\site-packages\\sklearn\\ensemble\\_forest.py:427: FutureWarning: `max_features='auto'` has been deprecated in 1.1 and will be removed in 1.3. To keep the past behaviour, explicitly set `max_features='sqrt'` or remove this parameter as it is also the default value for RandomForestClassifiers and ExtraTreesClassifiers.\n",
      "  warn(\n",
      "C:\\Users\\tando\\anaconda3\\lib\\site-packages\\sklearn\\ensemble\\_forest.py:427: FutureWarning: `max_features='auto'` has been deprecated in 1.1 and will be removed in 1.3. To keep the past behaviour, explicitly set `max_features='sqrt'` or remove this parameter as it is also the default value for RandomForestClassifiers and ExtraTreesClassifiers.\n",
      "  warn(\n",
      "C:\\Users\\tando\\anaconda3\\lib\\site-packages\\sklearn\\ensemble\\_forest.py:427: FutureWarning: `max_features='auto'` has been deprecated in 1.1 and will be removed in 1.3. To keep the past behaviour, explicitly set `max_features='sqrt'` or remove this parameter as it is also the default value for RandomForestClassifiers and ExtraTreesClassifiers.\n",
      "  warn(\n",
      "C:\\Users\\tando\\anaconda3\\lib\\site-packages\\sklearn\\ensemble\\_forest.py:427: FutureWarning: `max_features='auto'` has been deprecated in 1.1 and will be removed in 1.3. To keep the past behaviour, explicitly set `max_features='sqrt'` or remove this parameter as it is also the default value for RandomForestClassifiers and ExtraTreesClassifiers.\n",
      "  warn(\n",
      "C:\\Users\\tando\\anaconda3\\lib\\site-packages\\sklearn\\ensemble\\_forest.py:427: FutureWarning: `max_features='auto'` has been deprecated in 1.1 and will be removed in 1.3. To keep the past behaviour, explicitly set `max_features='sqrt'` or remove this parameter as it is also the default value for RandomForestClassifiers and ExtraTreesClassifiers.\n",
      "  warn(\n"
     ]
    },
    {
     "name": "stdout",
     "output_type": "stream",
     "text": [
      "[CV 1/5] END criterion=gini, max_depth=6, max_features=auto, n_estimators=50;, score=0.836 total time=   0.1s\n",
      "[CV 2/5] END criterion=gini, max_depth=6, max_features=auto, n_estimators=50;, score=0.855 total time=   0.0s\n"
     ]
    },
    {
     "name": "stderr",
     "output_type": "stream",
     "text": [
      "C:\\Users\\tando\\anaconda3\\lib\\site-packages\\sklearn\\ensemble\\_forest.py:427: FutureWarning: `max_features='auto'` has been deprecated in 1.1 and will be removed in 1.3. To keep the past behaviour, explicitly set `max_features='sqrt'` or remove this parameter as it is also the default value for RandomForestClassifiers and ExtraTreesClassifiers.\n",
      "  warn(\n",
      "C:\\Users\\tando\\anaconda3\\lib\\site-packages\\sklearn\\ensemble\\_forest.py:427: FutureWarning: `max_features='auto'` has been deprecated in 1.1 and will be removed in 1.3. To keep the past behaviour, explicitly set `max_features='sqrt'` or remove this parameter as it is also the default value for RandomForestClassifiers and ExtraTreesClassifiers.\n",
      "  warn(\n"
     ]
    },
    {
     "name": "stdout",
     "output_type": "stream",
     "text": [
      "[CV 3/5] END criterion=gini, max_depth=6, max_features=auto, n_estimators=50;, score=0.838 total time=   0.1s\n",
      "[CV 4/5] END criterion=gini, max_depth=6, max_features=auto, n_estimators=50;, score=0.841 total time=   0.0s\n"
     ]
    },
    {
     "name": "stderr",
     "output_type": "stream",
     "text": [
      "C:\\Users\\tando\\anaconda3\\lib\\site-packages\\sklearn\\ensemble\\_forest.py:427: FutureWarning: `max_features='auto'` has been deprecated in 1.1 and will be removed in 1.3. To keep the past behaviour, explicitly set `max_features='sqrt'` or remove this parameter as it is also the default value for RandomForestClassifiers and ExtraTreesClassifiers.\n",
      "  warn(\n",
      "C:\\Users\\tando\\anaconda3\\lib\\site-packages\\sklearn\\ensemble\\_forest.py:427: FutureWarning: `max_features='auto'` has been deprecated in 1.1 and will be removed in 1.3. To keep the past behaviour, explicitly set `max_features='sqrt'` or remove this parameter as it is also the default value for RandomForestClassifiers and ExtraTreesClassifiers.\n",
      "  warn(\n"
     ]
    },
    {
     "name": "stdout",
     "output_type": "stream",
     "text": [
      "[CV 5/5] END criterion=gini, max_depth=6, max_features=auto, n_estimators=50;, score=0.833 total time=   0.1s\n"
     ]
    },
    {
     "name": "stderr",
     "output_type": "stream",
     "text": [
      "C:\\Users\\tando\\anaconda3\\lib\\site-packages\\sklearn\\ensemble\\_forest.py:427: FutureWarning: `max_features='auto'` has been deprecated in 1.1 and will be removed in 1.3. To keep the past behaviour, explicitly set `max_features='sqrt'` or remove this parameter as it is also the default value for RandomForestClassifiers and ExtraTreesClassifiers.\n",
      "  warn(\n"
     ]
    },
    {
     "name": "stdout",
     "output_type": "stream",
     "text": [
      "[CV 1/5] END criterion=gini, max_depth=6, max_features=auto, n_estimators=100;, score=0.858 total time=   0.2s\n"
     ]
    },
    {
     "name": "stderr",
     "output_type": "stream",
     "text": [
      "C:\\Users\\tando\\anaconda3\\lib\\site-packages\\sklearn\\ensemble\\_forest.py:427: FutureWarning: `max_features='auto'` has been deprecated in 1.1 and will be removed in 1.3. To keep the past behaviour, explicitly set `max_features='sqrt'` or remove this parameter as it is also the default value for RandomForestClassifiers and ExtraTreesClassifiers.\n",
      "  warn(\n"
     ]
    },
    {
     "name": "stdout",
     "output_type": "stream",
     "text": [
      "[CV 2/5] END criterion=gini, max_depth=6, max_features=auto, n_estimators=100;, score=0.854 total time=   0.2s\n"
     ]
    },
    {
     "name": "stderr",
     "output_type": "stream",
     "text": [
      "C:\\Users\\tando\\anaconda3\\lib\\site-packages\\sklearn\\ensemble\\_forest.py:427: FutureWarning: `max_features='auto'` has been deprecated in 1.1 and will be removed in 1.3. To keep the past behaviour, explicitly set `max_features='sqrt'` or remove this parameter as it is also the default value for RandomForestClassifiers and ExtraTreesClassifiers.\n",
      "  warn(\n"
     ]
    },
    {
     "name": "stdout",
     "output_type": "stream",
     "text": [
      "[CV 3/5] END criterion=gini, max_depth=6, max_features=auto, n_estimators=100;, score=0.837 total time=   0.2s\n"
     ]
    },
    {
     "name": "stderr",
     "output_type": "stream",
     "text": [
      "C:\\Users\\tando\\anaconda3\\lib\\site-packages\\sklearn\\ensemble\\_forest.py:427: FutureWarning: `max_features='auto'` has been deprecated in 1.1 and will be removed in 1.3. To keep the past behaviour, explicitly set `max_features='sqrt'` or remove this parameter as it is also the default value for RandomForestClassifiers and ExtraTreesClassifiers.\n",
      "  warn(\n"
     ]
    },
    {
     "name": "stdout",
     "output_type": "stream",
     "text": [
      "[CV 4/5] END criterion=gini, max_depth=6, max_features=auto, n_estimators=100;, score=0.824 total time=   0.2s\n"
     ]
    },
    {
     "name": "stderr",
     "output_type": "stream",
     "text": [
      "C:\\Users\\tando\\anaconda3\\lib\\site-packages\\sklearn\\ensemble\\_forest.py:427: FutureWarning: `max_features='auto'` has been deprecated in 1.1 and will be removed in 1.3. To keep the past behaviour, explicitly set `max_features='sqrt'` or remove this parameter as it is also the default value for RandomForestClassifiers and ExtraTreesClassifiers.\n",
      "  warn(\n"
     ]
    },
    {
     "name": "stdout",
     "output_type": "stream",
     "text": [
      "[CV 5/5] END criterion=gini, max_depth=6, max_features=auto, n_estimators=100;, score=0.838 total time=   0.2s\n",
      "[CV 1/5] END criterion=gini, max_depth=6, max_features=log2, n_estimators=10;, score=0.808 total time=   0.0s\n",
      "[CV 2/5] END criterion=gini, max_depth=6, max_features=log2, n_estimators=10;, score=0.854 total time=   0.0s\n",
      "[CV 3/5] END criterion=gini, max_depth=6, max_features=log2, n_estimators=10;, score=0.840 total time=   0.0s\n",
      "[CV 4/5] END criterion=gini, max_depth=6, max_features=log2, n_estimators=10;, score=0.863 total time=   0.0s\n",
      "[CV 5/5] END criterion=gini, max_depth=6, max_features=log2, n_estimators=10;, score=0.839 total time=   0.0s\n",
      "[CV 1/5] END criterion=gini, max_depth=6, max_features=log2, n_estimators=50;, score=0.819 total time=   0.0s\n",
      "[CV 2/5] END criterion=gini, max_depth=6, max_features=log2, n_estimators=50;, score=0.838 total time=   0.0s\n",
      "[CV 3/5] END criterion=gini, max_depth=6, max_features=log2, n_estimators=50;, score=0.831 total time=   0.1s\n",
      "[CV 4/5] END criterion=gini, max_depth=6, max_features=log2, n_estimators=50;, score=0.830 total time=   0.1s\n",
      "[CV 5/5] END criterion=gini, max_depth=6, max_features=log2, n_estimators=50;, score=0.830 total time=   0.1s\n",
      "[CV 1/5] END criterion=gini, max_depth=6, max_features=log2, n_estimators=100;, score=0.828 total time=   0.2s\n",
      "[CV 2/5] END criterion=gini, max_depth=6, max_features=log2, n_estimators=100;, score=0.855 total time=   0.2s\n",
      "[CV 3/5] END criterion=gini, max_depth=6, max_features=log2, n_estimators=100;, score=0.832 total time=   0.2s\n",
      "[CV 4/5] END criterion=gini, max_depth=6, max_features=log2, n_estimators=100;, score=0.856 total time=   0.2s\n",
      "[CV 5/5] END criterion=gini, max_depth=6, max_features=log2, n_estimators=100;, score=0.846 total time=   0.2s\n",
      "[CV 1/5] END criterion=gini, max_depth=7, max_features=auto, n_estimators=10;, score=0.847 total time=   0.0s\n",
      "[CV 2/5] END criterion=gini, max_depth=7, max_features=auto, n_estimators=10;, score=0.859 total time=   0.0s\n",
      "[CV 3/5] END criterion=gini, max_depth=7, max_features=auto, n_estimators=10;, score=0.859 total time=   0.0s\n",
      "[CV 4/5] END criterion=gini, max_depth=7, max_features=auto, n_estimators=10;, score=0.867 total time=   0.0s\n",
      "[CV 5/5] END criterion=gini, max_depth=7, max_features=auto, n_estimators=10;, score=0.857 total time=   0.0s\n"
     ]
    },
    {
     "name": "stderr",
     "output_type": "stream",
     "text": [
      "C:\\Users\\tando\\anaconda3\\lib\\site-packages\\sklearn\\ensemble\\_forest.py:427: FutureWarning: `max_features='auto'` has been deprecated in 1.1 and will be removed in 1.3. To keep the past behaviour, explicitly set `max_features='sqrt'` or remove this parameter as it is also the default value for RandomForestClassifiers and ExtraTreesClassifiers.\n",
      "  warn(\n",
      "C:\\Users\\tando\\anaconda3\\lib\\site-packages\\sklearn\\ensemble\\_forest.py:427: FutureWarning: `max_features='auto'` has been deprecated in 1.1 and will be removed in 1.3. To keep the past behaviour, explicitly set `max_features='sqrt'` or remove this parameter as it is also the default value for RandomForestClassifiers and ExtraTreesClassifiers.\n",
      "  warn(\n",
      "C:\\Users\\tando\\anaconda3\\lib\\site-packages\\sklearn\\ensemble\\_forest.py:427: FutureWarning: `max_features='auto'` has been deprecated in 1.1 and will be removed in 1.3. To keep the past behaviour, explicitly set `max_features='sqrt'` or remove this parameter as it is also the default value for RandomForestClassifiers and ExtraTreesClassifiers.\n",
      "  warn(\n",
      "C:\\Users\\tando\\anaconda3\\lib\\site-packages\\sklearn\\ensemble\\_forest.py:427: FutureWarning: `max_features='auto'` has been deprecated in 1.1 and will be removed in 1.3. To keep the past behaviour, explicitly set `max_features='sqrt'` or remove this parameter as it is also the default value for RandomForestClassifiers and ExtraTreesClassifiers.\n",
      "  warn(\n",
      "C:\\Users\\tando\\anaconda3\\lib\\site-packages\\sklearn\\ensemble\\_forest.py:427: FutureWarning: `max_features='auto'` has been deprecated in 1.1 and will be removed in 1.3. To keep the past behaviour, explicitly set `max_features='sqrt'` or remove this parameter as it is also the default value for RandomForestClassifiers and ExtraTreesClassifiers.\n",
      "  warn(\n",
      "C:\\Users\\tando\\anaconda3\\lib\\site-packages\\sklearn\\ensemble\\_forest.py:427: FutureWarning: `max_features='auto'` has been deprecated in 1.1 and will be removed in 1.3. To keep the past behaviour, explicitly set `max_features='sqrt'` or remove this parameter as it is also the default value for RandomForestClassifiers and ExtraTreesClassifiers.\n",
      "  warn(\n"
     ]
    },
    {
     "name": "stdout",
     "output_type": "stream",
     "text": [
      "[CV 1/5] END criterion=gini, max_depth=7, max_features=auto, n_estimators=50;, score=0.867 total time=   0.1s\n",
      "[CV 2/5] END criterion=gini, max_depth=7, max_features=auto, n_estimators=50;, score=0.870 total time=   0.1s\n"
     ]
    },
    {
     "name": "stderr",
     "output_type": "stream",
     "text": [
      "C:\\Users\\tando\\anaconda3\\lib\\site-packages\\sklearn\\ensemble\\_forest.py:427: FutureWarning: `max_features='auto'` has been deprecated in 1.1 and will be removed in 1.3. To keep the past behaviour, explicitly set `max_features='sqrt'` or remove this parameter as it is also the default value for RandomForestClassifiers and ExtraTreesClassifiers.\n",
      "  warn(\n",
      "C:\\Users\\tando\\anaconda3\\lib\\site-packages\\sklearn\\ensemble\\_forest.py:427: FutureWarning: `max_features='auto'` has been deprecated in 1.1 and will be removed in 1.3. To keep the past behaviour, explicitly set `max_features='sqrt'` or remove this parameter as it is also the default value for RandomForestClassifiers and ExtraTreesClassifiers.\n",
      "  warn(\n"
     ]
    },
    {
     "name": "stdout",
     "output_type": "stream",
     "text": [
      "[CV 3/5] END criterion=gini, max_depth=7, max_features=auto, n_estimators=50;, score=0.858 total time=   0.1s\n",
      "[CV 4/5] END criterion=gini, max_depth=7, max_features=auto, n_estimators=50;, score=0.884 total time=   0.1s\n"
     ]
    },
    {
     "name": "stderr",
     "output_type": "stream",
     "text": [
      "C:\\Users\\tando\\anaconda3\\lib\\site-packages\\sklearn\\ensemble\\_forest.py:427: FutureWarning: `max_features='auto'` has been deprecated in 1.1 and will be removed in 1.3. To keep the past behaviour, explicitly set `max_features='sqrt'` or remove this parameter as it is also the default value for RandomForestClassifiers and ExtraTreesClassifiers.\n",
      "  warn(\n",
      "C:\\Users\\tando\\anaconda3\\lib\\site-packages\\sklearn\\ensemble\\_forest.py:427: FutureWarning: `max_features='auto'` has been deprecated in 1.1 and will be removed in 1.3. To keep the past behaviour, explicitly set `max_features='sqrt'` or remove this parameter as it is also the default value for RandomForestClassifiers and ExtraTreesClassifiers.\n",
      "  warn(\n"
     ]
    },
    {
     "name": "stdout",
     "output_type": "stream",
     "text": [
      "[CV 5/5] END criterion=gini, max_depth=7, max_features=auto, n_estimators=50;, score=0.878 total time=   0.1s\n"
     ]
    },
    {
     "name": "stderr",
     "output_type": "stream",
     "text": [
      "C:\\Users\\tando\\anaconda3\\lib\\site-packages\\sklearn\\ensemble\\_forest.py:427: FutureWarning: `max_features='auto'` has been deprecated in 1.1 and will be removed in 1.3. To keep the past behaviour, explicitly set `max_features='sqrt'` or remove this parameter as it is also the default value for RandomForestClassifiers and ExtraTreesClassifiers.\n",
      "  warn(\n"
     ]
    },
    {
     "name": "stdout",
     "output_type": "stream",
     "text": [
      "[CV 1/5] END criterion=gini, max_depth=7, max_features=auto, n_estimators=100;, score=0.861 total time=   0.2s\n"
     ]
    },
    {
     "name": "stderr",
     "output_type": "stream",
     "text": [
      "C:\\Users\\tando\\anaconda3\\lib\\site-packages\\sklearn\\ensemble\\_forest.py:427: FutureWarning: `max_features='auto'` has been deprecated in 1.1 and will be removed in 1.3. To keep the past behaviour, explicitly set `max_features='sqrt'` or remove this parameter as it is also the default value for RandomForestClassifiers and ExtraTreesClassifiers.\n",
      "  warn(\n"
     ]
    },
    {
     "name": "stdout",
     "output_type": "stream",
     "text": [
      "[CV 2/5] END criterion=gini, max_depth=7, max_features=auto, n_estimators=100;, score=0.865 total time=   0.2s\n"
     ]
    },
    {
     "name": "stderr",
     "output_type": "stream",
     "text": [
      "C:\\Users\\tando\\anaconda3\\lib\\site-packages\\sklearn\\ensemble\\_forest.py:427: FutureWarning: `max_features='auto'` has been deprecated in 1.1 and will be removed in 1.3. To keep the past behaviour, explicitly set `max_features='sqrt'` or remove this parameter as it is also the default value for RandomForestClassifiers and ExtraTreesClassifiers.\n",
      "  warn(\n"
     ]
    },
    {
     "name": "stdout",
     "output_type": "stream",
     "text": [
      "[CV 3/5] END criterion=gini, max_depth=7, max_features=auto, n_estimators=100;, score=0.867 total time=   0.2s\n"
     ]
    },
    {
     "name": "stderr",
     "output_type": "stream",
     "text": [
      "C:\\Users\\tando\\anaconda3\\lib\\site-packages\\sklearn\\ensemble\\_forest.py:427: FutureWarning: `max_features='auto'` has been deprecated in 1.1 and will be removed in 1.3. To keep the past behaviour, explicitly set `max_features='sqrt'` or remove this parameter as it is also the default value for RandomForestClassifiers and ExtraTreesClassifiers.\n",
      "  warn(\n"
     ]
    },
    {
     "name": "stdout",
     "output_type": "stream",
     "text": [
      "[CV 4/5] END criterion=gini, max_depth=7, max_features=auto, n_estimators=100;, score=0.883 total time=   0.2s\n"
     ]
    },
    {
     "name": "stderr",
     "output_type": "stream",
     "text": [
      "C:\\Users\\tando\\anaconda3\\lib\\site-packages\\sklearn\\ensemble\\_forest.py:427: FutureWarning: `max_features='auto'` has been deprecated in 1.1 and will be removed in 1.3. To keep the past behaviour, explicitly set `max_features='sqrt'` or remove this parameter as it is also the default value for RandomForestClassifiers and ExtraTreesClassifiers.\n",
      "  warn(\n"
     ]
    },
    {
     "name": "stdout",
     "output_type": "stream",
     "text": [
      "[CV 5/5] END criterion=gini, max_depth=7, max_features=auto, n_estimators=100;, score=0.878 total time=   0.2s\n",
      "[CV 1/5] END criterion=gini, max_depth=7, max_features=log2, n_estimators=10;, score=0.838 total time=   0.0s\n",
      "[CV 2/5] END criterion=gini, max_depth=7, max_features=log2, n_estimators=10;, score=0.871 total time=   0.0s\n",
      "[CV 3/5] END criterion=gini, max_depth=7, max_features=log2, n_estimators=10;, score=0.868 total time=   0.0s\n",
      "[CV 4/5] END criterion=gini, max_depth=7, max_features=log2, n_estimators=10;, score=0.829 total time=   0.0s\n",
      "[CV 5/5] END criterion=gini, max_depth=7, max_features=log2, n_estimators=10;, score=0.847 total time=   0.0s\n",
      "[CV 1/5] END criterion=gini, max_depth=7, max_features=log2, n_estimators=50;, score=0.857 total time=   0.1s\n",
      "[CV 2/5] END criterion=gini, max_depth=7, max_features=log2, n_estimators=50;, score=0.862 total time=   0.1s\n",
      "[CV 3/5] END criterion=gini, max_depth=7, max_features=log2, n_estimators=50;, score=0.867 total time=   0.1s\n",
      "[CV 4/5] END criterion=gini, max_depth=7, max_features=log2, n_estimators=50;, score=0.880 total time=   0.1s\n",
      "[CV 5/5] END criterion=gini, max_depth=7, max_features=log2, n_estimators=50;, score=0.846 total time=   0.1s\n",
      "[CV 1/5] END criterion=gini, max_depth=7, max_features=log2, n_estimators=100;, score=0.864 total time=   0.2s\n",
      "[CV 2/5] END criterion=gini, max_depth=7, max_features=log2, n_estimators=100;, score=0.874 total time=   0.2s\n",
      "[CV 3/5] END criterion=gini, max_depth=7, max_features=log2, n_estimators=100;, score=0.863 total time=   0.2s\n",
      "[CV 4/5] END criterion=gini, max_depth=7, max_features=log2, n_estimators=100;, score=0.888 total time=   0.2s\n",
      "[CV 5/5] END criterion=gini, max_depth=7, max_features=log2, n_estimators=100;, score=0.870 total time=   0.2s\n",
      "[CV 1/5] END criterion=entropy, max_depth=2, max_features=auto, n_estimators=10;, score=0.736 total time=   0.0s\n",
      "[CV 2/5] END criterion=entropy, max_depth=2, max_features=auto, n_estimators=10;, score=0.740 total time=   0.0s\n",
      "[CV 3/5] END criterion=entropy, max_depth=2, max_features=auto, n_estimators=10;, score=0.749 total time=   0.0s\n",
      "[CV 4/5] END criterion=entropy, max_depth=2, max_features=auto, n_estimators=10;, score=0.737 total time=   0.0s\n",
      "[CV 5/5] END criterion=entropy, max_depth=2, max_features=auto, n_estimators=10;, score=0.738 total time=   0.0s\n"
     ]
    },
    {
     "name": "stderr",
     "output_type": "stream",
     "text": [
      "C:\\Users\\tando\\anaconda3\\lib\\site-packages\\sklearn\\ensemble\\_forest.py:427: FutureWarning: `max_features='auto'` has been deprecated in 1.1 and will be removed in 1.3. To keep the past behaviour, explicitly set `max_features='sqrt'` or remove this parameter as it is also the default value for RandomForestClassifiers and ExtraTreesClassifiers.\n",
      "  warn(\n",
      "C:\\Users\\tando\\anaconda3\\lib\\site-packages\\sklearn\\ensemble\\_forest.py:427: FutureWarning: `max_features='auto'` has been deprecated in 1.1 and will be removed in 1.3. To keep the past behaviour, explicitly set `max_features='sqrt'` or remove this parameter as it is also the default value for RandomForestClassifiers and ExtraTreesClassifiers.\n",
      "  warn(\n",
      "C:\\Users\\tando\\anaconda3\\lib\\site-packages\\sklearn\\ensemble\\_forest.py:427: FutureWarning: `max_features='auto'` has been deprecated in 1.1 and will be removed in 1.3. To keep the past behaviour, explicitly set `max_features='sqrt'` or remove this parameter as it is also the default value for RandomForestClassifiers and ExtraTreesClassifiers.\n",
      "  warn(\n",
      "C:\\Users\\tando\\anaconda3\\lib\\site-packages\\sklearn\\ensemble\\_forest.py:427: FutureWarning: `max_features='auto'` has been deprecated in 1.1 and will be removed in 1.3. To keep the past behaviour, explicitly set `max_features='sqrt'` or remove this parameter as it is also the default value for RandomForestClassifiers and ExtraTreesClassifiers.\n",
      "  warn(\n",
      "C:\\Users\\tando\\anaconda3\\lib\\site-packages\\sklearn\\ensemble\\_forest.py:427: FutureWarning: `max_features='auto'` has been deprecated in 1.1 and will be removed in 1.3. To keep the past behaviour, explicitly set `max_features='sqrt'` or remove this parameter as it is also the default value for RandomForestClassifiers and ExtraTreesClassifiers.\n",
      "  warn(\n",
      "C:\\Users\\tando\\anaconda3\\lib\\site-packages\\sklearn\\ensemble\\_forest.py:427: FutureWarning: `max_features='auto'` has been deprecated in 1.1 and will be removed in 1.3. To keep the past behaviour, explicitly set `max_features='sqrt'` or remove this parameter as it is also the default value for RandomForestClassifiers and ExtraTreesClassifiers.\n",
      "  warn(\n"
     ]
    },
    {
     "name": "stdout",
     "output_type": "stream",
     "text": [
      "[CV 1/5] END criterion=entropy, max_depth=2, max_features=auto, n_estimators=50;, score=0.737 total time=   0.0s\n",
      "[CV 2/5] END criterion=entropy, max_depth=2, max_features=auto, n_estimators=50;, score=0.737 total time=   0.0s\n"
     ]
    },
    {
     "name": "stderr",
     "output_type": "stream",
     "text": [
      "C:\\Users\\tando\\anaconda3\\lib\\site-packages\\sklearn\\ensemble\\_forest.py:427: FutureWarning: `max_features='auto'` has been deprecated in 1.1 and will be removed in 1.3. To keep the past behaviour, explicitly set `max_features='sqrt'` or remove this parameter as it is also the default value for RandomForestClassifiers and ExtraTreesClassifiers.\n",
      "  warn(\n",
      "C:\\Users\\tando\\anaconda3\\lib\\site-packages\\sklearn\\ensemble\\_forest.py:427: FutureWarning: `max_features='auto'` has been deprecated in 1.1 and will be removed in 1.3. To keep the past behaviour, explicitly set `max_features='sqrt'` or remove this parameter as it is also the default value for RandomForestClassifiers and ExtraTreesClassifiers.\n",
      "  warn(\n"
     ]
    },
    {
     "name": "stdout",
     "output_type": "stream",
     "text": [
      "[CV 3/5] END criterion=entropy, max_depth=2, max_features=auto, n_estimators=50;, score=0.737 total time=   0.0s\n",
      "[CV 4/5] END criterion=entropy, max_depth=2, max_features=auto, n_estimators=50;, score=0.737 total time=   0.0s\n"
     ]
    },
    {
     "name": "stderr",
     "output_type": "stream",
     "text": [
      "C:\\Users\\tando\\anaconda3\\lib\\site-packages\\sklearn\\ensemble\\_forest.py:427: FutureWarning: `max_features='auto'` has been deprecated in 1.1 and will be removed in 1.3. To keep the past behaviour, explicitly set `max_features='sqrt'` or remove this parameter as it is also the default value for RandomForestClassifiers and ExtraTreesClassifiers.\n",
      "  warn(\n",
      "C:\\Users\\tando\\anaconda3\\lib\\site-packages\\sklearn\\ensemble\\_forest.py:427: FutureWarning: `max_features='auto'` has been deprecated in 1.1 and will be removed in 1.3. To keep the past behaviour, explicitly set `max_features='sqrt'` or remove this parameter as it is also the default value for RandomForestClassifiers and ExtraTreesClassifiers.\n",
      "  warn(\n"
     ]
    },
    {
     "name": "stdout",
     "output_type": "stream",
     "text": [
      "[CV 5/5] END criterion=entropy, max_depth=2, max_features=auto, n_estimators=50;, score=0.738 total time=   0.0s\n"
     ]
    },
    {
     "name": "stderr",
     "output_type": "stream",
     "text": [
      "C:\\Users\\tando\\anaconda3\\lib\\site-packages\\sklearn\\ensemble\\_forest.py:427: FutureWarning: `max_features='auto'` has been deprecated in 1.1 and will be removed in 1.3. To keep the past behaviour, explicitly set `max_features='sqrt'` or remove this parameter as it is also the default value for RandomForestClassifiers and ExtraTreesClassifiers.\n",
      "  warn(\n"
     ]
    },
    {
     "name": "stdout",
     "output_type": "stream",
     "text": [
      "[CV 1/5] END criterion=entropy, max_depth=2, max_features=auto, n_estimators=100;, score=0.736 total time=   0.1s\n"
     ]
    },
    {
     "name": "stderr",
     "output_type": "stream",
     "text": [
      "C:\\Users\\tando\\anaconda3\\lib\\site-packages\\sklearn\\ensemble\\_forest.py:427: FutureWarning: `max_features='auto'` has been deprecated in 1.1 and will be removed in 1.3. To keep the past behaviour, explicitly set `max_features='sqrt'` or remove this parameter as it is also the default value for RandomForestClassifiers and ExtraTreesClassifiers.\n",
      "  warn(\n"
     ]
    },
    {
     "name": "stdout",
     "output_type": "stream",
     "text": [
      "[CV 2/5] END criterion=entropy, max_depth=2, max_features=auto, n_estimators=100;, score=0.737 total time=   0.1s\n"
     ]
    },
    {
     "name": "stderr",
     "output_type": "stream",
     "text": [
      "C:\\Users\\tando\\anaconda3\\lib\\site-packages\\sklearn\\ensemble\\_forest.py:427: FutureWarning: `max_features='auto'` has been deprecated in 1.1 and will be removed in 1.3. To keep the past behaviour, explicitly set `max_features='sqrt'` or remove this parameter as it is also the default value for RandomForestClassifiers and ExtraTreesClassifiers.\n",
      "  warn(\n"
     ]
    },
    {
     "name": "stdout",
     "output_type": "stream",
     "text": [
      "[CV 3/5] END criterion=entropy, max_depth=2, max_features=auto, n_estimators=100;, score=0.737 total time=   0.1s\n"
     ]
    },
    {
     "name": "stderr",
     "output_type": "stream",
     "text": [
      "C:\\Users\\tando\\anaconda3\\lib\\site-packages\\sklearn\\ensemble\\_forest.py:427: FutureWarning: `max_features='auto'` has been deprecated in 1.1 and will be removed in 1.3. To keep the past behaviour, explicitly set `max_features='sqrt'` or remove this parameter as it is also the default value for RandomForestClassifiers and ExtraTreesClassifiers.\n",
      "  warn(\n"
     ]
    },
    {
     "name": "stdout",
     "output_type": "stream",
     "text": [
      "[CV 4/5] END criterion=entropy, max_depth=2, max_features=auto, n_estimators=100;, score=0.737 total time=   0.1s\n"
     ]
    },
    {
     "name": "stderr",
     "output_type": "stream",
     "text": [
      "C:\\Users\\tando\\anaconda3\\lib\\site-packages\\sklearn\\ensemble\\_forest.py:427: FutureWarning: `max_features='auto'` has been deprecated in 1.1 and will be removed in 1.3. To keep the past behaviour, explicitly set `max_features='sqrt'` or remove this parameter as it is also the default value for RandomForestClassifiers and ExtraTreesClassifiers.\n",
      "  warn(\n"
     ]
    },
    {
     "name": "stdout",
     "output_type": "stream",
     "text": [
      "[CV 5/5] END criterion=entropy, max_depth=2, max_features=auto, n_estimators=100;, score=0.738 total time=   0.1s\n",
      "[CV 1/5] END criterion=entropy, max_depth=2, max_features=log2, n_estimators=10;, score=0.736 total time=   0.0s\n",
      "[CV 2/5] END criterion=entropy, max_depth=2, max_features=log2, n_estimators=10;, score=0.744 total time=   0.0s\n",
      "[CV 3/5] END criterion=entropy, max_depth=2, max_features=log2, n_estimators=10;, score=0.752 total time=   0.0s\n",
      "[CV 4/5] END criterion=entropy, max_depth=2, max_features=log2, n_estimators=10;, score=0.737 total time=   0.0s\n",
      "[CV 5/5] END criterion=entropy, max_depth=2, max_features=log2, n_estimators=10;, score=0.745 total time=   0.0s\n",
      "[CV 1/5] END criterion=entropy, max_depth=2, max_features=log2, n_estimators=50;, score=0.736 total time=   0.0s\n",
      "[CV 2/5] END criterion=entropy, max_depth=2, max_features=log2, n_estimators=50;, score=0.737 total time=   0.0s\n",
      "[CV 3/5] END criterion=entropy, max_depth=2, max_features=log2, n_estimators=50;, score=0.737 total time=   0.0s\n",
      "[CV 4/5] END criterion=entropy, max_depth=2, max_features=log2, n_estimators=50;, score=0.737 total time=   0.0s\n",
      "[CV 5/5] END criterion=entropy, max_depth=2, max_features=log2, n_estimators=50;, score=0.738 total time=   0.0s\n",
      "[CV 1/5] END criterion=entropy, max_depth=2, max_features=log2, n_estimators=100;, score=0.736 total time=   0.1s\n",
      "[CV 2/5] END criterion=entropy, max_depth=2, max_features=log2, n_estimators=100;, score=0.737 total time=   0.1s\n",
      "[CV 3/5] END criterion=entropy, max_depth=2, max_features=log2, n_estimators=100;, score=0.737 total time=   0.1s\n",
      "[CV 4/5] END criterion=entropy, max_depth=2, max_features=log2, n_estimators=100;, score=0.737 total time=   0.1s\n",
      "[CV 5/5] END criterion=entropy, max_depth=2, max_features=log2, n_estimators=100;, score=0.738 total time=   0.1s\n",
      "[CV 1/5] END criterion=entropy, max_depth=3, max_features=auto, n_estimators=10;, score=0.754 total time=   0.0s\n",
      "[CV 2/5] END criterion=entropy, max_depth=3, max_features=auto, n_estimators=10;, score=0.754 total time=   0.0s\n",
      "[CV 3/5] END criterion=entropy, max_depth=3, max_features=auto, n_estimators=10;, score=0.759 total time=   0.0s\n",
      "[CV 4/5] END criterion=entropy, max_depth=3, max_features=auto, n_estimators=10;, score=0.757 total time=   0.0s\n",
      "[CV 5/5] END criterion=entropy, max_depth=3, max_features=auto, n_estimators=10;, score=0.752 total time=   0.0s\n"
     ]
    },
    {
     "name": "stderr",
     "output_type": "stream",
     "text": [
      "C:\\Users\\tando\\anaconda3\\lib\\site-packages\\sklearn\\ensemble\\_forest.py:427: FutureWarning: `max_features='auto'` has been deprecated in 1.1 and will be removed in 1.3. To keep the past behaviour, explicitly set `max_features='sqrt'` or remove this parameter as it is also the default value for RandomForestClassifiers and ExtraTreesClassifiers.\n",
      "  warn(\n",
      "C:\\Users\\tando\\anaconda3\\lib\\site-packages\\sklearn\\ensemble\\_forest.py:427: FutureWarning: `max_features='auto'` has been deprecated in 1.1 and will be removed in 1.3. To keep the past behaviour, explicitly set `max_features='sqrt'` or remove this parameter as it is also the default value for RandomForestClassifiers and ExtraTreesClassifiers.\n",
      "  warn(\n",
      "C:\\Users\\tando\\anaconda3\\lib\\site-packages\\sklearn\\ensemble\\_forest.py:427: FutureWarning: `max_features='auto'` has been deprecated in 1.1 and will be removed in 1.3. To keep the past behaviour, explicitly set `max_features='sqrt'` or remove this parameter as it is also the default value for RandomForestClassifiers and ExtraTreesClassifiers.\n",
      "  warn(\n",
      "C:\\Users\\tando\\anaconda3\\lib\\site-packages\\sklearn\\ensemble\\_forest.py:427: FutureWarning: `max_features='auto'` has been deprecated in 1.1 and will be removed in 1.3. To keep the past behaviour, explicitly set `max_features='sqrt'` or remove this parameter as it is also the default value for RandomForestClassifiers and ExtraTreesClassifiers.\n",
      "  warn(\n",
      "C:\\Users\\tando\\anaconda3\\lib\\site-packages\\sklearn\\ensemble\\_forest.py:427: FutureWarning: `max_features='auto'` has been deprecated in 1.1 and will be removed in 1.3. To keep the past behaviour, explicitly set `max_features='sqrt'` or remove this parameter as it is also the default value for RandomForestClassifiers and ExtraTreesClassifiers.\n",
      "  warn(\n",
      "C:\\Users\\tando\\anaconda3\\lib\\site-packages\\sklearn\\ensemble\\_forest.py:427: FutureWarning: `max_features='auto'` has been deprecated in 1.1 and will be removed in 1.3. To keep the past behaviour, explicitly set `max_features='sqrt'` or remove this parameter as it is also the default value for RandomForestClassifiers and ExtraTreesClassifiers.\n",
      "  warn(\n"
     ]
    },
    {
     "name": "stdout",
     "output_type": "stream",
     "text": [
      "[CV 1/5] END criterion=entropy, max_depth=3, max_features=auto, n_estimators=50;, score=0.747 total time=   0.0s\n",
      "[CV 2/5] END criterion=entropy, max_depth=3, max_features=auto, n_estimators=50;, score=0.754 total time=   0.0s\n"
     ]
    },
    {
     "name": "stderr",
     "output_type": "stream",
     "text": [
      "C:\\Users\\tando\\anaconda3\\lib\\site-packages\\sklearn\\ensemble\\_forest.py:427: FutureWarning: `max_features='auto'` has been deprecated in 1.1 and will be removed in 1.3. To keep the past behaviour, explicitly set `max_features='sqrt'` or remove this parameter as it is also the default value for RandomForestClassifiers and ExtraTreesClassifiers.\n",
      "  warn(\n",
      "C:\\Users\\tando\\anaconda3\\lib\\site-packages\\sklearn\\ensemble\\_forest.py:427: FutureWarning: `max_features='auto'` has been deprecated in 1.1 and will be removed in 1.3. To keep the past behaviour, explicitly set `max_features='sqrt'` or remove this parameter as it is also the default value for RandomForestClassifiers and ExtraTreesClassifiers.\n",
      "  warn(\n"
     ]
    },
    {
     "name": "stdout",
     "output_type": "stream",
     "text": [
      "[CV 3/5] END criterion=entropy, max_depth=3, max_features=auto, n_estimators=50;, score=0.752 total time=   0.0s\n",
      "[CV 4/5] END criterion=entropy, max_depth=3, max_features=auto, n_estimators=50;, score=0.746 total time=   0.0s\n"
     ]
    },
    {
     "name": "stderr",
     "output_type": "stream",
     "text": [
      "C:\\Users\\tando\\anaconda3\\lib\\site-packages\\sklearn\\ensemble\\_forest.py:427: FutureWarning: `max_features='auto'` has been deprecated in 1.1 and will be removed in 1.3. To keep the past behaviour, explicitly set `max_features='sqrt'` or remove this parameter as it is also the default value for RandomForestClassifiers and ExtraTreesClassifiers.\n",
      "  warn(\n",
      "C:\\Users\\tando\\anaconda3\\lib\\site-packages\\sklearn\\ensemble\\_forest.py:427: FutureWarning: `max_features='auto'` has been deprecated in 1.1 and will be removed in 1.3. To keep the past behaviour, explicitly set `max_features='sqrt'` or remove this parameter as it is also the default value for RandomForestClassifiers and ExtraTreesClassifiers.\n",
      "  warn(\n"
     ]
    },
    {
     "name": "stdout",
     "output_type": "stream",
     "text": [
      "[CV 5/5] END criterion=entropy, max_depth=3, max_features=auto, n_estimators=50;, score=0.752 total time=   0.0s\n"
     ]
    },
    {
     "name": "stderr",
     "output_type": "stream",
     "text": [
      "C:\\Users\\tando\\anaconda3\\lib\\site-packages\\sklearn\\ensemble\\_forest.py:427: FutureWarning: `max_features='auto'` has been deprecated in 1.1 and will be removed in 1.3. To keep the past behaviour, explicitly set `max_features='sqrt'` or remove this parameter as it is also the default value for RandomForestClassifiers and ExtraTreesClassifiers.\n",
      "  warn(\n"
     ]
    },
    {
     "name": "stdout",
     "output_type": "stream",
     "text": [
      "[CV 1/5] END criterion=entropy, max_depth=3, max_features=auto, n_estimators=100;, score=0.746 total time=   0.2s\n"
     ]
    },
    {
     "name": "stderr",
     "output_type": "stream",
     "text": [
      "C:\\Users\\tando\\anaconda3\\lib\\site-packages\\sklearn\\ensemble\\_forest.py:427: FutureWarning: `max_features='auto'` has been deprecated in 1.1 and will be removed in 1.3. To keep the past behaviour, explicitly set `max_features='sqrt'` or remove this parameter as it is also the default value for RandomForestClassifiers and ExtraTreesClassifiers.\n",
      "  warn(\n"
     ]
    },
    {
     "name": "stdout",
     "output_type": "stream",
     "text": [
      "[CV 2/5] END criterion=entropy, max_depth=3, max_features=auto, n_estimators=100;, score=0.752 total time=   0.2s\n"
     ]
    },
    {
     "name": "stderr",
     "output_type": "stream",
     "text": [
      "C:\\Users\\tando\\anaconda3\\lib\\site-packages\\sklearn\\ensemble\\_forest.py:427: FutureWarning: `max_features='auto'` has been deprecated in 1.1 and will be removed in 1.3. To keep the past behaviour, explicitly set `max_features='sqrt'` or remove this parameter as it is also the default value for RandomForestClassifiers and ExtraTreesClassifiers.\n",
      "  warn(\n"
     ]
    },
    {
     "name": "stdout",
     "output_type": "stream",
     "text": [
      "[CV 3/5] END criterion=entropy, max_depth=3, max_features=auto, n_estimators=100;, score=0.752 total time=   0.2s\n"
     ]
    },
    {
     "name": "stderr",
     "output_type": "stream",
     "text": [
      "C:\\Users\\tando\\anaconda3\\lib\\site-packages\\sklearn\\ensemble\\_forest.py:427: FutureWarning: `max_features='auto'` has been deprecated in 1.1 and will be removed in 1.3. To keep the past behaviour, explicitly set `max_features='sqrt'` or remove this parameter as it is also the default value for RandomForestClassifiers and ExtraTreesClassifiers.\n",
      "  warn(\n"
     ]
    },
    {
     "name": "stdout",
     "output_type": "stream",
     "text": [
      "[CV 4/5] END criterion=entropy, max_depth=3, max_features=auto, n_estimators=100;, score=0.750 total time=   0.2s\n"
     ]
    },
    {
     "name": "stderr",
     "output_type": "stream",
     "text": [
      "C:\\Users\\tando\\anaconda3\\lib\\site-packages\\sklearn\\ensemble\\_forest.py:427: FutureWarning: `max_features='auto'` has been deprecated in 1.1 and will be removed in 1.3. To keep the past behaviour, explicitly set `max_features='sqrt'` or remove this parameter as it is also the default value for RandomForestClassifiers and ExtraTreesClassifiers.\n",
      "  warn(\n"
     ]
    },
    {
     "name": "stdout",
     "output_type": "stream",
     "text": [
      "[CV 5/5] END criterion=entropy, max_depth=3, max_features=auto, n_estimators=100;, score=0.748 total time=   0.2s\n",
      "[CV 1/5] END criterion=entropy, max_depth=3, max_features=log2, n_estimators=10;, score=0.745 total time=   0.0s\n",
      "[CV 2/5] END criterion=entropy, max_depth=3, max_features=log2, n_estimators=10;, score=0.753 total time=   0.0s\n",
      "[CV 3/5] END criterion=entropy, max_depth=3, max_features=log2, n_estimators=10;, score=0.771 total time=   0.0s\n",
      "[CV 4/5] END criterion=entropy, max_depth=3, max_features=log2, n_estimators=10;, score=0.751 total time=   0.0s\n",
      "[CV 5/5] END criterion=entropy, max_depth=3, max_features=log2, n_estimators=10;, score=0.754 total time=   0.0s\n",
      "[CV 1/5] END criterion=entropy, max_depth=3, max_features=log2, n_estimators=50;, score=0.746 total time=   0.0s\n",
      "[CV 2/5] END criterion=entropy, max_depth=3, max_features=log2, n_estimators=50;, score=0.752 total time=   0.0s\n",
      "[CV 3/5] END criterion=entropy, max_depth=3, max_features=log2, n_estimators=50;, score=0.752 total time=   0.0s\n",
      "[CV 4/5] END criterion=entropy, max_depth=3, max_features=log2, n_estimators=50;, score=0.749 total time=   0.0s\n",
      "[CV 5/5] END criterion=entropy, max_depth=3, max_features=log2, n_estimators=50;, score=0.752 total time=   0.0s\n",
      "[CV 1/5] END criterion=entropy, max_depth=3, max_features=log2, n_estimators=100;, score=0.746 total time=   0.2s\n",
      "[CV 2/5] END criterion=entropy, max_depth=3, max_features=log2, n_estimators=100;, score=0.753 total time=   0.2s\n",
      "[CV 3/5] END criterion=entropy, max_depth=3, max_features=log2, n_estimators=100;, score=0.753 total time=   0.2s\n",
      "[CV 4/5] END criterion=entropy, max_depth=3, max_features=log2, n_estimators=100;, score=0.750 total time=   0.2s\n",
      "[CV 5/5] END criterion=entropy, max_depth=3, max_features=log2, n_estimators=100;, score=0.752 total time=   0.2s\n",
      "[CV 1/5] END criterion=entropy, max_depth=4, max_features=auto, n_estimators=10;, score=0.762 total time=   0.0s\n",
      "[CV 2/5] END criterion=entropy, max_depth=4, max_features=auto, n_estimators=10;, score=0.798 total time=   0.0s\n",
      "[CV 3/5] END criterion=entropy, max_depth=4, max_features=auto, n_estimators=10;, score=0.775 total time=   0.0s\n",
      "[CV 4/5] END criterion=entropy, max_depth=4, max_features=auto, n_estimators=10;, score=0.790 total time=   0.0s\n",
      "[CV 5/5] END criterion=entropy, max_depth=4, max_features=auto, n_estimators=10;, score=0.772 total time=   0.0s\n"
     ]
    },
    {
     "name": "stderr",
     "output_type": "stream",
     "text": [
      "C:\\Users\\tando\\anaconda3\\lib\\site-packages\\sklearn\\ensemble\\_forest.py:427: FutureWarning: `max_features='auto'` has been deprecated in 1.1 and will be removed in 1.3. To keep the past behaviour, explicitly set `max_features='sqrt'` or remove this parameter as it is also the default value for RandomForestClassifiers and ExtraTreesClassifiers.\n",
      "  warn(\n",
      "C:\\Users\\tando\\anaconda3\\lib\\site-packages\\sklearn\\ensemble\\_forest.py:427: FutureWarning: `max_features='auto'` has been deprecated in 1.1 and will be removed in 1.3. To keep the past behaviour, explicitly set `max_features='sqrt'` or remove this parameter as it is also the default value for RandomForestClassifiers and ExtraTreesClassifiers.\n",
      "  warn(\n",
      "C:\\Users\\tando\\anaconda3\\lib\\site-packages\\sklearn\\ensemble\\_forest.py:427: FutureWarning: `max_features='auto'` has been deprecated in 1.1 and will be removed in 1.3. To keep the past behaviour, explicitly set `max_features='sqrt'` or remove this parameter as it is also the default value for RandomForestClassifiers and ExtraTreesClassifiers.\n",
      "  warn(\n",
      "C:\\Users\\tando\\anaconda3\\lib\\site-packages\\sklearn\\ensemble\\_forest.py:427: FutureWarning: `max_features='auto'` has been deprecated in 1.1 and will be removed in 1.3. To keep the past behaviour, explicitly set `max_features='sqrt'` or remove this parameter as it is also the default value for RandomForestClassifiers and ExtraTreesClassifiers.\n",
      "  warn(\n",
      "C:\\Users\\tando\\anaconda3\\lib\\site-packages\\sklearn\\ensemble\\_forest.py:427: FutureWarning: `max_features='auto'` has been deprecated in 1.1 and will be removed in 1.3. To keep the past behaviour, explicitly set `max_features='sqrt'` or remove this parameter as it is also the default value for RandomForestClassifiers and ExtraTreesClassifiers.\n",
      "  warn(\n",
      "C:\\Users\\tando\\anaconda3\\lib\\site-packages\\sklearn\\ensemble\\_forest.py:427: FutureWarning: `max_features='auto'` has been deprecated in 1.1 and will be removed in 1.3. To keep the past behaviour, explicitly set `max_features='sqrt'` or remove this parameter as it is also the default value for RandomForestClassifiers and ExtraTreesClassifiers.\n",
      "  warn(\n",
      "C:\\Users\\tando\\anaconda3\\lib\\site-packages\\sklearn\\ensemble\\_forest.py:427: FutureWarning: `max_features='auto'` has been deprecated in 1.1 and will be removed in 1.3. To keep the past behaviour, explicitly set `max_features='sqrt'` or remove this parameter as it is also the default value for RandomForestClassifiers and ExtraTreesClassifiers.\n",
      "  warn(\n"
     ]
    },
    {
     "name": "stdout",
     "output_type": "stream",
     "text": [
      "[CV 1/5] END criterion=entropy, max_depth=4, max_features=auto, n_estimators=50;, score=0.764 total time=   0.1s\n",
      "[CV 2/5] END criterion=entropy, max_depth=4, max_features=auto, n_estimators=50;, score=0.765 total time=   0.1s\n",
      "[CV 3/5] END criterion=entropy, max_depth=4, max_features=auto, n_estimators=50;, score=0.771 total time=   0.1s\n"
     ]
    },
    {
     "name": "stderr",
     "output_type": "stream",
     "text": [
      "C:\\Users\\tando\\anaconda3\\lib\\site-packages\\sklearn\\ensemble\\_forest.py:427: FutureWarning: `max_features='auto'` has been deprecated in 1.1 and will be removed in 1.3. To keep the past behaviour, explicitly set `max_features='sqrt'` or remove this parameter as it is also the default value for RandomForestClassifiers and ExtraTreesClassifiers.\n",
      "  warn(\n",
      "C:\\Users\\tando\\anaconda3\\lib\\site-packages\\sklearn\\ensemble\\_forest.py:427: FutureWarning: `max_features='auto'` has been deprecated in 1.1 and will be removed in 1.3. To keep the past behaviour, explicitly set `max_features='sqrt'` or remove this parameter as it is also the default value for RandomForestClassifiers and ExtraTreesClassifiers.\n",
      "  warn(\n",
      "C:\\Users\\tando\\anaconda3\\lib\\site-packages\\sklearn\\ensemble\\_forest.py:427: FutureWarning: `max_features='auto'` has been deprecated in 1.1 and will be removed in 1.3. To keep the past behaviour, explicitly set `max_features='sqrt'` or remove this parameter as it is also the default value for RandomForestClassifiers and ExtraTreesClassifiers.\n",
      "  warn(\n"
     ]
    },
    {
     "name": "stdout",
     "output_type": "stream",
     "text": [
      "[CV 4/5] END criterion=entropy, max_depth=4, max_features=auto, n_estimators=50;, score=0.778 total time=   0.1s\n",
      "[CV 5/5] END criterion=entropy, max_depth=4, max_features=auto, n_estimators=50;, score=0.771 total time=   0.1s\n"
     ]
    },
    {
     "name": "stderr",
     "output_type": "stream",
     "text": [
      "C:\\Users\\tando\\anaconda3\\lib\\site-packages\\sklearn\\ensemble\\_forest.py:427: FutureWarning: `max_features='auto'` has been deprecated in 1.1 and will be removed in 1.3. To keep the past behaviour, explicitly set `max_features='sqrt'` or remove this parameter as it is also the default value for RandomForestClassifiers and ExtraTreesClassifiers.\n",
      "  warn(\n"
     ]
    },
    {
     "name": "stdout",
     "output_type": "stream",
     "text": [
      "[CV 1/5] END criterion=entropy, max_depth=4, max_features=auto, n_estimators=100;, score=0.764 total time=   0.2s\n"
     ]
    },
    {
     "name": "stderr",
     "output_type": "stream",
     "text": [
      "C:\\Users\\tando\\anaconda3\\lib\\site-packages\\sklearn\\ensemble\\_forest.py:427: FutureWarning: `max_features='auto'` has been deprecated in 1.1 and will be removed in 1.3. To keep the past behaviour, explicitly set `max_features='sqrt'` or remove this parameter as it is also the default value for RandomForestClassifiers and ExtraTreesClassifiers.\n",
      "  warn(\n"
     ]
    },
    {
     "name": "stdout",
     "output_type": "stream",
     "text": [
      "[CV 2/5] END criterion=entropy, max_depth=4, max_features=auto, n_estimators=100;, score=0.766 total time=   0.2s\n"
     ]
    },
    {
     "name": "stderr",
     "output_type": "stream",
     "text": [
      "C:\\Users\\tando\\anaconda3\\lib\\site-packages\\sklearn\\ensemble\\_forest.py:427: FutureWarning: `max_features='auto'` has been deprecated in 1.1 and will be removed in 1.3. To keep the past behaviour, explicitly set `max_features='sqrt'` or remove this parameter as it is also the default value for RandomForestClassifiers and ExtraTreesClassifiers.\n",
      "  warn(\n"
     ]
    },
    {
     "name": "stdout",
     "output_type": "stream",
     "text": [
      "[CV 3/5] END criterion=entropy, max_depth=4, max_features=auto, n_estimators=100;, score=0.763 total time=   0.2s\n"
     ]
    },
    {
     "name": "stderr",
     "output_type": "stream",
     "text": [
      "C:\\Users\\tando\\anaconda3\\lib\\site-packages\\sklearn\\ensemble\\_forest.py:427: FutureWarning: `max_features='auto'` has been deprecated in 1.1 and will be removed in 1.3. To keep the past behaviour, explicitly set `max_features='sqrt'` or remove this parameter as it is also the default value for RandomForestClassifiers and ExtraTreesClassifiers.\n",
      "  warn(\n"
     ]
    },
    {
     "name": "stdout",
     "output_type": "stream",
     "text": [
      "[CV 4/5] END criterion=entropy, max_depth=4, max_features=auto, n_estimators=100;, score=0.773 total time=   0.2s\n"
     ]
    },
    {
     "name": "stderr",
     "output_type": "stream",
     "text": [
      "C:\\Users\\tando\\anaconda3\\lib\\site-packages\\sklearn\\ensemble\\_forest.py:427: FutureWarning: `max_features='auto'` has been deprecated in 1.1 and will be removed in 1.3. To keep the past behaviour, explicitly set `max_features='sqrt'` or remove this parameter as it is also the default value for RandomForestClassifiers and ExtraTreesClassifiers.\n",
      "  warn(\n"
     ]
    },
    {
     "name": "stdout",
     "output_type": "stream",
     "text": [
      "[CV 5/5] END criterion=entropy, max_depth=4, max_features=auto, n_estimators=100;, score=0.771 total time=   0.2s\n",
      "[CV 1/5] END criterion=entropy, max_depth=4, max_features=log2, n_estimators=10;, score=0.755 total time=   0.0s\n",
      "[CV 2/5] END criterion=entropy, max_depth=4, max_features=log2, n_estimators=10;, score=0.796 total time=   0.0s\n",
      "[CV 3/5] END criterion=entropy, max_depth=4, max_features=log2, n_estimators=10;, score=0.778 total time=   0.0s\n",
      "[CV 4/5] END criterion=entropy, max_depth=4, max_features=log2, n_estimators=10;, score=0.773 total time=   0.0s\n",
      "[CV 5/5] END criterion=entropy, max_depth=4, max_features=log2, n_estimators=10;, score=0.802 total time=   0.0s\n",
      "[CV 1/5] END criterion=entropy, max_depth=4, max_features=log2, n_estimators=50;, score=0.781 total time=   0.1s\n",
      "[CV 2/5] END criterion=entropy, max_depth=4, max_features=log2, n_estimators=50;, score=0.773 total time=   0.1s\n",
      "[CV 3/5] END criterion=entropy, max_depth=4, max_features=log2, n_estimators=50;, score=0.775 total time=   0.1s\n",
      "[CV 4/5] END criterion=entropy, max_depth=4, max_features=log2, n_estimators=50;, score=0.769 total time=   0.1s\n",
      "[CV 5/5] END criterion=entropy, max_depth=4, max_features=log2, n_estimators=50;, score=0.764 total time=   0.1s\n",
      "[CV 1/5] END criterion=entropy, max_depth=4, max_features=log2, n_estimators=100;, score=0.760 total time=   0.2s\n",
      "[CV 2/5] END criterion=entropy, max_depth=4, max_features=log2, n_estimators=100;, score=0.770 total time=   0.2s\n",
      "[CV 3/5] END criterion=entropy, max_depth=4, max_features=log2, n_estimators=100;, score=0.764 total time=   0.2s\n",
      "[CV 4/5] END criterion=entropy, max_depth=4, max_features=log2, n_estimators=100;, score=0.763 total time=   0.2s\n",
      "[CV 5/5] END criterion=entropy, max_depth=4, max_features=log2, n_estimators=100;, score=0.764 total time=   0.2s\n",
      "[CV 1/5] END criterion=entropy, max_depth=5, max_features=auto, n_estimators=10;, score=0.781 total time=   0.0s\n",
      "[CV 2/5] END criterion=entropy, max_depth=5, max_features=auto, n_estimators=10;, score=0.808 total time=   0.0s\n",
      "[CV 3/5] END criterion=entropy, max_depth=5, max_features=auto, n_estimators=10;, score=0.792 total time=   0.0s\n",
      "[CV 4/5] END criterion=entropy, max_depth=5, max_features=auto, n_estimators=10;, score=0.786 total time=   0.0s\n"
     ]
    },
    {
     "name": "stderr",
     "output_type": "stream",
     "text": [
      "C:\\Users\\tando\\anaconda3\\lib\\site-packages\\sklearn\\ensemble\\_forest.py:427: FutureWarning: `max_features='auto'` has been deprecated in 1.1 and will be removed in 1.3. To keep the past behaviour, explicitly set `max_features='sqrt'` or remove this parameter as it is also the default value for RandomForestClassifiers and ExtraTreesClassifiers.\n",
      "  warn(\n",
      "C:\\Users\\tando\\anaconda3\\lib\\site-packages\\sklearn\\ensemble\\_forest.py:427: FutureWarning: `max_features='auto'` has been deprecated in 1.1 and will be removed in 1.3. To keep the past behaviour, explicitly set `max_features='sqrt'` or remove this parameter as it is also the default value for RandomForestClassifiers and ExtraTreesClassifiers.\n",
      "  warn(\n",
      "C:\\Users\\tando\\anaconda3\\lib\\site-packages\\sklearn\\ensemble\\_forest.py:427: FutureWarning: `max_features='auto'` has been deprecated in 1.1 and will be removed in 1.3. To keep the past behaviour, explicitly set `max_features='sqrt'` or remove this parameter as it is also the default value for RandomForestClassifiers and ExtraTreesClassifiers.\n",
      "  warn(\n",
      "C:\\Users\\tando\\anaconda3\\lib\\site-packages\\sklearn\\ensemble\\_forest.py:427: FutureWarning: `max_features='auto'` has been deprecated in 1.1 and will be removed in 1.3. To keep the past behaviour, explicitly set `max_features='sqrt'` or remove this parameter as it is also the default value for RandomForestClassifiers and ExtraTreesClassifiers.\n",
      "  warn(\n",
      "C:\\Users\\tando\\anaconda3\\lib\\site-packages\\sklearn\\ensemble\\_forest.py:427: FutureWarning: `max_features='auto'` has been deprecated in 1.1 and will be removed in 1.3. To keep the past behaviour, explicitly set `max_features='sqrt'` or remove this parameter as it is also the default value for RandomForestClassifiers and ExtraTreesClassifiers.\n",
      "  warn(\n"
     ]
    },
    {
     "name": "stdout",
     "output_type": "stream",
     "text": [
      "[CV 5/5] END criterion=entropy, max_depth=5, max_features=auto, n_estimators=10;, score=0.829 total time=   0.0s\n",
      "[CV 1/5] END criterion=entropy, max_depth=5, max_features=auto, n_estimators=50;, score=0.806 total time=   0.1s\n"
     ]
    },
    {
     "name": "stderr",
     "output_type": "stream",
     "text": [
      "C:\\Users\\tando\\anaconda3\\lib\\site-packages\\sklearn\\ensemble\\_forest.py:427: FutureWarning: `max_features='auto'` has been deprecated in 1.1 and will be removed in 1.3. To keep the past behaviour, explicitly set `max_features='sqrt'` or remove this parameter as it is also the default value for RandomForestClassifiers and ExtraTreesClassifiers.\n",
      "  warn(\n",
      "C:\\Users\\tando\\anaconda3\\lib\\site-packages\\sklearn\\ensemble\\_forest.py:427: FutureWarning: `max_features='auto'` has been deprecated in 1.1 and will be removed in 1.3. To keep the past behaviour, explicitly set `max_features='sqrt'` or remove this parameter as it is also the default value for RandomForestClassifiers and ExtraTreesClassifiers.\n",
      "  warn(\n"
     ]
    },
    {
     "name": "stdout",
     "output_type": "stream",
     "text": [
      "[CV 2/5] END criterion=entropy, max_depth=5, max_features=auto, n_estimators=50;, score=0.797 total time=   0.1s\n",
      "[CV 3/5] END criterion=entropy, max_depth=5, max_features=auto, n_estimators=50;, score=0.789 total time=   0.1s\n"
     ]
    },
    {
     "name": "stderr",
     "output_type": "stream",
     "text": [
      "C:\\Users\\tando\\anaconda3\\lib\\site-packages\\sklearn\\ensemble\\_forest.py:427: FutureWarning: `max_features='auto'` has been deprecated in 1.1 and will be removed in 1.3. To keep the past behaviour, explicitly set `max_features='sqrt'` or remove this parameter as it is also the default value for RandomForestClassifiers and ExtraTreesClassifiers.\n",
      "  warn(\n",
      "C:\\Users\\tando\\anaconda3\\lib\\site-packages\\sklearn\\ensemble\\_forest.py:427: FutureWarning: `max_features='auto'` has been deprecated in 1.1 and will be removed in 1.3. To keep the past behaviour, explicitly set `max_features='sqrt'` or remove this parameter as it is also the default value for RandomForestClassifiers and ExtraTreesClassifiers.\n",
      "  warn(\n"
     ]
    },
    {
     "name": "stdout",
     "output_type": "stream",
     "text": [
      "[CV 4/5] END criterion=entropy, max_depth=5, max_features=auto, n_estimators=50;, score=0.828 total time=   0.1s\n",
      "[CV 5/5] END criterion=entropy, max_depth=5, max_features=auto, n_estimators=50;, score=0.800 total time=   0.1s\n"
     ]
    },
    {
     "name": "stderr",
     "output_type": "stream",
     "text": [
      "C:\\Users\\tando\\anaconda3\\lib\\site-packages\\sklearn\\ensemble\\_forest.py:427: FutureWarning: `max_features='auto'` has been deprecated in 1.1 and will be removed in 1.3. To keep the past behaviour, explicitly set `max_features='sqrt'` or remove this parameter as it is also the default value for RandomForestClassifiers and ExtraTreesClassifiers.\n",
      "  warn(\n",
      "C:\\Users\\tando\\anaconda3\\lib\\site-packages\\sklearn\\ensemble\\_forest.py:427: FutureWarning: `max_features='auto'` has been deprecated in 1.1 and will be removed in 1.3. To keep the past behaviour, explicitly set `max_features='sqrt'` or remove this parameter as it is also the default value for RandomForestClassifiers and ExtraTreesClassifiers.\n",
      "  warn(\n"
     ]
    },
    {
     "name": "stdout",
     "output_type": "stream",
     "text": [
      "[CV 1/5] END criterion=entropy, max_depth=5, max_features=auto, n_estimators=100;, score=0.785 total time=   0.2s\n"
     ]
    },
    {
     "name": "stderr",
     "output_type": "stream",
     "text": [
      "C:\\Users\\tando\\anaconda3\\lib\\site-packages\\sklearn\\ensemble\\_forest.py:427: FutureWarning: `max_features='auto'` has been deprecated in 1.1 and will be removed in 1.3. To keep the past behaviour, explicitly set `max_features='sqrt'` or remove this parameter as it is also the default value for RandomForestClassifiers and ExtraTreesClassifiers.\n",
      "  warn(\n"
     ]
    },
    {
     "name": "stdout",
     "output_type": "stream",
     "text": [
      "[CV 2/5] END criterion=entropy, max_depth=5, max_features=auto, n_estimators=100;, score=0.801 total time=   0.3s\n"
     ]
    },
    {
     "name": "stderr",
     "output_type": "stream",
     "text": [
      "C:\\Users\\tando\\anaconda3\\lib\\site-packages\\sklearn\\ensemble\\_forest.py:427: FutureWarning: `max_features='auto'` has been deprecated in 1.1 and will be removed in 1.3. To keep the past behaviour, explicitly set `max_features='sqrt'` or remove this parameter as it is also the default value for RandomForestClassifiers and ExtraTreesClassifiers.\n",
      "  warn(\n"
     ]
    },
    {
     "name": "stdout",
     "output_type": "stream",
     "text": [
      "[CV 3/5] END criterion=entropy, max_depth=5, max_features=auto, n_estimators=100;, score=0.790 total time=   0.3s\n"
     ]
    },
    {
     "name": "stderr",
     "output_type": "stream",
     "text": [
      "C:\\Users\\tando\\anaconda3\\lib\\site-packages\\sklearn\\ensemble\\_forest.py:427: FutureWarning: `max_features='auto'` has been deprecated in 1.1 and will be removed in 1.3. To keep the past behaviour, explicitly set `max_features='sqrt'` or remove this parameter as it is also the default value for RandomForestClassifiers and ExtraTreesClassifiers.\n",
      "  warn(\n"
     ]
    },
    {
     "name": "stdout",
     "output_type": "stream",
     "text": [
      "[CV 4/5] END criterion=entropy, max_depth=5, max_features=auto, n_estimators=100;, score=0.800 total time=   0.3s\n"
     ]
    },
    {
     "name": "stderr",
     "output_type": "stream",
     "text": [
      "C:\\Users\\tando\\anaconda3\\lib\\site-packages\\sklearn\\ensemble\\_forest.py:427: FutureWarning: `max_features='auto'` has been deprecated in 1.1 and will be removed in 1.3. To keep the past behaviour, explicitly set `max_features='sqrt'` or remove this parameter as it is also the default value for RandomForestClassifiers and ExtraTreesClassifiers.\n",
      "  warn(\n"
     ]
    },
    {
     "name": "stdout",
     "output_type": "stream",
     "text": [
      "[CV 5/5] END criterion=entropy, max_depth=5, max_features=auto, n_estimators=100;, score=0.797 total time=   0.3s\n",
      "[CV 1/5] END criterion=entropy, max_depth=5, max_features=log2, n_estimators=10;, score=0.796 total time=   0.0s\n",
      "[CV 2/5] END criterion=entropy, max_depth=5, max_features=log2, n_estimators=10;, score=0.812 total time=   0.0s\n",
      "[CV 3/5] END criterion=entropy, max_depth=5, max_features=log2, n_estimators=10;, score=0.830 total time=   0.0s\n",
      "[CV 4/5] END criterion=entropy, max_depth=5, max_features=log2, n_estimators=10;, score=0.794 total time=   0.0s\n",
      "[CV 5/5] END criterion=entropy, max_depth=5, max_features=log2, n_estimators=10;, score=0.820 total time=   0.0s\n",
      "[CV 1/5] END criterion=entropy, max_depth=5, max_features=log2, n_estimators=50;, score=0.814 total time=   0.1s\n",
      "[CV 2/5] END criterion=entropy, max_depth=5, max_features=log2, n_estimators=50;, score=0.820 total time=   0.1s\n",
      "[CV 3/5] END criterion=entropy, max_depth=5, max_features=log2, n_estimators=50;, score=0.789 total time=   0.1s\n",
      "[CV 4/5] END criterion=entropy, max_depth=5, max_features=log2, n_estimators=50;, score=0.792 total time=   0.1s\n",
      "[CV 5/5] END criterion=entropy, max_depth=5, max_features=log2, n_estimators=50;, score=0.791 total time=   0.1s\n",
      "[CV 1/5] END criterion=entropy, max_depth=5, max_features=log2, n_estimators=100;, score=0.791 total time=   0.3s\n",
      "[CV 2/5] END criterion=entropy, max_depth=5, max_features=log2, n_estimators=100;, score=0.797 total time=   0.2s\n",
      "[CV 3/5] END criterion=entropy, max_depth=5, max_features=log2, n_estimators=100;, score=0.791 total time=   0.3s\n",
      "[CV 4/5] END criterion=entropy, max_depth=5, max_features=log2, n_estimators=100;, score=0.794 total time=   0.2s\n",
      "[CV 5/5] END criterion=entropy, max_depth=5, max_features=log2, n_estimators=100;, score=0.790 total time=   0.2s\n",
      "[CV 1/5] END criterion=entropy, max_depth=6, max_features=auto, n_estimators=10;, score=0.831 total time=   0.0s\n",
      "[CV 2/5] END criterion=entropy, max_depth=6, max_features=auto, n_estimators=10;, score=0.836 total time=   0.0s\n",
      "[CV 3/5] END criterion=entropy, max_depth=6, max_features=auto, n_estimators=10;, score=0.835 total time=   0.0s\n",
      "[CV 4/5] END criterion=entropy, max_depth=6, max_features=auto, n_estimators=10;, score=0.841 total time=   0.0s\n"
     ]
    },
    {
     "name": "stderr",
     "output_type": "stream",
     "text": [
      "C:\\Users\\tando\\anaconda3\\lib\\site-packages\\sklearn\\ensemble\\_forest.py:427: FutureWarning: `max_features='auto'` has been deprecated in 1.1 and will be removed in 1.3. To keep the past behaviour, explicitly set `max_features='sqrt'` or remove this parameter as it is also the default value for RandomForestClassifiers and ExtraTreesClassifiers.\n",
      "  warn(\n",
      "C:\\Users\\tando\\anaconda3\\lib\\site-packages\\sklearn\\ensemble\\_forest.py:427: FutureWarning: `max_features='auto'` has been deprecated in 1.1 and will be removed in 1.3. To keep the past behaviour, explicitly set `max_features='sqrt'` or remove this parameter as it is also the default value for RandomForestClassifiers and ExtraTreesClassifiers.\n",
      "  warn(\n",
      "C:\\Users\\tando\\anaconda3\\lib\\site-packages\\sklearn\\ensemble\\_forest.py:427: FutureWarning: `max_features='auto'` has been deprecated in 1.1 and will be removed in 1.3. To keep the past behaviour, explicitly set `max_features='sqrt'` or remove this parameter as it is also the default value for RandomForestClassifiers and ExtraTreesClassifiers.\n",
      "  warn(\n",
      "C:\\Users\\tando\\anaconda3\\lib\\site-packages\\sklearn\\ensemble\\_forest.py:427: FutureWarning: `max_features='auto'` has been deprecated in 1.1 and will be removed in 1.3. To keep the past behaviour, explicitly set `max_features='sqrt'` or remove this parameter as it is also the default value for RandomForestClassifiers and ExtraTreesClassifiers.\n",
      "  warn(\n",
      "C:\\Users\\tando\\anaconda3\\lib\\site-packages\\sklearn\\ensemble\\_forest.py:427: FutureWarning: `max_features='auto'` has been deprecated in 1.1 and will be removed in 1.3. To keep the past behaviour, explicitly set `max_features='sqrt'` or remove this parameter as it is also the default value for RandomForestClassifiers and ExtraTreesClassifiers.\n",
      "  warn(\n"
     ]
    },
    {
     "name": "stdout",
     "output_type": "stream",
     "text": [
      "[CV 5/5] END criterion=entropy, max_depth=6, max_features=auto, n_estimators=10;, score=0.820 total time=   0.0s\n",
      "[CV 1/5] END criterion=entropy, max_depth=6, max_features=auto, n_estimators=50;, score=0.851 total time=   0.1s\n"
     ]
    },
    {
     "name": "stderr",
     "output_type": "stream",
     "text": [
      "C:\\Users\\tando\\anaconda3\\lib\\site-packages\\sklearn\\ensemble\\_forest.py:427: FutureWarning: `max_features='auto'` has been deprecated in 1.1 and will be removed in 1.3. To keep the past behaviour, explicitly set `max_features='sqrt'` or remove this parameter as it is also the default value for RandomForestClassifiers and ExtraTreesClassifiers.\n",
      "  warn(\n",
      "C:\\Users\\tando\\anaconda3\\lib\\site-packages\\sklearn\\ensemble\\_forest.py:427: FutureWarning: `max_features='auto'` has been deprecated in 1.1 and will be removed in 1.3. To keep the past behaviour, explicitly set `max_features='sqrt'` or remove this parameter as it is also the default value for RandomForestClassifiers and ExtraTreesClassifiers.\n",
      "  warn(\n"
     ]
    },
    {
     "name": "stdout",
     "output_type": "stream",
     "text": [
      "[CV 2/5] END criterion=entropy, max_depth=6, max_features=auto, n_estimators=50;, score=0.852 total time=   0.1s\n"
     ]
    },
    {
     "name": "stderr",
     "output_type": "stream",
     "text": [
      "C:\\Users\\tando\\anaconda3\\lib\\site-packages\\sklearn\\ensemble\\_forest.py:427: FutureWarning: `max_features='auto'` has been deprecated in 1.1 and will be removed in 1.3. To keep the past behaviour, explicitly set `max_features='sqrt'` or remove this parameter as it is also the default value for RandomForestClassifiers and ExtraTreesClassifiers.\n",
      "  warn(\n"
     ]
    },
    {
     "name": "stdout",
     "output_type": "stream",
     "text": [
      "[CV 3/5] END criterion=entropy, max_depth=6, max_features=auto, n_estimators=50;, score=0.867 total time=   0.1s\n",
      "[CV 4/5] END criterion=entropy, max_depth=6, max_features=auto, n_estimators=50;, score=0.867 total time=   0.1s\n"
     ]
    },
    {
     "name": "stderr",
     "output_type": "stream",
     "text": [
      "C:\\Users\\tando\\anaconda3\\lib\\site-packages\\sklearn\\ensemble\\_forest.py:427: FutureWarning: `max_features='auto'` has been deprecated in 1.1 and will be removed in 1.3. To keep the past behaviour, explicitly set `max_features='sqrt'` or remove this parameter as it is also the default value for RandomForestClassifiers and ExtraTreesClassifiers.\n",
      "  warn(\n",
      "C:\\Users\\tando\\anaconda3\\lib\\site-packages\\sklearn\\ensemble\\_forest.py:427: FutureWarning: `max_features='auto'` has been deprecated in 1.1 and will be removed in 1.3. To keep the past behaviour, explicitly set `max_features='sqrt'` or remove this parameter as it is also the default value for RandomForestClassifiers and ExtraTreesClassifiers.\n",
      "  warn(\n"
     ]
    },
    {
     "name": "stdout",
     "output_type": "stream",
     "text": [
      "[CV 5/5] END criterion=entropy, max_depth=6, max_features=auto, n_estimators=50;, score=0.866 total time=   0.2s\n"
     ]
    },
    {
     "name": "stderr",
     "output_type": "stream",
     "text": [
      "C:\\Users\\tando\\anaconda3\\lib\\site-packages\\sklearn\\ensemble\\_forest.py:427: FutureWarning: `max_features='auto'` has been deprecated in 1.1 and will be removed in 1.3. To keep the past behaviour, explicitly set `max_features='sqrt'` or remove this parameter as it is also the default value for RandomForestClassifiers and ExtraTreesClassifiers.\n",
      "  warn(\n"
     ]
    },
    {
     "name": "stdout",
     "output_type": "stream",
     "text": [
      "[CV 1/5] END criterion=entropy, max_depth=6, max_features=auto, n_estimators=100;, score=0.847 total time=   0.4s\n"
     ]
    },
    {
     "name": "stderr",
     "output_type": "stream",
     "text": [
      "C:\\Users\\tando\\anaconda3\\lib\\site-packages\\sklearn\\ensemble\\_forest.py:427: FutureWarning: `max_features='auto'` has been deprecated in 1.1 and will be removed in 1.3. To keep the past behaviour, explicitly set `max_features='sqrt'` or remove this parameter as it is also the default value for RandomForestClassifiers and ExtraTreesClassifiers.\n",
      "  warn(\n"
     ]
    },
    {
     "name": "stdout",
     "output_type": "stream",
     "text": [
      "[CV 2/5] END criterion=entropy, max_depth=6, max_features=auto, n_estimators=100;, score=0.833 total time=   0.3s\n"
     ]
    },
    {
     "name": "stderr",
     "output_type": "stream",
     "text": [
      "C:\\Users\\tando\\anaconda3\\lib\\site-packages\\sklearn\\ensemble\\_forest.py:427: FutureWarning: `max_features='auto'` has been deprecated in 1.1 and will be removed in 1.3. To keep the past behaviour, explicitly set `max_features='sqrt'` or remove this parameter as it is also the default value for RandomForestClassifiers and ExtraTreesClassifiers.\n",
      "  warn(\n"
     ]
    },
    {
     "name": "stdout",
     "output_type": "stream",
     "text": [
      "[CV 3/5] END criterion=entropy, max_depth=6, max_features=auto, n_estimators=100;, score=0.851 total time=   0.4s\n"
     ]
    },
    {
     "name": "stderr",
     "output_type": "stream",
     "text": [
      "C:\\Users\\tando\\anaconda3\\lib\\site-packages\\sklearn\\ensemble\\_forest.py:427: FutureWarning: `max_features='auto'` has been deprecated in 1.1 and will be removed in 1.3. To keep the past behaviour, explicitly set `max_features='sqrt'` or remove this parameter as it is also the default value for RandomForestClassifiers and ExtraTreesClassifiers.\n",
      "  warn(\n"
     ]
    },
    {
     "name": "stdout",
     "output_type": "stream",
     "text": [
      "[CV 4/5] END criterion=entropy, max_depth=6, max_features=auto, n_estimators=100;, score=0.841 total time=   0.4s\n"
     ]
    },
    {
     "name": "stderr",
     "output_type": "stream",
     "text": [
      "C:\\Users\\tando\\anaconda3\\lib\\site-packages\\sklearn\\ensemble\\_forest.py:427: FutureWarning: `max_features='auto'` has been deprecated in 1.1 and will be removed in 1.3. To keep the past behaviour, explicitly set `max_features='sqrt'` or remove this parameter as it is also the default value for RandomForestClassifiers and ExtraTreesClassifiers.\n",
      "  warn(\n"
     ]
    },
    {
     "name": "stdout",
     "output_type": "stream",
     "text": [
      "[CV 5/5] END criterion=entropy, max_depth=6, max_features=auto, n_estimators=100;, score=0.839 total time=   0.4s\n",
      "[CV 1/5] END criterion=entropy, max_depth=6, max_features=log2, n_estimators=10;, score=0.821 total time=   0.0s\n",
      "[CV 2/5] END criterion=entropy, max_depth=6, max_features=log2, n_estimators=10;, score=0.873 total time=   0.0s\n",
      "[CV 3/5] END criterion=entropy, max_depth=6, max_features=log2, n_estimators=10;, score=0.869 total time=   0.0s\n",
      "[CV 4/5] END criterion=entropy, max_depth=6, max_features=log2, n_estimators=10;, score=0.864 total time=   0.0s\n",
      "[CV 5/5] END criterion=entropy, max_depth=6, max_features=log2, n_estimators=10;, score=0.799 total time=   0.0s\n",
      "[CV 1/5] END criterion=entropy, max_depth=6, max_features=log2, n_estimators=50;, score=0.852 total time=   0.1s\n",
      "[CV 2/5] END criterion=entropy, max_depth=6, max_features=log2, n_estimators=50;, score=0.842 total time=   0.1s\n",
      "[CV 3/5] END criterion=entropy, max_depth=6, max_features=log2, n_estimators=50;, score=0.841 total time=   0.1s\n",
      "[CV 4/5] END criterion=entropy, max_depth=6, max_features=log2, n_estimators=50;, score=0.872 total time=   0.1s\n",
      "[CV 5/5] END criterion=entropy, max_depth=6, max_features=log2, n_estimators=50;, score=0.844 total time=   0.1s\n",
      "[CV 1/5] END criterion=entropy, max_depth=6, max_features=log2, n_estimators=100;, score=0.845 total time=   0.3s\n",
      "[CV 2/5] END criterion=entropy, max_depth=6, max_features=log2, n_estimators=100;, score=0.843 total time=   0.4s\n",
      "[CV 3/5] END criterion=entropy, max_depth=6, max_features=log2, n_estimators=100;, score=0.861 total time=   0.4s\n",
      "[CV 4/5] END criterion=entropy, max_depth=6, max_features=log2, n_estimators=100;, score=0.876 total time=   0.3s\n",
      "[CV 5/5] END criterion=entropy, max_depth=6, max_features=log2, n_estimators=100;, score=0.850 total time=   0.3s\n",
      "[CV 1/5] END criterion=entropy, max_depth=7, max_features=auto, n_estimators=10;, score=0.846 total time=   0.0s\n",
      "[CV 2/5] END criterion=entropy, max_depth=7, max_features=auto, n_estimators=10;, score=0.880 total time=   0.0s\n",
      "[CV 3/5] END criterion=entropy, max_depth=7, max_features=auto, n_estimators=10;, score=0.845 total time=   0.0s\n",
      "[CV 4/5] END criterion=entropy, max_depth=7, max_features=auto, n_estimators=10;, score=0.871 total time=   0.0s\n"
     ]
    },
    {
     "name": "stderr",
     "output_type": "stream",
     "text": [
      "C:\\Users\\tando\\anaconda3\\lib\\site-packages\\sklearn\\ensemble\\_forest.py:427: FutureWarning: `max_features='auto'` has been deprecated in 1.1 and will be removed in 1.3. To keep the past behaviour, explicitly set `max_features='sqrt'` or remove this parameter as it is also the default value for RandomForestClassifiers and ExtraTreesClassifiers.\n",
      "  warn(\n",
      "C:\\Users\\tando\\anaconda3\\lib\\site-packages\\sklearn\\ensemble\\_forest.py:427: FutureWarning: `max_features='auto'` has been deprecated in 1.1 and will be removed in 1.3. To keep the past behaviour, explicitly set `max_features='sqrt'` or remove this parameter as it is also the default value for RandomForestClassifiers and ExtraTreesClassifiers.\n",
      "  warn(\n",
      "C:\\Users\\tando\\anaconda3\\lib\\site-packages\\sklearn\\ensemble\\_forest.py:427: FutureWarning: `max_features='auto'` has been deprecated in 1.1 and will be removed in 1.3. To keep the past behaviour, explicitly set `max_features='sqrt'` or remove this parameter as it is also the default value for RandomForestClassifiers and ExtraTreesClassifiers.\n",
      "  warn(\n",
      "C:\\Users\\tando\\anaconda3\\lib\\site-packages\\sklearn\\ensemble\\_forest.py:427: FutureWarning: `max_features='auto'` has been deprecated in 1.1 and will be removed in 1.3. To keep the past behaviour, explicitly set `max_features='sqrt'` or remove this parameter as it is also the default value for RandomForestClassifiers and ExtraTreesClassifiers.\n",
      "  warn(\n",
      "C:\\Users\\tando\\anaconda3\\lib\\site-packages\\sklearn\\ensemble\\_forest.py:427: FutureWarning: `max_features='auto'` has been deprecated in 1.1 and will be removed in 1.3. To keep the past behaviour, explicitly set `max_features='sqrt'` or remove this parameter as it is also the default value for RandomForestClassifiers and ExtraTreesClassifiers.\n",
      "  warn(\n",
      "C:\\Users\\tando\\anaconda3\\lib\\site-packages\\sklearn\\ensemble\\_forest.py:427: FutureWarning: `max_features='auto'` has been deprecated in 1.1 and will be removed in 1.3. To keep the past behaviour, explicitly set `max_features='sqrt'` or remove this parameter as it is also the default value for RandomForestClassifiers and ExtraTreesClassifiers.\n",
      "  warn(\n"
     ]
    },
    {
     "name": "stdout",
     "output_type": "stream",
     "text": [
      "[CV 5/5] END criterion=entropy, max_depth=7, max_features=auto, n_estimators=10;, score=0.852 total time=   0.0s\n",
      "[CV 1/5] END criterion=entropy, max_depth=7, max_features=auto, n_estimators=50;, score=0.862 total time=   0.1s\n"
     ]
    },
    {
     "name": "stderr",
     "output_type": "stream",
     "text": [
      "C:\\Users\\tando\\anaconda3\\lib\\site-packages\\sklearn\\ensemble\\_forest.py:427: FutureWarning: `max_features='auto'` has been deprecated in 1.1 and will be removed in 1.3. To keep the past behaviour, explicitly set `max_features='sqrt'` or remove this parameter as it is also the default value for RandomForestClassifiers and ExtraTreesClassifiers.\n",
      "  warn(\n"
     ]
    },
    {
     "name": "stdout",
     "output_type": "stream",
     "text": [
      "[CV 2/5] END criterion=entropy, max_depth=7, max_features=auto, n_estimators=50;, score=0.872 total time=   0.1s\n"
     ]
    },
    {
     "name": "stderr",
     "output_type": "stream",
     "text": [
      "C:\\Users\\tando\\anaconda3\\lib\\site-packages\\sklearn\\ensemble\\_forest.py:427: FutureWarning: `max_features='auto'` has been deprecated in 1.1 and will be removed in 1.3. To keep the past behaviour, explicitly set `max_features='sqrt'` or remove this parameter as it is also the default value for RandomForestClassifiers and ExtraTreesClassifiers.\n",
      "  warn(\n"
     ]
    },
    {
     "name": "stdout",
     "output_type": "stream",
     "text": [
      "[CV 3/5] END criterion=entropy, max_depth=7, max_features=auto, n_estimators=50;, score=0.867 total time=   0.1s\n"
     ]
    },
    {
     "name": "stderr",
     "output_type": "stream",
     "text": [
      "C:\\Users\\tando\\anaconda3\\lib\\site-packages\\sklearn\\ensemble\\_forest.py:427: FutureWarning: `max_features='auto'` has been deprecated in 1.1 and will be removed in 1.3. To keep the past behaviour, explicitly set `max_features='sqrt'` or remove this parameter as it is also the default value for RandomForestClassifiers and ExtraTreesClassifiers.\n",
      "  warn(\n"
     ]
    },
    {
     "name": "stdout",
     "output_type": "stream",
     "text": [
      "[CV 4/5] END criterion=entropy, max_depth=7, max_features=auto, n_estimators=50;, score=0.887 total time=   0.1s\n"
     ]
    },
    {
     "name": "stderr",
     "output_type": "stream",
     "text": [
      "C:\\Users\\tando\\anaconda3\\lib\\site-packages\\sklearn\\ensemble\\_forest.py:427: FutureWarning: `max_features='auto'` has been deprecated in 1.1 and will be removed in 1.3. To keep the past behaviour, explicitly set `max_features='sqrt'` or remove this parameter as it is also the default value for RandomForestClassifiers and ExtraTreesClassifiers.\n",
      "  warn(\n"
     ]
    },
    {
     "name": "stdout",
     "output_type": "stream",
     "text": [
      "[CV 5/5] END criterion=entropy, max_depth=7, max_features=auto, n_estimators=50;, score=0.869 total time=   0.1s\n"
     ]
    },
    {
     "name": "stderr",
     "output_type": "stream",
     "text": [
      "C:\\Users\\tando\\anaconda3\\lib\\site-packages\\sklearn\\ensemble\\_forest.py:427: FutureWarning: `max_features='auto'` has been deprecated in 1.1 and will be removed in 1.3. To keep the past behaviour, explicitly set `max_features='sqrt'` or remove this parameter as it is also the default value for RandomForestClassifiers and ExtraTreesClassifiers.\n",
      "  warn(\n"
     ]
    },
    {
     "name": "stdout",
     "output_type": "stream",
     "text": [
      "[CV 1/5] END criterion=entropy, max_depth=7, max_features=auto, n_estimators=100;, score=0.863 total time=   0.3s\n"
     ]
    },
    {
     "name": "stderr",
     "output_type": "stream",
     "text": [
      "C:\\Users\\tando\\anaconda3\\lib\\site-packages\\sklearn\\ensemble\\_forest.py:427: FutureWarning: `max_features='auto'` has been deprecated in 1.1 and will be removed in 1.3. To keep the past behaviour, explicitly set `max_features='sqrt'` or remove this parameter as it is also the default value for RandomForestClassifiers and ExtraTreesClassifiers.\n",
      "  warn(\n"
     ]
    },
    {
     "name": "stdout",
     "output_type": "stream",
     "text": [
      "[CV 2/5] END criterion=entropy, max_depth=7, max_features=auto, n_estimators=100;, score=0.874 total time=   0.4s\n"
     ]
    },
    {
     "name": "stderr",
     "output_type": "stream",
     "text": [
      "C:\\Users\\tando\\anaconda3\\lib\\site-packages\\sklearn\\ensemble\\_forest.py:427: FutureWarning: `max_features='auto'` has been deprecated in 1.1 and will be removed in 1.3. To keep the past behaviour, explicitly set `max_features='sqrt'` or remove this parameter as it is also the default value for RandomForestClassifiers and ExtraTreesClassifiers.\n",
      "  warn(\n"
     ]
    },
    {
     "name": "stdout",
     "output_type": "stream",
     "text": [
      "[CV 3/5] END criterion=entropy, max_depth=7, max_features=auto, n_estimators=100;, score=0.865 total time=   0.3s\n"
     ]
    },
    {
     "name": "stderr",
     "output_type": "stream",
     "text": [
      "C:\\Users\\tando\\anaconda3\\lib\\site-packages\\sklearn\\ensemble\\_forest.py:427: FutureWarning: `max_features='auto'` has been deprecated in 1.1 and will be removed in 1.3. To keep the past behaviour, explicitly set `max_features='sqrt'` or remove this parameter as it is also the default value for RandomForestClassifiers and ExtraTreesClassifiers.\n",
      "  warn(\n"
     ]
    },
    {
     "name": "stdout",
     "output_type": "stream",
     "text": [
      "[CV 4/5] END criterion=entropy, max_depth=7, max_features=auto, n_estimators=100;, score=0.883 total time=   0.3s\n"
     ]
    },
    {
     "name": "stderr",
     "output_type": "stream",
     "text": [
      "C:\\Users\\tando\\anaconda3\\lib\\site-packages\\sklearn\\ensemble\\_forest.py:427: FutureWarning: `max_features='auto'` has been deprecated in 1.1 and will be removed in 1.3. To keep the past behaviour, explicitly set `max_features='sqrt'` or remove this parameter as it is also the default value for RandomForestClassifiers and ExtraTreesClassifiers.\n",
      "  warn(\n"
     ]
    },
    {
     "name": "stdout",
     "output_type": "stream",
     "text": [
      "[CV 5/5] END criterion=entropy, max_depth=7, max_features=auto, n_estimators=100;, score=0.884 total time=   0.3s\n",
      "[CV 1/5] END criterion=entropy, max_depth=7, max_features=log2, n_estimators=10;, score=0.852 total time=   0.0s\n",
      "[CV 2/5] END criterion=entropy, max_depth=7, max_features=log2, n_estimators=10;, score=0.869 total time=   0.0s\n",
      "[CV 3/5] END criterion=entropy, max_depth=7, max_features=log2, n_estimators=10;, score=0.857 total time=   0.0s\n",
      "[CV 4/5] END criterion=entropy, max_depth=7, max_features=log2, n_estimators=10;, score=0.852 total time=   0.0s\n",
      "[CV 5/5] END criterion=entropy, max_depth=7, max_features=log2, n_estimators=10;, score=0.851 total time=   0.0s\n",
      "[CV 1/5] END criterion=entropy, max_depth=7, max_features=log2, n_estimators=50;, score=0.863 total time=   0.1s\n",
      "[CV 2/5] END criterion=entropy, max_depth=7, max_features=log2, n_estimators=50;, score=0.874 total time=   0.1s\n",
      "[CV 3/5] END criterion=entropy, max_depth=7, max_features=log2, n_estimators=50;, score=0.876 total time=   0.1s\n",
      "[CV 4/5] END criterion=entropy, max_depth=7, max_features=log2, n_estimators=50;, score=0.896 total time=   0.1s\n",
      "[CV 5/5] END criterion=entropy, max_depth=7, max_features=log2, n_estimators=50;, score=0.874 total time=   0.1s\n",
      "[CV 1/5] END criterion=entropy, max_depth=7, max_features=log2, n_estimators=100;, score=0.864 total time=   0.4s\n",
      "[CV 2/5] END criterion=entropy, max_depth=7, max_features=log2, n_estimators=100;, score=0.869 total time=   0.3s\n",
      "[CV 3/5] END criterion=entropy, max_depth=7, max_features=log2, n_estimators=100;, score=0.868 total time=   0.4s\n",
      "[CV 4/5] END criterion=entropy, max_depth=7, max_features=log2, n_estimators=100;, score=0.892 total time=   0.3s\n",
      "[CV 5/5] END criterion=entropy, max_depth=7, max_features=log2, n_estimators=100;, score=0.885 total time=   0.4s\n",
      "Random Forest best params: {'criterion': 'entropy', 'max_depth': 7, 'max_features': 'log2', 'n_estimators': 50}. Exited the get_best_params_for_random_forest method of the Model_Finder class\n"
     ]
    }
   ],
   "source": [
    "param_grid = {\"n_estimators\": [10, 50, 100], \"criterion\": ['gini', 'entropy'],\n",
    "                               \"max_depth\": range(2, 8, 1), \"max_features\": ['auto', 'log2']}\n",
    "\n",
    "clf = RandomForestClassifier()\n",
    "\n",
    "\n",
    "\n",
    "#Creating an object of the Grid Search class\n",
    "grid = GridSearchCV(estimator=clf, param_grid=param_grid, cv=5,  verbose=3)\n",
    "                    #finding the best parameters\n",
    "grid.fit(X_train, y_train)\n",
    "\n",
    "\n",
    "\n",
    "            #extracting the best parameters\n",
    "criterion = grid.best_params_['criterion']\n",
    "max_depth = grid.best_params_['max_depth']\n",
    "max_features = grid.best_params_['max_features']\n",
    "n_estimators = grid.best_params_['n_estimators']\n",
    "\n",
    "\n",
    "\n",
    "            #creating a new model with the best parameters\n",
    "clf = RandomForestClassifier(n_estimators=n_estimators, criterion=criterion,\n",
    "                                              max_depth=max_depth, max_features=max_features)\n",
    "            # training the mew model\n",
    "clf.fit(X_train, y_train)\n",
    "            \n",
    "print('Random Forest best params: '+str(f\"{grid.best_params_}\")+'. Exited the get_best_params_for_random_forest method of the Model_Finder class')\n"
   ]
  },
  {
   "cell_type": "code",
   "execution_count": 47,
   "id": "acca4f71",
   "metadata": {},
   "outputs": [
    {
     "ename": "NameError",
     "evalue": "name 'clf' is not defined",
     "output_type": "error",
     "traceback": [
      "\u001b[1;31m---------------------------------------------------------------------------\u001b[0m",
      "\u001b[1;31mNameError\u001b[0m                                 Traceback (most recent call last)",
      "Input \u001b[1;32mIn [47]\u001b[0m, in \u001b[0;36m<cell line: 1>\u001b[1;34m()\u001b[0m\n\u001b[1;32m----> 1\u001b[0m y_pred\u001b[38;5;241m=\u001b[39m\u001b[43mclf\u001b[49m\u001b[38;5;241m.\u001b[39mpredict(X_test)\n",
      "\u001b[1;31mNameError\u001b[0m: name 'clf' is not defined"
     ]
    }
   ],
   "source": [
    "y_pred=clf.predict(X_test)"
   ]
  },
  {
   "cell_type": "code",
   "execution_count": 70,
   "id": "2842ecb1",
   "metadata": {},
   "outputs": [
    {
     "data": {
      "text/plain": [
       "0.8718202841096796"
      ]
     },
     "execution_count": 70,
     "metadata": {},
     "output_type": "execute_result"
    }
   ],
   "source": [
    "accuracy_score(y_pred,y_test)"
   ]
  },
  {
   "cell_type": "code",
   "execution_count": 71,
   "id": "da9350e6",
   "metadata": {},
   "outputs": [],
   "source": [
    "y_pred_train=clf.predict(X_train)"
   ]
  },
  {
   "cell_type": "code",
   "execution_count": 72,
   "id": "41e982ab",
   "metadata": {},
   "outputs": [
    {
     "data": {
      "text/plain": [
       "0.9025065104166666"
      ]
     },
     "execution_count": 72,
     "metadata": {},
     "output_type": "execute_result"
    }
   ],
   "source": [
    "accuracy_score(y_pred_train,y_train)"
   ]
  },
  {
   "cell_type": "code",
   "execution_count": 73,
   "id": "8eca1a46",
   "metadata": {},
   "outputs": [],
   "source": [
    "# It is showing good accuracy but still let's see for more"
   ]
  },
  {
   "cell_type": "code",
   "execution_count": 74,
   "id": "15d1ad0a",
   "metadata": {},
   "outputs": [],
   "source": [
    "# Decision Tree"
   ]
  },
  {
   "cell_type": "code",
   "execution_count": 48,
   "id": "e9795050",
   "metadata": {},
   "outputs": [],
   "source": [
    "from sklearn.tree import DecisionTreeClassifier"
   ]
  },
  {
   "cell_type": "code",
   "execution_count": 49,
   "id": "1bbb77a7",
   "metadata": {},
   "outputs": [
    {
     "name": "stdout",
     "output_type": "stream",
     "text": [
      "Fitting 5 folds for each of 54 candidates, totalling 270 fits\n",
      "[CV 1/5] END max_depth=3, min_samples_leaf=1, min_samples_split=2;, score=0.824 total time=   0.0s\n",
      "[CV 2/5] END max_depth=3, min_samples_leaf=1, min_samples_split=2;, score=0.828 total time=   0.0s\n",
      "[CV 3/5] END max_depth=3, min_samples_leaf=1, min_samples_split=2;, score=0.826 total time=   0.0s\n",
      "[CV 4/5] END max_depth=3, min_samples_leaf=1, min_samples_split=2;, score=0.826 total time=   0.0s\n",
      "[CV 5/5] END max_depth=3, min_samples_leaf=1, min_samples_split=2;, score=0.817 total time=   0.0s\n",
      "[CV 1/5] END max_depth=3, min_samples_leaf=1, min_samples_split=5;, score=0.824 total time=   0.0s\n",
      "[CV 2/5] END max_depth=3, min_samples_leaf=1, min_samples_split=5;, score=0.828 total time=   0.0s\n",
      "[CV 3/5] END max_depth=3, min_samples_leaf=1, min_samples_split=5;, score=0.826 total time=   0.0s\n"
     ]
    },
    {
     "name": "stderr",
     "output_type": "stream",
     "text": [
      "C:\\Users\\tando\\anaconda3\\lib\\site-packages\\sklearn\\model_selection\\_split.py:680: UserWarning: The least populated class in y has only 1 members, which is less than n_splits=5.\n",
      "  warnings.warn(\n"
     ]
    },
    {
     "name": "stdout",
     "output_type": "stream",
     "text": [
      "[CV 4/5] END max_depth=3, min_samples_leaf=1, min_samples_split=5;, score=0.826 total time=   0.0s\n",
      "[CV 5/5] END max_depth=3, min_samples_leaf=1, min_samples_split=5;, score=0.817 total time=   0.0s\n",
      "[CV 1/5] END max_depth=3, min_samples_leaf=1, min_samples_split=10;, score=0.824 total time=   0.0s\n",
      "[CV 2/5] END max_depth=3, min_samples_leaf=1, min_samples_split=10;, score=0.828 total time=   0.0s\n",
      "[CV 3/5] END max_depth=3, min_samples_leaf=1, min_samples_split=10;, score=0.826 total time=   0.0s\n",
      "[CV 4/5] END max_depth=3, min_samples_leaf=1, min_samples_split=10;, score=0.826 total time=   0.0s\n",
      "[CV 5/5] END max_depth=3, min_samples_leaf=1, min_samples_split=10;, score=0.817 total time=   0.0s\n",
      "[CV 1/5] END max_depth=3, min_samples_leaf=2, min_samples_split=2;, score=0.824 total time=   0.0s\n",
      "[CV 2/5] END max_depth=3, min_samples_leaf=2, min_samples_split=2;, score=0.828 total time=   0.0s\n",
      "[CV 3/5] END max_depth=3, min_samples_leaf=2, min_samples_split=2;, score=0.826 total time=   0.0s\n",
      "[CV 4/5] END max_depth=3, min_samples_leaf=2, min_samples_split=2;, score=0.826 total time=   0.0s\n",
      "[CV 5/5] END max_depth=3, min_samples_leaf=2, min_samples_split=2;, score=0.817 total time=   0.0s\n",
      "[CV 1/5] END max_depth=3, min_samples_leaf=2, min_samples_split=5;, score=0.824 total time=   0.0s\n",
      "[CV 2/5] END max_depth=3, min_samples_leaf=2, min_samples_split=5;, score=0.828 total time=   0.0s\n",
      "[CV 3/5] END max_depth=3, min_samples_leaf=2, min_samples_split=5;, score=0.826 total time=   0.0s\n",
      "[CV 4/5] END max_depth=3, min_samples_leaf=2, min_samples_split=5;, score=0.826 total time=   0.0s\n",
      "[CV 5/5] END max_depth=3, min_samples_leaf=2, min_samples_split=5;, score=0.817 total time=   0.0s\n",
      "[CV 1/5] END max_depth=3, min_samples_leaf=2, min_samples_split=10;, score=0.824 total time=   0.0s\n",
      "[CV 2/5] END max_depth=3, min_samples_leaf=2, min_samples_split=10;, score=0.828 total time=   0.0s\n",
      "[CV 3/5] END max_depth=3, min_samples_leaf=2, min_samples_split=10;, score=0.826 total time=   0.0s\n",
      "[CV 4/5] END max_depth=3, min_samples_leaf=2, min_samples_split=10;, score=0.826 total time=   0.0s\n",
      "[CV 5/5] END max_depth=3, min_samples_leaf=2, min_samples_split=10;, score=0.817 total time=   0.0s\n",
      "[CV 1/5] END max_depth=3, min_samples_leaf=4, min_samples_split=2;, score=0.824 total time=   0.0s\n",
      "[CV 2/5] END max_depth=3, min_samples_leaf=4, min_samples_split=2;, score=0.828 total time=   0.0s\n",
      "[CV 3/5] END max_depth=3, min_samples_leaf=4, min_samples_split=2;, score=0.826 total time=   0.0s\n",
      "[CV 4/5] END max_depth=3, min_samples_leaf=4, min_samples_split=2;, score=0.826 total time=   0.0s\n",
      "[CV 5/5] END max_depth=3, min_samples_leaf=4, min_samples_split=2;, score=0.817 total time=   0.0s\n",
      "[CV 1/5] END max_depth=3, min_samples_leaf=4, min_samples_split=5;, score=0.824 total time=   0.0s\n",
      "[CV 2/5] END max_depth=3, min_samples_leaf=4, min_samples_split=5;, score=0.828 total time=   0.0s\n",
      "[CV 3/5] END max_depth=3, min_samples_leaf=4, min_samples_split=5;, score=0.826 total time=   0.0s\n",
      "[CV 4/5] END max_depth=3, min_samples_leaf=4, min_samples_split=5;, score=0.826 total time=   0.0s\n",
      "[CV 5/5] END max_depth=3, min_samples_leaf=4, min_samples_split=5;, score=0.817 total time=   0.0s\n",
      "[CV 1/5] END max_depth=3, min_samples_leaf=4, min_samples_split=10;, score=0.824 total time=   0.0s\n",
      "[CV 2/5] END max_depth=3, min_samples_leaf=4, min_samples_split=10;, score=0.828 total time=   0.0s\n",
      "[CV 3/5] END max_depth=3, min_samples_leaf=4, min_samples_split=10;, score=0.826 total time=   0.0s\n",
      "[CV 4/5] END max_depth=3, min_samples_leaf=4, min_samples_split=10;, score=0.826 total time=   0.0s\n",
      "[CV 5/5] END max_depth=3, min_samples_leaf=4, min_samples_split=10;, score=0.817 total time=   0.0s\n",
      "[CV 1/5] END max_depth=5, min_samples_leaf=1, min_samples_split=2;, score=0.865 total time=   0.0s\n",
      "[CV 2/5] END max_depth=5, min_samples_leaf=1, min_samples_split=2;, score=0.853 total time=   0.0s\n",
      "[CV 3/5] END max_depth=5, min_samples_leaf=1, min_samples_split=2;, score=0.867 total time=   0.0s\n",
      "[CV 4/5] END max_depth=5, min_samples_leaf=1, min_samples_split=2;, score=0.866 total time=   0.0s\n",
      "[CV 5/5] END max_depth=5, min_samples_leaf=1, min_samples_split=2;, score=0.867 total time=   0.0s\n",
      "[CV 1/5] END max_depth=5, min_samples_leaf=1, min_samples_split=5;, score=0.864 total time=   0.0s\n",
      "[CV 2/5] END max_depth=5, min_samples_leaf=1, min_samples_split=5;, score=0.853 total time=   0.0s\n",
      "[CV 3/5] END max_depth=5, min_samples_leaf=1, min_samples_split=5;, score=0.867 total time=   0.0s\n",
      "[CV 4/5] END max_depth=5, min_samples_leaf=1, min_samples_split=5;, score=0.866 total time=   0.0s\n",
      "[CV 5/5] END max_depth=5, min_samples_leaf=1, min_samples_split=5;, score=0.867 total time=   0.0s\n",
      "[CV 1/5] END max_depth=5, min_samples_leaf=1, min_samples_split=10;, score=0.865 total time=   0.0s\n",
      "[CV 2/5] END max_depth=5, min_samples_leaf=1, min_samples_split=10;, score=0.851 total time=   0.0s\n",
      "[CV 3/5] END max_depth=5, min_samples_leaf=1, min_samples_split=10;, score=0.867 total time=   0.0s\n",
      "[CV 4/5] END max_depth=5, min_samples_leaf=1, min_samples_split=10;, score=0.866 total time=   0.0s\n",
      "[CV 5/5] END max_depth=5, min_samples_leaf=1, min_samples_split=10;, score=0.867 total time=   0.0s\n",
      "[CV 1/5] END max_depth=5, min_samples_leaf=2, min_samples_split=2;, score=0.865 total time=   0.0s\n",
      "[CV 2/5] END max_depth=5, min_samples_leaf=2, min_samples_split=2;, score=0.852 total time=   0.0s\n",
      "[CV 3/5] END max_depth=5, min_samples_leaf=2, min_samples_split=2;, score=0.867 total time=   0.0s\n",
      "[CV 4/5] END max_depth=5, min_samples_leaf=2, min_samples_split=2;, score=0.866 total time=   0.0s\n",
      "[CV 5/5] END max_depth=5, min_samples_leaf=2, min_samples_split=2;, score=0.870 total time=   0.0s\n",
      "[CV 1/5] END max_depth=5, min_samples_leaf=2, min_samples_split=5;, score=0.865 total time=   0.0s\n",
      "[CV 2/5] END max_depth=5, min_samples_leaf=2, min_samples_split=5;, score=0.852 total time=   0.0s\n",
      "[CV 3/5] END max_depth=5, min_samples_leaf=2, min_samples_split=5;, score=0.867 total time=   0.0s\n",
      "[CV 4/5] END max_depth=5, min_samples_leaf=2, min_samples_split=5;, score=0.866 total time=   0.0s\n",
      "[CV 5/5] END max_depth=5, min_samples_leaf=2, min_samples_split=5;, score=0.869 total time=   0.0s\n",
      "[CV 1/5] END max_depth=5, min_samples_leaf=2, min_samples_split=10;, score=0.865 total time=   0.0s\n",
      "[CV 2/5] END max_depth=5, min_samples_leaf=2, min_samples_split=10;, score=0.850 total time=   0.0s\n",
      "[CV 3/5] END max_depth=5, min_samples_leaf=2, min_samples_split=10;, score=0.867 total time=   0.0s\n",
      "[CV 4/5] END max_depth=5, min_samples_leaf=2, min_samples_split=10;, score=0.866 total time=   0.0s\n",
      "[CV 5/5] END max_depth=5, min_samples_leaf=2, min_samples_split=10;, score=0.869 total time=   0.0s\n",
      "[CV 1/5] END max_depth=5, min_samples_leaf=4, min_samples_split=2;, score=0.864 total time=   0.0s\n",
      "[CV 2/5] END max_depth=5, min_samples_leaf=4, min_samples_split=2;, score=0.850 total time=   0.0s\n",
      "[CV 3/5] END max_depth=5, min_samples_leaf=4, min_samples_split=2;, score=0.868 total time=   0.0s\n",
      "[CV 4/5] END max_depth=5, min_samples_leaf=4, min_samples_split=2;, score=0.866 total time=   0.0s\n",
      "[CV 5/5] END max_depth=5, min_samples_leaf=4, min_samples_split=2;, score=0.866 total time=   0.0s\n",
      "[CV 1/5] END max_depth=5, min_samples_leaf=4, min_samples_split=5;, score=0.864 total time=   0.0s\n",
      "[CV 2/5] END max_depth=5, min_samples_leaf=4, min_samples_split=5;, score=0.850 total time=   0.0s\n",
      "[CV 3/5] END max_depth=5, min_samples_leaf=4, min_samples_split=5;, score=0.868 total time=   0.0s\n",
      "[CV 4/5] END max_depth=5, min_samples_leaf=4, min_samples_split=5;, score=0.866 total time=   0.0s\n",
      "[CV 5/5] END max_depth=5, min_samples_leaf=4, min_samples_split=5;, score=0.866 total time=   0.0s\n",
      "[CV 1/5] END max_depth=5, min_samples_leaf=4, min_samples_split=10;, score=0.864 total time=   0.0s\n",
      "[CV 2/5] END max_depth=5, min_samples_leaf=4, min_samples_split=10;, score=0.850 total time=   0.0s\n",
      "[CV 3/5] END max_depth=5, min_samples_leaf=4, min_samples_split=10;, score=0.868 total time=   0.0s\n",
      "[CV 4/5] END max_depth=5, min_samples_leaf=4, min_samples_split=10;, score=0.866 total time=   0.0s\n",
      "[CV 5/5] END max_depth=5, min_samples_leaf=4, min_samples_split=10;, score=0.866 total time=   0.0s\n",
      "[CV 1/5] END max_depth=7, min_samples_leaf=1, min_samples_split=2;, score=0.872 total time=   0.0s\n",
      "[CV 2/5] END max_depth=7, min_samples_leaf=1, min_samples_split=2;, score=0.877 total time=   0.0s\n",
      "[CV 3/5] END max_depth=7, min_samples_leaf=1, min_samples_split=2;, score=0.882 total time=   0.0s\n",
      "[CV 4/5] END max_depth=7, min_samples_leaf=1, min_samples_split=2;, score=0.877 total time=   0.0s\n",
      "[CV 5/5] END max_depth=7, min_samples_leaf=1, min_samples_split=2;, score=0.876 total time=   0.0s\n",
      "[CV 1/5] END max_depth=7, min_samples_leaf=1, min_samples_split=5;, score=0.876 total time=   0.0s\n",
      "[CV 2/5] END max_depth=7, min_samples_leaf=1, min_samples_split=5;, score=0.876 total time=   0.0s\n",
      "[CV 3/5] END max_depth=7, min_samples_leaf=1, min_samples_split=5;, score=0.881 total time=   0.0s\n",
      "[CV 4/5] END max_depth=7, min_samples_leaf=1, min_samples_split=5;, score=0.878 total time=   0.0s\n",
      "[CV 5/5] END max_depth=7, min_samples_leaf=1, min_samples_split=5;, score=0.873 total time=   0.0s\n",
      "[CV 1/5] END max_depth=7, min_samples_leaf=1, min_samples_split=10;, score=0.872 total time=   0.0s\n",
      "[CV 2/5] END max_depth=7, min_samples_leaf=1, min_samples_split=10;, score=0.869 total time=   0.0s\n",
      "[CV 3/5] END max_depth=7, min_samples_leaf=1, min_samples_split=10;, score=0.880 total time=   0.0s\n",
      "[CV 4/5] END max_depth=7, min_samples_leaf=1, min_samples_split=10;, score=0.878 total time=   0.0s\n",
      "[CV 5/5] END max_depth=7, min_samples_leaf=1, min_samples_split=10;, score=0.872 total time=   0.0s\n",
      "[CV 1/5] END max_depth=7, min_samples_leaf=2, min_samples_split=2;, score=0.875 total time=   0.0s\n",
      "[CV 2/5] END max_depth=7, min_samples_leaf=2, min_samples_split=2;, score=0.872 total time=   0.0s\n",
      "[CV 3/5] END max_depth=7, min_samples_leaf=2, min_samples_split=2;, score=0.884 total time=   0.0s\n",
      "[CV 4/5] END max_depth=7, min_samples_leaf=2, min_samples_split=2;, score=0.878 total time=   0.0s\n",
      "[CV 5/5] END max_depth=7, min_samples_leaf=2, min_samples_split=2;, score=0.873 total time=   0.0s\n",
      "[CV 1/5] END max_depth=7, min_samples_leaf=2, min_samples_split=5;, score=0.876 total time=   0.0s\n",
      "[CV 2/5] END max_depth=7, min_samples_leaf=2, min_samples_split=5;, score=0.873 total time=   0.0s\n",
      "[CV 3/5] END max_depth=7, min_samples_leaf=2, min_samples_split=5;, score=0.881 total time=   0.0s\n",
      "[CV 4/5] END max_depth=7, min_samples_leaf=2, min_samples_split=5;, score=0.878 total time=   0.0s\n",
      "[CV 5/5] END max_depth=7, min_samples_leaf=2, min_samples_split=5;, score=0.874 total time=   0.0s\n",
      "[CV 1/5] END max_depth=7, min_samples_leaf=2, min_samples_split=10;, score=0.872 total time=   0.0s\n",
      "[CV 2/5] END max_depth=7, min_samples_leaf=2, min_samples_split=10;, score=0.870 total time=   0.0s\n",
      "[CV 3/5] END max_depth=7, min_samples_leaf=2, min_samples_split=10;, score=0.883 total time=   0.0s\n",
      "[CV 4/5] END max_depth=7, min_samples_leaf=2, min_samples_split=10;, score=0.879 total time=   0.0s\n",
      "[CV 5/5] END max_depth=7, min_samples_leaf=2, min_samples_split=10;, score=0.871 total time=   0.0s\n",
      "[CV 1/5] END max_depth=7, min_samples_leaf=4, min_samples_split=2;, score=0.876 total time=   0.0s\n",
      "[CV 2/5] END max_depth=7, min_samples_leaf=4, min_samples_split=2;, score=0.870 total time=   0.0s\n",
      "[CV 3/5] END max_depth=7, min_samples_leaf=4, min_samples_split=2;, score=0.884 total time=   0.0s\n",
      "[CV 4/5] END max_depth=7, min_samples_leaf=4, min_samples_split=2;, score=0.878 total time=   0.0s\n",
      "[CV 5/5] END max_depth=7, min_samples_leaf=4, min_samples_split=2;, score=0.873 total time=   0.0s\n",
      "[CV 1/5] END max_depth=7, min_samples_leaf=4, min_samples_split=5;, score=0.876 total time=   0.0s\n",
      "[CV 2/5] END max_depth=7, min_samples_leaf=4, min_samples_split=5;, score=0.871 total time=   0.0s\n",
      "[CV 3/5] END max_depth=7, min_samples_leaf=4, min_samples_split=5;, score=0.884 total time=   0.0s\n",
      "[CV 4/5] END max_depth=7, min_samples_leaf=4, min_samples_split=5;, score=0.878 total time=   0.0s\n",
      "[CV 5/5] END max_depth=7, min_samples_leaf=4, min_samples_split=5;, score=0.871 total time=   0.0s\n",
      "[CV 1/5] END max_depth=7, min_samples_leaf=4, min_samples_split=10;, score=0.874 total time=   0.0s\n",
      "[CV 2/5] END max_depth=7, min_samples_leaf=4, min_samples_split=10;, score=0.871 total time=   0.0s\n",
      "[CV 3/5] END max_depth=7, min_samples_leaf=4, min_samples_split=10;, score=0.884 total time=   0.0s\n",
      "[CV 4/5] END max_depth=7, min_samples_leaf=4, min_samples_split=10;, score=0.878 total time=   0.0s\n",
      "[CV 5/5] END max_depth=7, min_samples_leaf=4, min_samples_split=10;, score=0.871 total time=   0.0s\n",
      "[CV 1/5] END max_depth=8, min_samples_leaf=1, min_samples_split=2;, score=0.875 total time=   0.0s\n",
      "[CV 2/5] END max_depth=8, min_samples_leaf=1, min_samples_split=2;, score=0.888 total time=   0.0s\n",
      "[CV 3/5] END max_depth=8, min_samples_leaf=1, min_samples_split=2;, score=0.873 total time=   0.0s\n",
      "[CV 4/5] END max_depth=8, min_samples_leaf=1, min_samples_split=2;, score=0.879 total time=   0.0s\n",
      "[CV 5/5] END max_depth=8, min_samples_leaf=1, min_samples_split=2;, score=0.872 total time=   0.0s\n",
      "[CV 1/5] END max_depth=8, min_samples_leaf=1, min_samples_split=5;, score=0.876 total time=   0.0s\n",
      "[CV 2/5] END max_depth=8, min_samples_leaf=1, min_samples_split=5;, score=0.885 total time=   0.0s\n",
      "[CV 3/5] END max_depth=8, min_samples_leaf=1, min_samples_split=5;, score=0.872 total time=   0.0s\n",
      "[CV 4/5] END max_depth=8, min_samples_leaf=1, min_samples_split=5;, score=0.883 total time=   0.0s\n",
      "[CV 5/5] END max_depth=8, min_samples_leaf=1, min_samples_split=5;, score=0.875 total time=   0.0s\n",
      "[CV 1/5] END max_depth=8, min_samples_leaf=1, min_samples_split=10;, score=0.876 total time=   0.0s\n",
      "[CV 2/5] END max_depth=8, min_samples_leaf=1, min_samples_split=10;, score=0.880 total time=   0.0s\n",
      "[CV 3/5] END max_depth=8, min_samples_leaf=1, min_samples_split=10;, score=0.873 total time=   0.0s\n",
      "[CV 4/5] END max_depth=8, min_samples_leaf=1, min_samples_split=10;, score=0.885 total time=   0.0s\n",
      "[CV 5/5] END max_depth=8, min_samples_leaf=1, min_samples_split=10;, score=0.874 total time=   0.0s\n",
      "[CV 1/5] END max_depth=8, min_samples_leaf=2, min_samples_split=2;, score=0.877 total time=   0.0s\n",
      "[CV 2/5] END max_depth=8, min_samples_leaf=2, min_samples_split=2;, score=0.882 total time=   0.0s\n",
      "[CV 3/5] END max_depth=8, min_samples_leaf=2, min_samples_split=2;, score=0.875 total time=   0.0s\n",
      "[CV 4/5] END max_depth=8, min_samples_leaf=2, min_samples_split=2;, score=0.883 total time=   0.0s\n",
      "[CV 5/5] END max_depth=8, min_samples_leaf=2, min_samples_split=2;, score=0.876 total time=   0.0s\n",
      "[CV 1/5] END max_depth=8, min_samples_leaf=2, min_samples_split=5;, score=0.878 total time=   0.0s\n",
      "[CV 2/5] END max_depth=8, min_samples_leaf=2, min_samples_split=5;, score=0.879 total time=   0.0s\n",
      "[CV 3/5] END max_depth=8, min_samples_leaf=2, min_samples_split=5;, score=0.874 total time=   0.0s\n",
      "[CV 4/5] END max_depth=8, min_samples_leaf=2, min_samples_split=5;, score=0.882 total time=   0.0s\n",
      "[CV 5/5] END max_depth=8, min_samples_leaf=2, min_samples_split=5;, score=0.875 total time=   0.0s\n",
      "[CV 1/5] END max_depth=8, min_samples_leaf=2, min_samples_split=10;, score=0.876 total time=   0.0s\n",
      "[CV 2/5] END max_depth=8, min_samples_leaf=2, min_samples_split=10;, score=0.880 total time=   0.0s\n",
      "[CV 3/5] END max_depth=8, min_samples_leaf=2, min_samples_split=10;, score=0.875 total time=   0.0s\n",
      "[CV 4/5] END max_depth=8, min_samples_leaf=2, min_samples_split=10;, score=0.885 total time=   0.0s\n",
      "[CV 5/5] END max_depth=8, min_samples_leaf=2, min_samples_split=10;, score=0.873 total time=   0.0s\n",
      "[CV 1/5] END max_depth=8, min_samples_leaf=4, min_samples_split=2;, score=0.877 total time=   0.0s\n",
      "[CV 2/5] END max_depth=8, min_samples_leaf=4, min_samples_split=2;, score=0.879 total time=   0.0s\n",
      "[CV 3/5] END max_depth=8, min_samples_leaf=4, min_samples_split=2;, score=0.876 total time=   0.0s\n",
      "[CV 4/5] END max_depth=8, min_samples_leaf=4, min_samples_split=2;, score=0.887 total time=   0.0s\n",
      "[CV 5/5] END max_depth=8, min_samples_leaf=4, min_samples_split=2;, score=0.867 total time=   0.0s\n",
      "[CV 1/5] END max_depth=8, min_samples_leaf=4, min_samples_split=5;, score=0.877 total time=   0.0s\n",
      "[CV 2/5] END max_depth=8, min_samples_leaf=4, min_samples_split=5;, score=0.875 total time=   0.0s\n",
      "[CV 3/5] END max_depth=8, min_samples_leaf=4, min_samples_split=5;, score=0.878 total time=   0.0s\n",
      "[CV 4/5] END max_depth=8, min_samples_leaf=4, min_samples_split=5;, score=0.887 total time=   0.0s\n",
      "[CV 5/5] END max_depth=8, min_samples_leaf=4, min_samples_split=5;, score=0.868 total time=   0.0s\n",
      "[CV 1/5] END max_depth=8, min_samples_leaf=4, min_samples_split=10;, score=0.875 total time=   0.0s\n",
      "[CV 2/5] END max_depth=8, min_samples_leaf=4, min_samples_split=10;, score=0.881 total time=   0.0s\n",
      "[CV 3/5] END max_depth=8, min_samples_leaf=4, min_samples_split=10;, score=0.874 total time=   0.0s\n",
      "[CV 4/5] END max_depth=8, min_samples_leaf=4, min_samples_split=10;, score=0.887 total time=   0.0s\n",
      "[CV 5/5] END max_depth=8, min_samples_leaf=4, min_samples_split=10;, score=0.868 total time=   0.0s\n",
      "[CV 1/5] END max_depth=9, min_samples_leaf=1, min_samples_split=2;, score=0.867 total time=   0.0s\n",
      "[CV 2/5] END max_depth=9, min_samples_leaf=1, min_samples_split=2;, score=0.889 total time=   0.0s\n",
      "[CV 3/5] END max_depth=9, min_samples_leaf=1, min_samples_split=2;, score=0.874 total time=   0.0s\n",
      "[CV 4/5] END max_depth=9, min_samples_leaf=1, min_samples_split=2;, score=0.883 total time=   0.0s\n",
      "[CV 5/5] END max_depth=9, min_samples_leaf=1, min_samples_split=2;, score=0.878 total time=   0.0s\n",
      "[CV 1/5] END max_depth=9, min_samples_leaf=1, min_samples_split=5;, score=0.867 total time=   0.0s\n",
      "[CV 2/5] END max_depth=9, min_samples_leaf=1, min_samples_split=5;, score=0.884 total time=   0.0s\n",
      "[CV 3/5] END max_depth=9, min_samples_leaf=1, min_samples_split=5;, score=0.869 total time=   0.0s\n",
      "[CV 4/5] END max_depth=9, min_samples_leaf=1, min_samples_split=5;, score=0.880 total time=   0.0s\n",
      "[CV 5/5] END max_depth=9, min_samples_leaf=1, min_samples_split=5;, score=0.876 total time=   0.0s\n",
      "[CV 1/5] END max_depth=9, min_samples_leaf=1, min_samples_split=10;, score=0.867 total time=   0.0s\n",
      "[CV 2/5] END max_depth=9, min_samples_leaf=1, min_samples_split=10;, score=0.881 total time=   0.0s\n",
      "[CV 3/5] END max_depth=9, min_samples_leaf=1, min_samples_split=10;, score=0.868 total time=   0.0s\n",
      "[CV 4/5] END max_depth=9, min_samples_leaf=1, min_samples_split=10;, score=0.885 total time=   0.0s\n",
      "[CV 5/5] END max_depth=9, min_samples_leaf=1, min_samples_split=10;, score=0.874 total time=   0.0s\n",
      "[CV 1/5] END max_depth=9, min_samples_leaf=2, min_samples_split=2;, score=0.862 total time=   0.0s\n",
      "[CV 2/5] END max_depth=9, min_samples_leaf=2, min_samples_split=2;, score=0.885 total time=   0.0s\n",
      "[CV 3/5] END max_depth=9, min_samples_leaf=2, min_samples_split=2;, score=0.872 total time=   0.0s\n",
      "[CV 4/5] END max_depth=9, min_samples_leaf=2, min_samples_split=2;, score=0.878 total time=   0.0s\n",
      "[CV 5/5] END max_depth=9, min_samples_leaf=2, min_samples_split=2;, score=0.875 total time=   0.0s\n",
      "[CV 1/5] END max_depth=9, min_samples_leaf=2, min_samples_split=5;, score=0.867 total time=   0.0s\n",
      "[CV 2/5] END max_depth=9, min_samples_leaf=2, min_samples_split=5;, score=0.885 total time=   0.0s\n",
      "[CV 3/5] END max_depth=9, min_samples_leaf=2, min_samples_split=5;, score=0.872 total time=   0.0s\n",
      "[CV 4/5] END max_depth=9, min_samples_leaf=2, min_samples_split=5;, score=0.884 total time=   0.0s\n",
      "[CV 5/5] END max_depth=9, min_samples_leaf=2, min_samples_split=5;, score=0.875 total time=   0.0s\n",
      "[CV 1/5] END max_depth=9, min_samples_leaf=2, min_samples_split=10;, score=0.867 total time=   0.0s\n",
      "[CV 2/5] END max_depth=9, min_samples_leaf=2, min_samples_split=10;, score=0.880 total time=   0.0s\n",
      "[CV 3/5] END max_depth=9, min_samples_leaf=2, min_samples_split=10;, score=0.869 total time=   0.0s\n",
      "[CV 4/5] END max_depth=9, min_samples_leaf=2, min_samples_split=10;, score=0.885 total time=   0.0s\n",
      "[CV 5/5] END max_depth=9, min_samples_leaf=2, min_samples_split=10;, score=0.876 total time=   0.0s\n",
      "[CV 1/5] END max_depth=9, min_samples_leaf=4, min_samples_split=2;, score=0.871 total time=   0.0s\n",
      "[CV 2/5] END max_depth=9, min_samples_leaf=4, min_samples_split=2;, score=0.880 total time=   0.0s\n",
      "[CV 3/5] END max_depth=9, min_samples_leaf=4, min_samples_split=2;, score=0.872 total time=   0.0s\n",
      "[CV 4/5] END max_depth=9, min_samples_leaf=4, min_samples_split=2;, score=0.889 total time=   0.0s\n",
      "[CV 5/5] END max_depth=9, min_samples_leaf=4, min_samples_split=2;, score=0.873 total time=   0.0s\n",
      "[CV 1/5] END max_depth=9, min_samples_leaf=4, min_samples_split=5;, score=0.870 total time=   0.0s\n",
      "[CV 2/5] END max_depth=9, min_samples_leaf=4, min_samples_split=5;, score=0.880 total time=   0.0s\n",
      "[CV 3/5] END max_depth=9, min_samples_leaf=4, min_samples_split=5;, score=0.872 total time=   0.0s\n",
      "[CV 4/5] END max_depth=9, min_samples_leaf=4, min_samples_split=5;, score=0.887 total time=   0.0s\n",
      "[CV 5/5] END max_depth=9, min_samples_leaf=4, min_samples_split=5;, score=0.874 total time=   0.0s\n",
      "[CV 1/5] END max_depth=9, min_samples_leaf=4, min_samples_split=10;, score=0.867 total time=   0.0s\n",
      "[CV 2/5] END max_depth=9, min_samples_leaf=4, min_samples_split=10;, score=0.884 total time=   0.0s\n",
      "[CV 3/5] END max_depth=9, min_samples_leaf=4, min_samples_split=10;, score=0.871 total time=   0.0s\n",
      "[CV 4/5] END max_depth=9, min_samples_leaf=4, min_samples_split=10;, score=0.892 total time=   0.0s\n",
      "[CV 5/5] END max_depth=9, min_samples_leaf=4, min_samples_split=10;, score=0.874 total time=   0.0s\n",
      "[CV 1/5] END max_depth=None, min_samples_leaf=1, min_samples_split=2;, score=0.863 total time=   0.0s\n",
      "[CV 2/5] END max_depth=None, min_samples_leaf=1, min_samples_split=2;, score=0.870 total time=   0.0s\n",
      "[CV 3/5] END max_depth=None, min_samples_leaf=1, min_samples_split=2;, score=0.865 total time=   0.0s\n",
      "[CV 4/5] END max_depth=None, min_samples_leaf=1, min_samples_split=2;, score=0.865 total time=   0.0s\n",
      "[CV 5/5] END max_depth=None, min_samples_leaf=1, min_samples_split=2;, score=0.865 total time=   0.0s\n",
      "[CV 1/5] END max_depth=None, min_samples_leaf=1, min_samples_split=5;, score=0.858 total time=   0.0s\n",
      "[CV 2/5] END max_depth=None, min_samples_leaf=1, min_samples_split=5;, score=0.867 total time=   0.0s\n",
      "[CV 3/5] END max_depth=None, min_samples_leaf=1, min_samples_split=5;, score=0.866 total time=   0.0s\n",
      "[CV 4/5] END max_depth=None, min_samples_leaf=1, min_samples_split=5;, score=0.873 total time=   0.0s\n",
      "[CV 5/5] END max_depth=None, min_samples_leaf=1, min_samples_split=5;, score=0.865 total time=   0.0s\n",
      "[CV 1/5] END max_depth=None, min_samples_leaf=1, min_samples_split=10;, score=0.872 total time=   0.0s\n",
      "[CV 2/5] END max_depth=None, min_samples_leaf=1, min_samples_split=10;, score=0.875 total time=   0.0s\n",
      "[CV 3/5] END max_depth=None, min_samples_leaf=1, min_samples_split=10;, score=0.862 total time=   0.0s\n",
      "[CV 4/5] END max_depth=None, min_samples_leaf=1, min_samples_split=10;, score=0.868 total time=   0.0s\n",
      "[CV 5/5] END max_depth=None, min_samples_leaf=1, min_samples_split=10;, score=0.867 total time=   0.0s\n",
      "[CV 1/5] END max_depth=None, min_samples_leaf=2, min_samples_split=2;, score=0.866 total time=   0.0s\n",
      "[CV 2/5] END max_depth=None, min_samples_leaf=2, min_samples_split=2;, score=0.873 total time=   0.0s\n",
      "[CV 3/5] END max_depth=None, min_samples_leaf=2, min_samples_split=2;, score=0.860 total time=   0.0s\n",
      "[CV 4/5] END max_depth=None, min_samples_leaf=2, min_samples_split=2;, score=0.862 total time=   0.0s\n",
      "[CV 5/5] END max_depth=None, min_samples_leaf=2, min_samples_split=2;, score=0.862 total time=   0.0s\n",
      "[CV 1/5] END max_depth=None, min_samples_leaf=2, min_samples_split=5;, score=0.862 total time=   0.0s\n",
      "[CV 2/5] END max_depth=None, min_samples_leaf=2, min_samples_split=5;, score=0.870 total time=   0.0s\n",
      "[CV 3/5] END max_depth=None, min_samples_leaf=2, min_samples_split=5;, score=0.860 total time=   0.0s\n",
      "[CV 4/5] END max_depth=None, min_samples_leaf=2, min_samples_split=5;, score=0.862 total time=   0.0s\n",
      "[CV 5/5] END max_depth=None, min_samples_leaf=2, min_samples_split=5;, score=0.864 total time=   0.0s\n",
      "[CV 1/5] END max_depth=None, min_samples_leaf=2, min_samples_split=10;, score=0.872 total time=   0.0s\n",
      "[CV 2/5] END max_depth=None, min_samples_leaf=2, min_samples_split=10;, score=0.874 total time=   0.0s\n",
      "[CV 3/5] END max_depth=None, min_samples_leaf=2, min_samples_split=10;, score=0.858 total time=   0.0s\n",
      "[CV 4/5] END max_depth=None, min_samples_leaf=2, min_samples_split=10;, score=0.871 total time=   0.0s\n",
      "[CV 5/5] END max_depth=None, min_samples_leaf=2, min_samples_split=10;, score=0.868 total time=   0.0s\n",
      "[CV 1/5] END max_depth=None, min_samples_leaf=4, min_samples_split=2;, score=0.872 total time=   0.0s\n",
      "[CV 2/5] END max_depth=None, min_samples_leaf=4, min_samples_split=2;, score=0.880 total time=   0.0s\n",
      "[CV 3/5] END max_depth=None, min_samples_leaf=4, min_samples_split=2;, score=0.861 total time=   0.0s\n",
      "[CV 4/5] END max_depth=None, min_samples_leaf=4, min_samples_split=2;, score=0.878 total time=   0.0s\n",
      "[CV 5/5] END max_depth=None, min_samples_leaf=4, min_samples_split=2;, score=0.870 total time=   0.0s\n",
      "[CV 1/5] END max_depth=None, min_samples_leaf=4, min_samples_split=5;, score=0.876 total time=   0.0s\n",
      "[CV 2/5] END max_depth=None, min_samples_leaf=4, min_samples_split=5;, score=0.881 total time=   0.0s\n",
      "[CV 3/5] END max_depth=None, min_samples_leaf=4, min_samples_split=5;, score=0.863 total time=   0.0s\n",
      "[CV 4/5] END max_depth=None, min_samples_leaf=4, min_samples_split=5;, score=0.879 total time=   0.0s\n",
      "[CV 5/5] END max_depth=None, min_samples_leaf=4, min_samples_split=5;, score=0.871 total time=   0.0s\n",
      "[CV 1/5] END max_depth=None, min_samples_leaf=4, min_samples_split=10;, score=0.874 total time=   0.0s\n",
      "[CV 2/5] END max_depth=None, min_samples_leaf=4, min_samples_split=10;, score=0.880 total time=   0.0s\n",
      "[CV 3/5] END max_depth=None, min_samples_leaf=4, min_samples_split=10;, score=0.862 total time=   0.0s\n",
      "[CV 4/5] END max_depth=None, min_samples_leaf=4, min_samples_split=10;, score=0.886 total time=   0.0s\n",
      "[CV 5/5] END max_depth=None, min_samples_leaf=4, min_samples_split=10;, score=0.875 total time=   0.0s\n",
      "Decision Tree: {'max_depth': 8, 'min_samples_leaf': 2, 'min_samples_split': 2}. Exited the get_best_params_for_Decision_tree method of the Model_Finder class\n"
     ]
    }
   ],
   "source": [
    "param_grid = {'max_depth': [3, 5, 7, 8, 9, None], 'min_samples_split': [2, 5, 10], 'min_samples_leaf': [1, 2, 4]}\n",
    "\n",
    "clf = DecisionTreeClassifier()\n",
    "        \n",
    "            #Creating an object of the Grid Search class\n",
    "grid = GridSearchCV(estimator=clf, param_grid=param_grid, cv=5,  verbose=3)\n",
    "            #finding the best parameters\n",
    "grid.fit(X_train, y_train)\n",
    "\n",
    "            \n",
    "max_depth = grid.best_params_['max_depth']\n",
    "#            n_estimators = grid.best_params_['n_estimators']\n",
    "min_samples_split = grid.best_params_['min_samples_split']\n",
    "min_samples_leaf=grid.best_params_['min_samples_leaf']\n",
    "\n",
    "            #creating a new model with the best parameters\n",
    "dt = DecisionTreeClassifier(max_depth=max_depth,min_samples_leaf=min_samples_leaf,min_samples_split=min_samples_split)\n",
    "            # training the mew model\n",
    "dt.fit(X_train, y_train)\n",
    "            \n",
    "print('Decision Tree: '+str(f\"{grid.best_params_}\")+'. Exited the get_best_params_for_Decision_tree method of the Model_Finder class')\n"
   ]
  },
  {
   "cell_type": "code",
   "execution_count": 50,
   "id": "850a24ae",
   "metadata": {},
   "outputs": [],
   "source": [
    "y_pred=dt.predict(X_test)"
   ]
  },
  {
   "cell_type": "code",
   "execution_count": 51,
   "id": "66dc541f",
   "metadata": {},
   "outputs": [
    {
     "data": {
      "text/plain": [
       "0.8969276511397423"
      ]
     },
     "execution_count": 51,
     "metadata": {},
     "output_type": "execute_result"
    }
   ],
   "source": [
    "accuracy_score(y_test,y_pred)"
   ]
  },
  {
   "cell_type": "code",
   "execution_count": 52,
   "id": "2e158783",
   "metadata": {},
   "outputs": [],
   "source": [
    "y_pred_train=dt.predict(X_train)"
   ]
  },
  {
   "cell_type": "code",
   "execution_count": 53,
   "id": "6de38957",
   "metadata": {},
   "outputs": [
    {
     "data": {
      "text/plain": [
       "0.9195832655054533"
      ]
     },
     "execution_count": 53,
     "metadata": {},
     "output_type": "execute_result"
    }
   ],
   "source": [
    "accuracy_score(y_train,y_pred_train)"
   ]
  },
  {
   "cell_type": "code",
   "execution_count": 83,
   "id": "002ff69d",
   "metadata": {},
   "outputs": [],
   "source": [
    "# This model is showing very good accuracy"
   ]
  },
  {
   "cell_type": "code",
   "execution_count": null,
   "id": "3872a987",
   "metadata": {},
   "outputs": [],
   "source": []
  },
  {
   "cell_type": "code",
   "execution_count": 97,
   "id": "33676e9a",
   "metadata": {},
   "outputs": [],
   "source": [
    "import xgboost as xgb"
   ]
  },
  {
   "cell_type": "code",
   "execution_count": 98,
   "id": "bf7236f2",
   "metadata": {},
   "outputs": [
    {
     "name": "stdout",
     "output_type": "stream",
     "text": [
      "Requirement already satisfied: xgboost==0.90 in c:\\users\\tando\\anaconda3\\lib\\site-packages (0.90)\n",
      "Requirement already satisfied: scipy in c:\\users\\tando\\anaconda3\\lib\\site-packages (from xgboost==0.90) (1.7.3)\n",
      "Requirement already satisfied: numpy in c:\\users\\tando\\anaconda3\\lib\\site-packages (from xgboost==0.90) (1.22.4)\n",
      "Note: you may need to restart the kernel to use updated packages.\n"
     ]
    }
   ],
   "source": [
    "pip install xgboost==0.90"
   ]
  },
  {
   "cell_type": "code",
   "execution_count": 209,
   "id": "ec188b6d",
   "metadata": {},
   "outputs": [],
   "source": [
    "def get_best_params_for_xgboost(train_x,train_y):\n",
    "\n",
    "        \n",
    "    print('Entered the get_best_params_for_xgboost method of the Model_Finder class')\n",
    "    try:\n",
    "     # initializing with different combination of parameters\n",
    "        param_grid_xgboost = {\n",
    "    \n",
    "                 'learning_rate': [0.5, 0.1, 0.01, 0.001],\n",
    "                 'max_depth': [3, 5, 10, 20],\n",
    "                 'n_estimators': [10, 50, 100, 200],\n",
    "             'classes': [range(30)]\n",
    "    \n",
    "             }\n",
    "     # Creating an object of the Grid Search class\n",
    "        grid= GridSearchCV(XGBClassifier(objective='binary:logistic'),param_grid_xgboost, verbose=3,cv=5)\n",
    "     # finding the best parameters\n",
    "        grid.fit(train_x, train_y)\n",
    "    \n",
    "     # extracting the best parameters\n",
    "        learning_rate = grid.best_params_['learning_rate']\n",
    "        max_depth = grid.best_params_['max_depth']\n",
    "        n_estimators = grid.best_params_['n_estimators']\n",
    "    \n",
    "     # creating a new model with the best parameters\n",
    "        xgb = XGBClassifier(learning_rate=learning_rate, max_depth=max_depth, n_estimators=n_estimators)\n",
    "     # training the mew model\n",
    "        xgb.fit(train_x, train_y)\n",
    "        print('XGBoost best params: ' + str(f\"{grid.best_params_}\") + '. Exited the get_best_params_for_xgboost method of the Model_Finder class')\n",
    "            \n",
    "\n",
    "        return xgb\n",
    "    except Exception as e:\n",
    "        raise Exception()"
   ]
  },
  {
   "cell_type": "code",
   "execution_count": 212,
   "id": "a1919d17",
   "metadata": {
    "scrolled": true
   },
   "outputs": [
    {
     "name": "stdout",
     "output_type": "stream",
     "text": [
      "Entered the get_best_params_for_xgboost method of the Model_Finder class\n",
      "Fitting 5 folds for each of 64 candidates, totalling 320 fits\n"
     ]
    },
    {
     "name": "stderr",
     "output_type": "stream",
     "text": [
      "C:\\Users\\tando\\anaconda3\\lib\\site-packages\\sklearn\\model_selection\\_split.py:680: UserWarning: The least populated class in y has only 1 members, which is less than n_splits=5.\n",
      "  warnings.warn(\n"
     ]
    },
    {
     "name": "stdout",
     "output_type": "stream",
     "text": [
      "[CV 1/5] END classes=range(0, 30), learning_rate=0.5, max_depth=3, n_estimators=10;, score=0.893 total time=   1.2s\n",
      "[CV 2/5] END classes=range(0, 30), learning_rate=0.5, max_depth=3, n_estimators=10;, score=0.879 total time=   1.3s\n",
      "[CV 3/5] END classes=range(0, 30), learning_rate=0.5, max_depth=3, n_estimators=10;, score=0.899 total time=   1.1s\n",
      "[CV 4/5] END classes=range(0, 30), learning_rate=0.5, max_depth=3, n_estimators=10;, score=0.897 total time=   1.1s\n",
      "[CV 5/5] END classes=range(0, 30), learning_rate=0.5, max_depth=3, n_estimators=10;, score=0.896 total time=   1.1s\n",
      "[CV 1/5] END classes=range(0, 30), learning_rate=0.5, max_depth=3, n_estimators=50;, score=0.896 total time=   5.9s\n",
      "[CV 2/5] END classes=range(0, 30), learning_rate=0.5, max_depth=3, n_estimators=50;, score=0.890 total time=   5.5s\n",
      "[CV 3/5] END classes=range(0, 30), learning_rate=0.5, max_depth=3, n_estimators=50;, score=0.892 total time=   5.5s\n",
      "[CV 4/5] END classes=range(0, 30), learning_rate=0.5, max_depth=3, n_estimators=50;, score=0.892 total time=   5.4s\n",
      "[CV 5/5] END classes=range(0, 30), learning_rate=0.5, max_depth=3, n_estimators=50;, score=0.898 total time=   5.1s\n",
      "[CV 1/5] END classes=range(0, 30), learning_rate=0.5, max_depth=3, n_estimators=100;, score=0.897 total time=  10.5s\n",
      "[CV 2/5] END classes=range(0, 30), learning_rate=0.5, max_depth=3, n_estimators=100;, score=0.891 total time=  10.5s\n",
      "[CV 3/5] END classes=range(0, 30), learning_rate=0.5, max_depth=3, n_estimators=100;, score=0.904 total time=  10.5s\n",
      "[CV 4/5] END classes=range(0, 30), learning_rate=0.5, max_depth=3, n_estimators=100;, score=0.890 total time=  10.5s\n",
      "[CV 5/5] END classes=range(0, 30), learning_rate=0.5, max_depth=3, n_estimators=100;, score=0.894 total time=  10.1s\n",
      "[CV 1/5] END classes=range(0, 30), learning_rate=0.5, max_depth=3, n_estimators=200;, score=0.902 total time=  19.7s\n",
      "[CV 2/5] END classes=range(0, 30), learning_rate=0.5, max_depth=3, n_estimators=200;, score=0.887 total time=  19.9s\n",
      "[CV 3/5] END classes=range(0, 30), learning_rate=0.5, max_depth=3, n_estimators=200;, score=0.903 total time=  20.0s\n",
      "[CV 4/5] END classes=range(0, 30), learning_rate=0.5, max_depth=3, n_estimators=200;, score=0.889 total time=  19.7s\n",
      "[CV 5/5] END classes=range(0, 30), learning_rate=0.5, max_depth=3, n_estimators=200;, score=0.898 total time=  19.1s\n",
      "[CV 1/5] END classes=range(0, 30), learning_rate=0.5, max_depth=5, n_estimators=10;, score=0.894 total time=   1.3s\n",
      "[CV 2/5] END classes=range(0, 30), learning_rate=0.5, max_depth=5, n_estimators=10;, score=0.881 total time=   1.3s\n",
      "[CV 3/5] END classes=range(0, 30), learning_rate=0.5, max_depth=5, n_estimators=10;, score=0.900 total time=   1.3s\n",
      "[CV 4/5] END classes=range(0, 30), learning_rate=0.5, max_depth=5, n_estimators=10;, score=0.892 total time=   1.3s\n",
      "[CV 5/5] END classes=range(0, 30), learning_rate=0.5, max_depth=5, n_estimators=10;, score=0.893 total time=   1.3s\n",
      "[CV 1/5] END classes=range(0, 30), learning_rate=0.5, max_depth=5, n_estimators=50;, score=0.903 total time=   6.2s\n",
      "[CV 2/5] END classes=range(0, 30), learning_rate=0.5, max_depth=5, n_estimators=50;, score=0.885 total time=   6.5s\n",
      "[CV 3/5] END classes=range(0, 30), learning_rate=0.5, max_depth=5, n_estimators=50;, score=0.903 total time=   6.2s\n",
      "[CV 4/5] END classes=range(0, 30), learning_rate=0.5, max_depth=5, n_estimators=50;, score=0.896 total time=   6.2s\n",
      "[CV 5/5] END classes=range(0, 30), learning_rate=0.5, max_depth=5, n_estimators=50;, score=0.903 total time=   5.9s\n",
      "[CV 1/5] END classes=range(0, 30), learning_rate=0.5, max_depth=5, n_estimators=100;, score=0.903 total time=  11.5s\n",
      "[CV 2/5] END classes=range(0, 30), learning_rate=0.5, max_depth=5, n_estimators=100;, score=0.883 total time=  11.5s\n",
      "[CV 3/5] END classes=range(0, 30), learning_rate=0.5, max_depth=5, n_estimators=100;, score=0.901 total time=  11.8s\n",
      "[CV 4/5] END classes=range(0, 30), learning_rate=0.5, max_depth=5, n_estimators=100;, score=0.900 total time=  11.6s\n",
      "[CV 5/5] END classes=range(0, 30), learning_rate=0.5, max_depth=5, n_estimators=100;, score=0.898 total time=  11.4s\n",
      "[CV 1/5] END classes=range(0, 30), learning_rate=0.5, max_depth=5, n_estimators=200;, score=0.899 total time=  21.4s\n",
      "[CV 2/5] END classes=range(0, 30), learning_rate=0.5, max_depth=5, n_estimators=200;, score=0.883 total time=  21.5s\n",
      "[CV 3/5] END classes=range(0, 30), learning_rate=0.5, max_depth=5, n_estimators=200;, score=0.900 total time=11.9min\n",
      "[CV 4/5] END classes=range(0, 30), learning_rate=0.5, max_depth=5, n_estimators=200;, score=0.903 total time=  23.3s\n",
      "[CV 5/5] END classes=range(0, 30), learning_rate=0.5, max_depth=5, n_estimators=200;, score=0.900 total time=  20.4s\n",
      "[CV 1/5] END classes=range(0, 30), learning_rate=0.5, max_depth=10, n_estimators=10;, score=0.896 total time=   1.6s\n",
      "[CV 2/5] END classes=range(0, 30), learning_rate=0.5, max_depth=10, n_estimators=10;, score=0.888 total time=   1.6s\n",
      "[CV 3/5] END classes=range(0, 30), learning_rate=0.5, max_depth=10, n_estimators=10;, score=0.896 total time=   1.6s\n",
      "[CV 4/5] END classes=range(0, 30), learning_rate=0.5, max_depth=10, n_estimators=10;, score=0.897 total time=   1.6s\n",
      "[CV 5/5] END classes=range(0, 30), learning_rate=0.5, max_depth=10, n_estimators=10;, score=0.891 total time=   1.5s\n",
      "[CV 1/5] END classes=range(0, 30), learning_rate=0.5, max_depth=10, n_estimators=50;, score=0.898 total time=   7.0s\n",
      "[CV 2/5] END classes=range(0, 30), learning_rate=0.5, max_depth=10, n_estimators=50;, score=0.882 total time=   7.1s\n",
      "[CV 3/5] END classes=range(0, 30), learning_rate=0.5, max_depth=10, n_estimators=50;, score=0.903 total time=   7.2s\n",
      "[CV 4/5] END classes=range(0, 30), learning_rate=0.5, max_depth=10, n_estimators=50;, score=0.902 total time=   7.4s\n",
      "[CV 5/5] END classes=range(0, 30), learning_rate=0.5, max_depth=10, n_estimators=50;, score=0.897 total time=   7.1s\n",
      "[CV 1/5] END classes=range(0, 30), learning_rate=0.5, max_depth=10, n_estimators=100;, score=0.896 total time=  12.9s\n",
      "[CV 2/5] END classes=range(0, 30), learning_rate=0.5, max_depth=10, n_estimators=100;, score=0.882 total time=  13.8s\n",
      "[CV 3/5] END classes=range(0, 30), learning_rate=0.5, max_depth=10, n_estimators=100;, score=0.902 total time=  13.0s\n",
      "[CV 4/5] END classes=range(0, 30), learning_rate=0.5, max_depth=10, n_estimators=100;, score=0.905 total time=  12.5s\n",
      "[CV 5/5] END classes=range(0, 30), learning_rate=0.5, max_depth=10, n_estimators=100;, score=0.898 total time=  12.7s\n",
      "[CV 1/5] END classes=range(0, 30), learning_rate=0.5, max_depth=10, n_estimators=200;, score=0.893 total time=  22.7s\n",
      "[CV 2/5] END classes=range(0, 30), learning_rate=0.5, max_depth=10, n_estimators=200;, score=0.883 total time=  23.2s\n",
      "[CV 3/5] END classes=range(0, 30), learning_rate=0.5, max_depth=10, n_estimators=200;, score=0.902 total time=  23.0s\n",
      "[CV 4/5] END classes=range(0, 30), learning_rate=0.5, max_depth=10, n_estimators=200;, score=0.906 total time=  22.7s\n",
      "[CV 5/5] END classes=range(0, 30), learning_rate=0.5, max_depth=10, n_estimators=200;, score=0.896 total time=  23.5s\n",
      "[CV 1/5] END classes=range(0, 30), learning_rate=0.5, max_depth=20, n_estimators=10;, score=0.894 total time=   1.8s\n",
      "[CV 2/5] END classes=range(0, 30), learning_rate=0.5, max_depth=20, n_estimators=10;, score=0.875 total time=   1.8s\n",
      "[CV 3/5] END classes=range(0, 30), learning_rate=0.5, max_depth=20, n_estimators=10;, score=0.900 total time=   1.9s\n",
      "[CV 4/5] END classes=range(0, 30), learning_rate=0.5, max_depth=20, n_estimators=10;, score=0.899 total time=   1.8s\n",
      "[CV 5/5] END classes=range(0, 30), learning_rate=0.5, max_depth=20, n_estimators=10;, score=0.899 total time=   1.8s\n",
      "[CV 1/5] END classes=range(0, 30), learning_rate=0.5, max_depth=20, n_estimators=50;, score=0.900 total time=   7.3s\n",
      "[CV 2/5] END classes=range(0, 30), learning_rate=0.5, max_depth=20, n_estimators=50;, score=0.885 total time=   7.5s\n",
      "[CV 3/5] END classes=range(0, 30), learning_rate=0.5, max_depth=20, n_estimators=50;, score=0.908 total time=   7.5s\n",
      "[CV 4/5] END classes=range(0, 30), learning_rate=0.5, max_depth=20, n_estimators=50;, score=0.900 total time=   7.3s\n",
      "[CV 5/5] END classes=range(0, 30), learning_rate=0.5, max_depth=20, n_estimators=50;, score=0.900 total time=   7.4s\n",
      "[CV 1/5] END classes=range(0, 30), learning_rate=0.5, max_depth=20, n_estimators=100;, score=0.900 total time=  14.3s\n",
      "[CV 2/5] END classes=range(0, 30), learning_rate=0.5, max_depth=20, n_estimators=100;, score=0.887 total time=  13.2s\n",
      "[CV 3/5] END classes=range(0, 30), learning_rate=0.5, max_depth=20, n_estimators=100;, score=0.907 total time=  13.5s\n",
      "[CV 4/5] END classes=range(0, 30), learning_rate=0.5, max_depth=20, n_estimators=100;, score=0.904 total time=  13.0s\n",
      "[CV 5/5] END classes=range(0, 30), learning_rate=0.5, max_depth=20, n_estimators=100;, score=0.902 total time=  14.4s\n",
      "[CV 1/5] END classes=range(0, 30), learning_rate=0.5, max_depth=20, n_estimators=200;, score=0.899 total time=  23.8s\n",
      "[CV 2/5] END classes=range(0, 30), learning_rate=0.5, max_depth=20, n_estimators=200;, score=0.886 total time=  23.8s\n",
      "[CV 3/5] END classes=range(0, 30), learning_rate=0.5, max_depth=20, n_estimators=200;, score=0.907 total time=  25.3s\n",
      "[CV 4/5] END classes=range(0, 30), learning_rate=0.5, max_depth=20, n_estimators=200;, score=0.902 total time=  23.9s\n",
      "[CV 5/5] END classes=range(0, 30), learning_rate=0.5, max_depth=20, n_estimators=200;, score=0.900 total time=  24.0s\n",
      "[CV 1/5] END classes=range(0, 30), learning_rate=0.1, max_depth=3, n_estimators=10;, score=0.884 total time=   1.0s\n",
      "[CV 2/5] END classes=range(0, 30), learning_rate=0.1, max_depth=3, n_estimators=10;, score=0.868 total time=   1.1s\n",
      "[CV 3/5] END classes=range(0, 30), learning_rate=0.1, max_depth=3, n_estimators=10;, score=0.888 total time=   1.1s\n",
      "[CV 4/5] END classes=range(0, 30), learning_rate=0.1, max_depth=3, n_estimators=10;, score=0.879 total time=   1.0s\n",
      "[CV 5/5] END classes=range(0, 30), learning_rate=0.1, max_depth=3, n_estimators=10;, score=0.885 total time=   1.0s\n",
      "[CV 1/5] END classes=range(0, 30), learning_rate=0.1, max_depth=3, n_estimators=50;, score=0.899 total time=   6.4s\n",
      "[CV 2/5] END classes=range(0, 30), learning_rate=0.1, max_depth=3, n_estimators=50;, score=0.887 total time=   6.7s\n",
      "[CV 3/5] END classes=range(0, 30), learning_rate=0.1, max_depth=3, n_estimators=50;, score=0.903 total time=   5.4s\n",
      "[CV 4/5] END classes=range(0, 30), learning_rate=0.1, max_depth=3, n_estimators=50;, score=0.896 total time=   5.5s\n",
      "[CV 5/5] END classes=range(0, 30), learning_rate=0.1, max_depth=3, n_estimators=50;, score=0.898 total time=   5.1s\n",
      "[CV 1/5] END classes=range(0, 30), learning_rate=0.1, max_depth=3, n_estimators=100;, score=0.896 total time=  10.9s\n",
      "[CV 2/5] END classes=range(0, 30), learning_rate=0.1, max_depth=3, n_estimators=100;, score=0.893 total time=  11.0s\n",
      "[CV 3/5] END classes=range(0, 30), learning_rate=0.1, max_depth=3, n_estimators=100;, score=0.899 total time=  11.1s\n",
      "[CV 4/5] END classes=range(0, 30), learning_rate=0.1, max_depth=3, n_estimators=100;, score=0.897 total time=  10.8s\n",
      "[CV 5/5] END classes=range(0, 30), learning_rate=0.1, max_depth=3, n_estimators=100;, score=0.898 total time=  10.4s\n",
      "[CV 1/5] END classes=range(0, 30), learning_rate=0.1, max_depth=3, n_estimators=200;, score=0.897 total time=  21.4s\n",
      "[CV 2/5] END classes=range(0, 30), learning_rate=0.1, max_depth=3, n_estimators=200;, score=0.900 total time=  21.6s\n",
      "[CV 3/5] END classes=range(0, 30), learning_rate=0.1, max_depth=3, n_estimators=200;, score=0.896 total time=  22.3s\n",
      "[CV 4/5] END classes=range(0, 30), learning_rate=0.1, max_depth=3, n_estimators=200;, score=0.895 total time=  23.9s\n",
      "[CV 5/5] END classes=range(0, 30), learning_rate=0.1, max_depth=3, n_estimators=200;, score=0.899 total time=  20.8s\n",
      "[CV 1/5] END classes=range(0, 30), learning_rate=0.1, max_depth=5, n_estimators=10;, score=0.886 total time=   1.4s\n",
      "[CV 2/5] END classes=range(0, 30), learning_rate=0.1, max_depth=5, n_estimators=10;, score=0.883 total time=   1.4s\n",
      "[CV 3/5] END classes=range(0, 30), learning_rate=0.1, max_depth=5, n_estimators=10;, score=0.896 total time=   1.3s\n",
      "[CV 4/5] END classes=range(0, 30), learning_rate=0.1, max_depth=5, n_estimators=10;, score=0.894 total time=   1.3s\n",
      "[CV 5/5] END classes=range(0, 30), learning_rate=0.1, max_depth=5, n_estimators=10;, score=0.897 total time=   1.2s\n",
      "[CV 1/5] END classes=range(0, 30), learning_rate=0.1, max_depth=5, n_estimators=50;, score=0.902 total time=   6.3s\n",
      "[CV 2/5] END classes=range(0, 30), learning_rate=0.1, max_depth=5, n_estimators=50;, score=0.890 total time=   6.5s\n",
      "[CV 3/5] END classes=range(0, 30), learning_rate=0.1, max_depth=5, n_estimators=50;, score=0.913 total time=   6.5s\n",
      "[CV 4/5] END classes=range(0, 30), learning_rate=0.1, max_depth=5, n_estimators=50;, score=0.899 total time=   6.4s\n",
      "[CV 5/5] END classes=range(0, 30), learning_rate=0.1, max_depth=5, n_estimators=50;, score=0.900 total time=   6.2s\n",
      "[CV 1/5] END classes=range(0, 30), learning_rate=0.1, max_depth=5, n_estimators=100;, score=0.900 total time=  12.9s\n",
      "[CV 2/5] END classes=range(0, 30), learning_rate=0.1, max_depth=5, n_estimators=100;, score=0.895 total time=  12.9s\n",
      "[CV 3/5] END classes=range(0, 30), learning_rate=0.1, max_depth=5, n_estimators=100;, score=0.905 total time=  13.2s\n",
      "[CV 4/5] END classes=range(0, 30), learning_rate=0.1, max_depth=5, n_estimators=100;, score=0.906 total time=  13.0s\n",
      "[CV 5/5] END classes=range(0, 30), learning_rate=0.1, max_depth=5, n_estimators=100;, score=0.899 total time=  12.4s\n",
      "[CV 1/5] END classes=range(0, 30), learning_rate=0.1, max_depth=5, n_estimators=200;, score=0.897 total time=  25.3s\n",
      "[CV 2/5] END classes=range(0, 30), learning_rate=0.1, max_depth=5, n_estimators=200;, score=0.894 total time=  25.5s\n",
      "[CV 3/5] END classes=range(0, 30), learning_rate=0.1, max_depth=5, n_estimators=200;, score=0.903 total time=  29.5s\n",
      "[CV 4/5] END classes=range(0, 30), learning_rate=0.1, max_depth=5, n_estimators=200;, score=0.904 total time=  26.7s\n",
      "[CV 5/5] END classes=range(0, 30), learning_rate=0.1, max_depth=5, n_estimators=200;, score=0.899 total time=  24.9s\n",
      "[CV 1/5] END classes=range(0, 30), learning_rate=0.1, max_depth=10, n_estimators=10;, score=0.899 total time=   1.5s\n",
      "[CV 2/5] END classes=range(0, 30), learning_rate=0.1, max_depth=10, n_estimators=10;, score=0.888 total time=   1.5s\n",
      "[CV 3/5] END classes=range(0, 30), learning_rate=0.1, max_depth=10, n_estimators=10;, score=0.901 total time=   1.6s\n",
      "[CV 4/5] END classes=range(0, 30), learning_rate=0.1, max_depth=10, n_estimators=10;, score=0.908 total time=   1.6s\n",
      "[CV 5/5] END classes=range(0, 30), learning_rate=0.1, max_depth=10, n_estimators=10;, score=0.898 total time=   1.4s\n",
      "[CV 1/5] END classes=range(0, 30), learning_rate=0.1, max_depth=10, n_estimators=50;, score=0.906 total time=   7.7s\n",
      "[CV 2/5] END classes=range(0, 30), learning_rate=0.1, max_depth=10, n_estimators=50;, score=0.898 total time=   8.2s\n",
      "[CV 3/5] END classes=range(0, 30), learning_rate=0.1, max_depth=10, n_estimators=50;, score=0.909 total time=   8.2s\n",
      "[CV 4/5] END classes=range(0, 30), learning_rate=0.1, max_depth=10, n_estimators=50;, score=0.906 total time=   8.1s\n",
      "[CV 5/5] END classes=range(0, 30), learning_rate=0.1, max_depth=10, n_estimators=50;, score=0.905 total time=   7.5s\n",
      "[CV 1/5] END classes=range(0, 30), learning_rate=0.1, max_depth=10, n_estimators=100;, score=0.901 total time=  15.3s\n",
      "[CV 2/5] END classes=range(0, 30), learning_rate=0.1, max_depth=10, n_estimators=100;, score=0.893 total time=  15.6s\n",
      "[CV 3/5] END classes=range(0, 30), learning_rate=0.1, max_depth=10, n_estimators=100;, score=0.905 total time=  15.8s\n",
      "[CV 4/5] END classes=range(0, 30), learning_rate=0.1, max_depth=10, n_estimators=100;, score=0.907 total time=  15.3s\n",
      "[CV 5/5] END classes=range(0, 30), learning_rate=0.1, max_depth=10, n_estimators=100;, score=0.905 total time=  15.4s\n",
      "[CV 1/5] END classes=range(0, 30), learning_rate=0.1, max_depth=10, n_estimators=200;, score=0.899 total time=  29.8s\n",
      "[CV 2/5] END classes=range(0, 30), learning_rate=0.1, max_depth=10, n_estimators=200;, score=0.890 total time=  29.6s\n",
      "[CV 3/5] END classes=range(0, 30), learning_rate=0.1, max_depth=10, n_estimators=200;, score=0.905 total time=  29.7s\n",
      "[CV 4/5] END classes=range(0, 30), learning_rate=0.1, max_depth=10, n_estimators=200;, score=0.903 total time=  28.7s\n",
      "[CV 5/5] END classes=range(0, 30), learning_rate=0.1, max_depth=10, n_estimators=200;, score=0.906 total time=  28.2s\n",
      "[CV 1/5] END classes=range(0, 30), learning_rate=0.1, max_depth=20, n_estimators=10;, score=0.898 total time=   1.6s\n",
      "[CV 2/5] END classes=range(0, 30), learning_rate=0.1, max_depth=20, n_estimators=10;, score=0.894 total time=   1.6s\n",
      "[CV 3/5] END classes=range(0, 30), learning_rate=0.1, max_depth=20, n_estimators=10;, score=0.898 total time=   1.7s\n",
      "[CV 4/5] END classes=range(0, 30), learning_rate=0.1, max_depth=20, n_estimators=10;, score=0.905 total time=   1.6s\n",
      "[CV 5/5] END classes=range(0, 30), learning_rate=0.1, max_depth=20, n_estimators=10;, score=0.900 total time=   1.5s\n",
      "[CV 1/5] END classes=range(0, 30), learning_rate=0.1, max_depth=20, n_estimators=50;, score=0.906 total time=   8.7s\n",
      "[CV 2/5] END classes=range(0, 30), learning_rate=0.1, max_depth=20, n_estimators=50;, score=0.893 total time=   8.8s\n",
      "[CV 3/5] END classes=range(0, 30), learning_rate=0.1, max_depth=20, n_estimators=50;, score=0.906 total time=   8.7s\n",
      "[CV 4/5] END classes=range(0, 30), learning_rate=0.1, max_depth=20, n_estimators=50;, score=0.905 total time=   8.7s\n",
      "[CV 5/5] END classes=range(0, 30), learning_rate=0.1, max_depth=20, n_estimators=50;, score=0.907 total time=   8.6s\n",
      "[CV 1/5] END classes=range(0, 30), learning_rate=0.1, max_depth=20, n_estimators=100;, score=0.903 total time=  17.3s\n",
      "[CV 2/5] END classes=range(0, 30), learning_rate=0.1, max_depth=20, n_estimators=100;, score=0.893 total time=  16.8s\n",
      "[CV 3/5] END classes=range(0, 30), learning_rate=0.1, max_depth=20, n_estimators=100;, score=0.903 total time=  17.0s\n",
      "[CV 4/5] END classes=range(0, 30), learning_rate=0.1, max_depth=20, n_estimators=100;, score=0.905 total time=  16.7s\n",
      "[CV 5/5] END classes=range(0, 30), learning_rate=0.1, max_depth=20, n_estimators=100;, score=0.907 total time=  16.4s\n",
      "[CV 1/5] END classes=range(0, 30), learning_rate=0.1, max_depth=20, n_estimators=200;, score=0.905 total time=  30.6s\n",
      "[CV 2/5] END classes=range(0, 30), learning_rate=0.1, max_depth=20, n_estimators=200;, score=0.890 total time=  30.6s\n",
      "[CV 3/5] END classes=range(0, 30), learning_rate=0.1, max_depth=20, n_estimators=200;, score=0.905 total time=  32.5s\n",
      "[CV 4/5] END classes=range(0, 30), learning_rate=0.1, max_depth=20, n_estimators=200;, score=0.904 total time=  30.6s\n",
      "[CV 5/5] END classes=range(0, 30), learning_rate=0.1, max_depth=20, n_estimators=200;, score=0.907 total time=  29.9s\n",
      "[CV 1/5] END classes=range(0, 30), learning_rate=0.01, max_depth=3, n_estimators=10;, score=0.859 total time=   1.2s\n",
      "[CV 2/5] END classes=range(0, 30), learning_rate=0.01, max_depth=3, n_estimators=10;, score=0.847 total time=   1.1s\n",
      "[CV 3/5] END classes=range(0, 30), learning_rate=0.01, max_depth=3, n_estimators=10;, score=0.868 total time=   1.1s\n",
      "[CV 4/5] END classes=range(0, 30), learning_rate=0.01, max_depth=3, n_estimators=10;, score=0.868 total time=   1.0s\n",
      "[CV 5/5] END classes=range(0, 30), learning_rate=0.01, max_depth=3, n_estimators=10;, score=0.852 total time=   1.0s\n",
      "[CV 1/5] END classes=range(0, 30), learning_rate=0.01, max_depth=3, n_estimators=50;, score=0.873 total time=   5.5s\n",
      "[CV 2/5] END classes=range(0, 30), learning_rate=0.01, max_depth=3, n_estimators=50;, score=0.860 total time=   5.7s\n",
      "[CV 3/5] END classes=range(0, 30), learning_rate=0.01, max_depth=3, n_estimators=50;, score=0.878 total time=   5.6s\n",
      "[CV 4/5] END classes=range(0, 30), learning_rate=0.01, max_depth=3, n_estimators=50;, score=0.877 total time=   5.5s\n",
      "[CV 5/5] END classes=range(0, 30), learning_rate=0.01, max_depth=3, n_estimators=50;, score=0.873 total time=   5.4s\n",
      "[CV 1/5] END classes=range(0, 30), learning_rate=0.01, max_depth=3, n_estimators=100;, score=0.883 total time=  10.9s\n",
      "[CV 2/5] END classes=range(0, 30), learning_rate=0.01, max_depth=3, n_estimators=100;, score=0.872 total time=  11.5s\n",
      "[CV 3/5] END classes=range(0, 30), learning_rate=0.01, max_depth=3, n_estimators=100;, score=0.888 total time=  11.4s\n",
      "[CV 4/5] END classes=range(0, 30), learning_rate=0.01, max_depth=3, n_estimators=100;, score=0.882 total time=  11.0s\n",
      "[CV 5/5] END classes=range(0, 30), learning_rate=0.01, max_depth=3, n_estimators=100;, score=0.888 total time=  10.9s\n",
      "[CV 1/5] END classes=range(0, 30), learning_rate=0.01, max_depth=3, n_estimators=200;, score=0.888 total time=  21.9s\n",
      "[CV 2/5] END classes=range(0, 30), learning_rate=0.01, max_depth=3, n_estimators=200;, score=0.878 total time=  22.5s\n",
      "[CV 3/5] END classes=range(0, 30), learning_rate=0.01, max_depth=3, n_estimators=200;, score=0.892 total time=  22.4s\n",
      "[CV 4/5] END classes=range(0, 30), learning_rate=0.01, max_depth=3, n_estimators=200;, score=0.888 total time=  21.9s\n",
      "[CV 5/5] END classes=range(0, 30), learning_rate=0.01, max_depth=3, n_estimators=200;, score=0.893 total time=  21.0s\n",
      "[CV 1/5] END classes=range(0, 30), learning_rate=0.01, max_depth=5, n_estimators=10;, score=0.884 total time=   1.3s\n",
      "[CV 2/5] END classes=range(0, 30), learning_rate=0.01, max_depth=5, n_estimators=10;, score=0.873 total time=   1.3s\n",
      "[CV 3/5] END classes=range(0, 30), learning_rate=0.01, max_depth=5, n_estimators=10;, score=0.886 total time=   1.3s\n",
      "[CV 4/5] END classes=range(0, 30), learning_rate=0.01, max_depth=5, n_estimators=10;, score=0.879 total time=   1.2s\n",
      "[CV 5/5] END classes=range(0, 30), learning_rate=0.01, max_depth=5, n_estimators=10;, score=0.888 total time=   1.3s\n",
      "[CV 1/5] END classes=range(0, 30), learning_rate=0.01, max_depth=5, n_estimators=50;, score=0.894 total time=   6.6s\n",
      "[CV 2/5] END classes=range(0, 30), learning_rate=0.01, max_depth=5, n_estimators=50;, score=0.886 total time=   6.7s\n",
      "[CV 3/5] END classes=range(0, 30), learning_rate=0.01, max_depth=5, n_estimators=50;, score=0.892 total time=   6.9s\n",
      "[CV 4/5] END classes=range(0, 30), learning_rate=0.01, max_depth=5, n_estimators=50;, score=0.891 total time=   6.4s\n",
      "[CV 5/5] END classes=range(0, 30), learning_rate=0.01, max_depth=5, n_estimators=50;, score=0.898 total time=   6.4s\n",
      "[CV 1/5] END classes=range(0, 30), learning_rate=0.01, max_depth=5, n_estimators=100;, score=0.897 total time=  13.0s\n",
      "[CV 2/5] END classes=range(0, 30), learning_rate=0.01, max_depth=5, n_estimators=100;, score=0.887 total time=  13.4s\n",
      "[CV 3/5] END classes=range(0, 30), learning_rate=0.01, max_depth=5, n_estimators=100;, score=0.894 total time=  13.4s\n",
      "[CV 4/5] END classes=range(0, 30), learning_rate=0.01, max_depth=5, n_estimators=100;, score=0.892 total time=  13.0s\n",
      "[CV 5/5] END classes=range(0, 30), learning_rate=0.01, max_depth=5, n_estimators=100;, score=0.901 total time=  12.9s\n",
      "[CV 1/5] END classes=range(0, 30), learning_rate=0.01, max_depth=5, n_estimators=200;, score=0.900 total time=  26.0s\n",
      "[CV 2/5] END classes=range(0, 30), learning_rate=0.01, max_depth=5, n_estimators=200;, score=0.890 total time=  26.7s\n",
      "[CV 3/5] END classes=range(0, 30), learning_rate=0.01, max_depth=5, n_estimators=200;, score=0.904 total time=  26.9s\n",
      "[CV 4/5] END classes=range(0, 30), learning_rate=0.01, max_depth=5, n_estimators=200;, score=0.900 total time=  25.9s\n",
      "[CV 5/5] END classes=range(0, 30), learning_rate=0.01, max_depth=5, n_estimators=200;, score=0.901 total time=  25.4s\n",
      "[CV 1/5] END classes=range(0, 30), learning_rate=0.01, max_depth=10, n_estimators=10;, score=0.886 total time=   1.4s\n",
      "[CV 2/5] END classes=range(0, 30), learning_rate=0.01, max_depth=10, n_estimators=10;, score=0.881 total time=   1.6s\n",
      "[CV 3/5] END classes=range(0, 30), learning_rate=0.01, max_depth=10, n_estimators=10;, score=0.888 total time=   1.4s\n",
      "[CV 4/5] END classes=range(0, 30), learning_rate=0.01, max_depth=10, n_estimators=10;, score=0.882 total time=   1.4s\n",
      "[CV 5/5] END classes=range(0, 30), learning_rate=0.01, max_depth=10, n_estimators=10;, score=0.895 total time=   1.4s\n",
      "[CV 1/5] END classes=range(0, 30), learning_rate=0.01, max_depth=10, n_estimators=50;, score=0.896 total time=   7.4s\n",
      "[CV 2/5] END classes=range(0, 30), learning_rate=0.01, max_depth=10, n_estimators=50;, score=0.892 total time=   7.4s\n",
      "[CV 3/5] END classes=range(0, 30), learning_rate=0.01, max_depth=10, n_estimators=50;, score=0.897 total time=   7.6s\n",
      "[CV 4/5] END classes=range(0, 30), learning_rate=0.01, max_depth=10, n_estimators=50;, score=0.898 total time=   7.3s\n",
      "[CV 5/5] END classes=range(0, 30), learning_rate=0.01, max_depth=10, n_estimators=50;, score=0.901 total time=   7.3s\n",
      "[CV 1/5] END classes=range(0, 30), learning_rate=0.01, max_depth=10, n_estimators=100;, score=0.905 total time=  15.2s\n",
      "[CV 2/5] END classes=range(0, 30), learning_rate=0.01, max_depth=10, n_estimators=100;, score=0.894 total time=  15.4s\n",
      "[CV 3/5] END classes=range(0, 30), learning_rate=0.01, max_depth=10, n_estimators=100;, score=0.904 total time=  15.5s\n",
      "[CV 4/5] END classes=range(0, 30), learning_rate=0.01, max_depth=10, n_estimators=100;, score=0.905 total time=  15.1s\n",
      "[CV 5/5] END classes=range(0, 30), learning_rate=0.01, max_depth=10, n_estimators=100;, score=0.900 total time=  14.9s\n",
      "[CV 1/5] END classes=range(0, 30), learning_rate=0.01, max_depth=10, n_estimators=200;, score=0.906 total time=  30.9s\n",
      "[CV 2/5] END classes=range(0, 30), learning_rate=0.01, max_depth=10, n_estimators=200;, score=0.894 total time=  33.3s\n",
      "[CV 3/5] END classes=range(0, 30), learning_rate=0.01, max_depth=10, n_estimators=200;, score=0.904 total time=  31.9s\n",
      "[CV 4/5] END classes=range(0, 30), learning_rate=0.01, max_depth=10, n_estimators=200;, score=0.909 total time=  31.0s\n",
      "[CV 5/5] END classes=range(0, 30), learning_rate=0.01, max_depth=10, n_estimators=200;, score=0.900 total time=  30.5s\n",
      "[CV 1/5] END classes=range(0, 30), learning_rate=0.01, max_depth=20, n_estimators=10;, score=0.885 total time=   1.5s\n",
      "[CV 2/5] END classes=range(0, 30), learning_rate=0.01, max_depth=20, n_estimators=10;, score=0.881 total time=   1.5s\n",
      "[CV 3/5] END classes=range(0, 30), learning_rate=0.01, max_depth=20, n_estimators=10;, score=0.888 total time=   1.4s\n",
      "[CV 4/5] END classes=range(0, 30), learning_rate=0.01, max_depth=20, n_estimators=10;, score=0.885 total time=   1.4s\n",
      "[CV 5/5] END classes=range(0, 30), learning_rate=0.01, max_depth=20, n_estimators=10;, score=0.895 total time=   1.4s\n",
      "[CV 1/5] END classes=range(0, 30), learning_rate=0.01, max_depth=20, n_estimators=50;, score=0.894 total time=   7.6s\n",
      "[CV 2/5] END classes=range(0, 30), learning_rate=0.01, max_depth=20, n_estimators=50;, score=0.894 total time=   7.8s\n",
      "[CV 3/5] END classes=range(0, 30), learning_rate=0.01, max_depth=20, n_estimators=50;, score=0.898 total time=   7.7s\n",
      "[CV 4/5] END classes=range(0, 30), learning_rate=0.01, max_depth=20, n_estimators=50;, score=0.898 total time=   7.7s\n",
      "[CV 5/5] END classes=range(0, 30), learning_rate=0.01, max_depth=20, n_estimators=50;, score=0.900 total time=   7.5s\n",
      "[CV 1/5] END classes=range(0, 30), learning_rate=0.01, max_depth=20, n_estimators=100;, score=0.903 total time=  16.0s\n",
      "[CV 2/5] END classes=range(0, 30), learning_rate=0.01, max_depth=20, n_estimators=100;, score=0.895 total time=  16.2s\n",
      "[CV 3/5] END classes=range(0, 30), learning_rate=0.01, max_depth=20, n_estimators=100;, score=0.907 total time=  16.4s\n",
      "[CV 4/5] END classes=range(0, 30), learning_rate=0.01, max_depth=20, n_estimators=100;, score=0.905 total time=  16.0s\n",
      "[CV 5/5] END classes=range(0, 30), learning_rate=0.01, max_depth=20, n_estimators=100;, score=0.903 total time=  15.7s\n",
      "[CV 1/5] END classes=range(0, 30), learning_rate=0.01, max_depth=20, n_estimators=200;, score=0.904 total time=  33.8s\n",
      "[CV 2/5] END classes=range(0, 30), learning_rate=0.01, max_depth=20, n_estimators=200;, score=0.893 total time=  36.7s\n",
      "[CV 3/5] END classes=range(0, 30), learning_rate=0.01, max_depth=20, n_estimators=200;, score=0.907 total time=23.6min\n",
      "[CV 4/5] END classes=range(0, 30), learning_rate=0.01, max_depth=20, n_estimators=200;, score=0.907 total time=465.0min\n",
      "[CV 5/5] END classes=range(0, 30), learning_rate=0.01, max_depth=20, n_estimators=200;, score=0.903 total time=  46.5s\n",
      "[CV 1/5] END classes=range(0, 30), learning_rate=0.001, max_depth=3, n_estimators=10;, score=0.858 total time=   1.3s\n",
      "[CV 2/5] END classes=range(0, 30), learning_rate=0.001, max_depth=3, n_estimators=10;, score=0.843 total time=   1.1s\n",
      "[CV 3/5] END classes=range(0, 30), learning_rate=0.001, max_depth=3, n_estimators=10;, score=0.857 total time=   1.1s\n",
      "[CV 4/5] END classes=range(0, 30), learning_rate=0.001, max_depth=3, n_estimators=10;, score=0.864 total time=   1.1s\n",
      "[CV 5/5] END classes=range(0, 30), learning_rate=0.001, max_depth=3, n_estimators=10;, score=0.857 total time=   1.0s\n",
      "[CV 1/5] END classes=range(0, 30), learning_rate=0.001, max_depth=3, n_estimators=50;, score=0.853 total time=   5.9s\n",
      "[CV 2/5] END classes=range(0, 30), learning_rate=0.001, max_depth=3, n_estimators=50;, score=0.845 total time=   5.7s\n",
      "[CV 3/5] END classes=range(0, 30), learning_rate=0.001, max_depth=3, n_estimators=50;, score=0.858 total time=   6.8s\n",
      "[CV 4/5] END classes=range(0, 30), learning_rate=0.001, max_depth=3, n_estimators=50;, score=0.864 total time=   6.2s\n",
      "[CV 5/5] END classes=range(0, 30), learning_rate=0.001, max_depth=3, n_estimators=50;, score=0.853 total time=   5.6s\n",
      "[CV 1/5] END classes=range(0, 30), learning_rate=0.001, max_depth=3, n_estimators=100;, score=0.860 total time=  12.9s\n",
      "[CV 2/5] END classes=range(0, 30), learning_rate=0.001, max_depth=3, n_estimators=100;, score=0.847 total time=  13.3s\n",
      "[CV 3/5] END classes=range(0, 30), learning_rate=0.001, max_depth=3, n_estimators=100;, score=0.868 total time=  11.7s\n",
      "[CV 4/5] END classes=range(0, 30), learning_rate=0.001, max_depth=3, n_estimators=100;, score=0.866 total time=  11.1s\n",
      "[CV 5/5] END classes=range(0, 30), learning_rate=0.001, max_depth=3, n_estimators=100;, score=0.853 total time=  10.8s\n",
      "[CV 1/5] END classes=range(0, 30), learning_rate=0.001, max_depth=3, n_estimators=200;, score=0.864 total time=  21.9s\n",
      "[CV 2/5] END classes=range(0, 30), learning_rate=0.001, max_depth=3, n_estimators=200;, score=0.849 total time=  28.8s\n",
      "[CV 3/5] END classes=range(0, 30), learning_rate=0.001, max_depth=3, n_estimators=200;, score=0.869 total time=  22.8s\n",
      "[CV 4/5] END classes=range(0, 30), learning_rate=0.001, max_depth=3, n_estimators=200;, score=0.872 total time=  22.4s\n",
      "[CV 5/5] END classes=range(0, 30), learning_rate=0.001, max_depth=3, n_estimators=200;, score=0.861 total time=  21.4s\n",
      "[CV 1/5] END classes=range(0, 30), learning_rate=0.001, max_depth=5, n_estimators=10;, score=0.879 total time=   1.4s\n",
      "[CV 2/5] END classes=range(0, 30), learning_rate=0.001, max_depth=5, n_estimators=10;, score=0.875 total time=   1.3s\n",
      "[CV 3/5] END classes=range(0, 30), learning_rate=0.001, max_depth=5, n_estimators=10;, score=0.885 total time=   1.3s\n",
      "[CV 4/5] END classes=range(0, 30), learning_rate=0.001, max_depth=5, n_estimators=10;, score=0.876 total time=   1.2s\n",
      "[CV 5/5] END classes=range(0, 30), learning_rate=0.001, max_depth=5, n_estimators=10;, score=0.880 total time=   1.2s\n",
      "[CV 1/5] END classes=range(0, 30), learning_rate=0.001, max_depth=5, n_estimators=50;, score=0.877 total time=   6.5s\n",
      "[CV 2/5] END classes=range(0, 30), learning_rate=0.001, max_depth=5, n_estimators=50;, score=0.870 total time=   6.6s\n",
      "[CV 3/5] END classes=range(0, 30), learning_rate=0.001, max_depth=5, n_estimators=50;, score=0.883 total time=   6.5s\n",
      "[CV 4/5] END classes=range(0, 30), learning_rate=0.001, max_depth=5, n_estimators=50;, score=0.875 total time=   6.6s\n",
      "[CV 5/5] END classes=range(0, 30), learning_rate=0.001, max_depth=5, n_estimators=50;, score=0.883 total time=   6.2s\n",
      "[CV 1/5] END classes=range(0, 30), learning_rate=0.001, max_depth=5, n_estimators=100;, score=0.886 total time=  13.0s\n",
      "[CV 2/5] END classes=range(0, 30), learning_rate=0.001, max_depth=5, n_estimators=100;, score=0.870 total time=  13.1s\n",
      "[CV 3/5] END classes=range(0, 30), learning_rate=0.001, max_depth=5, n_estimators=100;, score=0.885 total time=  13.3s\n",
      "[CV 4/5] END classes=range(0, 30), learning_rate=0.001, max_depth=5, n_estimators=100;, score=0.877 total time=  13.3s\n",
      "[CV 5/5] END classes=range(0, 30), learning_rate=0.001, max_depth=5, n_estimators=100;, score=0.889 total time=  12.7s\n",
      "[CV 1/5] END classes=range(0, 30), learning_rate=0.001, max_depth=5, n_estimators=200;, score=0.887 total time=  29.3s\n",
      "[CV 2/5] END classes=range(0, 30), learning_rate=0.001, max_depth=5, n_estimators=200;, score=0.874 total time=  28.8s\n",
      "[CV 3/5] END classes=range(0, 30), learning_rate=0.001, max_depth=5, n_estimators=200;, score=0.887 total time=  26.5s\n",
      "[CV 4/5] END classes=range(0, 30), learning_rate=0.001, max_depth=5, n_estimators=200;, score=0.883 total time=  26.0s\n",
      "[CV 5/5] END classes=range(0, 30), learning_rate=0.001, max_depth=5, n_estimators=200;, score=0.891 total time=  25.4s\n",
      "[CV 1/5] END classes=range(0, 30), learning_rate=0.001, max_depth=10, n_estimators=10;, score=0.881 total time=   1.4s\n",
      "[CV 2/5] END classes=range(0, 30), learning_rate=0.001, max_depth=10, n_estimators=10;, score=0.875 total time=   1.4s\n",
      "[CV 3/5] END classes=range(0, 30), learning_rate=0.001, max_depth=10, n_estimators=10;, score=0.883 total time=   1.4s\n",
      "[CV 4/5] END classes=range(0, 30), learning_rate=0.001, max_depth=10, n_estimators=10;, score=0.883 total time=   1.4s\n",
      "[CV 5/5] END classes=range(0, 30), learning_rate=0.001, max_depth=10, n_estimators=10;, score=0.883 total time=   1.4s\n",
      "[CV 1/5] END classes=range(0, 30), learning_rate=0.001, max_depth=10, n_estimators=50;, score=0.882 total time=   7.7s\n",
      "[CV 2/5] END classes=range(0, 30), learning_rate=0.001, max_depth=10, n_estimators=50;, score=0.875 total time=   8.9s\n",
      "[CV 3/5] END classes=range(0, 30), learning_rate=0.001, max_depth=10, n_estimators=50;, score=0.887 total time=   7.5s\n",
      "[CV 4/5] END classes=range(0, 30), learning_rate=0.001, max_depth=10, n_estimators=50;, score=0.883 total time=   7.2s\n",
      "[CV 5/5] END classes=range(0, 30), learning_rate=0.001, max_depth=10, n_estimators=50;, score=0.888 total time=   6.9s\n",
      "[CV 1/5] END classes=range(0, 30), learning_rate=0.001, max_depth=10, n_estimators=100;, score=0.885 total time=  15.2s\n",
      "[CV 2/5] END classes=range(0, 30), learning_rate=0.001, max_depth=10, n_estimators=100;, score=0.884 total time=  14.8s\n",
      "[CV 3/5] END classes=range(0, 30), learning_rate=0.001, max_depth=10, n_estimators=100;, score=0.889 total time=  20.5s\n",
      "[CV 4/5] END classes=range(0, 30), learning_rate=0.001, max_depth=10, n_estimators=100;, score=0.883 total time=  17.9s\n",
      "[CV 5/5] END classes=range(0, 30), learning_rate=0.001, max_depth=10, n_estimators=100;, score=0.894 total time=  18.0s\n",
      "[CV 1/5] END classes=range(0, 30), learning_rate=0.001, max_depth=10, n_estimators=200;, score=0.889 total time=  32.8s\n",
      "[CV 2/5] END classes=range(0, 30), learning_rate=0.001, max_depth=10, n_estimators=200;, score=0.890 total time=  29.6s\n",
      "[CV 3/5] END classes=range(0, 30), learning_rate=0.001, max_depth=10, n_estimators=200;, score=0.894 total time=  31.2s\n",
      "[CV 4/5] END classes=range(0, 30), learning_rate=0.001, max_depth=10, n_estimators=200;, score=0.892 total time=  29.3s\n",
      "[CV 5/5] END classes=range(0, 30), learning_rate=0.001, max_depth=10, n_estimators=200;, score=0.896 total time=  28.6s\n",
      "[CV 1/5] END classes=range(0, 30), learning_rate=0.001, max_depth=20, n_estimators=10;, score=0.881 total time=   1.5s\n",
      "[CV 2/5] END classes=range(0, 30), learning_rate=0.001, max_depth=20, n_estimators=10;, score=0.875 total time=   1.5s\n",
      "[CV 3/5] END classes=range(0, 30), learning_rate=0.001, max_depth=20, n_estimators=10;, score=0.883 total time=   1.4s\n",
      "[CV 4/5] END classes=range(0, 30), learning_rate=0.001, max_depth=20, n_estimators=10;, score=0.887 total time=   1.4s\n",
      "[CV 5/5] END classes=range(0, 30), learning_rate=0.001, max_depth=20, n_estimators=10;, score=0.883 total time=   1.3s\n",
      "[CV 1/5] END classes=range(0, 30), learning_rate=0.001, max_depth=20, n_estimators=50;, score=0.882 total time=   7.1s\n",
      "[CV 2/5] END classes=range(0, 30), learning_rate=0.001, max_depth=20, n_estimators=50;, score=0.875 total time=   7.4s\n",
      "[CV 3/5] END classes=range(0, 30), learning_rate=0.001, max_depth=20, n_estimators=50;, score=0.887 total time=   7.3s\n",
      "[CV 4/5] END classes=range(0, 30), learning_rate=0.001, max_depth=20, n_estimators=50;, score=0.886 total time=   7.3s\n",
      "[CV 5/5] END classes=range(0, 30), learning_rate=0.001, max_depth=20, n_estimators=50;, score=0.888 total time=   6.9s\n",
      "[CV 1/5] END classes=range(0, 30), learning_rate=0.001, max_depth=20, n_estimators=100;, score=0.885 total time=  14.6s\n",
      "[CV 2/5] END classes=range(0, 30), learning_rate=0.001, max_depth=20, n_estimators=100;, score=0.885 total time=  14.8s\n",
      "[CV 3/5] END classes=range(0, 30), learning_rate=0.001, max_depth=20, n_estimators=100;, score=0.889 total time=  14.7s\n",
      "[CV 4/5] END classes=range(0, 30), learning_rate=0.001, max_depth=20, n_estimators=100;, score=0.887 total time=  14.7s\n",
      "[CV 5/5] END classes=range(0, 30), learning_rate=0.001, max_depth=20, n_estimators=100;, score=0.894 total time=  14.3s\n",
      "[CV 1/5] END classes=range(0, 30), learning_rate=0.001, max_depth=20, n_estimators=200;, score=0.889 total time=  29.2s\n",
      "[CV 2/5] END classes=range(0, 30), learning_rate=0.001, max_depth=20, n_estimators=200;, score=0.890 total time=  30.0s\n",
      "[CV 3/5] END classes=range(0, 30), learning_rate=0.001, max_depth=20, n_estimators=200;, score=0.895 total time=  33.6s\n",
      "[CV 4/5] END classes=range(0, 30), learning_rate=0.001, max_depth=20, n_estimators=200;, score=0.894 total time=  32.9s\n",
      "[CV 5/5] END classes=range(0, 30), learning_rate=0.001, max_depth=20, n_estimators=200;, score=0.896 total time=  31.7s\n",
      "XGBoost best params: {'classes': range(0, 30), 'learning_rate': 0.1, 'max_depth': 10, 'n_estimators': 50}. Exited the get_best_params_for_xgboost method of the Model_Finder class\n"
     ]
    }
   ],
   "source": [
    "xgb_classifier = get_best_params_for_xgboost(X_train,y_train)"
   ]
  },
  {
   "cell_type": "code",
   "execution_count": 218,
   "id": "a2744aa0",
   "metadata": {},
   "outputs": [],
   "source": [
    "xgb=XGBClassifier(learning_rate=0.001,max_depth=10,n_estimators=50)"
   ]
  },
  {
   "cell_type": "code",
   "execution_count": 229,
   "id": "85edd97d",
   "metadata": {},
   "outputs": [
    {
     "data": {
      "text/html": [
       "<style>#sk-container-id-13 {color: black;background-color: white;}#sk-container-id-13 pre{padding: 0;}#sk-container-id-13 div.sk-toggleable {background-color: white;}#sk-container-id-13 label.sk-toggleable__label {cursor: pointer;display: block;width: 100%;margin-bottom: 0;padding: 0.3em;box-sizing: border-box;text-align: center;}#sk-container-id-13 label.sk-toggleable__label-arrow:before {content: \"▸\";float: left;margin-right: 0.25em;color: #696969;}#sk-container-id-13 label.sk-toggleable__label-arrow:hover:before {color: black;}#sk-container-id-13 div.sk-estimator:hover label.sk-toggleable__label-arrow:before {color: black;}#sk-container-id-13 div.sk-toggleable__content {max-height: 0;max-width: 0;overflow: hidden;text-align: left;background-color: #f0f8ff;}#sk-container-id-13 div.sk-toggleable__content pre {margin: 0.2em;color: black;border-radius: 0.25em;background-color: #f0f8ff;}#sk-container-id-13 input.sk-toggleable__control:checked~div.sk-toggleable__content {max-height: 200px;max-width: 100%;overflow: auto;}#sk-container-id-13 input.sk-toggleable__control:checked~label.sk-toggleable__label-arrow:before {content: \"▾\";}#sk-container-id-13 div.sk-estimator input.sk-toggleable__control:checked~label.sk-toggleable__label {background-color: #d4ebff;}#sk-container-id-13 div.sk-label input.sk-toggleable__control:checked~label.sk-toggleable__label {background-color: #d4ebff;}#sk-container-id-13 input.sk-hidden--visually {border: 0;clip: rect(1px 1px 1px 1px);clip: rect(1px, 1px, 1px, 1px);height: 1px;margin: -1px;overflow: hidden;padding: 0;position: absolute;width: 1px;}#sk-container-id-13 div.sk-estimator {font-family: monospace;background-color: #f0f8ff;border: 1px dotted black;border-radius: 0.25em;box-sizing: border-box;margin-bottom: 0.5em;}#sk-container-id-13 div.sk-estimator:hover {background-color: #d4ebff;}#sk-container-id-13 div.sk-parallel-item::after {content: \"\";width: 100%;border-bottom: 1px solid gray;flex-grow: 1;}#sk-container-id-13 div.sk-label:hover label.sk-toggleable__label {background-color: #d4ebff;}#sk-container-id-13 div.sk-serial::before {content: \"\";position: absolute;border-left: 1px solid gray;box-sizing: border-box;top: 0;bottom: 0;left: 50%;z-index: 0;}#sk-container-id-13 div.sk-serial {display: flex;flex-direction: column;align-items: center;background-color: white;padding-right: 0.2em;padding-left: 0.2em;position: relative;}#sk-container-id-13 div.sk-item {position: relative;z-index: 1;}#sk-container-id-13 div.sk-parallel {display: flex;align-items: stretch;justify-content: center;background-color: white;position: relative;}#sk-container-id-13 div.sk-item::before, #sk-container-id-13 div.sk-parallel-item::before {content: \"\";position: absolute;border-left: 1px solid gray;box-sizing: border-box;top: 0;bottom: 0;left: 50%;z-index: -1;}#sk-container-id-13 div.sk-parallel-item {display: flex;flex-direction: column;z-index: 1;position: relative;background-color: white;}#sk-container-id-13 div.sk-parallel-item:first-child::after {align-self: flex-end;width: 50%;}#sk-container-id-13 div.sk-parallel-item:last-child::after {align-self: flex-start;width: 50%;}#sk-container-id-13 div.sk-parallel-item:only-child::after {width: 0;}#sk-container-id-13 div.sk-dashed-wrapped {border: 1px dashed gray;margin: 0 0.4em 0.5em 0.4em;box-sizing: border-box;padding-bottom: 0.4em;background-color: white;}#sk-container-id-13 div.sk-label label {font-family: monospace;font-weight: bold;display: inline-block;line-height: 1.2em;}#sk-container-id-13 div.sk-label-container {text-align: center;}#sk-container-id-13 div.sk-container {/* jupyter's `normalize.less` sets `[hidden] { display: none; }` but bootstrap.min.css set `[hidden] { display: none !important; }` so we also need the `!important` here to be able to override the default hidden behavior on the sphinx rendered scikit-learn.org. See: https://github.com/scikit-learn/scikit-learn/issues/21755 */display: inline-block !important;position: relative;}#sk-container-id-13 div.sk-text-repr-fallback {display: none;}</style><div id=\"sk-container-id-13\" class=\"sk-top-container\"><div class=\"sk-text-repr-fallback\"><pre>XGBClassifier(learning_rate=0.001, max_depth=10, n_estimators=50,\n",
       "              objective=&#x27;multi:softprob&#x27;)</pre><b>In a Jupyter environment, please rerun this cell to show the HTML representation or trust the notebook. <br />On GitHub, the HTML representation is unable to render, please try loading this page with nbviewer.org.</b></div><div class=\"sk-container\" hidden><div class=\"sk-item\"><div class=\"sk-estimator sk-toggleable\"><input class=\"sk-toggleable__control sk-hidden--visually\" id=\"sk-estimator-id-58\" type=\"checkbox\" checked><label for=\"sk-estimator-id-58\" class=\"sk-toggleable__label sk-toggleable__label-arrow\">XGBClassifier</label><div class=\"sk-toggleable__content\"><pre>XGBClassifier(learning_rate=0.001, max_depth=10, n_estimators=50,\n",
       "              objective=&#x27;multi:softprob&#x27;)</pre></div></div></div></div></div>"
      ],
      "text/plain": [
       "XGBClassifier(learning_rate=0.001, max_depth=10, n_estimators=50,\n",
       "              objective='multi:softprob')"
      ]
     },
     "execution_count": 229,
     "metadata": {},
     "output_type": "execute_result"
    }
   ],
   "source": [
    "xgb.fit(X_train,y_train)"
   ]
  },
  {
   "cell_type": "raw",
   "id": "ccdeaa45",
   "metadata": {},
   "source": []
  },
  {
   "cell_type": "code",
   "execution_count": 230,
   "id": "808d34e4",
   "metadata": {},
   "outputs": [],
   "source": [
    "y_train_pred=xgb.predict(X_train)"
   ]
  },
  {
   "cell_type": "code",
   "execution_count": 231,
   "id": "777f9e5b",
   "metadata": {},
   "outputs": [
    {
     "data": {
      "text/plain": [
       "0.9079880043620502"
      ]
     },
     "execution_count": 231,
     "metadata": {},
     "output_type": "execute_result"
    }
   ],
   "source": [
    "accuracy_score(y_train,y_train_pred)"
   ]
  },
  {
   "cell_type": "code",
   "execution_count": 232,
   "id": "40c15149",
   "metadata": {},
   "outputs": [],
   "source": [
    "y_pred=xgb.predict(X_test)"
   ]
  },
  {
   "cell_type": "code",
   "execution_count": 233,
   "id": "0e7faf0e",
   "metadata": {
    "scrolled": true
   },
   "outputs": [
    {
     "data": {
      "text/plain": [
       "0.8784741144414169"
      ]
     },
     "execution_count": 233,
     "metadata": {},
     "output_type": "execute_result"
    }
   ],
   "source": [
    "accuracy_score(y_test,y_pred)"
   ]
  },
  {
   "cell_type": "code",
   "execution_count": null,
   "id": "c6fb1fc3",
   "metadata": {},
   "outputs": [],
   "source": []
  },
  {
   "cell_type": "code",
   "execution_count": 121,
   "id": "9b381321",
   "metadata": {},
   "outputs": [
    {
     "data": {
      "text/html": [
       "<style>#sk-container-id-12 {color: black;background-color: white;}#sk-container-id-12 pre{padding: 0;}#sk-container-id-12 div.sk-toggleable {background-color: white;}#sk-container-id-12 label.sk-toggleable__label {cursor: pointer;display: block;width: 100%;margin-bottom: 0;padding: 0.3em;box-sizing: border-box;text-align: center;}#sk-container-id-12 label.sk-toggleable__label-arrow:before {content: \"▸\";float: left;margin-right: 0.25em;color: #696969;}#sk-container-id-12 label.sk-toggleable__label-arrow:hover:before {color: black;}#sk-container-id-12 div.sk-estimator:hover label.sk-toggleable__label-arrow:before {color: black;}#sk-container-id-12 div.sk-toggleable__content {max-height: 0;max-width: 0;overflow: hidden;text-align: left;background-color: #f0f8ff;}#sk-container-id-12 div.sk-toggleable__content pre {margin: 0.2em;color: black;border-radius: 0.25em;background-color: #f0f8ff;}#sk-container-id-12 input.sk-toggleable__control:checked~div.sk-toggleable__content {max-height: 200px;max-width: 100%;overflow: auto;}#sk-container-id-12 input.sk-toggleable__control:checked~label.sk-toggleable__label-arrow:before {content: \"▾\";}#sk-container-id-12 div.sk-estimator input.sk-toggleable__control:checked~label.sk-toggleable__label {background-color: #d4ebff;}#sk-container-id-12 div.sk-label input.sk-toggleable__control:checked~label.sk-toggleable__label {background-color: #d4ebff;}#sk-container-id-12 input.sk-hidden--visually {border: 0;clip: rect(1px 1px 1px 1px);clip: rect(1px, 1px, 1px, 1px);height: 1px;margin: -1px;overflow: hidden;padding: 0;position: absolute;width: 1px;}#sk-container-id-12 div.sk-estimator {font-family: monospace;background-color: #f0f8ff;border: 1px dotted black;border-radius: 0.25em;box-sizing: border-box;margin-bottom: 0.5em;}#sk-container-id-12 div.sk-estimator:hover {background-color: #d4ebff;}#sk-container-id-12 div.sk-parallel-item::after {content: \"\";width: 100%;border-bottom: 1px solid gray;flex-grow: 1;}#sk-container-id-12 div.sk-label:hover label.sk-toggleable__label {background-color: #d4ebff;}#sk-container-id-12 div.sk-serial::before {content: \"\";position: absolute;border-left: 1px solid gray;box-sizing: border-box;top: 0;bottom: 0;left: 50%;z-index: 0;}#sk-container-id-12 div.sk-serial {display: flex;flex-direction: column;align-items: center;background-color: white;padding-right: 0.2em;padding-left: 0.2em;position: relative;}#sk-container-id-12 div.sk-item {position: relative;z-index: 1;}#sk-container-id-12 div.sk-parallel {display: flex;align-items: stretch;justify-content: center;background-color: white;position: relative;}#sk-container-id-12 div.sk-item::before, #sk-container-id-12 div.sk-parallel-item::before {content: \"\";position: absolute;border-left: 1px solid gray;box-sizing: border-box;top: 0;bottom: 0;left: 50%;z-index: -1;}#sk-container-id-12 div.sk-parallel-item {display: flex;flex-direction: column;z-index: 1;position: relative;background-color: white;}#sk-container-id-12 div.sk-parallel-item:first-child::after {align-self: flex-end;width: 50%;}#sk-container-id-12 div.sk-parallel-item:last-child::after {align-self: flex-start;width: 50%;}#sk-container-id-12 div.sk-parallel-item:only-child::after {width: 0;}#sk-container-id-12 div.sk-dashed-wrapped {border: 1px dashed gray;margin: 0 0.4em 0.5em 0.4em;box-sizing: border-box;padding-bottom: 0.4em;background-color: white;}#sk-container-id-12 div.sk-label label {font-family: monospace;font-weight: bold;display: inline-block;line-height: 1.2em;}#sk-container-id-12 div.sk-label-container {text-align: center;}#sk-container-id-12 div.sk-container {/* jupyter's `normalize.less` sets `[hidden] { display: none; }` but bootstrap.min.css set `[hidden] { display: none !important; }` so we also need the `!important` here to be able to override the default hidden behavior on the sphinx rendered scikit-learn.org. See: https://github.com/scikit-learn/scikit-learn/issues/21755 */display: inline-block !important;position: relative;}#sk-container-id-12 div.sk-text-repr-fallback {display: none;}</style><div id=\"sk-container-id-12\" class=\"sk-top-container\"><div class=\"sk-text-repr-fallback\"><pre>ColumnTransformer(remainder=&#x27;passthrough&#x27;,\n",
       "                  transformers=[(&#x27;oe&#x27;, OrdinalEncoder(),\n",
       "                                 [&#x27;on_thyroxine&#x27;, &#x27;query_on_thyroxine&#x27;,\n",
       "                                  &#x27;on_antithyroid_medication&#x27;, &#x27;sick&#x27;,\n",
       "                                  &#x27;pregnant&#x27;, &#x27;thyroid_surgery&#x27;,\n",
       "                                  &#x27;I131_treatment&#x27;, &#x27;query_hypothyroid&#x27;,\n",
       "                                  &#x27;query_hyperthyroid&#x27;, &#x27;lithium&#x27;, &#x27;goitre&#x27;,\n",
       "                                  &#x27;tumor&#x27;, &#x27;hypopituitary&#x27;, &#x27;psych&#x27;]),\n",
       "                                (&#x27;onehot&#x27;,\n",
       "                                 OneHotEncoder(drop=&#x27;first&#x27;, sparse=False),\n",
       "                                 [&#x27;sex&#x27;]),\n",
       "                                (&#x27;imputer_scaler&#x27;,\n",
       "                                 Pipeline(steps=[(&#x27;knnimputer&#x27;, KNNImputer()),\n",
       "                                                 (&#x27;minmaxscaler&#x27;,\n",
       "                                                  MinMaxScaler())]),\n",
       "                                 [&#x27;age&#x27;, &#x27;TSH&#x27;, &#x27;T3&#x27;, &#x27;TT4&#x27;, &#x27;T4U&#x27;, &#x27;FTI&#x27;])])</pre><b>In a Jupyter environment, please rerun this cell to show the HTML representation or trust the notebook. <br />On GitHub, the HTML representation is unable to render, please try loading this page with nbviewer.org.</b></div><div class=\"sk-container\" hidden><div class=\"sk-item sk-dashed-wrapped\"><div class=\"sk-label-container\"><div class=\"sk-label sk-toggleable\"><input class=\"sk-toggleable__control sk-hidden--visually\" id=\"sk-estimator-id-66\" type=\"checkbox\" ><label for=\"sk-estimator-id-66\" class=\"sk-toggleable__label sk-toggleable__label-arrow\">ColumnTransformer</label><div class=\"sk-toggleable__content\"><pre>ColumnTransformer(remainder=&#x27;passthrough&#x27;,\n",
       "                  transformers=[(&#x27;oe&#x27;, OrdinalEncoder(),\n",
       "                                 [&#x27;on_thyroxine&#x27;, &#x27;query_on_thyroxine&#x27;,\n",
       "                                  &#x27;on_antithyroid_medication&#x27;, &#x27;sick&#x27;,\n",
       "                                  &#x27;pregnant&#x27;, &#x27;thyroid_surgery&#x27;,\n",
       "                                  &#x27;I131_treatment&#x27;, &#x27;query_hypothyroid&#x27;,\n",
       "                                  &#x27;query_hyperthyroid&#x27;, &#x27;lithium&#x27;, &#x27;goitre&#x27;,\n",
       "                                  &#x27;tumor&#x27;, &#x27;hypopituitary&#x27;, &#x27;psych&#x27;]),\n",
       "                                (&#x27;onehot&#x27;,\n",
       "                                 OneHotEncoder(drop=&#x27;first&#x27;, sparse=False),\n",
       "                                 [&#x27;sex&#x27;]),\n",
       "                                (&#x27;imputer_scaler&#x27;,\n",
       "                                 Pipeline(steps=[(&#x27;knnimputer&#x27;, KNNImputer()),\n",
       "                                                 (&#x27;minmaxscaler&#x27;,\n",
       "                                                  MinMaxScaler())]),\n",
       "                                 [&#x27;age&#x27;, &#x27;TSH&#x27;, &#x27;T3&#x27;, &#x27;TT4&#x27;, &#x27;T4U&#x27;, &#x27;FTI&#x27;])])</pre></div></div></div><div class=\"sk-parallel\"><div class=\"sk-parallel-item\"><div class=\"sk-item\"><div class=\"sk-label-container\"><div class=\"sk-label sk-toggleable\"><input class=\"sk-toggleable__control sk-hidden--visually\" id=\"sk-estimator-id-67\" type=\"checkbox\" ><label for=\"sk-estimator-id-67\" class=\"sk-toggleable__label sk-toggleable__label-arrow\">oe</label><div class=\"sk-toggleable__content\"><pre>[&#x27;on_thyroxine&#x27;, &#x27;query_on_thyroxine&#x27;, &#x27;on_antithyroid_medication&#x27;, &#x27;sick&#x27;, &#x27;pregnant&#x27;, &#x27;thyroid_surgery&#x27;, &#x27;I131_treatment&#x27;, &#x27;query_hypothyroid&#x27;, &#x27;query_hyperthyroid&#x27;, &#x27;lithium&#x27;, &#x27;goitre&#x27;, &#x27;tumor&#x27;, &#x27;hypopituitary&#x27;, &#x27;psych&#x27;]</pre></div></div></div><div class=\"sk-serial\"><div class=\"sk-item\"><div class=\"sk-estimator sk-toggleable\"><input class=\"sk-toggleable__control sk-hidden--visually\" id=\"sk-estimator-id-68\" type=\"checkbox\" ><label for=\"sk-estimator-id-68\" class=\"sk-toggleable__label sk-toggleable__label-arrow\">OrdinalEncoder</label><div class=\"sk-toggleable__content\"><pre>OrdinalEncoder()</pre></div></div></div></div></div></div><div class=\"sk-parallel-item\"><div class=\"sk-item\"><div class=\"sk-label-container\"><div class=\"sk-label sk-toggleable\"><input class=\"sk-toggleable__control sk-hidden--visually\" id=\"sk-estimator-id-69\" type=\"checkbox\" ><label for=\"sk-estimator-id-69\" class=\"sk-toggleable__label sk-toggleable__label-arrow\">onehot</label><div class=\"sk-toggleable__content\"><pre>[&#x27;sex&#x27;]</pre></div></div></div><div class=\"sk-serial\"><div class=\"sk-item\"><div class=\"sk-estimator sk-toggleable\"><input class=\"sk-toggleable__control sk-hidden--visually\" id=\"sk-estimator-id-70\" type=\"checkbox\" ><label for=\"sk-estimator-id-70\" class=\"sk-toggleable__label sk-toggleable__label-arrow\">OneHotEncoder</label><div class=\"sk-toggleable__content\"><pre>OneHotEncoder(drop=&#x27;first&#x27;, sparse=False)</pre></div></div></div></div></div></div><div class=\"sk-parallel-item\"><div class=\"sk-item\"><div class=\"sk-label-container\"><div class=\"sk-label sk-toggleable\"><input class=\"sk-toggleable__control sk-hidden--visually\" id=\"sk-estimator-id-71\" type=\"checkbox\" ><label for=\"sk-estimator-id-71\" class=\"sk-toggleable__label sk-toggleable__label-arrow\">imputer_scaler</label><div class=\"sk-toggleable__content\"><pre>[&#x27;age&#x27;, &#x27;TSH&#x27;, &#x27;T3&#x27;, &#x27;TT4&#x27;, &#x27;T4U&#x27;, &#x27;FTI&#x27;]</pre></div></div></div><div class=\"sk-serial\"><div class=\"sk-item\"><div class=\"sk-serial\"><div class=\"sk-item\"><div class=\"sk-estimator sk-toggleable\"><input class=\"sk-toggleable__control sk-hidden--visually\" id=\"sk-estimator-id-72\" type=\"checkbox\" ><label for=\"sk-estimator-id-72\" class=\"sk-toggleable__label sk-toggleable__label-arrow\">KNNImputer</label><div class=\"sk-toggleable__content\"><pre>KNNImputer()</pre></div></div></div><div class=\"sk-item\"><div class=\"sk-estimator sk-toggleable\"><input class=\"sk-toggleable__control sk-hidden--visually\" id=\"sk-estimator-id-73\" type=\"checkbox\" ><label for=\"sk-estimator-id-73\" class=\"sk-toggleable__label sk-toggleable__label-arrow\">MinMaxScaler</label><div class=\"sk-toggleable__content\"><pre>MinMaxScaler()</pre></div></div></div></div></div></div></div></div><div class=\"sk-parallel-item\"><div class=\"sk-item\"><div class=\"sk-label-container\"><div class=\"sk-label sk-toggleable\"><input class=\"sk-toggleable__control sk-hidden--visually\" id=\"sk-estimator-id-74\" type=\"checkbox\" ><label for=\"sk-estimator-id-74\" class=\"sk-toggleable__label sk-toggleable__label-arrow\">remainder</label><div class=\"sk-toggleable__content\"><pre>[]</pre></div></div></div><div class=\"sk-serial\"><div class=\"sk-item\"><div class=\"sk-estimator sk-toggleable\"><input class=\"sk-toggleable__control sk-hidden--visually\" id=\"sk-estimator-id-75\" type=\"checkbox\" ><label for=\"sk-estimator-id-75\" class=\"sk-toggleable__label sk-toggleable__label-arrow\">passthrough</label><div class=\"sk-toggleable__content\"><pre>passthrough</pre></div></div></div></div></div></div></div></div></div></div>"
      ],
      "text/plain": [
       "ColumnTransformer(remainder='passthrough',\n",
       "                  transformers=[('oe', OrdinalEncoder(),\n",
       "                                 ['on_thyroxine', 'query_on_thyroxine',\n",
       "                                  'on_antithyroid_medication', 'sick',\n",
       "                                  'pregnant', 'thyroid_surgery',\n",
       "                                  'I131_treatment', 'query_hypothyroid',\n",
       "                                  'query_hyperthyroid', 'lithium', 'goitre',\n",
       "                                  'tumor', 'hypopituitary', 'psych']),\n",
       "                                ('onehot',\n",
       "                                 OneHotEncoder(drop='first', sparse=False),\n",
       "                                 ['sex']),\n",
       "                                ('imputer_scaler',\n",
       "                                 Pipeline(steps=[('knnimputer', KNNImputer()),\n",
       "                                                 ('minmaxscaler',\n",
       "                                                  MinMaxScaler())]),\n",
       "                                 ['age', 'TSH', 'T3', 'TT4', 'T4U', 'FTI'])])"
      ]
     },
     "execution_count": 121,
     "metadata": {},
     "output_type": "execute_result"
    }
   ],
   "source": [
    "trf1"
   ]
  },
  {
   "cell_type": "code",
   "execution_count": 344,
   "id": "2e1ca91d",
   "metadata": {},
   "outputs": [
    {
     "data": {
      "text/html": [
       "<style>#sk-container-id-27 {color: black;background-color: white;}#sk-container-id-27 pre{padding: 0;}#sk-container-id-27 div.sk-toggleable {background-color: white;}#sk-container-id-27 label.sk-toggleable__label {cursor: pointer;display: block;width: 100%;margin-bottom: 0;padding: 0.3em;box-sizing: border-box;text-align: center;}#sk-container-id-27 label.sk-toggleable__label-arrow:before {content: \"▸\";float: left;margin-right: 0.25em;color: #696969;}#sk-container-id-27 label.sk-toggleable__label-arrow:hover:before {color: black;}#sk-container-id-27 div.sk-estimator:hover label.sk-toggleable__label-arrow:before {color: black;}#sk-container-id-27 div.sk-toggleable__content {max-height: 0;max-width: 0;overflow: hidden;text-align: left;background-color: #f0f8ff;}#sk-container-id-27 div.sk-toggleable__content pre {margin: 0.2em;color: black;border-radius: 0.25em;background-color: #f0f8ff;}#sk-container-id-27 input.sk-toggleable__control:checked~div.sk-toggleable__content {max-height: 200px;max-width: 100%;overflow: auto;}#sk-container-id-27 input.sk-toggleable__control:checked~label.sk-toggleable__label-arrow:before {content: \"▾\";}#sk-container-id-27 div.sk-estimator input.sk-toggleable__control:checked~label.sk-toggleable__label {background-color: #d4ebff;}#sk-container-id-27 div.sk-label input.sk-toggleable__control:checked~label.sk-toggleable__label {background-color: #d4ebff;}#sk-container-id-27 input.sk-hidden--visually {border: 0;clip: rect(1px 1px 1px 1px);clip: rect(1px, 1px, 1px, 1px);height: 1px;margin: -1px;overflow: hidden;padding: 0;position: absolute;width: 1px;}#sk-container-id-27 div.sk-estimator {font-family: monospace;background-color: #f0f8ff;border: 1px dotted black;border-radius: 0.25em;box-sizing: border-box;margin-bottom: 0.5em;}#sk-container-id-27 div.sk-estimator:hover {background-color: #d4ebff;}#sk-container-id-27 div.sk-parallel-item::after {content: \"\";width: 100%;border-bottom: 1px solid gray;flex-grow: 1;}#sk-container-id-27 div.sk-label:hover label.sk-toggleable__label {background-color: #d4ebff;}#sk-container-id-27 div.sk-serial::before {content: \"\";position: absolute;border-left: 1px solid gray;box-sizing: border-box;top: 0;bottom: 0;left: 50%;z-index: 0;}#sk-container-id-27 div.sk-serial {display: flex;flex-direction: column;align-items: center;background-color: white;padding-right: 0.2em;padding-left: 0.2em;position: relative;}#sk-container-id-27 div.sk-item {position: relative;z-index: 1;}#sk-container-id-27 div.sk-parallel {display: flex;align-items: stretch;justify-content: center;background-color: white;position: relative;}#sk-container-id-27 div.sk-item::before, #sk-container-id-27 div.sk-parallel-item::before {content: \"\";position: absolute;border-left: 1px solid gray;box-sizing: border-box;top: 0;bottom: 0;left: 50%;z-index: -1;}#sk-container-id-27 div.sk-parallel-item {display: flex;flex-direction: column;z-index: 1;position: relative;background-color: white;}#sk-container-id-27 div.sk-parallel-item:first-child::after {align-self: flex-end;width: 50%;}#sk-container-id-27 div.sk-parallel-item:last-child::after {align-self: flex-start;width: 50%;}#sk-container-id-27 div.sk-parallel-item:only-child::after {width: 0;}#sk-container-id-27 div.sk-dashed-wrapped {border: 1px dashed gray;margin: 0 0.4em 0.5em 0.4em;box-sizing: border-box;padding-bottom: 0.4em;background-color: white;}#sk-container-id-27 div.sk-label label {font-family: monospace;font-weight: bold;display: inline-block;line-height: 1.2em;}#sk-container-id-27 div.sk-label-container {text-align: center;}#sk-container-id-27 div.sk-container {/* jupyter's `normalize.less` sets `[hidden] { display: none; }` but bootstrap.min.css set `[hidden] { display: none !important; }` so we also need the `!important` here to be able to override the default hidden behavior on the sphinx rendered scikit-learn.org. See: https://github.com/scikit-learn/scikit-learn/issues/21755 */display: inline-block !important;position: relative;}#sk-container-id-27 div.sk-text-repr-fallback {display: none;}</style><div id=\"sk-container-id-27\" class=\"sk-top-container\"><div class=\"sk-text-repr-fallback\"><pre>DecisionTreeClassifier(max_depth=8)</pre><b>In a Jupyter environment, please rerun this cell to show the HTML representation or trust the notebook. <br />On GitHub, the HTML representation is unable to render, please try loading this page with nbviewer.org.</b></div><div class=\"sk-container\" hidden><div class=\"sk-item\"><div class=\"sk-estimator sk-toggleable\"><input class=\"sk-toggleable__control sk-hidden--visually\" id=\"sk-estimator-id-135\" type=\"checkbox\" checked><label for=\"sk-estimator-id-135\" class=\"sk-toggleable__label sk-toggleable__label-arrow\">DecisionTreeClassifier</label><div class=\"sk-toggleable__content\"><pre>DecisionTreeClassifier(max_depth=8)</pre></div></div></div></div></div>"
      ],
      "text/plain": [
       "DecisionTreeClassifier(max_depth=8)"
      ]
     },
     "execution_count": 344,
     "metadata": {},
     "output_type": "execute_result"
    }
   ],
   "source": [
    "dt"
   ]
  },
  {
   "cell_type": "code",
   "execution_count": 122,
   "id": "d9694619",
   "metadata": {},
   "outputs": [],
   "source": [
    "# Pickling transformer filr"
   ]
  },
  {
   "cell_type": "code",
   "execution_count": 69,
   "id": "83bd154c",
   "metadata": {},
   "outputs": [
    {
     "data": {
      "text/html": [
       "<style>#sk-container-id-6 {color: black;background-color: white;}#sk-container-id-6 pre{padding: 0;}#sk-container-id-6 div.sk-toggleable {background-color: white;}#sk-container-id-6 label.sk-toggleable__label {cursor: pointer;display: block;width: 100%;margin-bottom: 0;padding: 0.3em;box-sizing: border-box;text-align: center;}#sk-container-id-6 label.sk-toggleable__label-arrow:before {content: \"▸\";float: left;margin-right: 0.25em;color: #696969;}#sk-container-id-6 label.sk-toggleable__label-arrow:hover:before {color: black;}#sk-container-id-6 div.sk-estimator:hover label.sk-toggleable__label-arrow:before {color: black;}#sk-container-id-6 div.sk-toggleable__content {max-height: 0;max-width: 0;overflow: hidden;text-align: left;background-color: #f0f8ff;}#sk-container-id-6 div.sk-toggleable__content pre {margin: 0.2em;color: black;border-radius: 0.25em;background-color: #f0f8ff;}#sk-container-id-6 input.sk-toggleable__control:checked~div.sk-toggleable__content {max-height: 200px;max-width: 100%;overflow: auto;}#sk-container-id-6 input.sk-toggleable__control:checked~label.sk-toggleable__label-arrow:before {content: \"▾\";}#sk-container-id-6 div.sk-estimator input.sk-toggleable__control:checked~label.sk-toggleable__label {background-color: #d4ebff;}#sk-container-id-6 div.sk-label input.sk-toggleable__control:checked~label.sk-toggleable__label {background-color: #d4ebff;}#sk-container-id-6 input.sk-hidden--visually {border: 0;clip: rect(1px 1px 1px 1px);clip: rect(1px, 1px, 1px, 1px);height: 1px;margin: -1px;overflow: hidden;padding: 0;position: absolute;width: 1px;}#sk-container-id-6 div.sk-estimator {font-family: monospace;background-color: #f0f8ff;border: 1px dotted black;border-radius: 0.25em;box-sizing: border-box;margin-bottom: 0.5em;}#sk-container-id-6 div.sk-estimator:hover {background-color: #d4ebff;}#sk-container-id-6 div.sk-parallel-item::after {content: \"\";width: 100%;border-bottom: 1px solid gray;flex-grow: 1;}#sk-container-id-6 div.sk-label:hover label.sk-toggleable__label {background-color: #d4ebff;}#sk-container-id-6 div.sk-serial::before {content: \"\";position: absolute;border-left: 1px solid gray;box-sizing: border-box;top: 0;bottom: 0;left: 50%;z-index: 0;}#sk-container-id-6 div.sk-serial {display: flex;flex-direction: column;align-items: center;background-color: white;padding-right: 0.2em;padding-left: 0.2em;position: relative;}#sk-container-id-6 div.sk-item {position: relative;z-index: 1;}#sk-container-id-6 div.sk-parallel {display: flex;align-items: stretch;justify-content: center;background-color: white;position: relative;}#sk-container-id-6 div.sk-item::before, #sk-container-id-6 div.sk-parallel-item::before {content: \"\";position: absolute;border-left: 1px solid gray;box-sizing: border-box;top: 0;bottom: 0;left: 50%;z-index: -1;}#sk-container-id-6 div.sk-parallel-item {display: flex;flex-direction: column;z-index: 1;position: relative;background-color: white;}#sk-container-id-6 div.sk-parallel-item:first-child::after {align-self: flex-end;width: 50%;}#sk-container-id-6 div.sk-parallel-item:last-child::after {align-self: flex-start;width: 50%;}#sk-container-id-6 div.sk-parallel-item:only-child::after {width: 0;}#sk-container-id-6 div.sk-dashed-wrapped {border: 1px dashed gray;margin: 0 0.4em 0.5em 0.4em;box-sizing: border-box;padding-bottom: 0.4em;background-color: white;}#sk-container-id-6 div.sk-label label {font-family: monospace;font-weight: bold;display: inline-block;line-height: 1.2em;}#sk-container-id-6 div.sk-label-container {text-align: center;}#sk-container-id-6 div.sk-container {/* jupyter's `normalize.less` sets `[hidden] { display: none; }` but bootstrap.min.css set `[hidden] { display: none !important; }` so we also need the `!important` here to be able to override the default hidden behavior on the sphinx rendered scikit-learn.org. See: https://github.com/scikit-learn/scikit-learn/issues/21755 */display: inline-block !important;position: relative;}#sk-container-id-6 div.sk-text-repr-fallback {display: none;}</style><div id=\"sk-container-id-6\" class=\"sk-top-container\"><div class=\"sk-text-repr-fallback\"><pre>ColumnTransformer(remainder=&#x27;passthrough&#x27;,\n",
       "                  transformers=[(&#x27;oe&#x27;, OrdinalEncoder(),\n",
       "                                 [&#x27;on_thyroxine&#x27;, &#x27;query_on_thyroxine&#x27;,\n",
       "                                  &#x27;on_antithyroid_medication&#x27;, &#x27;sick&#x27;,\n",
       "                                  &#x27;pregnant&#x27;, &#x27;thyroid_surgery&#x27;,\n",
       "                                  &#x27;I131_treatment&#x27;, &#x27;query_hypothyroid&#x27;,\n",
       "                                  &#x27;query_hyperthyroid&#x27;, &#x27;lithium&#x27;, &#x27;goitre&#x27;,\n",
       "                                  &#x27;tumor&#x27;, &#x27;hypopituitary&#x27;, &#x27;psych&#x27;]),\n",
       "                                (&#x27;onehot&#x27;,\n",
       "                                 OneHotEncoder(drop=&#x27;first&#x27;, sparse=False),\n",
       "                                 [&#x27;sex&#x27;]),\n",
       "                                (&#x27;imputer_scaler&#x27;,\n",
       "                                 Pipeline(steps=[(&#x27;knnimputer&#x27;, KNNImputer()),\n",
       "                                                 (&#x27;minmaxscaler&#x27;,\n",
       "                                                  MinMaxScaler())]),\n",
       "                                 [&#x27;age&#x27;, &#x27;TSH&#x27;, &#x27;T3&#x27;, &#x27;TT4&#x27;, &#x27;T4U&#x27;, &#x27;FTI&#x27;])])</pre><b>In a Jupyter environment, please rerun this cell to show the HTML representation or trust the notebook. <br />On GitHub, the HTML representation is unable to render, please try loading this page with nbviewer.org.</b></div><div class=\"sk-container\" hidden><div class=\"sk-item sk-dashed-wrapped\"><div class=\"sk-label-container\"><div class=\"sk-label sk-toggleable\"><input class=\"sk-toggleable__control sk-hidden--visually\" id=\"sk-estimator-id-33\" type=\"checkbox\" ><label for=\"sk-estimator-id-33\" class=\"sk-toggleable__label sk-toggleable__label-arrow\">ColumnTransformer</label><div class=\"sk-toggleable__content\"><pre>ColumnTransformer(remainder=&#x27;passthrough&#x27;,\n",
       "                  transformers=[(&#x27;oe&#x27;, OrdinalEncoder(),\n",
       "                                 [&#x27;on_thyroxine&#x27;, &#x27;query_on_thyroxine&#x27;,\n",
       "                                  &#x27;on_antithyroid_medication&#x27;, &#x27;sick&#x27;,\n",
       "                                  &#x27;pregnant&#x27;, &#x27;thyroid_surgery&#x27;,\n",
       "                                  &#x27;I131_treatment&#x27;, &#x27;query_hypothyroid&#x27;,\n",
       "                                  &#x27;query_hyperthyroid&#x27;, &#x27;lithium&#x27;, &#x27;goitre&#x27;,\n",
       "                                  &#x27;tumor&#x27;, &#x27;hypopituitary&#x27;, &#x27;psych&#x27;]),\n",
       "                                (&#x27;onehot&#x27;,\n",
       "                                 OneHotEncoder(drop=&#x27;first&#x27;, sparse=False),\n",
       "                                 [&#x27;sex&#x27;]),\n",
       "                                (&#x27;imputer_scaler&#x27;,\n",
       "                                 Pipeline(steps=[(&#x27;knnimputer&#x27;, KNNImputer()),\n",
       "                                                 (&#x27;minmaxscaler&#x27;,\n",
       "                                                  MinMaxScaler())]),\n",
       "                                 [&#x27;age&#x27;, &#x27;TSH&#x27;, &#x27;T3&#x27;, &#x27;TT4&#x27;, &#x27;T4U&#x27;, &#x27;FTI&#x27;])])</pre></div></div></div><div class=\"sk-parallel\"><div class=\"sk-parallel-item\"><div class=\"sk-item\"><div class=\"sk-label-container\"><div class=\"sk-label sk-toggleable\"><input class=\"sk-toggleable__control sk-hidden--visually\" id=\"sk-estimator-id-34\" type=\"checkbox\" ><label for=\"sk-estimator-id-34\" class=\"sk-toggleable__label sk-toggleable__label-arrow\">oe</label><div class=\"sk-toggleable__content\"><pre>[&#x27;on_thyroxine&#x27;, &#x27;query_on_thyroxine&#x27;, &#x27;on_antithyroid_medication&#x27;, &#x27;sick&#x27;, &#x27;pregnant&#x27;, &#x27;thyroid_surgery&#x27;, &#x27;I131_treatment&#x27;, &#x27;query_hypothyroid&#x27;, &#x27;query_hyperthyroid&#x27;, &#x27;lithium&#x27;, &#x27;goitre&#x27;, &#x27;tumor&#x27;, &#x27;hypopituitary&#x27;, &#x27;psych&#x27;]</pre></div></div></div><div class=\"sk-serial\"><div class=\"sk-item\"><div class=\"sk-estimator sk-toggleable\"><input class=\"sk-toggleable__control sk-hidden--visually\" id=\"sk-estimator-id-35\" type=\"checkbox\" ><label for=\"sk-estimator-id-35\" class=\"sk-toggleable__label sk-toggleable__label-arrow\">OrdinalEncoder</label><div class=\"sk-toggleable__content\"><pre>OrdinalEncoder()</pre></div></div></div></div></div></div><div class=\"sk-parallel-item\"><div class=\"sk-item\"><div class=\"sk-label-container\"><div class=\"sk-label sk-toggleable\"><input class=\"sk-toggleable__control sk-hidden--visually\" id=\"sk-estimator-id-36\" type=\"checkbox\" ><label for=\"sk-estimator-id-36\" class=\"sk-toggleable__label sk-toggleable__label-arrow\">onehot</label><div class=\"sk-toggleable__content\"><pre>[&#x27;sex&#x27;]</pre></div></div></div><div class=\"sk-serial\"><div class=\"sk-item\"><div class=\"sk-estimator sk-toggleable\"><input class=\"sk-toggleable__control sk-hidden--visually\" id=\"sk-estimator-id-37\" type=\"checkbox\" ><label for=\"sk-estimator-id-37\" class=\"sk-toggleable__label sk-toggleable__label-arrow\">OneHotEncoder</label><div class=\"sk-toggleable__content\"><pre>OneHotEncoder(drop=&#x27;first&#x27;, sparse=False)</pre></div></div></div></div></div></div><div class=\"sk-parallel-item\"><div class=\"sk-item\"><div class=\"sk-label-container\"><div class=\"sk-label sk-toggleable\"><input class=\"sk-toggleable__control sk-hidden--visually\" id=\"sk-estimator-id-38\" type=\"checkbox\" ><label for=\"sk-estimator-id-38\" class=\"sk-toggleable__label sk-toggleable__label-arrow\">imputer_scaler</label><div class=\"sk-toggleable__content\"><pre>[&#x27;age&#x27;, &#x27;TSH&#x27;, &#x27;T3&#x27;, &#x27;TT4&#x27;, &#x27;T4U&#x27;, &#x27;FTI&#x27;]</pre></div></div></div><div class=\"sk-serial\"><div class=\"sk-item\"><div class=\"sk-serial\"><div class=\"sk-item\"><div class=\"sk-estimator sk-toggleable\"><input class=\"sk-toggleable__control sk-hidden--visually\" id=\"sk-estimator-id-39\" type=\"checkbox\" ><label for=\"sk-estimator-id-39\" class=\"sk-toggleable__label sk-toggleable__label-arrow\">KNNImputer</label><div class=\"sk-toggleable__content\"><pre>KNNImputer()</pre></div></div></div><div class=\"sk-item\"><div class=\"sk-estimator sk-toggleable\"><input class=\"sk-toggleable__control sk-hidden--visually\" id=\"sk-estimator-id-40\" type=\"checkbox\" ><label for=\"sk-estimator-id-40\" class=\"sk-toggleable__label sk-toggleable__label-arrow\">MinMaxScaler</label><div class=\"sk-toggleable__content\"><pre>MinMaxScaler()</pre></div></div></div></div></div></div></div></div><div class=\"sk-parallel-item\"><div class=\"sk-item\"><div class=\"sk-label-container\"><div class=\"sk-label sk-toggleable\"><input class=\"sk-toggleable__control sk-hidden--visually\" id=\"sk-estimator-id-41\" type=\"checkbox\" ><label for=\"sk-estimator-id-41\" class=\"sk-toggleable__label sk-toggleable__label-arrow\">remainder</label><div class=\"sk-toggleable__content\"><pre>[]</pre></div></div></div><div class=\"sk-serial\"><div class=\"sk-item\"><div class=\"sk-estimator sk-toggleable\"><input class=\"sk-toggleable__control sk-hidden--visually\" id=\"sk-estimator-id-42\" type=\"checkbox\" ><label for=\"sk-estimator-id-42\" class=\"sk-toggleable__label sk-toggleable__label-arrow\">passthrough</label><div class=\"sk-toggleable__content\"><pre>passthrough</pre></div></div></div></div></div></div></div></div></div></div>"
      ],
      "text/plain": [
       "ColumnTransformer(remainder='passthrough',\n",
       "                  transformers=[('oe', OrdinalEncoder(),\n",
       "                                 ['on_thyroxine', 'query_on_thyroxine',\n",
       "                                  'on_antithyroid_medication', 'sick',\n",
       "                                  'pregnant', 'thyroid_surgery',\n",
       "                                  'I131_treatment', 'query_hypothyroid',\n",
       "                                  'query_hyperthyroid', 'lithium', 'goitre',\n",
       "                                  'tumor', 'hypopituitary', 'psych']),\n",
       "                                ('onehot',\n",
       "                                 OneHotEncoder(drop='first', sparse=False),\n",
       "                                 ['sex']),\n",
       "                                ('imputer_scaler',\n",
       "                                 Pipeline(steps=[('knnimputer', KNNImputer()),\n",
       "                                                 ('minmaxscaler',\n",
       "                                                  MinMaxScaler())]),\n",
       "                                 ['age', 'TSH', 'T3', 'TT4', 'T4U', 'FTI'])])"
      ]
     },
     "execution_count": 69,
     "metadata": {},
     "output_type": "execute_result"
    }
   ],
   "source": [
    "trf1\n"
   ]
  },
  {
   "cell_type": "code",
   "execution_count": 60,
   "id": "c952ec2b",
   "metadata": {},
   "outputs": [],
   "source": [
    "import pickle"
   ]
  },
  {
   "cell_type": "code",
   "execution_count": 70,
   "id": "33213da0",
   "metadata": {},
   "outputs": [],
   "source": [
    "with open('trans1.pkl', 'wb') as pickle_out:\n",
    "    pickle.dump(trf1, pickle_out)"
   ]
  },
  {
   "cell_type": "code",
   "execution_count": 126,
   "id": "0c2694bc",
   "metadata": {},
   "outputs": [],
   "source": [
    "# pickling model file"
   ]
  },
  {
   "cell_type": "code",
   "execution_count": 345,
   "id": "a23934db",
   "metadata": {},
   "outputs": [],
   "source": [
    "with open('model1.pkl', 'wb') as pickle_out:\n",
    "    pickle.dump(dt, pickle_out)"
   ]
  },
  {
   "cell_type": "code",
   "execution_count": 134,
   "id": "add5edcb",
   "metadata": {},
   "outputs": [
    {
     "data": {
      "text/plain": [
       "0       Z\n",
       "1       Z\n",
       "2       Z\n",
       "3       S\n",
       "4       Z\n",
       "       ..\n",
       "9166    Z\n",
       "9167    Z\n",
       "9168    I\n",
       "9169    Z\n",
       "9170    Z\n",
       "Name: target, Length: 9171, dtype: object"
      ]
     },
     "execution_count": 134,
     "metadata": {},
     "output_type": "execute_result"
    }
   ],
   "source": [
    "df.target"
   ]
  },
  {
   "cell_type": "code",
   "execution_count": 135,
   "id": "80880e33",
   "metadata": {},
   "outputs": [],
   "source": [
    "# encoding target column using LabelEncoder"
   ]
  },
  {
   "cell_type": "code",
   "execution_count": 54,
   "id": "4f6a5311",
   "metadata": {},
   "outputs": [],
   "source": [
    "from sklearn.preprocessing import LabelEncoder"
   ]
  },
  {
   "cell_type": "code",
   "execution_count": 55,
   "id": "ddd74fcc",
   "metadata": {},
   "outputs": [],
   "source": [
    "le=LabelEncoder()"
   ]
  },
  {
   "cell_type": "code",
   "execution_count": 56,
   "id": "5fbfbf2b",
   "metadata": {},
   "outputs": [
    {
     "data": {
      "text/html": [
       "<style>#sk-container-id-3 {color: black;background-color: white;}#sk-container-id-3 pre{padding: 0;}#sk-container-id-3 div.sk-toggleable {background-color: white;}#sk-container-id-3 label.sk-toggleable__label {cursor: pointer;display: block;width: 100%;margin-bottom: 0;padding: 0.3em;box-sizing: border-box;text-align: center;}#sk-container-id-3 label.sk-toggleable__label-arrow:before {content: \"▸\";float: left;margin-right: 0.25em;color: #696969;}#sk-container-id-3 label.sk-toggleable__label-arrow:hover:before {color: black;}#sk-container-id-3 div.sk-estimator:hover label.sk-toggleable__label-arrow:before {color: black;}#sk-container-id-3 div.sk-toggleable__content {max-height: 0;max-width: 0;overflow: hidden;text-align: left;background-color: #f0f8ff;}#sk-container-id-3 div.sk-toggleable__content pre {margin: 0.2em;color: black;border-radius: 0.25em;background-color: #f0f8ff;}#sk-container-id-3 input.sk-toggleable__control:checked~div.sk-toggleable__content {max-height: 200px;max-width: 100%;overflow: auto;}#sk-container-id-3 input.sk-toggleable__control:checked~label.sk-toggleable__label-arrow:before {content: \"▾\";}#sk-container-id-3 div.sk-estimator input.sk-toggleable__control:checked~label.sk-toggleable__label {background-color: #d4ebff;}#sk-container-id-3 div.sk-label input.sk-toggleable__control:checked~label.sk-toggleable__label {background-color: #d4ebff;}#sk-container-id-3 input.sk-hidden--visually {border: 0;clip: rect(1px 1px 1px 1px);clip: rect(1px, 1px, 1px, 1px);height: 1px;margin: -1px;overflow: hidden;padding: 0;position: absolute;width: 1px;}#sk-container-id-3 div.sk-estimator {font-family: monospace;background-color: #f0f8ff;border: 1px dotted black;border-radius: 0.25em;box-sizing: border-box;margin-bottom: 0.5em;}#sk-container-id-3 div.sk-estimator:hover {background-color: #d4ebff;}#sk-container-id-3 div.sk-parallel-item::after {content: \"\";width: 100%;border-bottom: 1px solid gray;flex-grow: 1;}#sk-container-id-3 div.sk-label:hover label.sk-toggleable__label {background-color: #d4ebff;}#sk-container-id-3 div.sk-serial::before {content: \"\";position: absolute;border-left: 1px solid gray;box-sizing: border-box;top: 0;bottom: 0;left: 50%;z-index: 0;}#sk-container-id-3 div.sk-serial {display: flex;flex-direction: column;align-items: center;background-color: white;padding-right: 0.2em;padding-left: 0.2em;position: relative;}#sk-container-id-3 div.sk-item {position: relative;z-index: 1;}#sk-container-id-3 div.sk-parallel {display: flex;align-items: stretch;justify-content: center;background-color: white;position: relative;}#sk-container-id-3 div.sk-item::before, #sk-container-id-3 div.sk-parallel-item::before {content: \"\";position: absolute;border-left: 1px solid gray;box-sizing: border-box;top: 0;bottom: 0;left: 50%;z-index: -1;}#sk-container-id-3 div.sk-parallel-item {display: flex;flex-direction: column;z-index: 1;position: relative;background-color: white;}#sk-container-id-3 div.sk-parallel-item:first-child::after {align-self: flex-end;width: 50%;}#sk-container-id-3 div.sk-parallel-item:last-child::after {align-self: flex-start;width: 50%;}#sk-container-id-3 div.sk-parallel-item:only-child::after {width: 0;}#sk-container-id-3 div.sk-dashed-wrapped {border: 1px dashed gray;margin: 0 0.4em 0.5em 0.4em;box-sizing: border-box;padding-bottom: 0.4em;background-color: white;}#sk-container-id-3 div.sk-label label {font-family: monospace;font-weight: bold;display: inline-block;line-height: 1.2em;}#sk-container-id-3 div.sk-label-container {text-align: center;}#sk-container-id-3 div.sk-container {/* jupyter's `normalize.less` sets `[hidden] { display: none; }` but bootstrap.min.css set `[hidden] { display: none !important; }` so we also need the `!important` here to be able to override the default hidden behavior on the sphinx rendered scikit-learn.org. See: https://github.com/scikit-learn/scikit-learn/issues/21755 */display: inline-block !important;position: relative;}#sk-container-id-3 div.sk-text-repr-fallback {display: none;}</style><div id=\"sk-container-id-3\" class=\"sk-top-container\"><div class=\"sk-text-repr-fallback\"><pre>LabelEncoder()</pre><b>In a Jupyter environment, please rerun this cell to show the HTML representation or trust the notebook. <br />On GitHub, the HTML representation is unable to render, please try loading this page with nbviewer.org.</b></div><div class=\"sk-container\" hidden><div class=\"sk-item\"><div class=\"sk-estimator sk-toggleable\"><input class=\"sk-toggleable__control sk-hidden--visually\" id=\"sk-estimator-id-12\" type=\"checkbox\" checked><label for=\"sk-estimator-id-12\" class=\"sk-toggleable__label sk-toggleable__label-arrow\">LabelEncoder</label><div class=\"sk-toggleable__content\"><pre>LabelEncoder()</pre></div></div></div></div></div>"
      ],
      "text/plain": [
       "LabelEncoder()"
      ]
     },
     "execution_count": 56,
     "metadata": {},
     "output_type": "execute_result"
    }
   ],
   "source": [
    "le.fit(y_train)"
   ]
  },
  {
   "cell_type": "code",
   "execution_count": 57,
   "id": "92c467ef",
   "metadata": {},
   "outputs": [],
   "source": [
    "y_train=le.transform(y_train)"
   ]
  },
  {
   "cell_type": "code",
   "execution_count": 58,
   "id": "e701af48",
   "metadata": {},
   "outputs": [],
   "source": [
    "y_test=le.transform(y_test)"
   ]
  },
  {
   "cell_type": "code",
   "execution_count": 217,
   "id": "01edb40c",
   "metadata": {},
   "outputs": [
    {
     "data": {
      "text/plain": [
       "Z      6770\n",
       "K       436\n",
       "G       359\n",
       "I       346\n",
       "F       233\n",
       "R       196\n",
       "A       147\n",
       "L       115\n",
       "M       111\n",
       "N       110\n",
       "S        85\n",
       "GK       49\n",
       "AK       46\n",
       "J        30\n",
       "B        21\n",
       "C        18\n",
       "MK       16\n",
       "Q        14\n",
       "O        14\n",
       "KJ       11\n",
       "GI       10\n",
       "D         9\n",
       "H         8\n",
       "FK        6\n",
       "P         5\n",
       "MI        2\n",
       "LJ        1\n",
       "GKJ       1\n",
       "OI        1\n",
       "E         1\n",
       "Name: target, dtype: int64"
      ]
     },
     "execution_count": 217,
     "metadata": {},
     "output_type": "execute_result"
    }
   ],
   "source": [
    "df.target.value_counts()"
   ]
  },
  {
   "cell_type": "code",
   "execution_count": 337,
   "id": "5dcff648",
   "metadata": {},
   "outputs": [
    {
     "data": {
      "text/html": [
       "<style>#sk-container-id-26 {color: black;background-color: white;}#sk-container-id-26 pre{padding: 0;}#sk-container-id-26 div.sk-toggleable {background-color: white;}#sk-container-id-26 label.sk-toggleable__label {cursor: pointer;display: block;width: 100%;margin-bottom: 0;padding: 0.3em;box-sizing: border-box;text-align: center;}#sk-container-id-26 label.sk-toggleable__label-arrow:before {content: \"▸\";float: left;margin-right: 0.25em;color: #696969;}#sk-container-id-26 label.sk-toggleable__label-arrow:hover:before {color: black;}#sk-container-id-26 div.sk-estimator:hover label.sk-toggleable__label-arrow:before {color: black;}#sk-container-id-26 div.sk-toggleable__content {max-height: 0;max-width: 0;overflow: hidden;text-align: left;background-color: #f0f8ff;}#sk-container-id-26 div.sk-toggleable__content pre {margin: 0.2em;color: black;border-radius: 0.25em;background-color: #f0f8ff;}#sk-container-id-26 input.sk-toggleable__control:checked~div.sk-toggleable__content {max-height: 200px;max-width: 100%;overflow: auto;}#sk-container-id-26 input.sk-toggleable__control:checked~label.sk-toggleable__label-arrow:before {content: \"▾\";}#sk-container-id-26 div.sk-estimator input.sk-toggleable__control:checked~label.sk-toggleable__label {background-color: #d4ebff;}#sk-container-id-26 div.sk-label input.sk-toggleable__control:checked~label.sk-toggleable__label {background-color: #d4ebff;}#sk-container-id-26 input.sk-hidden--visually {border: 0;clip: rect(1px 1px 1px 1px);clip: rect(1px, 1px, 1px, 1px);height: 1px;margin: -1px;overflow: hidden;padding: 0;position: absolute;width: 1px;}#sk-container-id-26 div.sk-estimator {font-family: monospace;background-color: #f0f8ff;border: 1px dotted black;border-radius: 0.25em;box-sizing: border-box;margin-bottom: 0.5em;}#sk-container-id-26 div.sk-estimator:hover {background-color: #d4ebff;}#sk-container-id-26 div.sk-parallel-item::after {content: \"\";width: 100%;border-bottom: 1px solid gray;flex-grow: 1;}#sk-container-id-26 div.sk-label:hover label.sk-toggleable__label {background-color: #d4ebff;}#sk-container-id-26 div.sk-serial::before {content: \"\";position: absolute;border-left: 1px solid gray;box-sizing: border-box;top: 0;bottom: 0;left: 50%;z-index: 0;}#sk-container-id-26 div.sk-serial {display: flex;flex-direction: column;align-items: center;background-color: white;padding-right: 0.2em;padding-left: 0.2em;position: relative;}#sk-container-id-26 div.sk-item {position: relative;z-index: 1;}#sk-container-id-26 div.sk-parallel {display: flex;align-items: stretch;justify-content: center;background-color: white;position: relative;}#sk-container-id-26 div.sk-item::before, #sk-container-id-26 div.sk-parallel-item::before {content: \"\";position: absolute;border-left: 1px solid gray;box-sizing: border-box;top: 0;bottom: 0;left: 50%;z-index: -1;}#sk-container-id-26 div.sk-parallel-item {display: flex;flex-direction: column;z-index: 1;position: relative;background-color: white;}#sk-container-id-26 div.sk-parallel-item:first-child::after {align-self: flex-end;width: 50%;}#sk-container-id-26 div.sk-parallel-item:last-child::after {align-self: flex-start;width: 50%;}#sk-container-id-26 div.sk-parallel-item:only-child::after {width: 0;}#sk-container-id-26 div.sk-dashed-wrapped {border: 1px dashed gray;margin: 0 0.4em 0.5em 0.4em;box-sizing: border-box;padding-bottom: 0.4em;background-color: white;}#sk-container-id-26 div.sk-label label {font-family: monospace;font-weight: bold;display: inline-block;line-height: 1.2em;}#sk-container-id-26 div.sk-label-container {text-align: center;}#sk-container-id-26 div.sk-container {/* jupyter's `normalize.less` sets `[hidden] { display: none; }` but bootstrap.min.css set `[hidden] { display: none !important; }` so we also need the `!important` here to be able to override the default hidden behavior on the sphinx rendered scikit-learn.org. See: https://github.com/scikit-learn/scikit-learn/issues/21755 */display: inline-block !important;position: relative;}#sk-container-id-26 div.sk-text-repr-fallback {display: none;}</style><div id=\"sk-container-id-26\" class=\"sk-top-container\"><div class=\"sk-text-repr-fallback\"><pre>LabelEncoder()</pre><b>In a Jupyter environment, please rerun this cell to show the HTML representation or trust the notebook. <br />On GitHub, the HTML representation is unable to render, please try loading this page with nbviewer.org.</b></div><div class=\"sk-container\" hidden><div class=\"sk-item\"><div class=\"sk-estimator sk-toggleable\"><input class=\"sk-toggleable__control sk-hidden--visually\" id=\"sk-estimator-id-134\" type=\"checkbox\" checked><label for=\"sk-estimator-id-134\" class=\"sk-toggleable__label sk-toggleable__label-arrow\">LabelEncoder</label><div class=\"sk-toggleable__content\"><pre>LabelEncoder()</pre></div></div></div></div></div>"
      ],
      "text/plain": [
       "LabelEncoder()"
      ]
     },
     "execution_count": 337,
     "metadata": {},
     "output_type": "execute_result"
    }
   ],
   "source": [
    "le"
   ]
  },
  {
   "cell_type": "code",
   "execution_count": null,
   "id": "f61d6157",
   "metadata": {},
   "outputs": [],
   "source": [
    "# pickling target encoder"
   ]
  },
  {
   "cell_type": "code",
   "execution_count": 61,
   "id": "ca8bb006",
   "metadata": {},
   "outputs": [],
   "source": [
    "with open('target.pkl', 'wb') as pickle_out:\n",
    "    pickle.dump(le, pickle_out)"
   ]
  },
  {
   "cell_type": "code",
   "execution_count": null,
   "id": "daef97c0",
   "metadata": {},
   "outputs": [],
   "source": []
  },
  {
   "cell_type": "code",
   "execution_count": null,
   "id": "335bc4cf",
   "metadata": {},
   "outputs": [],
   "source": []
  },
  {
   "cell_type": "code",
   "execution_count": null,
   "id": "13e2e23b",
   "metadata": {},
   "outputs": [],
   "source": []
  }
 ],
 "metadata": {
  "kernelspec": {
   "display_name": "Python 3 (ipykernel)",
   "language": "python",
   "name": "python3"
  },
  "language_info": {
   "codemirror_mode": {
    "name": "ipython",
    "version": 3
   },
   "file_extension": ".py",
   "mimetype": "text/x-python",
   "name": "python",
   "nbconvert_exporter": "python",
   "pygments_lexer": "ipython3",
   "version": "3.9.13"
  }
 },
 "nbformat": 4,
 "nbformat_minor": 5
}
